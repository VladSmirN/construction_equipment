{
 "cells": [
  {
   "cell_type": "code",
   "execution_count": 1,
   "id": "b58a0ef3",
   "metadata": {
    "execution": {
     "iopub.execute_input": "2022-11-02T15:00:40.970821Z",
     "iopub.status.busy": "2022-11-02T15:00:40.970091Z",
     "iopub.status.idle": "2022-11-02T15:01:15.852944Z",
     "shell.execute_reply": "2022-11-02T15:01:15.851815Z"
    },
    "papermill": {
     "duration": 34.891671,
     "end_time": "2022-11-02T15:01:15.855834",
     "exception": false,
     "start_time": "2022-11-02T15:00:40.964163",
     "status": "completed"
    },
    "tags": []
   },
   "outputs": [
    {
     "name": "stdout",
     "output_type": "stream",
     "text": [
      "Collecting torchinfo\r\n",
      "  Downloading torchinfo-1.7.1-py3-none-any.whl (22 kB)\r\n",
      "Installing collected packages: torchinfo\r\n",
      "Successfully installed torchinfo-1.7.1\r\n",
      "\u001b[33mWARNING: Running pip as the 'root' user can result in broken permissions and conflicting behaviour with the system package manager. It is recommended to use a virtual environment instead: https://pip.pypa.io/warnings/venv\u001b[0m\u001b[33m\r\n",
      "\u001b[0mCollecting git+https://github.com/openai/CLIP.git\r\n",
      "  Cloning https://github.com/openai/CLIP.git to /tmp/pip-req-build-q8a5cui5\r\n",
      "  Running command git clone --filter=blob:none --quiet https://github.com/openai/CLIP.git /tmp/pip-req-build-q8a5cui5\r\n",
      "  Resolved https://github.com/openai/CLIP.git to commit d50d76daa670286dd6cacf3bcd80b5e4823fc8e1\r\n",
      "  Preparing metadata (setup.py) ... \u001b[?25l-\b \bdone\r\n",
      "\u001b[?25hCollecting ftfy\r\n",
      "  Downloading ftfy-6.1.1-py3-none-any.whl (53 kB)\r\n",
      "\u001b[2K     \u001b[90m━━━━━━━━━━━━━━━━━━━━━━━━━━━━━━━━━━━━━━━\u001b[0m \u001b[32m53.1/53.1 kB\u001b[0m \u001b[31m149.0 kB/s\u001b[0m eta \u001b[36m0:00:00\u001b[0m\r\n",
      "\u001b[?25hRequirement already satisfied: regex in /opt/conda/lib/python3.7/site-packages (from clip==1.0) (2021.11.10)\r\n",
      "Requirement already satisfied: tqdm in /opt/conda/lib/python3.7/site-packages (from clip==1.0) (4.64.0)\r\n",
      "Requirement already satisfied: torch in /opt/conda/lib/python3.7/site-packages (from clip==1.0) (1.11.0)\r\n",
      "Requirement already satisfied: torchvision in /opt/conda/lib/python3.7/site-packages (from clip==1.0) (0.12.0)\r\n",
      "Requirement already satisfied: wcwidth>=0.2.5 in /opt/conda/lib/python3.7/site-packages (from ftfy->clip==1.0) (0.2.5)\r\n",
      "Requirement already satisfied: typing-extensions in /opt/conda/lib/python3.7/site-packages (from torch->clip==1.0) (4.3.0)\r\n",
      "Requirement already satisfied: requests in /opt/conda/lib/python3.7/site-packages (from torchvision->clip==1.0) (2.28.1)\r\n",
      "Requirement already satisfied: numpy in /opt/conda/lib/python3.7/site-packages (from torchvision->clip==1.0) (1.21.6)\r\n",
      "Requirement already satisfied: pillow!=8.3.*,>=5.3.0 in /opt/conda/lib/python3.7/site-packages (from torchvision->clip==1.0) (9.1.1)\r\n",
      "Requirement already satisfied: idna<4,>=2.5 in /opt/conda/lib/python3.7/site-packages (from requests->torchvision->clip==1.0) (3.3)\r\n",
      "Requirement already satisfied: certifi>=2017.4.17 in /opt/conda/lib/python3.7/site-packages (from requests->torchvision->clip==1.0) (2022.6.15.2)\r\n",
      "Requirement already satisfied: urllib3<1.27,>=1.21.1 in /opt/conda/lib/python3.7/site-packages (from requests->torchvision->clip==1.0) (1.26.12)\r\n",
      "Requirement already satisfied: charset-normalizer<3,>=2 in /opt/conda/lib/python3.7/site-packages (from requests->torchvision->clip==1.0) (2.1.0)\r\n",
      "Building wheels for collected packages: clip\r\n",
      "  Building wheel for clip (setup.py) ... \u001b[?25l-\b \b\\\b \bdone\r\n",
      "\u001b[?25h  Created wheel for clip: filename=clip-1.0-py3-none-any.whl size=1369409 sha256=ad802af8862abaf2a07bdd63999be3a736c53aa6594c1c1695f5619869540560\r\n",
      "  Stored in directory: /tmp/pip-ephem-wheel-cache-yrk1aw5m/wheels/fd/b9/c3/5b4470e35ed76e174bff77c92f91da82098d5e35fd5bc8cdac\r\n",
      "Successfully built clip\r\n",
      "Installing collected packages: ftfy, clip\r\n",
      "Successfully installed clip-1.0 ftfy-6.1.1\r\n",
      "\u001b[33mWARNING: Running pip as the 'root' user can result in broken permissions and conflicting behaviour with the system package manager. It is recommended to use a virtual environment instead: https://pip.pypa.io/warnings/venv\u001b[0m\u001b[33m\r\n",
      "\u001b[0m"
     ]
    }
   ],
   "source": [
    "from torch.distributions import Categorical\n",
    "import random\n",
    "from sklearn.model_selection import StratifiedKFold\n",
    "import pandas as pd \n",
    "import numpy as np\n",
    "import glob\n",
    "from tqdm import tqdm\n",
    "import cv2\n",
    "from sklearn.model_selection import train_test_split\n",
    "import os\n",
    "!pip install torchinfo\n",
    "from torchinfo import summary\n",
    "os.environ['CUDA_LAUNCH_BLOCKING'] = \"1\"\n",
    "from sklearn.metrics import recall_score\n",
    "import torch\n",
    "import torch.nn as nn\n",
    "import torch.optim as optim\n",
    "from torch.utils.data import Dataset\n",
    "from torchvision import datasets, models, transforms\n",
    "from torchvision.models import resnet18\n",
    "import uuid\n",
    "from PIL import Image\n",
    "import matplotlib.pyplot as plt\n",
    "from IPython.display import clear_output\n",
    "!pip install git+https://github.com/openai/CLIP.git\n",
    "from albumentations.core.composition import Compose, OneOf\n",
    "from albumentations.pytorch import ToTensorV2\n",
    "import albumentations as A    \n",
    "    \n",
    "import clip\n",
    "from torch.utils.data import DataLoader\n",
    "\n",
    "device = \"cuda\" if torch.cuda.is_available() else \"cpu\"\n",
    "\n",
    "\n",
    "import pytorch_lightning as pl\n",
    "from pytorch_lightning import Trainer, seed_everything\n",
    "from pytorch_lightning import Callback\n",
    "from pytorch_lightning.loggers import CSVLogger\n",
    "from pytorch_lightning.callbacks import ModelCheckpoint, EarlyStopping\n",
    "from pytorch_lightning.loggers import WandbLogger\n",
    "import wandb\n",
    " "
   ]
  },
  {
   "cell_type": "markdown",
   "id": "c7ff6f33",
   "metadata": {
    "papermill": {
     "duration": 0.004288,
     "end_time": "2022-11-02T15:01:15.865079",
     "exception": false,
     "start_time": "2022-11-02T15:01:15.860791",
     "status": "completed"
    },
    "tags": []
   },
   "source": [
    "## Настрока блокнота"
   ]
  },
  {
   "cell_type": "code",
   "execution_count": 2,
   "id": "907f5582",
   "metadata": {
    "execution": {
     "iopub.execute_input": "2022-11-02T15:01:15.875966Z",
     "iopub.status.busy": "2022-11-02T15:01:15.875184Z",
     "iopub.status.idle": "2022-11-02T15:01:15.883031Z",
     "shell.execute_reply": "2022-11-02T15:01:15.881920Z"
    },
    "papermill": {
     "duration": 0.016806,
     "end_time": "2022-11-02T15:01:15.886459",
     "exception": false,
     "start_time": "2022-11-02T15:01:15.869653",
     "status": "completed"
    },
    "tags": []
   },
   "outputs": [
    {
     "name": "stdout",
     "output_type": "stream",
     "text": [
      "id_notebook: dfa49059-f9bd-4e3f-940b-b78e2ddb6f03\n"
     ]
    }
   ],
   "source": [
    "DIR_TRAIN = \"../input/construction-equipment/train/\"\n",
    "DIR_TEST = \"../input/construction-equipment-test/test/\"\n",
    "\n",
    "PATH_TRAIN = \"../input/construction-equipment/train.csv\"\n",
    "PATH_TEST = \"../input/construction-equipment-test/test.csv\"\n",
    "\n",
    "class CFG:\n",
    "    batch_size=80\n",
    "    device = torch.device(\"cuda\" if torch.cuda.is_available() else \"cpu\")\n",
    "    num_epochs = 10\n",
    "    wandb_project = \"construction_equipment\"\n",
    "    wandb_entity = \"vladsmirn_\"\n",
    "    img_size = 224\n",
    "    n_fold = 5\n",
    "    k_fold = 1\n",
    "    seed=44\n",
    "    \n",
    "    id_notebook=str(uuid.uuid4())\n",
    "    \n",
    "print(\"id_notebook: \" + CFG.id_notebook)"
   ]
  },
  {
   "cell_type": "code",
   "execution_count": 3,
   "id": "8421f161",
   "metadata": {
    "execution": {
     "iopub.execute_input": "2022-11-02T15:01:15.896731Z",
     "iopub.status.busy": "2022-11-02T15:01:15.896446Z",
     "iopub.status.idle": "2022-11-02T15:01:15.904841Z",
     "shell.execute_reply": "2022-11-02T15:01:15.903981Z"
    },
    "papermill": {
     "duration": 0.015893,
     "end_time": "2022-11-02T15:01:15.906861",
     "exception": false,
     "start_time": "2022-11-02T15:01:15.890968",
     "status": "completed"
    },
    "tags": []
   },
   "outputs": [],
   "source": [
    "def get_transform(phase: str, img_size: int):\n",
    "    if phase == 'train':\n",
    "        return Compose([\n",
    "#             A.Resize(height=img_size, width=img_size),\n",
    "            A.RandomResizedCrop(height=img_size, width=img_size, scale=(0.97, 1.0)),\n",
    "            A.Flip(p=0.5),\n",
    "            A.RandomRotate90(p=0.1),\n",
    "#             A.ShiftScaleRotate(p=0.5),\n",
    "            A.HueSaturationValue(p=0.1),\n",
    "            A.OneOf([\n",
    "                A.RandomBrightnessContrast(p=0.1),\n",
    "                A.RandomGamma(p=0.1),\n",
    "            ], p=0.1),\n",
    "            A.OneOf([\n",
    "                A.Blur(p=0.1),\n",
    "                A.GaussianBlur(p=0.1),\n",
    "                A.MotionBlur(p=0.1),\n",
    "            ], p=0.1),\n",
    "            A.OneOf([\n",
    "                A.GaussNoise(p=0.1),\n",
    "                A.ISONoise(p=0.1),\n",
    "            ], p=0.2),\n",
    "            A.Normalize(),\n",
    "            ToTensorV2(),\n",
    "        ])\n",
    "    else:\n",
    "        return Compose([\n",
    "            A.Resize(height=img_size, width=img_size),\n",
    "            A.Normalize(),\n",
    "            ToTensorV2(),\n",
    "        ])"
   ]
  },
  {
   "cell_type": "markdown",
   "id": "ee8f2670",
   "metadata": {
    "papermill": {
     "duration": 0.004287,
     "end_time": "2022-11-02T15:01:15.915517",
     "exception": false,
     "start_time": "2022-11-02T15:01:15.911230",
     "status": "completed"
    },
    "tags": []
   },
   "source": [
    "##   Объявление модели\n"
   ]
  },
  {
   "cell_type": "code",
   "execution_count": 4,
   "id": "f3e7fe4b",
   "metadata": {
    "execution": {
     "iopub.execute_input": "2022-11-02T15:01:15.926133Z",
     "iopub.status.busy": "2022-11-02T15:01:15.925367Z",
     "iopub.status.idle": "2022-11-02T15:01:15.933006Z",
     "shell.execute_reply": "2022-11-02T15:01:15.932048Z"
    },
    "papermill": {
     "duration": 0.014908,
     "end_time": "2022-11-02T15:01:15.934969",
     "exception": false,
     "start_time": "2022-11-02T15:01:15.920061",
     "status": "completed"
    },
    "tags": []
   },
   "outputs": [],
   "source": [
    "def run_wandb(wandb_api_key, cfg):\n",
    "    wandb.require(experiment=\"service\")\n",
    "    wandb.login(key=wandb_api_key)\n",
    "    _cfg = cfg() \n",
    "    cfg_wandb = dict((name, getattr(_cfg, name)) for name in dir(_cfg) if not name.startswith('__'))\n",
    "    \n",
    "    if hasattr(cfg, 'wandb_resume_id') and cfg.wandb_resume_id :\n",
    "        run = wandb.init(project=cfg.wandb_project, \n",
    "                   entity=cfg.wandb_entity, \n",
    "                   id=cfg.wandb_resume_id, \n",
    "                   resume=\"allow\", \n",
    "                   config=cfg_wandb)\n",
    "    else: \n",
    "        run = wandb.init(project=cfg.wandb_project, \n",
    "                   entity=cfg.wandb_entity, \n",
    "                   settings=wandb.Settings(start_method=\"fork\"), \n",
    "                   config=cfg_wandb,\n",
    "                   resume=\"allow\",\n",
    "                   id=wandb.util.generate_id())\n",
    "        \n",
    "    model_logger = WandbLogger(project=cfg.wandb_project, log_model='all')\n",
    "    \n",
    "    return model_logger,run\n",
    "\n",
    "from kaggle_secrets import UserSecretsClient\n",
    "user_secrets = UserSecretsClient()\n",
    "# model_logger, _ = run_wandb(user_secrets.get_secret(\"WANDB_API_KEY\"), CFG)"
   ]
  },
  {
   "cell_type": "markdown",
   "id": "1d5552be",
   "metadata": {
    "papermill": {
     "duration": 0.004291,
     "end_time": "2022-11-02T15:01:15.943627",
     "exception": false,
     "start_time": "2022-11-02T15:01:15.939336",
     "status": "completed"
    },
    "tags": []
   },
   "source": [
    "## Предсказание "
   ]
  },
  {
   "cell_type": "code",
   "execution_count": 5,
   "id": "8c6c3880",
   "metadata": {
    "execution": {
     "iopub.execute_input": "2022-11-02T15:01:15.953864Z",
     "iopub.status.busy": "2022-11-02T15:01:15.953106Z",
     "iopub.status.idle": "2022-11-02T15:01:27.694127Z",
     "shell.execute_reply": "2022-11-02T15:01:27.692468Z"
    },
    "papermill": {
     "duration": 11.749113,
     "end_time": "2022-11-02T15:01:27.697148",
     "exception": false,
     "start_time": "2022-11-02T15:01:15.948035",
     "status": "completed"
    },
    "tags": []
   },
   "outputs": [
    {
     "name": "stderr",
     "output_type": "stream",
     "text": [
      "\u001b[34m\u001b[1mwandb\u001b[0m: W&B API key is configured. Use \u001b[1m`wandb login --relogin`\u001b[0m to force relogin\n",
      "\u001b[34m\u001b[1mwandb\u001b[0m: \u001b[33mWARNING\u001b[0m If you're specifying your api key in code, ensure this code is not shared publicly.\n",
      "\u001b[34m\u001b[1mwandb\u001b[0m: \u001b[33mWARNING\u001b[0m Consider setting the WANDB_API_KEY environment variable, or running `wandb login` from the command line.\n",
      "\u001b[34m\u001b[1mwandb\u001b[0m: Appending key for api.wandb.ai to your netrc file: /root/.netrc\n",
      "\u001b[34m\u001b[1mwandb\u001b[0m: Currently logged in as: \u001b[33mvladsmirn\u001b[0m (\u001b[33mvladsmirn_\u001b[0m). Use \u001b[1m`wandb login --relogin`\u001b[0m to force relogin\n"
     ]
    },
    {
     "data": {
      "text/html": [
       "wandb version 0.13.4 is available!  To upgrade, please run:\n",
       " $ pip install wandb --upgrade"
      ],
      "text/plain": [
       "<IPython.core.display.HTML object>"
      ]
     },
     "metadata": {},
     "output_type": "display_data"
    },
    {
     "data": {
      "text/html": [
       "Tracking run with wandb version 0.12.21"
      ],
      "text/plain": [
       "<IPython.core.display.HTML object>"
      ]
     },
     "metadata": {},
     "output_type": "display_data"
    },
    {
     "data": {
      "text/html": [
       "Run data is saved locally in <code>/kaggle/working/wandb/run-20221102_150120-3qm33ufy</code>"
      ],
      "text/plain": [
       "<IPython.core.display.HTML object>"
      ]
     },
     "metadata": {},
     "output_type": "display_data"
    },
    {
     "data": {
      "text/html": [
       "Syncing run <strong><a href=\"https://wandb.ai/vladsmirn_/construction_equipment/runs/3qm33ufy\" target=\"_blank\">vibrant-violet-120</a></strong> to <a href=\"https://wandb.ai/vladsmirn_/construction_equipment\" target=\"_blank\">Weights & Biases</a> (<a href=\"https://wandb.me/run\" target=\"_blank\">docs</a>)<br/>"
      ],
      "text/plain": [
       "<IPython.core.display.HTML object>"
      ]
     },
     "metadata": {},
     "output_type": "display_data"
    },
    {
     "name": "stderr",
     "output_type": "stream",
     "text": [
      "/opt/conda/lib/python3.7/site-packages/pytorch_lightning/loggers/wandb.py:353: UserWarning: There is a wandb run already in progress and newly created instances of `WandbLogger` will reuse this run. If this is not desired, call `wandb.finish()` before instantiating `WandbLogger`.\n",
      "  \"There is a wandb run already in progress and newly created instances of `WandbLogger` will reuse\"\n"
     ]
    }
   ],
   "source": [
    "_, run = run_wandb(user_secrets.get_secret(\"WANDB_API_KEY\"), CFG)"
   ]
  },
  {
   "cell_type": "code",
   "execution_count": 6,
   "id": "250968f4",
   "metadata": {
    "execution": {
     "iopub.execute_input": "2022-11-02T15:01:27.715032Z",
     "iopub.status.busy": "2022-11-02T15:01:27.714538Z",
     "iopub.status.idle": "2022-11-02T15:01:27.753412Z",
     "shell.execute_reply": "2022-11-02T15:01:27.752517Z"
    },
    "papermill": {
     "duration": 0.050401,
     "end_time": "2022-11-02T15:01:27.755811",
     "exception": false,
     "start_time": "2022-11-02T15:01:27.705410",
     "status": "completed"
    },
    "tags": []
   },
   "outputs": [],
   "source": [
    "test_df = pd.read_csv(PATH_TEST)\n",
    "test_df[\"path\"] = test_df[\"ID_img\"].apply(lambda image_name : f'{DIR_TEST}{image_name}')\n",
    "test_df = test_df.drop([\"class\"], axis = 1)\n",
    "\n",
    "class TestImageDataset(Dataset):\n",
    "    def __init__(self, data_df, transform=None):\n",
    "        self.data_df = data_df\n",
    "        self.transform = transform\n",
    "\n",
    "    def __getitem__(self, idx):\n",
    "        image_path = self.data_df.iloc[idx]['path']\n",
    "        image = cv2.imread(image_path)\n",
    "        image = cv2.cvtColor(image, cv2.COLOR_BGR2RGB)\n",
    "        image = self.transform(image=image)['image'] \n",
    " \n",
    "        \n",
    "        return image\n",
    "    \n",
    "    def __len__(self):\n",
    "        return len(self.data_df)\n",
    "    "
   ]
  },
  {
   "cell_type": "code",
   "execution_count": 7,
   "id": "b6932c95",
   "metadata": {
    "execution": {
     "iopub.execute_input": "2022-11-02T15:01:27.772644Z",
     "iopub.status.busy": "2022-11-02T15:01:27.772288Z",
     "iopub.status.idle": "2022-11-02T15:01:27.779362Z",
     "shell.execute_reply": "2022-11-02T15:01:27.778518Z"
    },
    "papermill": {
     "duration": 0.018211,
     "end_time": "2022-11-02T15:01:27.781718",
     "exception": false,
     "start_time": "2022-11-02T15:01:27.763507",
     "status": "completed"
    },
    "tags": []
   },
   "outputs": [],
   "source": [
    "test_dataset = TestImageDataset(test_df,get_transform(\"train\",CFG.img_size))\n",
    "test_loader = torch.utils.data.DataLoader(dataset=test_dataset,\n",
    "                                           batch_size=1)"
   ]
  },
  {
   "cell_type": "code",
   "execution_count": 8,
   "id": "cf62046b",
   "metadata": {
    "execution": {
     "iopub.execute_input": "2022-11-02T15:01:27.798600Z",
     "iopub.status.busy": "2022-11-02T15:01:27.798249Z",
     "iopub.status.idle": "2022-11-02T15:01:27.809421Z",
     "shell.execute_reply": "2022-11-02T15:01:27.808590Z"
    },
    "papermill": {
     "duration": 0.02247,
     "end_time": "2022-11-02T15:01:27.811787",
     "exception": false,
     "start_time": "2022-11-02T15:01:27.789317",
     "status": "completed"
    },
    "tags": []
   },
   "outputs": [],
   "source": [
    "def run_model(loader,model):\n",
    "    model.eval()\n",
    "    predicts = []\n",
    "    model.to(CFG.device)\n",
    "    for imgs in tqdm(loader):   \n",
    "        imgs = imgs.to(CFG.device)\n",
    "        pred = model(imgs)\n",
    "        prob = Categorical(logits=pred).probs.cpu().detach().tolist();\n",
    "        predicts.extend(prob)\n",
    "    return predicts\n",
    "\n",
    "def get_model():\n",
    "    model = models.convnext.convnext_small(pretrained=True)\n",
    "    model.classifier[2] = nn.Linear(768, 8) \n",
    "    model.to(CFG.device)\n",
    "    return model\n",
    "\n",
    "def download_model_wandb(path_artifact,model,run):\n",
    "    artifact = run.use_artifact(path_artifact, type='model')\n",
    "    artifact_dir = artifact.download()\n",
    "    checkpoint = os.path.join(artifact_dir, \"model.ckpt\")\n",
    "    from collections import OrderedDict\n",
    "    state_dict = torch.load(checkpoint,map_location ='cpu')['state_dict']\n",
    "    new_state_dict = OrderedDict()\n",
    "    for k, v in state_dict.items():\n",
    "        name = k[6:]  \n",
    "        new_state_dict[name] = v\n",
    "    model.load_state_dict(new_state_dict)\n",
    "    return model "
   ]
  },
  {
   "cell_type": "code",
   "execution_count": 9,
   "id": "88d8c5ca",
   "metadata": {
    "execution": {
     "iopub.execute_input": "2022-11-02T15:01:27.828346Z",
     "iopub.status.busy": "2022-11-02T15:01:27.828019Z",
     "iopub.status.idle": "2022-11-02T15:01:27.833241Z",
     "shell.execute_reply": "2022-11-02T15:01:27.832363Z"
    },
    "papermill": {
     "duration": 0.016171,
     "end_time": "2022-11-02T15:01:27.835521",
     "exception": false,
     "start_time": "2022-11-02T15:01:27.819350",
     "status": "completed"
    },
    "tags": []
   },
   "outputs": [],
   "source": [
    "from torch.distributions import Categorical"
   ]
  },
  {
   "cell_type": "code",
   "execution_count": 10,
   "id": "ad03e9e9",
   "metadata": {
    "execution": {
     "iopub.execute_input": "2022-11-02T15:01:27.852042Z",
     "iopub.status.busy": "2022-11-02T15:01:27.851698Z",
     "iopub.status.idle": "2022-11-02T15:03:21.650434Z",
     "shell.execute_reply": "2022-11-02T15:03:21.648239Z"
    },
    "papermill": {
     "duration": 113.809539,
     "end_time": "2022-11-02T15:03:21.652806",
     "exception": false,
     "start_time": "2022-11-02T15:01:27.843267",
     "status": "completed"
    },
    "tags": []
   },
   "outputs": [
    {
     "name": "stderr",
     "output_type": "stream",
     "text": [
      "Downloading: \"https://download.pytorch.org/models/convnext_small-0c510722.pth\" to /root/.cache/torch/hub/checkpoints/convnext_small-0c510722.pth\n"
     ]
    },
    {
     "data": {
      "application/vnd.jupyter.widget-view+json": {
       "model_id": "01d9a270dee94f06b5da347c2f6e90c5",
       "version_major": 2,
       "version_minor": 0
      },
      "text/plain": [
       "  0%|          | 0.00/192M [00:00<?, ?B/s]"
      ]
     },
     "metadata": {},
     "output_type": "display_data"
    },
    {
     "name": "stderr",
     "output_type": "stream",
     "text": [
      "\u001b[34m\u001b[1mwandb\u001b[0m: Downloading large artifact model-18u6rsng:v8, 188.80MB. 1 files... Done. 0:0:10.7\n",
      "100%|██████████| 2138/2138 [01:15<00:00, 28.36it/s]\n"
     ]
    }
   ],
   "source": [
    "model = get_model()\n",
    "model = download_model_wandb(\"vladsmirn_/construction_equipment/model-18u6rsng:v8\",model,run)\n",
    "predict = np.array(run_model(test_loader,model))\n",
    "predict = np.argmax(predict,axis=1)\n",
    "predict = predict.tolist()"
   ]
  },
  {
   "cell_type": "code",
   "execution_count": 11,
   "id": "672ccd56",
   "metadata": {
    "execution": {
     "iopub.execute_input": "2022-11-02T15:03:21.724756Z",
     "iopub.status.busy": "2022-11-02T15:03:21.723140Z",
     "iopub.status.idle": "2022-11-02T15:03:21.738360Z",
     "shell.execute_reply": "2022-11-02T15:03:21.737409Z"
    },
    "papermill": {
     "duration": 0.05536,
     "end_time": "2022-11-02T15:03:21.740673",
     "exception": false,
     "start_time": "2022-11-02T15:03:21.685313",
     "status": "completed"
    },
    "tags": []
   },
   "outputs": [],
   "source": [
    "test_df[\"class\"] = predict\n",
    "test_df = test_df.drop([\"path\"], axis = 1)\n",
    "test_df.head()\n",
    "\n",
    "test_df.to_csv(\"submit.csv\", index=False)"
   ]
  }
 ],
 "metadata": {
  "kernelspec": {
   "display_name": "Python 3",
   "language": "python",
   "name": "python3"
  },
  "language_info": {
   "codemirror_mode": {
    "name": "ipython",
    "version": 3
   },
   "file_extension": ".py",
   "mimetype": "text/x-python",
   "name": "python",
   "nbconvert_exporter": "python",
   "pygments_lexer": "ipython3",
   "version": "3.7.12"
  },
  "papermill": {
   "default_parameters": {},
   "duration": 170.93202,
   "end_time": "2022-11-02T15:03:24.494500",
   "environment_variables": {},
   "exception": null,
   "input_path": "__notebook__.ipynb",
   "output_path": "__notebook__.ipynb",
   "parameters": {},
   "start_time": "2022-11-02T15:00:33.562480",
   "version": "2.3.4"
  },
  "widgets": {
   "application/vnd.jupyter.widget-state+json": {
    "state": {
     "01d9a270dee94f06b5da347c2f6e90c5": {
      "model_module": "@jupyter-widgets/controls",
      "model_module_version": "1.5.0",
      "model_name": "HBoxModel",
      "state": {
       "_dom_classes": [],
       "_model_module": "@jupyter-widgets/controls",
       "_model_module_version": "1.5.0",
       "_model_name": "HBoxModel",
       "_view_count": null,
       "_view_module": "@jupyter-widgets/controls",
       "_view_module_version": "1.5.0",
       "_view_name": "HBoxView",
       "box_style": "",
       "children": [
        "IPY_MODEL_2701be14171c49a8bc0e65733d92912b",
        "IPY_MODEL_f64c10015efd40f69923b96d2e585050",
        "IPY_MODEL_5fafedfe4b4549adacdf5dd8ff296ba6"
       ],
       "layout": "IPY_MODEL_c43c490d39b246b5a329c5ce6f296be7"
      }
     },
     "04ff9a284e8140a6913d058bdba53d74": {
      "model_module": "@jupyter-widgets/controls",
      "model_module_version": "1.5.0",
      "model_name": "DescriptionStyleModel",
      "state": {
       "_model_module": "@jupyter-widgets/controls",
       "_model_module_version": "1.5.0",
       "_model_name": "DescriptionStyleModel",
       "_view_count": null,
       "_view_module": "@jupyter-widgets/base",
       "_view_module_version": "1.2.0",
       "_view_name": "StyleView",
       "description_width": ""
      }
     },
     "2701be14171c49a8bc0e65733d92912b": {
      "model_module": "@jupyter-widgets/controls",
      "model_module_version": "1.5.0",
      "model_name": "HTMLModel",
      "state": {
       "_dom_classes": [],
       "_model_module": "@jupyter-widgets/controls",
       "_model_module_version": "1.5.0",
       "_model_name": "HTMLModel",
       "_view_count": null,
       "_view_module": "@jupyter-widgets/controls",
       "_view_module_version": "1.5.0",
       "_view_name": "HTMLView",
       "description": "",
       "description_tooltip": null,
       "layout": "IPY_MODEL_57e7490ba08c413cbef32e5eeb64c03b",
       "placeholder": "​",
       "style": "IPY_MODEL_aaf21e4f0ad94e4b94523ba3c20e293d",
       "value": "100%"
      }
     },
     "2e463e707d7446c7a9dc5d30ec193a2a": {
      "model_module": "@jupyter-widgets/base",
      "model_module_version": "1.2.0",
      "model_name": "LayoutModel",
      "state": {
       "_model_module": "@jupyter-widgets/base",
       "_model_module_version": "1.2.0",
       "_model_name": "LayoutModel",
       "_view_count": null,
       "_view_module": "@jupyter-widgets/base",
       "_view_module_version": "1.2.0",
       "_view_name": "LayoutView",
       "align_content": null,
       "align_items": null,
       "align_self": null,
       "border": null,
       "bottom": null,
       "display": null,
       "flex": null,
       "flex_flow": null,
       "grid_area": null,
       "grid_auto_columns": null,
       "grid_auto_flow": null,
       "grid_auto_rows": null,
       "grid_column": null,
       "grid_gap": null,
       "grid_row": null,
       "grid_template_areas": null,
       "grid_template_columns": null,
       "grid_template_rows": null,
       "height": null,
       "justify_content": null,
       "justify_items": null,
       "left": null,
       "margin": null,
       "max_height": null,
       "max_width": null,
       "min_height": null,
       "min_width": null,
       "object_fit": null,
       "object_position": null,
       "order": null,
       "overflow": null,
       "overflow_x": null,
       "overflow_y": null,
       "padding": null,
       "right": null,
       "top": null,
       "visibility": null,
       "width": null
      }
     },
     "3253011e10ec488198f0181ea7ceb4e0": {
      "model_module": "@jupyter-widgets/controls",
      "model_module_version": "1.5.0",
      "model_name": "LabelModel",
      "state": {
       "_dom_classes": [],
       "_model_module": "@jupyter-widgets/controls",
       "_model_module_version": "1.5.0",
       "_model_name": "LabelModel",
       "_view_count": null,
       "_view_module": "@jupyter-widgets/controls",
       "_view_module_version": "1.5.0",
       "_view_name": "LabelView",
       "description": "",
       "description_tooltip": null,
       "layout": "IPY_MODEL_6804a4db22bf4e31b88b4b22b817e8c6",
       "placeholder": "​",
       "style": "IPY_MODEL_04ff9a284e8140a6913d058bdba53d74",
       "value": ""
      }
     },
     "3278439df13a4d69a2c0d8344824aa9f": {
      "model_module": "@jupyter-widgets/controls",
      "model_module_version": "1.5.0",
      "model_name": "FloatProgressModel",
      "state": {
       "_dom_classes": [],
       "_model_module": "@jupyter-widgets/controls",
       "_model_module_version": "1.5.0",
       "_model_name": "FloatProgressModel",
       "_view_count": null,
       "_view_module": "@jupyter-widgets/controls",
       "_view_module_version": "1.5.0",
       "_view_name": "ProgressView",
       "bar_style": "",
       "description": "",
       "description_tooltip": null,
       "layout": "IPY_MODEL_2e463e707d7446c7a9dc5d30ec193a2a",
       "max": 1.0,
       "min": 0.0,
       "orientation": "horizontal",
       "style": "IPY_MODEL_7448a296723d49b7a9970bcb914e78fa",
       "value": 0.0
      }
     },
     "36cd6000d9864336907b04ca99101c8b": {
      "model_module": "@jupyter-widgets/base",
      "model_module_version": "1.2.0",
      "model_name": "LayoutModel",
      "state": {
       "_model_module": "@jupyter-widgets/base",
       "_model_module_version": "1.2.0",
       "_model_name": "LayoutModel",
       "_view_count": null,
       "_view_module": "@jupyter-widgets/base",
       "_view_module_version": "1.2.0",
       "_view_name": "LayoutView",
       "align_content": null,
       "align_items": null,
       "align_self": null,
       "border": null,
       "bottom": null,
       "display": null,
       "flex": null,
       "flex_flow": null,
       "grid_area": null,
       "grid_auto_columns": null,
       "grid_auto_flow": null,
       "grid_auto_rows": null,
       "grid_column": null,
       "grid_gap": null,
       "grid_row": null,
       "grid_template_areas": null,
       "grid_template_columns": null,
       "grid_template_rows": null,
       "height": null,
       "justify_content": null,
       "justify_items": null,
       "left": null,
       "margin": null,
       "max_height": null,
       "max_width": null,
       "min_height": null,
       "min_width": null,
       "object_fit": null,
       "object_position": null,
       "order": null,
       "overflow": null,
       "overflow_x": null,
       "overflow_y": null,
       "padding": null,
       "right": null,
       "top": null,
       "visibility": null,
       "width": null
      }
     },
     "3eeee48dd0ff4be0be1cf5bf6985805b": {
      "model_module": "@jupyter-widgets/base",
      "model_module_version": "1.2.0",
      "model_name": "LayoutModel",
      "state": {
       "_model_module": "@jupyter-widgets/base",
       "_model_module_version": "1.2.0",
       "_model_name": "LayoutModel",
       "_view_count": null,
       "_view_module": "@jupyter-widgets/base",
       "_view_module_version": "1.2.0",
       "_view_name": "LayoutView",
       "align_content": null,
       "align_items": null,
       "align_self": null,
       "border": null,
       "bottom": null,
       "display": null,
       "flex": null,
       "flex_flow": null,
       "grid_area": null,
       "grid_auto_columns": null,
       "grid_auto_flow": null,
       "grid_auto_rows": null,
       "grid_column": null,
       "grid_gap": null,
       "grid_row": null,
       "grid_template_areas": null,
       "grid_template_columns": null,
       "grid_template_rows": null,
       "height": null,
       "justify_content": null,
       "justify_items": null,
       "left": null,
       "margin": null,
       "max_height": null,
       "max_width": null,
       "min_height": null,
       "min_width": null,
       "object_fit": null,
       "object_position": null,
       "order": null,
       "overflow": null,
       "overflow_x": null,
       "overflow_y": null,
       "padding": null,
       "right": null,
       "top": null,
       "visibility": null,
       "width": null
      }
     },
     "489b0f5ee8b04d248db673987a88db3b": {
      "model_module": "@jupyter-widgets/controls",
      "model_module_version": "1.5.0",
      "model_name": "ProgressStyleModel",
      "state": {
       "_model_module": "@jupyter-widgets/controls",
       "_model_module_version": "1.5.0",
       "_model_name": "ProgressStyleModel",
       "_view_count": null,
       "_view_module": "@jupyter-widgets/base",
       "_view_module_version": "1.2.0",
       "_view_name": "StyleView",
       "bar_color": null,
       "description_width": ""
      }
     },
     "57e7490ba08c413cbef32e5eeb64c03b": {
      "model_module": "@jupyter-widgets/base",
      "model_module_version": "1.2.0",
      "model_name": "LayoutModel",
      "state": {
       "_model_module": "@jupyter-widgets/base",
       "_model_module_version": "1.2.0",
       "_model_name": "LayoutModel",
       "_view_count": null,
       "_view_module": "@jupyter-widgets/base",
       "_view_module_version": "1.2.0",
       "_view_name": "LayoutView",
       "align_content": null,
       "align_items": null,
       "align_self": null,
       "border": null,
       "bottom": null,
       "display": null,
       "flex": null,
       "flex_flow": null,
       "grid_area": null,
       "grid_auto_columns": null,
       "grid_auto_flow": null,
       "grid_auto_rows": null,
       "grid_column": null,
       "grid_gap": null,
       "grid_row": null,
       "grid_template_areas": null,
       "grid_template_columns": null,
       "grid_template_rows": null,
       "height": null,
       "justify_content": null,
       "justify_items": null,
       "left": null,
       "margin": null,
       "max_height": null,
       "max_width": null,
       "min_height": null,
       "min_width": null,
       "object_fit": null,
       "object_position": null,
       "order": null,
       "overflow": null,
       "overflow_x": null,
       "overflow_y": null,
       "padding": null,
       "right": null,
       "top": null,
       "visibility": null,
       "width": null
      }
     },
     "5fafedfe4b4549adacdf5dd8ff296ba6": {
      "model_module": "@jupyter-widgets/controls",
      "model_module_version": "1.5.0",
      "model_name": "HTMLModel",
      "state": {
       "_dom_classes": [],
       "_model_module": "@jupyter-widgets/controls",
       "_model_module_version": "1.5.0",
       "_model_name": "HTMLModel",
       "_view_count": null,
       "_view_module": "@jupyter-widgets/controls",
       "_view_module_version": "1.5.0",
       "_view_name": "HTMLView",
       "description": "",
       "description_tooltip": null,
       "layout": "IPY_MODEL_dba158f1d20840c68b8bf304d3af20a3",
       "placeholder": "​",
       "style": "IPY_MODEL_ceab56fd79764eb9ba424b014ed8fb1c",
       "value": " 192M/192M [00:18&lt;00:00, 11.2MB/s]"
      }
     },
     "660193be89e54603977b738f568a97f1": {
      "model_module": "@jupyter-widgets/controls",
      "model_module_version": "1.5.0",
      "model_name": "VBoxModel",
      "state": {
       "_dom_classes": [],
       "_model_module": "@jupyter-widgets/controls",
       "_model_module_version": "1.5.0",
       "_model_name": "VBoxModel",
       "_view_count": null,
       "_view_module": "@jupyter-widgets/controls",
       "_view_module_version": "1.5.0",
       "_view_name": "VBoxView",
       "box_style": "",
       "children": [
        "IPY_MODEL_beaf2204970c4d93a9ad39973ed5622a",
        "IPY_MODEL_d82caa44bea647c1ae61fa71cf8d93d1"
       ],
       "layout": "IPY_MODEL_7dc2295f0e47479f8ec1d4eaaa9f1280"
      }
     },
     "6804a4db22bf4e31b88b4b22b817e8c6": {
      "model_module": "@jupyter-widgets/base",
      "model_module_version": "1.2.0",
      "model_name": "LayoutModel",
      "state": {
       "_model_module": "@jupyter-widgets/base",
       "_model_module_version": "1.2.0",
       "_model_name": "LayoutModel",
       "_view_count": null,
       "_view_module": "@jupyter-widgets/base",
       "_view_module_version": "1.2.0",
       "_view_name": "LayoutView",
       "align_content": null,
       "align_items": null,
       "align_self": null,
       "border": null,
       "bottom": null,
       "display": null,
       "flex": null,
       "flex_flow": null,
       "grid_area": null,
       "grid_auto_columns": null,
       "grid_auto_flow": null,
       "grid_auto_rows": null,
       "grid_column": null,
       "grid_gap": null,
       "grid_row": null,
       "grid_template_areas": null,
       "grid_template_columns": null,
       "grid_template_rows": null,
       "height": null,
       "justify_content": null,
       "justify_items": null,
       "left": null,
       "margin": null,
       "max_height": null,
       "max_width": null,
       "min_height": null,
       "min_width": null,
       "object_fit": null,
       "object_position": null,
       "order": null,
       "overflow": null,
       "overflow_x": null,
       "overflow_y": null,
       "padding": null,
       "right": null,
       "top": null,
       "visibility": null,
       "width": null
      }
     },
     "7448a296723d49b7a9970bcb914e78fa": {
      "model_module": "@jupyter-widgets/controls",
      "model_module_version": "1.5.0",
      "model_name": "ProgressStyleModel",
      "state": {
       "_model_module": "@jupyter-widgets/controls",
       "_model_module_version": "1.5.0",
       "_model_name": "ProgressStyleModel",
       "_view_count": null,
       "_view_module": "@jupyter-widgets/base",
       "_view_module_version": "1.2.0",
       "_view_name": "StyleView",
       "bar_color": null,
       "description_width": ""
      }
     },
     "7ceaefb98dd84eb6841801cabba6bf25": {
      "model_module": "@jupyter-widgets/base",
      "model_module_version": "1.2.0",
      "model_name": "LayoutModel",
      "state": {
       "_model_module": "@jupyter-widgets/base",
       "_model_module_version": "1.2.0",
       "_model_name": "LayoutModel",
       "_view_count": null,
       "_view_module": "@jupyter-widgets/base",
       "_view_module_version": "1.2.0",
       "_view_name": "LayoutView",
       "align_content": null,
       "align_items": null,
       "align_self": null,
       "border": null,
       "bottom": null,
       "display": null,
       "flex": null,
       "flex_flow": null,
       "grid_area": null,
       "grid_auto_columns": null,
       "grid_auto_flow": null,
       "grid_auto_rows": null,
       "grid_column": null,
       "grid_gap": null,
       "grid_row": null,
       "grid_template_areas": null,
       "grid_template_columns": null,
       "grid_template_rows": null,
       "height": null,
       "justify_content": null,
       "justify_items": null,
       "left": null,
       "margin": null,
       "max_height": null,
       "max_width": null,
       "min_height": null,
       "min_width": null,
       "object_fit": null,
       "object_position": null,
       "order": null,
       "overflow": null,
       "overflow_x": null,
       "overflow_y": null,
       "padding": null,
       "right": null,
       "top": null,
       "visibility": null,
       "width": null
      }
     },
     "7dc2295f0e47479f8ec1d4eaaa9f1280": {
      "model_module": "@jupyter-widgets/base",
      "model_module_version": "1.2.0",
      "model_name": "LayoutModel",
      "state": {
       "_model_module": "@jupyter-widgets/base",
       "_model_module_version": "1.2.0",
       "_model_name": "LayoutModel",
       "_view_count": null,
       "_view_module": "@jupyter-widgets/base",
       "_view_module_version": "1.2.0",
       "_view_name": "LayoutView",
       "align_content": null,
       "align_items": null,
       "align_self": null,
       "border": null,
       "bottom": null,
       "display": null,
       "flex": null,
       "flex_flow": null,
       "grid_area": null,
       "grid_auto_columns": null,
       "grid_auto_flow": null,
       "grid_auto_rows": null,
       "grid_column": null,
       "grid_gap": null,
       "grid_row": null,
       "grid_template_areas": null,
       "grid_template_columns": null,
       "grid_template_rows": null,
       "height": null,
       "justify_content": null,
       "justify_items": null,
       "left": null,
       "margin": null,
       "max_height": null,
       "max_width": null,
       "min_height": null,
       "min_width": null,
       "object_fit": null,
       "object_position": null,
       "order": null,
       "overflow": null,
       "overflow_x": null,
       "overflow_y": null,
       "padding": null,
       "right": null,
       "top": null,
       "visibility": null,
       "width": null
      }
     },
     "871c9148b7ff4d05abbe4f007b9880db": {
      "model_module": "@jupyter-widgets/controls",
      "model_module_version": "1.5.0",
      "model_name": "VBoxModel",
      "state": {
       "_dom_classes": [],
       "_model_module": "@jupyter-widgets/controls",
       "_model_module_version": "1.5.0",
       "_model_name": "VBoxModel",
       "_view_count": null,
       "_view_module": "@jupyter-widgets/controls",
       "_view_module_version": "1.5.0",
       "_view_name": "VBoxView",
       "box_style": "",
       "children": [
        "IPY_MODEL_3253011e10ec488198f0181ea7ceb4e0",
        "IPY_MODEL_3278439df13a4d69a2c0d8344824aa9f"
       ],
       "layout": "IPY_MODEL_36cd6000d9864336907b04ca99101c8b"
      }
     },
     "aaf21e4f0ad94e4b94523ba3c20e293d": {
      "model_module": "@jupyter-widgets/controls",
      "model_module_version": "1.5.0",
      "model_name": "DescriptionStyleModel",
      "state": {
       "_model_module": "@jupyter-widgets/controls",
       "_model_module_version": "1.5.0",
       "_model_name": "DescriptionStyleModel",
       "_view_count": null,
       "_view_module": "@jupyter-widgets/base",
       "_view_module_version": "1.2.0",
       "_view_name": "StyleView",
       "description_width": ""
      }
     },
     "beaf2204970c4d93a9ad39973ed5622a": {
      "model_module": "@jupyter-widgets/controls",
      "model_module_version": "1.5.0",
      "model_name": "LabelModel",
      "state": {
       "_dom_classes": [],
       "_model_module": "@jupyter-widgets/controls",
       "_model_module_version": "1.5.0",
       "_model_name": "LabelModel",
       "_view_count": null,
       "_view_module": "@jupyter-widgets/controls",
       "_view_module_version": "1.5.0",
       "_view_name": "LabelView",
       "description": "",
       "description_tooltip": null,
       "layout": "IPY_MODEL_7ceaefb98dd84eb6841801cabba6bf25",
       "placeholder": "​",
       "style": "IPY_MODEL_f95623f86fc940c9822ae031c2ef3850",
       "value": ""
      }
     },
     "c1921c7f43084496b73ce708b1266a84": {
      "model_module": "@jupyter-widgets/controls",
      "model_module_version": "1.5.0",
      "model_name": "ProgressStyleModel",
      "state": {
       "_model_module": "@jupyter-widgets/controls",
       "_model_module_version": "1.5.0",
       "_model_name": "ProgressStyleModel",
       "_view_count": null,
       "_view_module": "@jupyter-widgets/base",
       "_view_module_version": "1.2.0",
       "_view_name": "StyleView",
       "bar_color": null,
       "description_width": ""
      }
     },
     "c43c490d39b246b5a329c5ce6f296be7": {
      "model_module": "@jupyter-widgets/base",
      "model_module_version": "1.2.0",
      "model_name": "LayoutModel",
      "state": {
       "_model_module": "@jupyter-widgets/base",
       "_model_module_version": "1.2.0",
       "_model_name": "LayoutModel",
       "_view_count": null,
       "_view_module": "@jupyter-widgets/base",
       "_view_module_version": "1.2.0",
       "_view_name": "LayoutView",
       "align_content": null,
       "align_items": null,
       "align_self": null,
       "border": null,
       "bottom": null,
       "display": null,
       "flex": null,
       "flex_flow": null,
       "grid_area": null,
       "grid_auto_columns": null,
       "grid_auto_flow": null,
       "grid_auto_rows": null,
       "grid_column": null,
       "grid_gap": null,
       "grid_row": null,
       "grid_template_areas": null,
       "grid_template_columns": null,
       "grid_template_rows": null,
       "height": null,
       "justify_content": null,
       "justify_items": null,
       "left": null,
       "margin": null,
       "max_height": null,
       "max_width": null,
       "min_height": null,
       "min_width": null,
       "object_fit": null,
       "object_position": null,
       "order": null,
       "overflow": null,
       "overflow_x": null,
       "overflow_y": null,
       "padding": null,
       "right": null,
       "top": null,
       "visibility": null,
       "width": null
      }
     },
     "ceab56fd79764eb9ba424b014ed8fb1c": {
      "model_module": "@jupyter-widgets/controls",
      "model_module_version": "1.5.0",
      "model_name": "DescriptionStyleModel",
      "state": {
       "_model_module": "@jupyter-widgets/controls",
       "_model_module_version": "1.5.0",
       "_model_name": "DescriptionStyleModel",
       "_view_count": null,
       "_view_module": "@jupyter-widgets/base",
       "_view_module_version": "1.2.0",
       "_view_name": "StyleView",
       "description_width": ""
      }
     },
     "d82caa44bea647c1ae61fa71cf8d93d1": {
      "model_module": "@jupyter-widgets/controls",
      "model_module_version": "1.5.0",
      "model_name": "FloatProgressModel",
      "state": {
       "_dom_classes": [],
       "_model_module": "@jupyter-widgets/controls",
       "_model_module_version": "1.5.0",
       "_model_name": "FloatProgressModel",
       "_view_count": null,
       "_view_module": "@jupyter-widgets/controls",
       "_view_module_version": "1.5.0",
       "_view_name": "ProgressView",
       "bar_style": "",
       "description": "",
       "description_tooltip": null,
       "layout": "IPY_MODEL_e733ba87462e45eabf11e195e88ff394",
       "max": 1.0,
       "min": 0.0,
       "orientation": "horizontal",
       "style": "IPY_MODEL_c1921c7f43084496b73ce708b1266a84",
       "value": 0.0
      }
     },
     "dba158f1d20840c68b8bf304d3af20a3": {
      "model_module": "@jupyter-widgets/base",
      "model_module_version": "1.2.0",
      "model_name": "LayoutModel",
      "state": {
       "_model_module": "@jupyter-widgets/base",
       "_model_module_version": "1.2.0",
       "_model_name": "LayoutModel",
       "_view_count": null,
       "_view_module": "@jupyter-widgets/base",
       "_view_module_version": "1.2.0",
       "_view_name": "LayoutView",
       "align_content": null,
       "align_items": null,
       "align_self": null,
       "border": null,
       "bottom": null,
       "display": null,
       "flex": null,
       "flex_flow": null,
       "grid_area": null,
       "grid_auto_columns": null,
       "grid_auto_flow": null,
       "grid_auto_rows": null,
       "grid_column": null,
       "grid_gap": null,
       "grid_row": null,
       "grid_template_areas": null,
       "grid_template_columns": null,
       "grid_template_rows": null,
       "height": null,
       "justify_content": null,
       "justify_items": null,
       "left": null,
       "margin": null,
       "max_height": null,
       "max_width": null,
       "min_height": null,
       "min_width": null,
       "object_fit": null,
       "object_position": null,
       "order": null,
       "overflow": null,
       "overflow_x": null,
       "overflow_y": null,
       "padding": null,
       "right": null,
       "top": null,
       "visibility": null,
       "width": null
      }
     },
     "e733ba87462e45eabf11e195e88ff394": {
      "model_module": "@jupyter-widgets/base",
      "model_module_version": "1.2.0",
      "model_name": "LayoutModel",
      "state": {
       "_model_module": "@jupyter-widgets/base",
       "_model_module_version": "1.2.0",
       "_model_name": "LayoutModel",
       "_view_count": null,
       "_view_module": "@jupyter-widgets/base",
       "_view_module_version": "1.2.0",
       "_view_name": "LayoutView",
       "align_content": null,
       "align_items": null,
       "align_self": null,
       "border": null,
       "bottom": null,
       "display": null,
       "flex": null,
       "flex_flow": null,
       "grid_area": null,
       "grid_auto_columns": null,
       "grid_auto_flow": null,
       "grid_auto_rows": null,
       "grid_column": null,
       "grid_gap": null,
       "grid_row": null,
       "grid_template_areas": null,
       "grid_template_columns": null,
       "grid_template_rows": null,
       "height": null,
       "justify_content": null,
       "justify_items": null,
       "left": null,
       "margin": null,
       "max_height": null,
       "max_width": null,
       "min_height": null,
       "min_width": null,
       "object_fit": null,
       "object_position": null,
       "order": null,
       "overflow": null,
       "overflow_x": null,
       "overflow_y": null,
       "padding": null,
       "right": null,
       "top": null,
       "visibility": null,
       "width": null
      }
     },
     "f64c10015efd40f69923b96d2e585050": {
      "model_module": "@jupyter-widgets/controls",
      "model_module_version": "1.5.0",
      "model_name": "FloatProgressModel",
      "state": {
       "_dom_classes": [],
       "_model_module": "@jupyter-widgets/controls",
       "_model_module_version": "1.5.0",
       "_model_name": "FloatProgressModel",
       "_view_count": null,
       "_view_module": "@jupyter-widgets/controls",
       "_view_module_version": "1.5.0",
       "_view_name": "ProgressView",
       "bar_style": "success",
       "description": "",
       "description_tooltip": null,
       "layout": "IPY_MODEL_3eeee48dd0ff4be0be1cf5bf6985805b",
       "max": 201014929.0,
       "min": 0.0,
       "orientation": "horizontal",
       "style": "IPY_MODEL_489b0f5ee8b04d248db673987a88db3b",
       "value": 201014929.0
      }
     },
     "f95623f86fc940c9822ae031c2ef3850": {
      "model_module": "@jupyter-widgets/controls",
      "model_module_version": "1.5.0",
      "model_name": "DescriptionStyleModel",
      "state": {
       "_model_module": "@jupyter-widgets/controls",
       "_model_module_version": "1.5.0",
       "_model_name": "DescriptionStyleModel",
       "_view_count": null,
       "_view_module": "@jupyter-widgets/base",
       "_view_module_version": "1.2.0",
       "_view_name": "StyleView",
       "description_width": ""
      }
     }
    },
    "version_major": 2,
    "version_minor": 0
   }
  }
 },
 "nbformat": 4,
 "nbformat_minor": 5
}
