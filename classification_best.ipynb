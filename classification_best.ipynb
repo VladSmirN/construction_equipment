{
 "cells": [
  {
   "cell_type": "code",
   "execution_count": 1,
   "id": "1252e128",
   "metadata": {
    "execution": {
     "iopub.execute_input": "2022-11-02T15:10:44.046841Z",
     "iopub.status.busy": "2022-11-02T15:10:44.046319Z",
     "iopub.status.idle": "2022-11-02T15:11:16.532491Z",
     "shell.execute_reply": "2022-11-02T15:11:16.531390Z"
    },
    "papermill": {
     "duration": 32.495027,
     "end_time": "2022-11-02T15:11:16.535089",
     "exception": false,
     "start_time": "2022-11-02T15:10:44.040062",
     "status": "completed"
    },
    "tags": []
   },
   "outputs": [
    {
     "name": "stdout",
     "output_type": "stream",
     "text": [
      "Collecting torchinfo\r\n",
      "  Downloading torchinfo-1.7.1-py3-none-any.whl (22 kB)\r\n",
      "Installing collected packages: torchinfo\r\n",
      "Successfully installed torchinfo-1.7.1\r\n",
      "\u001b[33mWARNING: Running pip as the 'root' user can result in broken permissions and conflicting behaviour with the system package manager. It is recommended to use a virtual environment instead: https://pip.pypa.io/warnings/venv\u001b[0m\u001b[33m\r\n",
      "\u001b[0mCollecting git+https://github.com/openai/CLIP.git\r\n",
      "  Cloning https://github.com/openai/CLIP.git to /tmp/pip-req-build-_m33t47e\r\n",
      "  Running command git clone --filter=blob:none --quiet https://github.com/openai/CLIP.git /tmp/pip-req-build-_m33t47e\r\n",
      "  Resolved https://github.com/openai/CLIP.git to commit d50d76daa670286dd6cacf3bcd80b5e4823fc8e1\r\n",
      "  Preparing metadata (setup.py) ... \u001b[?25l-\b \bdone\r\n",
      "\u001b[?25hCollecting ftfy\r\n",
      "  Downloading ftfy-6.1.1-py3-none-any.whl (53 kB)\r\n",
      "\u001b[2K     \u001b[90m━━━━━━━━━━━━━━━━━━━━━━━━━━━━━━━━━━━━━━━\u001b[0m \u001b[32m53.1/53.1 kB\u001b[0m \u001b[31m357.5 kB/s\u001b[0m eta \u001b[36m0:00:00\u001b[0m\r\n",
      "\u001b[?25hRequirement already satisfied: regex in /opt/conda/lib/python3.7/site-packages (from clip==1.0) (2021.11.10)\r\n",
      "Requirement already satisfied: tqdm in /opt/conda/lib/python3.7/site-packages (from clip==1.0) (4.64.0)\r\n",
      "Requirement already satisfied: torch in /opt/conda/lib/python3.7/site-packages (from clip==1.0) (1.11.0)\r\n",
      "Requirement already satisfied: torchvision in /opt/conda/lib/python3.7/site-packages (from clip==1.0) (0.12.0)\r\n",
      "Requirement already satisfied: wcwidth>=0.2.5 in /opt/conda/lib/python3.7/site-packages (from ftfy->clip==1.0) (0.2.5)\r\n",
      "Requirement already satisfied: typing-extensions in /opt/conda/lib/python3.7/site-packages (from torch->clip==1.0) (4.3.0)\r\n",
      "Requirement already satisfied: requests in /opt/conda/lib/python3.7/site-packages (from torchvision->clip==1.0) (2.28.1)\r\n",
      "Requirement already satisfied: numpy in /opt/conda/lib/python3.7/site-packages (from torchvision->clip==1.0) (1.21.6)\r\n",
      "Requirement already satisfied: pillow!=8.3.*,>=5.3.0 in /opt/conda/lib/python3.7/site-packages (from torchvision->clip==1.0) (9.1.1)\r\n",
      "Requirement already satisfied: certifi>=2017.4.17 in /opt/conda/lib/python3.7/site-packages (from requests->torchvision->clip==1.0) (2022.6.15.2)\r\n",
      "Requirement already satisfied: charset-normalizer<3,>=2 in /opt/conda/lib/python3.7/site-packages (from requests->torchvision->clip==1.0) (2.1.0)\r\n",
      "Requirement already satisfied: idna<4,>=2.5 in /opt/conda/lib/python3.7/site-packages (from requests->torchvision->clip==1.0) (3.3)\r\n",
      "Requirement already satisfied: urllib3<1.27,>=1.21.1 in /opt/conda/lib/python3.7/site-packages (from requests->torchvision->clip==1.0) (1.26.12)\r\n",
      "Building wheels for collected packages: clip\r\n",
      "  Building wheel for clip (setup.py) ... \u001b[?25l-\b \b\\\b \bdone\r\n",
      "\u001b[?25h  Created wheel for clip: filename=clip-1.0-py3-none-any.whl size=1369409 sha256=8751a913cd0171acbc3fbdf7a77ed5102ad0d12c097758359b77003ed4d5b312\r\n",
      "  Stored in directory: /tmp/pip-ephem-wheel-cache-u3ja89b4/wheels/fd/b9/c3/5b4470e35ed76e174bff77c92f91da82098d5e35fd5bc8cdac\r\n",
      "Successfully built clip\r\n",
      "Installing collected packages: ftfy, clip\r\n",
      "Successfully installed clip-1.0 ftfy-6.1.1\r\n",
      "\u001b[33mWARNING: Running pip as the 'root' user can result in broken permissions and conflicting behaviour with the system package manager. It is recommended to use a virtual environment instead: https://pip.pypa.io/warnings/venv\u001b[0m\u001b[33m\r\n",
      "\u001b[0m"
     ]
    }
   ],
   "source": [
    "from torch.distributions import Categorical\n",
    "import random\n",
    "from sklearn.model_selection import StratifiedKFold\n",
    "import pandas as pd \n",
    "import numpy as np\n",
    "import glob\n",
    "from tqdm import tqdm\n",
    "import cv2\n",
    "from sklearn.model_selection import train_test_split\n",
    "import os\n",
    "!pip install torchinfo\n",
    "from torchinfo import summary\n",
    "os.environ['CUDA_LAUNCH_BLOCKING'] = \"1\"\n",
    "from sklearn.metrics import recall_score\n",
    "import torch\n",
    "import torch.nn as nn\n",
    "import torch.optim as optim\n",
    "from torch.utils.data import Dataset\n",
    "from torchvision import datasets, models, transforms\n",
    "from torchvision.models import resnet18\n",
    "import uuid\n",
    "from PIL import Image\n",
    "import matplotlib.pyplot as plt\n",
    "from IPython.display import clear_output\n",
    "!pip install git+https://github.com/openai/CLIP.git\n",
    "from albumentations.core.composition import Compose, OneOf\n",
    "from albumentations.pytorch import ToTensorV2\n",
    "import albumentations as A    \n",
    "    \n",
    "import clip\n",
    "from torch.utils.data import DataLoader\n",
    "\n",
    "device = \"cuda\" if torch.cuda.is_available() else \"cpu\"\n",
    "\n",
    "\n",
    "import pytorch_lightning as pl\n",
    "from pytorch_lightning import Trainer, seed_everything\n",
    "from pytorch_lightning import Callback\n",
    "from pytorch_lightning.loggers import CSVLogger\n",
    "from pytorch_lightning.callbacks import ModelCheckpoint, EarlyStopping\n",
    "from pytorch_lightning.loggers import WandbLogger\n",
    "import wandb\n",
    " "
   ]
  },
  {
   "cell_type": "markdown",
   "id": "ba7695dc",
   "metadata": {
    "papermill": {
     "duration": 0.004073,
     "end_time": "2022-11-02T15:11:16.543969",
     "exception": false,
     "start_time": "2022-11-02T15:11:16.539896",
     "status": "completed"
    },
    "tags": []
   },
   "source": [
    "## Настрока блокнота"
   ]
  },
  {
   "cell_type": "code",
   "execution_count": 2,
   "id": "69005d9a",
   "metadata": {
    "execution": {
     "iopub.execute_input": "2022-11-02T15:11:16.555583Z",
     "iopub.status.busy": "2022-11-02T15:11:16.553530Z",
     "iopub.status.idle": "2022-11-02T15:11:16.564424Z",
     "shell.execute_reply": "2022-11-02T15:11:16.563451Z"
    },
    "papermill": {
     "duration": 0.018172,
     "end_time": "2022-11-02T15:11:16.566339",
     "exception": false,
     "start_time": "2022-11-02T15:11:16.548167",
     "status": "completed"
    },
    "tags": []
   },
   "outputs": [
    {
     "name": "stdout",
     "output_type": "stream",
     "text": [
      "id_notebook: d1a8516c-f031-4597-be78-4189e1829df4\n"
     ]
    }
   ],
   "source": [
    "DIR_TRAIN = \"../input/construction-equipment/train/\"\n",
    "DIR_TEST = \"../input/construction-equipment-test/test/\"\n",
    "\n",
    "PATH_TRAIN = \"../input/construction-equipment/train.csv\"\n",
    "PATH_TEST = \"../input/construction-equipment-test/test.csv\"\n",
    "\n",
    "class CFG:\n",
    "    batch_size=80\n",
    "    device = torch.device(\"cuda\" if torch.cuda.is_available() else \"cpu\")\n",
    "    num_epochs = 10\n",
    "    wandb_project = \"construction_equipment\"\n",
    "    wandb_entity = \"vladsmirn_\"\n",
    "    img_size = 224\n",
    "    n_fold = 5\n",
    "    k_fold = 1\n",
    "    seed=44\n",
    "    \n",
    "    id_notebook=str(uuid.uuid4())\n",
    "    \n",
    "print(\"id_notebook: \" + CFG.id_notebook)"
   ]
  },
  {
   "cell_type": "code",
   "execution_count": 3,
   "id": "f46be318",
   "metadata": {
    "execution": {
     "iopub.execute_input": "2022-11-02T15:11:16.576739Z",
     "iopub.status.busy": "2022-11-02T15:11:16.575990Z",
     "iopub.status.idle": "2022-11-02T15:11:16.586458Z",
     "shell.execute_reply": "2022-11-02T15:11:16.585653Z"
    },
    "papermill": {
     "duration": 0.0177,
     "end_time": "2022-11-02T15:11:16.588363",
     "exception": false,
     "start_time": "2022-11-02T15:11:16.570663",
     "status": "completed"
    },
    "tags": []
   },
   "outputs": [],
   "source": [
    "def get_transform(phase: str, img_size: int):\n",
    "    if phase == 'train':\n",
    "        return Compose([\n",
    "#             A.Resize(height=img_size, width=img_size),\n",
    "            A.RandomResizedCrop(height=img_size, width=img_size, scale=(0.97, 1.0)),\n",
    "            A.Flip(p=0.5),\n",
    "            A.RandomRotate90(p=0.1),\n",
    "#             A.ShiftScaleRotate(p=0.5),\n",
    "            A.HueSaturationValue(p=0.1),\n",
    "            A.OneOf([\n",
    "                A.RandomBrightnessContrast(p=0.1),\n",
    "                A.RandomGamma(p=0.1),\n",
    "            ], p=0.1),\n",
    "            A.OneOf([\n",
    "                A.Blur(p=0.1),\n",
    "                A.GaussianBlur(p=0.1),\n",
    "                A.MotionBlur(p=0.1),\n",
    "            ], p=0.1),\n",
    "            A.OneOf([\n",
    "                A.GaussNoise(p=0.1),\n",
    "                A.ISONoise(p=0.1),\n",
    "            ], p=0.2),\n",
    "            A.Normalize(),\n",
    "            ToTensorV2(),\n",
    "        ])\n",
    "    else:\n",
    "        return Compose([\n",
    "            A.Resize(height=img_size, width=img_size),\n",
    "            A.Normalize(),\n",
    "            ToTensorV2(),\n",
    "        ])"
   ]
  },
  {
   "cell_type": "markdown",
   "id": "7824139e",
   "metadata": {
    "papermill": {
     "duration": 0.004042,
     "end_time": "2022-11-02T15:11:16.596709",
     "exception": false,
     "start_time": "2022-11-02T15:11:16.592667",
     "status": "completed"
    },
    "tags": []
   },
   "source": [
    "##   Объявление модели\n"
   ]
  },
  {
   "cell_type": "code",
   "execution_count": 4,
   "id": "7c8c583e",
   "metadata": {
    "execution": {
     "iopub.execute_input": "2022-11-02T15:11:16.607454Z",
     "iopub.status.busy": "2022-11-02T15:11:16.606623Z",
     "iopub.status.idle": "2022-11-02T15:11:16.616412Z",
     "shell.execute_reply": "2022-11-02T15:11:16.615576Z"
    },
    "papermill": {
     "duration": 0.017364,
     "end_time": "2022-11-02T15:11:16.618333",
     "exception": false,
     "start_time": "2022-11-02T15:11:16.600969",
     "status": "completed"
    },
    "tags": []
   },
   "outputs": [],
   "source": [
    "def run_wandb(wandb_api_key, cfg):\n",
    "    wandb.require(experiment=\"service\")\n",
    "    wandb.login(key=wandb_api_key)\n",
    "    _cfg = cfg() \n",
    "    cfg_wandb = dict((name, getattr(_cfg, name)) for name in dir(_cfg) if not name.startswith('__'))\n",
    "    \n",
    "    if hasattr(cfg, 'wandb_resume_id') and cfg.wandb_resume_id :\n",
    "        run = wandb.init(project=cfg.wandb_project, \n",
    "                   entity=cfg.wandb_entity, \n",
    "                   id=cfg.wandb_resume_id, \n",
    "                   resume=\"allow\", \n",
    "                   config=cfg_wandb)\n",
    "    else: \n",
    "        run = wandb.init(project=cfg.wandb_project, \n",
    "                   entity=cfg.wandb_entity, \n",
    "                   settings=wandb.Settings(start_method=\"fork\"), \n",
    "                   config=cfg_wandb,\n",
    "                   resume=\"allow\",\n",
    "                   id=wandb.util.generate_id())\n",
    "        \n",
    "    model_logger = WandbLogger(project=cfg.wandb_project, log_model='all')\n",
    "    \n",
    "    return model_logger,run\n",
    "\n",
    "from kaggle_secrets import UserSecretsClient\n",
    "user_secrets = UserSecretsClient()\n",
    "# model_logger, _ = run_wandb(user_secrets.get_secret(\"WANDB_API_KEY\"), CFG)"
   ]
  },
  {
   "cell_type": "markdown",
   "id": "a84ea0fc",
   "metadata": {
    "papermill": {
     "duration": 0.004198,
     "end_time": "2022-11-02T15:11:16.626963",
     "exception": false,
     "start_time": "2022-11-02T15:11:16.622765",
     "status": "completed"
    },
    "tags": []
   },
   "source": [
    "## Предсказание "
   ]
  },
  {
   "cell_type": "code",
   "execution_count": 5,
   "id": "f5148729",
   "metadata": {
    "execution": {
     "iopub.execute_input": "2022-11-02T15:11:16.637115Z",
     "iopub.status.busy": "2022-11-02T15:11:16.636330Z",
     "iopub.status.idle": "2022-11-02T15:11:26.410813Z",
     "shell.execute_reply": "2022-11-02T15:11:26.409737Z"
    },
    "papermill": {
     "duration": 9.782546,
     "end_time": "2022-11-02T15:11:26.413729",
     "exception": false,
     "start_time": "2022-11-02T15:11:16.631183",
     "status": "completed"
    },
    "tags": []
   },
   "outputs": [
    {
     "name": "stderr",
     "output_type": "stream",
     "text": [
      "\u001b[34m\u001b[1mwandb\u001b[0m: W&B API key is configured. Use \u001b[1m`wandb login --relogin`\u001b[0m to force relogin\n",
      "\u001b[34m\u001b[1mwandb\u001b[0m: \u001b[33mWARNING\u001b[0m If you're specifying your api key in code, ensure this code is not shared publicly.\n",
      "\u001b[34m\u001b[1mwandb\u001b[0m: \u001b[33mWARNING\u001b[0m Consider setting the WANDB_API_KEY environment variable, or running `wandb login` from the command line.\n",
      "\u001b[34m\u001b[1mwandb\u001b[0m: Appending key for api.wandb.ai to your netrc file: /root/.netrc\n",
      "\u001b[34m\u001b[1mwandb\u001b[0m: Currently logged in as: \u001b[33mvladsmirn\u001b[0m (\u001b[33mvladsmirn_\u001b[0m). Use \u001b[1m`wandb login --relogin`\u001b[0m to force relogin\n"
     ]
    },
    {
     "data": {
      "text/html": [
       "wandb version 0.13.4 is available!  To upgrade, please run:\n",
       " $ pip install wandb --upgrade"
      ],
      "text/plain": [
       "<IPython.core.display.HTML object>"
      ]
     },
     "metadata": {},
     "output_type": "display_data"
    },
    {
     "data": {
      "text/html": [
       "Tracking run with wandb version 0.12.21"
      ],
      "text/plain": [
       "<IPython.core.display.HTML object>"
      ]
     },
     "metadata": {},
     "output_type": "display_data"
    },
    {
     "data": {
      "text/html": [
       "Run data is saved locally in <code>/kaggle/working/wandb/run-20221102_151119-rp9ikk3j</code>"
      ],
      "text/plain": [
       "<IPython.core.display.HTML object>"
      ]
     },
     "metadata": {},
     "output_type": "display_data"
    },
    {
     "data": {
      "text/html": [
       "Syncing run <strong><a href=\"https://wandb.ai/vladsmirn_/construction_equipment/runs/rp9ikk3j\" target=\"_blank\">bumbling-lion-121</a></strong> to <a href=\"https://wandb.ai/vladsmirn_/construction_equipment\" target=\"_blank\">Weights & Biases</a> (<a href=\"https://wandb.me/run\" target=\"_blank\">docs</a>)<br/>"
      ],
      "text/plain": [
       "<IPython.core.display.HTML object>"
      ]
     },
     "metadata": {},
     "output_type": "display_data"
    },
    {
     "name": "stderr",
     "output_type": "stream",
     "text": [
      "/opt/conda/lib/python3.7/site-packages/pytorch_lightning/loggers/wandb.py:353: UserWarning: There is a wandb run already in progress and newly created instances of `WandbLogger` will reuse this run. If this is not desired, call `wandb.finish()` before instantiating `WandbLogger`.\n",
      "  \"There is a wandb run already in progress and newly created instances of `WandbLogger` will reuse\"\n"
     ]
    }
   ],
   "source": [
    "_, run = run_wandb(user_secrets.get_secret(\"WANDB_API_KEY\"), CFG)"
   ]
  },
  {
   "cell_type": "code",
   "execution_count": 6,
   "id": "4c8ee22a",
   "metadata": {
    "execution": {
     "iopub.execute_input": "2022-11-02T15:11:26.433318Z",
     "iopub.status.busy": "2022-11-02T15:11:26.432767Z",
     "iopub.status.idle": "2022-11-02T15:11:26.476760Z",
     "shell.execute_reply": "2022-11-02T15:11:26.475692Z"
    },
    "papermill": {
     "duration": 0.057203,
     "end_time": "2022-11-02T15:11:26.480011",
     "exception": false,
     "start_time": "2022-11-02T15:11:26.422808",
     "status": "completed"
    },
    "tags": []
   },
   "outputs": [],
   "source": [
    "test_df = pd.read_csv(PATH_TEST)\n",
    "test_df[\"path\"] = test_df[\"ID_img\"].apply(lambda image_name : f'{DIR_TEST}{image_name}')\n",
    "test_df = test_df.drop([\"class\"], axis = 1)\n",
    "\n",
    "class TestImageDataset(Dataset):\n",
    "    def __init__(self, data_df, transform=None):\n",
    "        self.data_df = data_df\n",
    "        self.transform = transform\n",
    "\n",
    "    def __getitem__(self, idx):\n",
    "        image_path = self.data_df.iloc[idx]['path']\n",
    "        image = cv2.imread(image_path)\n",
    "        image = cv2.cvtColor(image, cv2.COLOR_BGR2RGB)\n",
    "        image = self.transform(image=image)['image'] \n",
    " \n",
    "        \n",
    "        return image\n",
    "    \n",
    "    def __len__(self):\n",
    "        return len(self.data_df)\n",
    "    "
   ]
  },
  {
   "cell_type": "code",
   "execution_count": 7,
   "id": "e46c4c05",
   "metadata": {
    "execution": {
     "iopub.execute_input": "2022-11-02T15:11:26.499039Z",
     "iopub.status.busy": "2022-11-02T15:11:26.498552Z",
     "iopub.status.idle": "2022-11-02T15:11:26.508571Z",
     "shell.execute_reply": "2022-11-02T15:11:26.507500Z"
    },
    "papermill": {
     "duration": 0.022377,
     "end_time": "2022-11-02T15:11:26.511424",
     "exception": false,
     "start_time": "2022-11-02T15:11:26.489047",
     "status": "completed"
    },
    "tags": []
   },
   "outputs": [],
   "source": [
    "test_dataset = TestImageDataset(test_df,get_transform(\"train\",CFG.img_size))\n",
    "test_loader = torch.utils.data.DataLoader(dataset=test_dataset,\n",
    "                                           batch_size=1)"
   ]
  },
  {
   "cell_type": "code",
   "execution_count": 8,
   "id": "cb93fb05",
   "metadata": {
    "execution": {
     "iopub.execute_input": "2022-11-02T15:11:26.529558Z",
     "iopub.status.busy": "2022-11-02T15:11:26.529122Z",
     "iopub.status.idle": "2022-11-02T15:11:26.543890Z",
     "shell.execute_reply": "2022-11-02T15:11:26.543015Z"
    },
    "papermill": {
     "duration": 0.02669,
     "end_time": "2022-11-02T15:11:26.546531",
     "exception": false,
     "start_time": "2022-11-02T15:11:26.519841",
     "status": "completed"
    },
    "tags": []
   },
   "outputs": [],
   "source": [
    "def run_model(loader,model):\n",
    "    model.eval()\n",
    "    predicts = []\n",
    "    model.to(CFG.device)\n",
    "    for imgs in tqdm(loader):   \n",
    "        imgs = imgs.to(CFG.device)\n",
    "        pred = model(imgs)\n",
    "        prob = Categorical(logits=pred).probs.cpu().detach().tolist();\n",
    "        predicts.extend(prob)\n",
    "    return predicts\n",
    "\n",
    "def get_model():\n",
    "    model = models.convnext.convnext_small(pretrained=True)\n",
    "    model.classifier[2] = nn.Linear(768, 8) \n",
    "    model.to(CFG.device)\n",
    "    return model\n",
    "\n",
    "def download_model_wandb(path_artifact,model,run):\n",
    "    artifact = run.use_artifact(path_artifact, type='model')\n",
    "    artifact_dir = artifact.download()\n",
    "    checkpoint = os.path.join(artifact_dir, \"model.ckpt\")\n",
    "    from collections import OrderedDict\n",
    "    state_dict = torch.load(checkpoint,map_location ='cpu')['state_dict']\n",
    "    new_state_dict = OrderedDict()\n",
    "    for k, v in state_dict.items():\n",
    "        name = k[6:]  \n",
    "        new_state_dict[name] = v\n",
    "    model.load_state_dict(new_state_dict)\n",
    "    return model "
   ]
  },
  {
   "cell_type": "code",
   "execution_count": 9,
   "id": "e1f23531",
   "metadata": {
    "execution": {
     "iopub.execute_input": "2022-11-02T15:11:26.565215Z",
     "iopub.status.busy": "2022-11-02T15:11:26.564862Z",
     "iopub.status.idle": "2022-11-02T15:11:26.570780Z",
     "shell.execute_reply": "2022-11-02T15:11:26.569827Z"
    },
    "papermill": {
     "duration": 0.019951,
     "end_time": "2022-11-02T15:11:26.575110",
     "exception": false,
     "start_time": "2022-11-02T15:11:26.555159",
     "status": "completed"
    },
    "tags": []
   },
   "outputs": [],
   "source": [
    "from torch.distributions import Categorical"
   ]
  },
  {
   "cell_type": "code",
   "execution_count": 10,
   "id": "aeda3e4e",
   "metadata": {
    "execution": {
     "iopub.execute_input": "2022-11-02T15:11:26.593870Z",
     "iopub.status.busy": "2022-11-02T15:11:26.593429Z",
     "iopub.status.idle": "2022-11-02T15:13:12.507178Z",
     "shell.execute_reply": "2022-11-02T15:13:12.505652Z"
    },
    "papermill": {
     "duration": 105.925285,
     "end_time": "2022-11-02T15:13:12.509348",
     "exception": false,
     "start_time": "2022-11-02T15:11:26.584063",
     "status": "completed"
    },
    "tags": []
   },
   "outputs": [
    {
     "name": "stderr",
     "output_type": "stream",
     "text": [
      "Downloading: \"https://download.pytorch.org/models/convnext_small-0c510722.pth\" to /root/.cache/torch/hub/checkpoints/convnext_small-0c510722.pth\n"
     ]
    },
    {
     "data": {
      "application/vnd.jupyter.widget-view+json": {
       "model_id": "23ae2e1ba3754c12bb1ea215ce292bd4",
       "version_major": 2,
       "version_minor": 0
      },
      "text/plain": [
       "  0%|          | 0.00/192M [00:00<?, ?B/s]"
      ]
     },
     "metadata": {},
     "output_type": "display_data"
    },
    {
     "name": "stderr",
     "output_type": "stream",
     "text": [
      "\u001b[34m\u001b[1mwandb\u001b[0m: Downloading large artifact model-3b6ghnoz:v9, 188.80MB. 1 files... Done. 0:0:10.1\n",
      "100%|██████████| 2138/2138 [01:24<00:00, 25.34it/s]\n"
     ]
    }
   ],
   "source": [
    "model = get_model()\n",
    "model = download_model_wandb(\"vladsmirn_/construction_equipment/model-3b6ghnoz:v9\",model,run)\n",
    "predict = np.array(run_model(test_loader,model))\n",
    "predict = np.argmax(predict,axis=1)\n",
    "predict = predict.tolist()"
   ]
  },
  {
   "cell_type": "code",
   "execution_count": 11,
   "id": "f7d2c18b",
   "metadata": {
    "execution": {
     "iopub.execute_input": "2022-11-02T15:13:12.585379Z",
     "iopub.status.busy": "2022-11-02T15:13:12.583519Z",
     "iopub.status.idle": "2022-11-02T15:13:12.598700Z",
     "shell.execute_reply": "2022-11-02T15:13:12.597734Z"
    },
    "papermill": {
     "duration": 0.055648,
     "end_time": "2022-11-02T15:13:12.601628",
     "exception": false,
     "start_time": "2022-11-02T15:13:12.545980",
     "status": "completed"
    },
    "tags": []
   },
   "outputs": [],
   "source": [
    "test_df[\"class\"] = predict\n",
    "test_df = test_df.drop([\"path\"], axis = 1)\n",
    "test_df.head()\n",
    "\n",
    "test_df.to_csv(\"submit.csv\", index=False)"
   ]
  }
 ],
 "metadata": {
  "kernelspec": {
   "display_name": "Python 3",
   "language": "python",
   "name": "python3"
  },
  "language_info": {
   "codemirror_mode": {
    "name": "ipython",
    "version": 3
   },
   "file_extension": ".py",
   "mimetype": "text/x-python",
   "name": "python",
   "nbconvert_exporter": "python",
   "pygments_lexer": "ipython3",
   "version": "3.7.12"
  },
  "papermill": {
   "default_parameters": {},
   "duration": 159.18921,
   "end_time": "2022-11-02T15:13:15.364292",
   "environment_variables": {},
   "exception": null,
   "input_path": "__notebook__.ipynb",
   "output_path": "__notebook__.ipynb",
   "parameters": {},
   "start_time": "2022-11-02T15:10:36.175082",
   "version": "2.3.4"
  },
  "widgets": {
   "application/vnd.jupyter.widget-state+json": {
    "state": {
     "03ba85bfb47d4fddb6a503fda2279810": {
      "model_module": "@jupyter-widgets/controls",
      "model_module_version": "1.5.0",
      "model_name": "FloatProgressModel",
      "state": {
       "_dom_classes": [],
       "_model_module": "@jupyter-widgets/controls",
       "_model_module_version": "1.5.0",
       "_model_name": "FloatProgressModel",
       "_view_count": null,
       "_view_module": "@jupyter-widgets/controls",
       "_view_module_version": "1.5.0",
       "_view_name": "ProgressView",
       "bar_style": "",
       "description": "",
       "description_tooltip": null,
       "layout": "IPY_MODEL_b043a4e03dff4dac80a6480707d2fe87",
       "max": 1.0,
       "min": 0.0,
       "orientation": "horizontal",
       "style": "IPY_MODEL_ead204d3f7e64045b30e2e6d018e11be",
       "value": 0.0
      }
     },
     "042467da517b48a89802e0825204d683": {
      "model_module": "@jupyter-widgets/controls",
      "model_module_version": "1.5.0",
      "model_name": "DescriptionStyleModel",
      "state": {
       "_model_module": "@jupyter-widgets/controls",
       "_model_module_version": "1.5.0",
       "_model_name": "DescriptionStyleModel",
       "_view_count": null,
       "_view_module": "@jupyter-widgets/base",
       "_view_module_version": "1.2.0",
       "_view_name": "StyleView",
       "description_width": ""
      }
     },
     "089c450017a74e62b29c12d3b8f8a8d0": {
      "model_module": "@jupyter-widgets/controls",
      "model_module_version": "1.5.0",
      "model_name": "VBoxModel",
      "state": {
       "_dom_classes": [],
       "_model_module": "@jupyter-widgets/controls",
       "_model_module_version": "1.5.0",
       "_model_name": "VBoxModel",
       "_view_count": null,
       "_view_module": "@jupyter-widgets/controls",
       "_view_module_version": "1.5.0",
       "_view_name": "VBoxView",
       "box_style": "",
       "children": [
        "IPY_MODEL_7f8c7bd35dc5436da7361365f6b1b82b",
        "IPY_MODEL_03ba85bfb47d4fddb6a503fda2279810"
       ],
       "layout": "IPY_MODEL_4931838b18204c0caba3ba7309545d67"
      }
     },
     "0f288df159bb478383a159cd97982a7d": {
      "model_module": "@jupyter-widgets/base",
      "model_module_version": "1.2.0",
      "model_name": "LayoutModel",
      "state": {
       "_model_module": "@jupyter-widgets/base",
       "_model_module_version": "1.2.0",
       "_model_name": "LayoutModel",
       "_view_count": null,
       "_view_module": "@jupyter-widgets/base",
       "_view_module_version": "1.2.0",
       "_view_name": "LayoutView",
       "align_content": null,
       "align_items": null,
       "align_self": null,
       "border": null,
       "bottom": null,
       "display": null,
       "flex": null,
       "flex_flow": null,
       "grid_area": null,
       "grid_auto_columns": null,
       "grid_auto_flow": null,
       "grid_auto_rows": null,
       "grid_column": null,
       "grid_gap": null,
       "grid_row": null,
       "grid_template_areas": null,
       "grid_template_columns": null,
       "grid_template_rows": null,
       "height": null,
       "justify_content": null,
       "justify_items": null,
       "left": null,
       "margin": null,
       "max_height": null,
       "max_width": null,
       "min_height": null,
       "min_width": null,
       "object_fit": null,
       "object_position": null,
       "order": null,
       "overflow": null,
       "overflow_x": null,
       "overflow_y": null,
       "padding": null,
       "right": null,
       "top": null,
       "visibility": null,
       "width": null
      }
     },
     "17aa710abc8e44b5a47bc3c139200402": {
      "model_module": "@jupyter-widgets/controls",
      "model_module_version": "1.5.0",
      "model_name": "FloatProgressModel",
      "state": {
       "_dom_classes": [],
       "_model_module": "@jupyter-widgets/controls",
       "_model_module_version": "1.5.0",
       "_model_name": "FloatProgressModel",
       "_view_count": null,
       "_view_module": "@jupyter-widgets/controls",
       "_view_module_version": "1.5.0",
       "_view_name": "ProgressView",
       "bar_style": "success",
       "description": "",
       "description_tooltip": null,
       "layout": "IPY_MODEL_7af352486d7c410aaacb26b09424a701",
       "max": 201014929.0,
       "min": 0.0,
       "orientation": "horizontal",
       "style": "IPY_MODEL_fea1319e1226466aa801e7dcf36abbcb",
       "value": 201014929.0
      }
     },
     "23ae2e1ba3754c12bb1ea215ce292bd4": {
      "model_module": "@jupyter-widgets/controls",
      "model_module_version": "1.5.0",
      "model_name": "HBoxModel",
      "state": {
       "_dom_classes": [],
       "_model_module": "@jupyter-widgets/controls",
       "_model_module_version": "1.5.0",
       "_model_name": "HBoxModel",
       "_view_count": null,
       "_view_module": "@jupyter-widgets/controls",
       "_view_module_version": "1.5.0",
       "_view_name": "HBoxView",
       "box_style": "",
       "children": [
        "IPY_MODEL_af0016e4598346e7bccd84b0432c6a30",
        "IPY_MODEL_17aa710abc8e44b5a47bc3c139200402",
        "IPY_MODEL_c12531fb9ab34f8bb47aa058d09f04a6"
       ],
       "layout": "IPY_MODEL_e9066b4c885e4e85ac284510d1a66b11"
      }
     },
     "2699f7e56ac94183bdd492cd3e4a3e3c": {
      "model_module": "@jupyter-widgets/base",
      "model_module_version": "1.2.0",
      "model_name": "LayoutModel",
      "state": {
       "_model_module": "@jupyter-widgets/base",
       "_model_module_version": "1.2.0",
       "_model_name": "LayoutModel",
       "_view_count": null,
       "_view_module": "@jupyter-widgets/base",
       "_view_module_version": "1.2.0",
       "_view_name": "LayoutView",
       "align_content": null,
       "align_items": null,
       "align_self": null,
       "border": null,
       "bottom": null,
       "display": null,
       "flex": null,
       "flex_flow": null,
       "grid_area": null,
       "grid_auto_columns": null,
       "grid_auto_flow": null,
       "grid_auto_rows": null,
       "grid_column": null,
       "grid_gap": null,
       "grid_row": null,
       "grid_template_areas": null,
       "grid_template_columns": null,
       "grid_template_rows": null,
       "height": null,
       "justify_content": null,
       "justify_items": null,
       "left": null,
       "margin": null,
       "max_height": null,
       "max_width": null,
       "min_height": null,
       "min_width": null,
       "object_fit": null,
       "object_position": null,
       "order": null,
       "overflow": null,
       "overflow_x": null,
       "overflow_y": null,
       "padding": null,
       "right": null,
       "top": null,
       "visibility": null,
       "width": null
      }
     },
     "3cacf271698541a5b51be3926bcab681": {
      "model_module": "@jupyter-widgets/base",
      "model_module_version": "1.2.0",
      "model_name": "LayoutModel",
      "state": {
       "_model_module": "@jupyter-widgets/base",
       "_model_module_version": "1.2.0",
       "_model_name": "LayoutModel",
       "_view_count": null,
       "_view_module": "@jupyter-widgets/base",
       "_view_module_version": "1.2.0",
       "_view_name": "LayoutView",
       "align_content": null,
       "align_items": null,
       "align_self": null,
       "border": null,
       "bottom": null,
       "display": null,
       "flex": null,
       "flex_flow": null,
       "grid_area": null,
       "grid_auto_columns": null,
       "grid_auto_flow": null,
       "grid_auto_rows": null,
       "grid_column": null,
       "grid_gap": null,
       "grid_row": null,
       "grid_template_areas": null,
       "grid_template_columns": null,
       "grid_template_rows": null,
       "height": null,
       "justify_content": null,
       "justify_items": null,
       "left": null,
       "margin": null,
       "max_height": null,
       "max_width": null,
       "min_height": null,
       "min_width": null,
       "object_fit": null,
       "object_position": null,
       "order": null,
       "overflow": null,
       "overflow_x": null,
       "overflow_y": null,
       "padding": null,
       "right": null,
       "top": null,
       "visibility": null,
       "width": null
      }
     },
     "3e8d224961a24879951c3ecea5d4b23b": {
      "model_module": "@jupyter-widgets/controls",
      "model_module_version": "1.5.0",
      "model_name": "DescriptionStyleModel",
      "state": {
       "_model_module": "@jupyter-widgets/controls",
       "_model_module_version": "1.5.0",
       "_model_name": "DescriptionStyleModel",
       "_view_count": null,
       "_view_module": "@jupyter-widgets/base",
       "_view_module_version": "1.2.0",
       "_view_name": "StyleView",
       "description_width": ""
      }
     },
     "4931838b18204c0caba3ba7309545d67": {
      "model_module": "@jupyter-widgets/base",
      "model_module_version": "1.2.0",
      "model_name": "LayoutModel",
      "state": {
       "_model_module": "@jupyter-widgets/base",
       "_model_module_version": "1.2.0",
       "_model_name": "LayoutModel",
       "_view_count": null,
       "_view_module": "@jupyter-widgets/base",
       "_view_module_version": "1.2.0",
       "_view_name": "LayoutView",
       "align_content": null,
       "align_items": null,
       "align_self": null,
       "border": null,
       "bottom": null,
       "display": null,
       "flex": null,
       "flex_flow": null,
       "grid_area": null,
       "grid_auto_columns": null,
       "grid_auto_flow": null,
       "grid_auto_rows": null,
       "grid_column": null,
       "grid_gap": null,
       "grid_row": null,
       "grid_template_areas": null,
       "grid_template_columns": null,
       "grid_template_rows": null,
       "height": null,
       "justify_content": null,
       "justify_items": null,
       "left": null,
       "margin": null,
       "max_height": null,
       "max_width": null,
       "min_height": null,
       "min_width": null,
       "object_fit": null,
       "object_position": null,
       "order": null,
       "overflow": null,
       "overflow_x": null,
       "overflow_y": null,
       "padding": null,
       "right": null,
       "top": null,
       "visibility": null,
       "width": null
      }
     },
     "6bbfd9674a3b4a75b0c1ec08397f9fb6": {
      "model_module": "@jupyter-widgets/base",
      "model_module_version": "1.2.0",
      "model_name": "LayoutModel",
      "state": {
       "_model_module": "@jupyter-widgets/base",
       "_model_module_version": "1.2.0",
       "_model_name": "LayoutModel",
       "_view_count": null,
       "_view_module": "@jupyter-widgets/base",
       "_view_module_version": "1.2.0",
       "_view_name": "LayoutView",
       "align_content": null,
       "align_items": null,
       "align_self": null,
       "border": null,
       "bottom": null,
       "display": null,
       "flex": null,
       "flex_flow": null,
       "grid_area": null,
       "grid_auto_columns": null,
       "grid_auto_flow": null,
       "grid_auto_rows": null,
       "grid_column": null,
       "grid_gap": null,
       "grid_row": null,
       "grid_template_areas": null,
       "grid_template_columns": null,
       "grid_template_rows": null,
       "height": null,
       "justify_content": null,
       "justify_items": null,
       "left": null,
       "margin": null,
       "max_height": null,
       "max_width": null,
       "min_height": null,
       "min_width": null,
       "object_fit": null,
       "object_position": null,
       "order": null,
       "overflow": null,
       "overflow_x": null,
       "overflow_y": null,
       "padding": null,
       "right": null,
       "top": null,
       "visibility": null,
       "width": null
      }
     },
     "7af352486d7c410aaacb26b09424a701": {
      "model_module": "@jupyter-widgets/base",
      "model_module_version": "1.2.0",
      "model_name": "LayoutModel",
      "state": {
       "_model_module": "@jupyter-widgets/base",
       "_model_module_version": "1.2.0",
       "_model_name": "LayoutModel",
       "_view_count": null,
       "_view_module": "@jupyter-widgets/base",
       "_view_module_version": "1.2.0",
       "_view_name": "LayoutView",
       "align_content": null,
       "align_items": null,
       "align_self": null,
       "border": null,
       "bottom": null,
       "display": null,
       "flex": null,
       "flex_flow": null,
       "grid_area": null,
       "grid_auto_columns": null,
       "grid_auto_flow": null,
       "grid_auto_rows": null,
       "grid_column": null,
       "grid_gap": null,
       "grid_row": null,
       "grid_template_areas": null,
       "grid_template_columns": null,
       "grid_template_rows": null,
       "height": null,
       "justify_content": null,
       "justify_items": null,
       "left": null,
       "margin": null,
       "max_height": null,
       "max_width": null,
       "min_height": null,
       "min_width": null,
       "object_fit": null,
       "object_position": null,
       "order": null,
       "overflow": null,
       "overflow_x": null,
       "overflow_y": null,
       "padding": null,
       "right": null,
       "top": null,
       "visibility": null,
       "width": null
      }
     },
     "7f8c7bd35dc5436da7361365f6b1b82b": {
      "model_module": "@jupyter-widgets/controls",
      "model_module_version": "1.5.0",
      "model_name": "LabelModel",
      "state": {
       "_dom_classes": [],
       "_model_module": "@jupyter-widgets/controls",
       "_model_module_version": "1.5.0",
       "_model_name": "LabelModel",
       "_view_count": null,
       "_view_module": "@jupyter-widgets/controls",
       "_view_module_version": "1.5.0",
       "_view_name": "LabelView",
       "description": "",
       "description_tooltip": null,
       "layout": "IPY_MODEL_8b33c552c954421d923ea39282c88189",
       "placeholder": "​",
       "style": "IPY_MODEL_3e8d224961a24879951c3ecea5d4b23b",
       "value": ""
      }
     },
     "804634ef023f436da1775c6552d5639d": {
      "model_module": "@jupyter-widgets/controls",
      "model_module_version": "1.5.0",
      "model_name": "FloatProgressModel",
      "state": {
       "_dom_classes": [],
       "_model_module": "@jupyter-widgets/controls",
       "_model_module_version": "1.5.0",
       "_model_name": "FloatProgressModel",
       "_view_count": null,
       "_view_module": "@jupyter-widgets/controls",
       "_view_module_version": "1.5.0",
       "_view_name": "ProgressView",
       "bar_style": "",
       "description": "",
       "description_tooltip": null,
       "layout": "IPY_MODEL_6bbfd9674a3b4a75b0c1ec08397f9fb6",
       "max": 1.0,
       "min": 0.0,
       "orientation": "horizontal",
       "style": "IPY_MODEL_c3c2887bed4c4a329529e5469c654bfe",
       "value": 0.0
      }
     },
     "870d74e6298e4f77a2449113bbca0388": {
      "model_module": "@jupyter-widgets/controls",
      "model_module_version": "1.5.0",
      "model_name": "DescriptionStyleModel",
      "state": {
       "_model_module": "@jupyter-widgets/controls",
       "_model_module_version": "1.5.0",
       "_model_name": "DescriptionStyleModel",
       "_view_count": null,
       "_view_module": "@jupyter-widgets/base",
       "_view_module_version": "1.2.0",
       "_view_name": "StyleView",
       "description_width": ""
      }
     },
     "8a5ac1ff864a41cdac265fe10f5778a7": {
      "model_module": "@jupyter-widgets/controls",
      "model_module_version": "1.5.0",
      "model_name": "DescriptionStyleModel",
      "state": {
       "_model_module": "@jupyter-widgets/controls",
       "_model_module_version": "1.5.0",
       "_model_name": "DescriptionStyleModel",
       "_view_count": null,
       "_view_module": "@jupyter-widgets/base",
       "_view_module_version": "1.2.0",
       "_view_name": "StyleView",
       "description_width": ""
      }
     },
     "8b33c552c954421d923ea39282c88189": {
      "model_module": "@jupyter-widgets/base",
      "model_module_version": "1.2.0",
      "model_name": "LayoutModel",
      "state": {
       "_model_module": "@jupyter-widgets/base",
       "_model_module_version": "1.2.0",
       "_model_name": "LayoutModel",
       "_view_count": null,
       "_view_module": "@jupyter-widgets/base",
       "_view_module_version": "1.2.0",
       "_view_name": "LayoutView",
       "align_content": null,
       "align_items": null,
       "align_self": null,
       "border": null,
       "bottom": null,
       "display": null,
       "flex": null,
       "flex_flow": null,
       "grid_area": null,
       "grid_auto_columns": null,
       "grid_auto_flow": null,
       "grid_auto_rows": null,
       "grid_column": null,
       "grid_gap": null,
       "grid_row": null,
       "grid_template_areas": null,
       "grid_template_columns": null,
       "grid_template_rows": null,
       "height": null,
       "justify_content": null,
       "justify_items": null,
       "left": null,
       "margin": null,
       "max_height": null,
       "max_width": null,
       "min_height": null,
       "min_width": null,
       "object_fit": null,
       "object_position": null,
       "order": null,
       "overflow": null,
       "overflow_x": null,
       "overflow_y": null,
       "padding": null,
       "right": null,
       "top": null,
       "visibility": null,
       "width": null
      }
     },
     "ae2a763f990a47478aee5395a8d74944": {
      "model_module": "@jupyter-widgets/controls",
      "model_module_version": "1.5.0",
      "model_name": "LabelModel",
      "state": {
       "_dom_classes": [],
       "_model_module": "@jupyter-widgets/controls",
       "_model_module_version": "1.5.0",
       "_model_name": "LabelModel",
       "_view_count": null,
       "_view_module": "@jupyter-widgets/controls",
       "_view_module_version": "1.5.0",
       "_view_name": "LabelView",
       "description": "",
       "description_tooltip": null,
       "layout": "IPY_MODEL_0f288df159bb478383a159cd97982a7d",
       "placeholder": "​",
       "style": "IPY_MODEL_042467da517b48a89802e0825204d683",
       "value": ""
      }
     },
     "af0016e4598346e7bccd84b0432c6a30": {
      "model_module": "@jupyter-widgets/controls",
      "model_module_version": "1.5.0",
      "model_name": "HTMLModel",
      "state": {
       "_dom_classes": [],
       "_model_module": "@jupyter-widgets/controls",
       "_model_module_version": "1.5.0",
       "_model_name": "HTMLModel",
       "_view_count": null,
       "_view_module": "@jupyter-widgets/controls",
       "_view_module_version": "1.5.0",
       "_view_name": "HTMLView",
       "description": "",
       "description_tooltip": null,
       "layout": "IPY_MODEL_c4454097486e4a92887e5ded1fa25a9f",
       "placeholder": "​",
       "style": "IPY_MODEL_870d74e6298e4f77a2449113bbca0388",
       "value": "100%"
      }
     },
     "b043a4e03dff4dac80a6480707d2fe87": {
      "model_module": "@jupyter-widgets/base",
      "model_module_version": "1.2.0",
      "model_name": "LayoutModel",
      "state": {
       "_model_module": "@jupyter-widgets/base",
       "_model_module_version": "1.2.0",
       "_model_name": "LayoutModel",
       "_view_count": null,
       "_view_module": "@jupyter-widgets/base",
       "_view_module_version": "1.2.0",
       "_view_name": "LayoutView",
       "align_content": null,
       "align_items": null,
       "align_self": null,
       "border": null,
       "bottom": null,
       "display": null,
       "flex": null,
       "flex_flow": null,
       "grid_area": null,
       "grid_auto_columns": null,
       "grid_auto_flow": null,
       "grid_auto_rows": null,
       "grid_column": null,
       "grid_gap": null,
       "grid_row": null,
       "grid_template_areas": null,
       "grid_template_columns": null,
       "grid_template_rows": null,
       "height": null,
       "justify_content": null,
       "justify_items": null,
       "left": null,
       "margin": null,
       "max_height": null,
       "max_width": null,
       "min_height": null,
       "min_width": null,
       "object_fit": null,
       "object_position": null,
       "order": null,
       "overflow": null,
       "overflow_x": null,
       "overflow_y": null,
       "padding": null,
       "right": null,
       "top": null,
       "visibility": null,
       "width": null
      }
     },
     "b24654fd2df84a39aaa18e91c51477e8": {
      "model_module": "@jupyter-widgets/controls",
      "model_module_version": "1.5.0",
      "model_name": "VBoxModel",
      "state": {
       "_dom_classes": [],
       "_model_module": "@jupyter-widgets/controls",
       "_model_module_version": "1.5.0",
       "_model_name": "VBoxModel",
       "_view_count": null,
       "_view_module": "@jupyter-widgets/controls",
       "_view_module_version": "1.5.0",
       "_view_name": "VBoxView",
       "box_style": "",
       "children": [
        "IPY_MODEL_ae2a763f990a47478aee5395a8d74944",
        "IPY_MODEL_804634ef023f436da1775c6552d5639d"
       ],
       "layout": "IPY_MODEL_3cacf271698541a5b51be3926bcab681"
      }
     },
     "c12531fb9ab34f8bb47aa058d09f04a6": {
      "model_module": "@jupyter-widgets/controls",
      "model_module_version": "1.5.0",
      "model_name": "HTMLModel",
      "state": {
       "_dom_classes": [],
       "_model_module": "@jupyter-widgets/controls",
       "_model_module_version": "1.5.0",
       "_model_name": "HTMLModel",
       "_view_count": null,
       "_view_module": "@jupyter-widgets/controls",
       "_view_module_version": "1.5.0",
       "_view_name": "HTMLView",
       "description": "",
       "description_tooltip": null,
       "layout": "IPY_MODEL_2699f7e56ac94183bdd492cd3e4a3e3c",
       "placeholder": "​",
       "style": "IPY_MODEL_8a5ac1ff864a41cdac265fe10f5778a7",
       "value": " 192M/192M [00:03&lt;00:00, 44.7MB/s]"
      }
     },
     "c3c2887bed4c4a329529e5469c654bfe": {
      "model_module": "@jupyter-widgets/controls",
      "model_module_version": "1.5.0",
      "model_name": "ProgressStyleModel",
      "state": {
       "_model_module": "@jupyter-widgets/controls",
       "_model_module_version": "1.5.0",
       "_model_name": "ProgressStyleModel",
       "_view_count": null,
       "_view_module": "@jupyter-widgets/base",
       "_view_module_version": "1.2.0",
       "_view_name": "StyleView",
       "bar_color": null,
       "description_width": ""
      }
     },
     "c4454097486e4a92887e5ded1fa25a9f": {
      "model_module": "@jupyter-widgets/base",
      "model_module_version": "1.2.0",
      "model_name": "LayoutModel",
      "state": {
       "_model_module": "@jupyter-widgets/base",
       "_model_module_version": "1.2.0",
       "_model_name": "LayoutModel",
       "_view_count": null,
       "_view_module": "@jupyter-widgets/base",
       "_view_module_version": "1.2.0",
       "_view_name": "LayoutView",
       "align_content": null,
       "align_items": null,
       "align_self": null,
       "border": null,
       "bottom": null,
       "display": null,
       "flex": null,
       "flex_flow": null,
       "grid_area": null,
       "grid_auto_columns": null,
       "grid_auto_flow": null,
       "grid_auto_rows": null,
       "grid_column": null,
       "grid_gap": null,
       "grid_row": null,
       "grid_template_areas": null,
       "grid_template_columns": null,
       "grid_template_rows": null,
       "height": null,
       "justify_content": null,
       "justify_items": null,
       "left": null,
       "margin": null,
       "max_height": null,
       "max_width": null,
       "min_height": null,
       "min_width": null,
       "object_fit": null,
       "object_position": null,
       "order": null,
       "overflow": null,
       "overflow_x": null,
       "overflow_y": null,
       "padding": null,
       "right": null,
       "top": null,
       "visibility": null,
       "width": null
      }
     },
     "e9066b4c885e4e85ac284510d1a66b11": {
      "model_module": "@jupyter-widgets/base",
      "model_module_version": "1.2.0",
      "model_name": "LayoutModel",
      "state": {
       "_model_module": "@jupyter-widgets/base",
       "_model_module_version": "1.2.0",
       "_model_name": "LayoutModel",
       "_view_count": null,
       "_view_module": "@jupyter-widgets/base",
       "_view_module_version": "1.2.0",
       "_view_name": "LayoutView",
       "align_content": null,
       "align_items": null,
       "align_self": null,
       "border": null,
       "bottom": null,
       "display": null,
       "flex": null,
       "flex_flow": null,
       "grid_area": null,
       "grid_auto_columns": null,
       "grid_auto_flow": null,
       "grid_auto_rows": null,
       "grid_column": null,
       "grid_gap": null,
       "grid_row": null,
       "grid_template_areas": null,
       "grid_template_columns": null,
       "grid_template_rows": null,
       "height": null,
       "justify_content": null,
       "justify_items": null,
       "left": null,
       "margin": null,
       "max_height": null,
       "max_width": null,
       "min_height": null,
       "min_width": null,
       "object_fit": null,
       "object_position": null,
       "order": null,
       "overflow": null,
       "overflow_x": null,
       "overflow_y": null,
       "padding": null,
       "right": null,
       "top": null,
       "visibility": null,
       "width": null
      }
     },
     "ead204d3f7e64045b30e2e6d018e11be": {
      "model_module": "@jupyter-widgets/controls",
      "model_module_version": "1.5.0",
      "model_name": "ProgressStyleModel",
      "state": {
       "_model_module": "@jupyter-widgets/controls",
       "_model_module_version": "1.5.0",
       "_model_name": "ProgressStyleModel",
       "_view_count": null,
       "_view_module": "@jupyter-widgets/base",
       "_view_module_version": "1.2.0",
       "_view_name": "StyleView",
       "bar_color": null,
       "description_width": ""
      }
     },
     "fea1319e1226466aa801e7dcf36abbcb": {
      "model_module": "@jupyter-widgets/controls",
      "model_module_version": "1.5.0",
      "model_name": "ProgressStyleModel",
      "state": {
       "_model_module": "@jupyter-widgets/controls",
       "_model_module_version": "1.5.0",
       "_model_name": "ProgressStyleModel",
       "_view_count": null,
       "_view_module": "@jupyter-widgets/base",
       "_view_module_version": "1.2.0",
       "_view_name": "StyleView",
       "bar_color": null,
       "description_width": ""
      }
     }
    },
    "version_major": 2,
    "version_minor": 0
   }
  }
 },
 "nbformat": 4,
 "nbformat_minor": 5
}
