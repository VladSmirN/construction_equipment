{
 "cells": [
  {
   "cell_type": "code",
   "execution_count": 1,
   "id": "e00a3a14",
   "metadata": {
    "execution": {
     "iopub.execute_input": "2022-11-02T12:12:08.928319Z",
     "iopub.status.busy": "2022-11-02T12:12:08.927766Z",
     "iopub.status.idle": "2022-11-02T12:12:39.628160Z",
     "shell.execute_reply": "2022-11-02T12:12:39.627011Z"
    },
    "papermill": {
     "duration": 30.715951,
     "end_time": "2022-11-02T12:12:39.630903",
     "exception": false,
     "start_time": "2022-11-02T12:12:08.914952",
     "status": "completed"
    },
    "tags": []
   },
   "outputs": [
    {
     "name": "stdout",
     "output_type": "stream",
     "text": [
      "Collecting torchinfo\r\n",
      "  Downloading torchinfo-1.7.1-py3-none-any.whl (22 kB)\r\n",
      "Installing collected packages: torchinfo\r\n",
      "Successfully installed torchinfo-1.7.1\r\n",
      "\u001b[33mWARNING: Running pip as the 'root' user can result in broken permissions and conflicting behaviour with the system package manager. It is recommended to use a virtual environment instead: https://pip.pypa.io/warnings/venv\u001b[0m\u001b[33m\r\n",
      "\u001b[0mCollecting git+https://github.com/openai/CLIP.git\r\n",
      "  Cloning https://github.com/openai/CLIP.git to /tmp/pip-req-build-q7yri159\r\n",
      "  Running command git clone --filter=blob:none --quiet https://github.com/openai/CLIP.git /tmp/pip-req-build-q7yri159\r\n",
      "  Resolved https://github.com/openai/CLIP.git to commit d50d76daa670286dd6cacf3bcd80b5e4823fc8e1\r\n",
      "  Preparing metadata (setup.py) ... \u001b[?25l-\b \bdone\r\n",
      "\u001b[?25hCollecting ftfy\r\n",
      "  Downloading ftfy-6.1.1-py3-none-any.whl (53 kB)\r\n",
      "\u001b[2K     \u001b[90m━━━━━━━━━━━━━━━━━━━━━━━━━━━━━━━━━━━━━━━\u001b[0m \u001b[32m53.1/53.1 kB\u001b[0m \u001b[31m606.0 kB/s\u001b[0m eta \u001b[36m0:00:00\u001b[0m\r\n",
      "\u001b[?25hRequirement already satisfied: regex in /opt/conda/lib/python3.7/site-packages (from clip==1.0) (2021.11.10)\r\n",
      "Requirement already satisfied: tqdm in /opt/conda/lib/python3.7/site-packages (from clip==1.0) (4.64.0)\r\n",
      "Requirement already satisfied: torch in /opt/conda/lib/python3.7/site-packages (from clip==1.0) (1.11.0)\r\n",
      "Requirement already satisfied: torchvision in /opt/conda/lib/python3.7/site-packages (from clip==1.0) (0.12.0)\r\n",
      "Requirement already satisfied: wcwidth>=0.2.5 in /opt/conda/lib/python3.7/site-packages (from ftfy->clip==1.0) (0.2.5)\r\n",
      "Requirement already satisfied: typing-extensions in /opt/conda/lib/python3.7/site-packages (from torch->clip==1.0) (4.3.0)\r\n",
      "Requirement already satisfied: requests in /opt/conda/lib/python3.7/site-packages (from torchvision->clip==1.0) (2.28.1)\r\n",
      "Requirement already satisfied: pillow!=8.3.*,>=5.3.0 in /opt/conda/lib/python3.7/site-packages (from torchvision->clip==1.0) (9.1.1)\r\n",
      "Requirement already satisfied: numpy in /opt/conda/lib/python3.7/site-packages (from torchvision->clip==1.0) (1.21.6)\r\n",
      "Requirement already satisfied: idna<4,>=2.5 in /opt/conda/lib/python3.7/site-packages (from requests->torchvision->clip==1.0) (3.3)\r\n",
      "Requirement already satisfied: certifi>=2017.4.17 in /opt/conda/lib/python3.7/site-packages (from requests->torchvision->clip==1.0) (2022.6.15.2)\r\n",
      "Requirement already satisfied: charset-normalizer<3,>=2 in /opt/conda/lib/python3.7/site-packages (from requests->torchvision->clip==1.0) (2.1.0)\r\n",
      "Requirement already satisfied: urllib3<1.27,>=1.21.1 in /opt/conda/lib/python3.7/site-packages (from requests->torchvision->clip==1.0) (1.26.12)\r\n",
      "Building wheels for collected packages: clip\r\n",
      "  Building wheel for clip (setup.py) ... \u001b[?25l-\b \b\\\b \bdone\r\n",
      "\u001b[?25h  Created wheel for clip: filename=clip-1.0-py3-none-any.whl size=1369409 sha256=178a7acf0e9b190e22fa4d698f73b63cfbb57c7aa9038caddffbc25c8f79d2b9\r\n",
      "  Stored in directory: /tmp/pip-ephem-wheel-cache-k4ribjs4/wheels/fd/b9/c3/5b4470e35ed76e174bff77c92f91da82098d5e35fd5bc8cdac\r\n",
      "Successfully built clip\r\n",
      "Installing collected packages: ftfy, clip\r\n",
      "Successfully installed clip-1.0 ftfy-6.1.1\r\n",
      "\u001b[33mWARNING: Running pip as the 'root' user can result in broken permissions and conflicting behaviour with the system package manager. It is recommended to use a virtual environment instead: https://pip.pypa.io/warnings/venv\u001b[0m\u001b[33m\r\n",
      "\u001b[0m"
     ]
    }
   ],
   "source": [
    "from sklearn.model_selection import StratifiedKFold\n",
    "import pandas as pd \n",
    "import numpy as np\n",
    "import glob\n",
    "from tqdm import tqdm\n",
    "import cv2\n",
    "from sklearn.model_selection import train_test_split\n",
    "import os\n",
    "!pip install torchinfo\n",
    "from torchinfo import summary\n",
    "os.environ['CUDA_LAUNCH_BLOCKING'] = \"1\"\n",
    "from sklearn.metrics import recall_score\n",
    "import torch\n",
    "import torch.nn as nn\n",
    "import torch.optim as optim\n",
    "from torch.utils.data import Dataset\n",
    "from torchvision import datasets, models, transforms\n",
    "from torchvision.models import resnet18\n",
    "import uuid\n",
    "from PIL import Image\n",
    "import matplotlib.pyplot as plt\n",
    "from IPython.display import clear_output\n",
    "!pip install git+https://github.com/openai/CLIP.git\n",
    "from albumentations.core.composition import Compose, OneOf\n",
    "from albumentations.pytorch import ToTensorV2\n",
    "import albumentations as A    \n",
    "    \n",
    "import clip\n",
    "from torch.utils.data import DataLoader\n",
    "\n",
    "device = \"cuda\" if torch.cuda.is_available() else \"cpu\"\n",
    "\n",
    "\n",
    "import pytorch_lightning as pl\n",
    "from pytorch_lightning import Trainer, seed_everything\n",
    "from pytorch_lightning import Callback\n",
    "from pytorch_lightning.loggers import CSVLogger\n",
    "from pytorch_lightning.callbacks import ModelCheckpoint, EarlyStopping\n",
    "from pytorch_lightning.loggers import WandbLogger\n",
    "import wandb\n",
    " "
   ]
  },
  {
   "cell_type": "markdown",
   "id": "79ee5ebf",
   "metadata": {
    "papermill": {
     "duration": 0.00566,
     "end_time": "2022-11-02T12:12:39.642819",
     "exception": false,
     "start_time": "2022-11-02T12:12:39.637159",
     "status": "completed"
    },
    "tags": []
   },
   "source": [
    "## Настрока блокнота"
   ]
  },
  {
   "cell_type": "code",
   "execution_count": 2,
   "id": "bc9f89b8",
   "metadata": {
    "execution": {
     "iopub.execute_input": "2022-11-02T12:12:39.656447Z",
     "iopub.status.busy": "2022-11-02T12:12:39.655682Z",
     "iopub.status.idle": "2022-11-02T12:12:39.662721Z",
     "shell.execute_reply": "2022-11-02T12:12:39.661710Z"
    },
    "papermill": {
     "duration": 0.017855,
     "end_time": "2022-11-02T12:12:39.666532",
     "exception": false,
     "start_time": "2022-11-02T12:12:39.648677",
     "status": "completed"
    },
    "tags": []
   },
   "outputs": [
    {
     "name": "stdout",
     "output_type": "stream",
     "text": [
      "id_notebook: 87115333-f4b9-49a3-a456-0a8a8f9281dd\n"
     ]
    }
   ],
   "source": [
    "class CFG:\n",
    "    batch_size=80\n",
    "    device = torch.device(\"cuda\" if torch.cuda.is_available() else \"cpu\")\n",
    "    num_epochs = 10\n",
    "    wandb_project = \"construction_equipment\"\n",
    "    wandb_entity = \"vladsmirn_\"\n",
    "    img_size = 224\n",
    "    n_fold = 5\n",
    "    k_fold = 1\n",
    "    seed=44\n",
    "    \n",
    "    id_notebook=str(uuid.uuid4())\n",
    "    \n",
    "print(\"id_notebook: \" + CFG.id_notebook)\n",
    " "
   ]
  },
  {
   "cell_type": "code",
   "execution_count": 3,
   "id": "9a6bdbff",
   "metadata": {
    "execution": {
     "iopub.execute_input": "2022-11-02T12:12:39.680142Z",
     "iopub.status.busy": "2022-11-02T12:12:39.679840Z",
     "iopub.status.idle": "2022-11-02T12:12:39.687734Z",
     "shell.execute_reply": "2022-11-02T12:12:39.686749Z"
    },
    "papermill": {
     "duration": 0.016351,
     "end_time": "2022-11-02T12:12:39.689555",
     "exception": false,
     "start_time": "2022-11-02T12:12:39.673204",
     "status": "completed"
    },
    "tags": []
   },
   "outputs": [],
   "source": [
    "def get_transform(phase: str, img_size: int):\n",
    "    if phase == 'train':\n",
    "        return Compose([\n",
    "#             A.Resize(height=img_size, width=img_size),\n",
    "            A.RandomResizedCrop(height=img_size, width=img_size, scale=(0.97, 1.0)),\n",
    "            A.Flip(p=0.5),\n",
    "            A.RandomRotate90(p=0.1),\n",
    "#             A.ShiftScaleRotate(p=0.5),\n",
    "            A.HueSaturationValue(p=0.1),\n",
    "            A.OneOf([\n",
    "                A.RandomBrightnessContrast(p=0.1),\n",
    "                A.RandomGamma(p=0.1),\n",
    "            ], p=0.1),\n",
    "            A.OneOf([\n",
    "                A.Blur(p=0.1),\n",
    "                A.GaussianBlur(p=0.1),\n",
    "                A.MotionBlur(p=0.1),\n",
    "            ], p=0.1),\n",
    "            A.OneOf([\n",
    "                A.GaussNoise(p=0.1),\n",
    "                A.ISONoise(p=0.1),\n",
    "            ], p=0.2),\n",
    "            A.Normalize(),\n",
    "            ToTensorV2(),\n",
    "        ])\n",
    "    else:\n",
    "        return Compose([\n",
    "            A.Resize(height=img_size, width=img_size),\n",
    "            A.Normalize(),\n",
    "            ToTensorV2(),\n",
    "        ])"
   ]
  },
  {
   "cell_type": "code",
   "execution_count": 4,
   "id": "387759fa",
   "metadata": {
    "execution": {
     "iopub.execute_input": "2022-11-02T12:12:39.702305Z",
     "iopub.status.busy": "2022-11-02T12:12:39.702041Z",
     "iopub.status.idle": "2022-11-02T12:12:40.842383Z",
     "shell.execute_reply": "2022-11-02T12:12:40.841285Z"
    },
    "papermill": {
     "duration": 1.151195,
     "end_time": "2022-11-02T12:12:40.846576",
     "exception": false,
     "start_time": "2022-11-02T12:12:39.695381",
     "status": "completed"
    },
    "tags": []
   },
   "outputs": [
    {
     "name": "stdout",
     "output_type": "stream",
     "text": [
      "train size: 3992\n",
      "valid size: 998\n"
     ]
    },
    {
     "data": {
      "text/plain": [
       "torch.Size([80, 3, 224, 224])"
      ]
     },
     "execution_count": 4,
     "metadata": {},
     "output_type": "execute_result"
    }
   ],
   "source": [
    "DIR_TRAIN = \"../input/construction-equipment/train/\"\n",
    "DIR_TEST = \"../input/construction-equipment-test/test/\"\n",
    "\n",
    "PATH_TRAIN = \"../input/construction-equipment/train.csv\"\n",
    "PATH_TEST = \"../input/construction-equipment-test/test.csv\"\n",
    "\n",
    "def KFOLD(df, n_fold=5 , k_fold=1, seed=43, column_x='path', column_y='class'):\n",
    "    skf = StratifiedKFold(n_splits=n_fold, shuffle=True, random_state=seed)\n",
    "    \n",
    "    for i_fold , (train_idx, valid_idx) in enumerate(skf.split(df[column_x], df[column_y])):\n",
    "        if(i_fold+1 == k_fold):\n",
    "            df_train = df.iloc[train_idx]\n",
    "            df_valid = df.iloc[valid_idx]\n",
    "            break\n",
    "\n",
    "    print(f\"train size: {len(df_train)}\")\n",
    "    print(f\"valid size: {len(df_valid)}\")\n",
    "    \n",
    "    return df_train, df_valid\n",
    "\n",
    "class ImageDataset(Dataset):\n",
    "    def __init__(self, data_df, transform=None):\n",
    "\n",
    "        self.data_df = data_df\n",
    "        self.transform = transform\n",
    "\n",
    "    def __getitem__(self, idx):\n",
    "        image_path, label = self.data_df.iloc[idx]['path'], self.data_df.iloc[idx]['class']\n",
    "        image = cv2.imread(image_path)\n",
    "        image = cv2.cvtColor(image, cv2.COLOR_BGR2RGB)\n",
    "        image = self.transform(image=image)['image'] \n",
    "#         image = image.permute(0,1,2) \n",
    "#         image = Image.fromarray(image)\n",
    "#         image = preprocess(image).to(device)  \n",
    "        return image, torch.tensor(label).long()\n",
    "    \n",
    "    def __len__(self):\n",
    "        return len(self.data_df)\n",
    "    \n",
    " \n",
    " \n",
    "\n",
    "data_df = pd.read_csv(PATH_TRAIN)\n",
    "data_df[\"path\"] = data_df[\"ID_img\"].apply(lambda image_name : f'{DIR_TRAIN}{image_name}')\n",
    "train_df, valid_df = KFOLD(data_df, n_fold=CFG.n_fold, k_fold=CFG.k_fold,seed=CFG.seed)\n",
    "train_dataset = ImageDataset(train_df, get_transform(\"train\",CFG.img_size))\n",
    "valid_dataset = ImageDataset(valid_df, get_transform(\"valid\",CFG.img_size))\n",
    " \n",
    "\n",
    "train_loader = torch.utils.data.DataLoader(dataset=train_dataset,\n",
    "                                           batch_size=CFG.batch_size,\n",
    "                                           shuffle=True)\n",
    "\n",
    "valid_loader = torch.utils.data.DataLoader(dataset=valid_dataset,\n",
    "                                           batch_size=CFG.batch_size)\n",
    "                                            \n",
    "# CFG.steps_per_epoch = len(train_loader)\n",
    "CFG.steps_per_epoch = len(train_loader) \n",
    "images, labels =  next(iter(train_loader))\n",
    "# model_clip.encode_image(images[:1])\n",
    "images.shape"
   ]
  },
  {
   "cell_type": "code",
   "execution_count": 5,
   "id": "de652030",
   "metadata": {
    "execution": {
     "iopub.execute_input": "2022-11-02T12:12:40.862413Z",
     "iopub.status.busy": "2022-11-02T12:12:40.861605Z",
     "iopub.status.idle": "2022-11-02T12:12:40.874905Z",
     "shell.execute_reply": "2022-11-02T12:12:40.873887Z"
    },
    "papermill": {
     "duration": 0.022818,
     "end_time": "2022-11-02T12:12:40.877013",
     "exception": false,
     "start_time": "2022-11-02T12:12:40.854195",
     "status": "completed"
    },
    "tags": []
   },
   "outputs": [],
   "source": [
    "\n",
    "'''\n",
    "https://www.kaggle.com/code/isbhargav/guide-to-pytorch-learning-rate-scheduling/notebook\n",
    " \n",
    "CFG.lr_schedule = \"OneCycleLR\"\n",
    "CFG.num_epochs = 10\n",
    "CFG.steps_per_epoch = 62\n",
    "CFG.max_lr = 0.0002\n",
    "CFG.div_factor = 2\n",
    "\n",
    "CFG.lr_schedule = \"CyclicLR_exp_range\" \n",
    "CFG.base_lr = 0.0001 \n",
    "CFG.max_lr = 0.0002 \n",
    "CFG.step_size_up = 100\n",
    "CFG.gamma = 0.992\n",
    "\n",
    "'''\n",
    "# class optimizers_confing: \n",
    " \n",
    "def choose_configure_optimizers(CFG,model = torch.nn.Linear(2, 1),show=False):\n",
    "    \n",
    "  \n",
    "    CFG.optimizer = \"Adam\"\n",
    "    if not hasattr(CFG, 'lr'):\n",
    "        CFG.lr = 0.001\n",
    "    optimizer = torch.optim.Adam(model.parameters(), lr=CFG.lr)    \n",
    "\n",
    "         \n",
    "    if not hasattr(CFG, 'lr_schedule'):\n",
    "        return optimizer\n",
    "    \n",
    " \n",
    "    if CFG.lr_schedule == \"OneCycleLR\" :\n",
    "        scheduler = torch.optim.lr_scheduler.OneCycleLR(optimizer, \n",
    "                                                        epochs=CFG.num_epochs, \n",
    "                                                        steps_per_epoch= CFG.steps_per_epoch,\n",
    "                                                        max_lr=CFG.max_lr)\n",
    "                                                        \n",
    "        scheduler = {'scheduler': scheduler, 'interval': 'step'}\n",
    "        number_steps_scheduler = CFG.steps_per_epoch * CFG.num_epochs # for show\n",
    "        \n",
    "        \n",
    "        \n",
    "        \n",
    "    if CFG.lr_schedule == \"CyclicLR_exp_range\" :\n",
    "        scheduler = torch.optim.lr_scheduler.CyclicLR(optimizer, \n",
    "                                                      base_lr=CFG.base_lr, \n",
    "                                                      max_lr=CFG.max_lr, \n",
    "                                                      step_size_up=CFG.step_size_up,\n",
    "                                                      mode=\"exp_range\",\n",
    "                                                      gamma=CFG.gamma,\n",
    "                                                      cycle_momentum=False)\n",
    "        scheduler = {'scheduler': scheduler, 'interval': 'step'}\n",
    "        number_steps_scheduler = CFG.steps_per_epoch * CFG.num_epochs\n",
    "        \n",
    "        \n",
    "        \n",
    "    if CFG.lr_schedule == \"LambdaLR\" :\n",
    "        scheduler = torch.optim.lr_scheduler.LambdaLR(optimizer, \n",
    "                                                      lr_lambda = lambda epoch: CFG.parametr_lambda ** epoch)\n",
    "        \n",
    "        scheduler = {'scheduler': scheduler, 'interval': 'epoch'}\n",
    "        number_steps_scheduler = CFG.num_epochs\n",
    "        \n",
    "        \n",
    "        \n",
    "      \n",
    "        \n",
    "    if show : \n",
    "        lrs = []\n",
    "        for i in range(number_steps_scheduler):\n",
    "            optimizer.step()\n",
    "            lrs.append(optimizer.param_groups[0][\"lr\"])\n",
    "            scheduler['scheduler'].step()\n",
    "            \n",
    "        plt.title(CFG.lr_schedule)  \n",
    "        plt.plot(lrs)  \n",
    "        plt.xlabel(\"step\") \n",
    "        plt.ylabel(\"lr\")\n",
    "        plt.show()\n",
    "        print(\"last lr:\"+str(lrs[-1]))\n",
    "        print(\"first lr:\"+str(lrs[0]))\n",
    "        print(optimizer)\n",
    "\n",
    "    return optimizer, scheduler\n",
    "\n",
    " "
   ]
  },
  {
   "cell_type": "code",
   "execution_count": 6,
   "id": "e46793a6",
   "metadata": {
    "execution": {
     "iopub.execute_input": "2022-11-02T12:12:40.890450Z",
     "iopub.status.busy": "2022-11-02T12:12:40.890170Z",
     "iopub.status.idle": "2022-11-02T12:12:41.259378Z",
     "shell.execute_reply": "2022-11-02T12:12:41.258340Z"
    },
    "papermill": {
     "duration": 0.379067,
     "end_time": "2022-11-02T12:12:41.262321",
     "exception": false,
     "start_time": "2022-11-02T12:12:40.883254",
     "status": "completed"
    },
    "tags": []
   },
   "outputs": [
    {
     "data": {
      "image/png": "[encoded data removed]",
      "text/plain": [
       "<Figure size 432x288 with 1 Axes>"
      ]
     },
     "metadata": {
      "needs_background": "light"
     },
     "output_type": "display_data"
    },
    {
     "name": "stdout",
     "output_type": "stream",
     "text": [
      "last lr:3.9999999999999996e-10\n",
      "first lr:4.000000000000002e-06\n",
      "Adam (\n",
      "Parameter Group 0\n",
      "    amsgrad: False\n",
      "    base_momentum: 0.85\n",
      "    betas: (0.9499999798579515, 0.999)\n",
      "    eps: 1e-08\n",
      "    initial_lr: 4e-06\n",
      "    lr: 4.201419678776099e-10\n",
      "    max_lr: 0.0001\n",
      "    max_momentum: 0.95\n",
      "    maximize: False\n",
      "    min_lr: 3.9999999999999996e-10\n",
      "    weight_decay: 0\n",
      ")\n"
     ]
    }
   ],
   "source": [
    "CFG.lr_schedule = \"OneCycleLR\"\n",
    "CFG.num_epochs = 100\n",
    "CFG.max_lr = 0.0001\n",
    "\n",
    " \n",
    "_ = choose_configure_optimizers(CFG,show=True)\n",
    " "
   ]
  },
  {
   "cell_type": "markdown",
   "id": "78e7ad77",
   "metadata": {
    "papermill": {
     "duration": 0.006156,
     "end_time": "2022-11-02T12:12:41.275027",
     "exception": false,
     "start_time": "2022-11-02T12:12:41.268871",
     "status": "completed"
    },
    "tags": []
   },
   "source": [
    "##   Объявление модели\n"
   ]
  },
  {
   "cell_type": "code",
   "execution_count": 7,
   "id": "77e2bccb",
   "metadata": {
    "execution": {
     "iopub.execute_input": "2022-11-02T12:12:41.288811Z",
     "iopub.status.busy": "2022-11-02T12:12:41.288474Z",
     "iopub.status.idle": "2022-11-02T12:12:55.282259Z",
     "shell.execute_reply": "2022-11-02T12:12:55.281238Z"
    },
    "papermill": {
     "duration": 14.003163,
     "end_time": "2022-11-02T12:12:55.284375",
     "exception": false,
     "start_time": "2022-11-02T12:12:41.281212",
     "status": "completed"
    },
    "tags": []
   },
   "outputs": [
    {
     "name": "stderr",
     "output_type": "stream",
     "text": [
      "Downloading: \"https://download.pytorch.org/models/convnext_small-0c510722.pth\" to /root/.cache/torch/hub/checkpoints/convnext_small-0c510722.pth\n"
     ]
    },
    {
     "data": {
      "application/vnd.jupyter.widget-view+json": {
       "model_id": "733a26900a1142e6becc823eeaa52dbb",
       "version_major": 2,
       "version_minor": 0
      },
      "text/plain": [
       "  0%|          | 0.00/192M [00:00<?, ?B/s]"
      ]
     },
     "metadata": {},
     "output_type": "display_data"
    },
    {
     "data": {
      "text/plain": [
       "======================================================================\n",
       "Layer (type:depth-idx)                        Param #\n",
       "======================================================================\n",
       "ConvNeXt                                      --\n",
       "├─Sequential: 1-1                             --\n",
       "│    └─ConvNormActivation: 2-1                --\n",
       "│    │    └─Conv2d: 3-1                       4,704\n",
       "│    │    └─LayerNorm2d: 3-2                  192\n",
       "│    └─Sequential: 2-2                        --\n",
       "│    │    └─CNBlock: 3-3                      79,296\n",
       "│    │    └─CNBlock: 3-4                      79,296\n",
       "│    │    └─CNBlock: 3-5                      79,296\n",
       "│    └─Sequential: 2-3                        --\n",
       "│    │    └─LayerNorm2d: 3-6                  192\n",
       "│    │    └─Conv2d: 3-7                       73,920\n",
       "│    └─Sequential: 2-4                        --\n",
       "│    │    └─CNBlock: 3-8                      306,048\n",
       "│    │    └─CNBlock: 3-9                      306,048\n",
       "│    │    └─CNBlock: 3-10                     306,048\n",
       "│    └─Sequential: 2-5                        --\n",
       "│    │    └─LayerNorm2d: 3-11                 384\n",
       "│    │    └─Conv2d: 3-12                      295,296\n",
       "│    └─Sequential: 2-6                        --\n",
       "│    │    └─CNBlock: 3-13                     1,201,920\n",
       "│    │    └─CNBlock: 3-14                     1,201,920\n",
       "│    │    └─CNBlock: 3-15                     1,201,920\n",
       "│    │    └─CNBlock: 3-16                     1,201,920\n",
       "│    │    └─CNBlock: 3-17                     1,201,920\n",
       "│    │    └─CNBlock: 3-18                     1,201,920\n",
       "│    │    └─CNBlock: 3-19                     1,201,920\n",
       "│    │    └─CNBlock: 3-20                     1,201,920\n",
       "│    │    └─CNBlock: 3-21                     1,201,920\n",
       "│    │    └─CNBlock: 3-22                     1,201,920\n",
       "│    │    └─CNBlock: 3-23                     1,201,920\n",
       "│    │    └─CNBlock: 3-24                     1,201,920\n",
       "│    │    └─CNBlock: 3-25                     1,201,920\n",
       "│    │    └─CNBlock: 3-26                     1,201,920\n",
       "│    │    └─CNBlock: 3-27                     1,201,920\n",
       "│    │    └─CNBlock: 3-28                     1,201,920\n",
       "│    │    └─CNBlock: 3-29                     1,201,920\n",
       "│    │    └─CNBlock: 3-30                     1,201,920\n",
       "│    │    └─CNBlock: 3-31                     1,201,920\n",
       "│    │    └─CNBlock: 3-32                     1,201,920\n",
       "│    │    └─CNBlock: 3-33                     1,201,920\n",
       "│    │    └─CNBlock: 3-34                     1,201,920\n",
       "│    │    └─CNBlock: 3-35                     1,201,920\n",
       "│    │    └─CNBlock: 3-36                     1,201,920\n",
       "│    │    └─CNBlock: 3-37                     1,201,920\n",
       "│    │    └─CNBlock: 3-38                     1,201,920\n",
       "│    │    └─CNBlock: 3-39                     1,201,920\n",
       "│    └─Sequential: 2-7                        --\n",
       "│    │    └─LayerNorm2d: 3-40                 768\n",
       "│    │    └─Conv2d: 3-41                      1,180,416\n",
       "│    └─Sequential: 2-8                        --\n",
       "│    │    └─CNBlock: 3-42                     4,763,136\n",
       "│    │    └─CNBlock: 3-43                     4,763,136\n",
       "│    │    └─CNBlock: 3-44                     4,763,136\n",
       "├─AdaptiveAvgPool2d: 1-2                      --\n",
       "├─Sequential: 1-3                             --\n",
       "│    └─LayerNorm2d: 2-9                       1,536\n",
       "│    └─Flatten: 2-10                          --\n",
       "│    └─Linear: 2-11                           6,152\n",
       "======================================================================\n",
       "Total params: 49,460,840\n",
       "Trainable params: 49,460,840\n",
       "Non-trainable params: 0\n",
       "======================================================================"
      ]
     },
     "execution_count": 7,
     "metadata": {},
     "output_type": "execute_result"
    }
   ],
   "source": [
    "model_clf = models.convnext.convnext_small(pretrained=True)\n",
    "model_clf.classifier[2] = nn.Linear(768, 8) \n",
    "model_clf.to(CFG.device)\n",
    "\n",
    " \n",
    "summary(model_clf)"
   ]
  },
  {
   "cell_type": "code",
   "execution_count": 8,
   "id": "b7f671f4",
   "metadata": {
    "execution": {
     "iopub.execute_input": "2022-11-02T12:12:55.300399Z",
     "iopub.status.busy": "2022-11-02T12:12:55.300098Z",
     "iopub.status.idle": "2022-11-02T12:12:55.351513Z",
     "shell.execute_reply": "2022-11-02T12:12:55.350665Z"
    },
    "papermill": {
     "duration": 0.062344,
     "end_time": "2022-11-02T12:12:55.353607",
     "exception": false,
     "start_time": "2022-11-02T12:12:55.291263",
     "status": "completed"
    },
    "tags": []
   },
   "outputs": [],
   "source": [
    "def compute_recall_score(imgs,labels,model):\n",
    "    model.eval()\n",
    "    imgs = imgs.to(CFG.device)\n",
    "    pred = model(imgs)\n",
    "\n",
    "    pred_numpy = pred.cpu().detach().numpy()\n",
    "    valid_predicts=[]\n",
    "    for class_obj in pred_numpy:\n",
    "          index, max_value = max(enumerate(class_obj), key=lambda i_v: i_v[1])\n",
    "          valid_predicts.append(index)\n",
    "\n",
    "    return recall_score(labels.cpu().detach().numpy(), valid_predicts, average = \"macro\")\n",
    "\n",
    "\n",
    "class LightNPairModel(pl.LightningModule):\n",
    "    def __init__(self, model,  lr=0.0001):\n",
    "        super(LightNPairModel, self).__init__()\n",
    "        self.model = model\n",
    "        self.criterion = torch.nn.CrossEntropyLoss()\n",
    "        self.lr = lr\n",
    "\n",
    "    def forward(self, x, label=False, *args, **kwargs):\n",
    "        return self.model(x[0])\n",
    "\n",
    "    def configure_optimizers(self):\n",
    "        optimizer, scheduler = choose_configure_optimizers(CFG,self.model)\n",
    "        self.optimizer = optimizer\n",
    "        return [self.optimizer],[scheduler]\n",
    "\n",
    "    \n",
    "    def training_step(self, batch, batch_idx):\n",
    "        images = batch[0]\n",
    "        labels = batch[1]\n",
    "        embedding = self.model(images)\n",
    "        loss = self.criterion(embedding, labels)\n",
    "        self.log('train_loss', loss)\n",
    "        self.log('lr', self.optimizer.param_groups[0]['lr'])\n",
    "        return loss\n",
    "    \n",
    "    def validation_step(self, batch, batch_idx):\n",
    "        images = batch[0]\n",
    "        labels = batch[1]\n",
    "        embedding = self.model(images)\n",
    "        loss = self.criterion(embedding, labels)\n",
    "        score = compute_recall_score(images,labels,self.model)\n",
    "        self.log('valid_loss', loss)    \n",
    "        self.log('valid_score', score)   \n",
    "        return loss\n",
    "    \n",
    "#     def validation_epoch_end(self, validation_step_outputs):\n",
    "        \n",
    "# #         image_array = image_map(self.path_images,self.model,show=False, save=False) \n",
    "# #         self.logger.experiment.log({\"image\": [wandb.Image(image_array)]})\n",
    "#         self.log('valid_score',  compute_recall_score(valid_loader,model_clf))    \n",
    "        \n",
    "lit_model = LightNPairModel(model_clf, lr = CFG.lr)"
   ]
  },
  {
   "cell_type": "code",
   "execution_count": 9,
   "id": "a39f0f2d",
   "metadata": {
    "execution": {
     "iopub.execute_input": "2022-11-02T12:12:55.368224Z",
     "iopub.status.busy": "2022-11-02T12:12:55.367957Z",
     "iopub.status.idle": "2022-11-02T12:13:04.310128Z",
     "shell.execute_reply": "2022-11-02T12:13:04.308533Z"
    },
    "papermill": {
     "duration": 8.953437,
     "end_time": "2022-11-02T12:13:04.313820",
     "exception": false,
     "start_time": "2022-11-02T12:12:55.360383",
     "status": "completed"
    },
    "tags": []
   },
   "outputs": [
    {
     "name": "stderr",
     "output_type": "stream",
     "text": [
      "\u001b[34m\u001b[1mwandb\u001b[0m: W&B API key is configured. Use \u001b[1m`wandb login --relogin`\u001b[0m to force relogin\n",
      "\u001b[34m\u001b[1mwandb\u001b[0m: \u001b[33mWARNING\u001b[0m If you're specifying your api key in code, ensure this code is not shared publicly.\n",
      "\u001b[34m\u001b[1mwandb\u001b[0m: \u001b[33mWARNING\u001b[0m Consider setting the WANDB_API_KEY environment variable, or running `wandb login` from the command line.\n",
      "\u001b[34m\u001b[1mwandb\u001b[0m: Appending key for api.wandb.ai to your netrc file: /root/.netrc\n",
      "\u001b[34m\u001b[1mwandb\u001b[0m: Currently logged in as: \u001b[33mvladsmirn\u001b[0m (\u001b[33mvladsmirn_\u001b[0m). Use \u001b[1m`wandb login --relogin`\u001b[0m to force relogin\n"
     ]
    },
    {
     "data": {
      "text/html": [
       "wandb version 0.13.4 is available!  To upgrade, please run:\n",
       " $ pip install wandb --upgrade"
      ],
      "text/plain": [
       "<IPython.core.display.HTML object>"
      ]
     },
     "metadata": {},
     "output_type": "display_data"
    },
    {
     "data": {
      "text/html": [
       "Tracking run with wandb version 0.12.21"
      ],
      "text/plain": [
       "<IPython.core.display.HTML object>"
      ]
     },
     "metadata": {},
     "output_type": "display_data"
    },
    {
     "data": {
      "text/html": [
       "Run data is saved locally in <code>/kaggle/working/wandb/run-20221102_121258-dryiu4tv</code>"
      ],
      "text/plain": [
       "<IPython.core.display.HTML object>"
      ]
     },
     "metadata": {},
     "output_type": "display_data"
    },
    {
     "data": {
      "text/html": [
       "Syncing run <strong><a href=\"https://wandb.ai/vladsmirn_/construction_equipment/runs/dryiu4tv\" target=\"_blank\">ethereal-water-113</a></strong> to <a href=\"https://wandb.ai/vladsmirn_/construction_equipment\" target=\"_blank\">Weights & Biases</a> (<a href=\"https://wandb.me/run\" target=\"_blank\">docs</a>)<br/>"
      ],
      "text/plain": [
       "<IPython.core.display.HTML object>"
      ]
     },
     "metadata": {},
     "output_type": "display_data"
    },
    {
     "name": "stderr",
     "output_type": "stream",
     "text": [
      "/opt/conda/lib/python3.7/site-packages/pytorch_lightning/loggers/wandb.py:353: UserWarning: There is a wandb run already in progress and newly created instances of `WandbLogger` will reuse this run. If this is not desired, call `wandb.finish()` before instantiating `WandbLogger`.\n",
      "  \"There is a wandb run already in progress and newly created instances of `WandbLogger` will reuse\"\n"
     ]
    }
   ],
   "source": [
    "def run_wandb(wandb_api_key, cfg):\n",
    "    wandb.require(experiment=\"service\")\n",
    "    wandb.login(key=wandb_api_key)\n",
    "    _cfg = cfg() \n",
    "    cfg_wandb = dict((name, getattr(_cfg, name)) for name in dir(_cfg) if not name.startswith('__'))\n",
    "    \n",
    "    if hasattr(cfg, 'wandb_resume_id') and cfg.wandb_resume_id :\n",
    "        run = wandb.init(project=cfg.wandb_project, \n",
    "                   entity=cfg.wandb_entity, \n",
    "                   id=cfg.wandb_resume_id, \n",
    "                   resume=\"allow\", \n",
    "                   config=cfg_wandb)\n",
    "    else: \n",
    "        run = wandb.init(project=cfg.wandb_project, \n",
    "                   entity=cfg.wandb_entity, \n",
    "                   settings=wandb.Settings(start_method=\"fork\"), \n",
    "                   config=cfg_wandb,\n",
    "                   resume=\"allow\",\n",
    "                   id=wandb.util.generate_id())\n",
    "        \n",
    "    model_logger = WandbLogger(project=cfg.wandb_project, log_model='all')\n",
    "    \n",
    "    return model_logger,run\n",
    "\n",
    "from kaggle_secrets import UserSecretsClient\n",
    "user_secrets = UserSecretsClient()\n",
    "model_logger, _ = run_wandb(user_secrets.get_secret(\"WANDB_API_KEY\"), CFG)"
   ]
  },
  {
   "cell_type": "code",
   "execution_count": 10,
   "id": "0a53acec",
   "metadata": {
    "execution": {
     "iopub.execute_input": "2022-11-02T12:13:04.338581Z",
     "iopub.status.busy": "2022-11-02T12:13:04.338208Z",
     "iopub.status.idle": "2022-11-02T12:13:05.047934Z",
     "shell.execute_reply": "2022-11-02T12:13:05.046668Z"
    },
    "papermill": {
     "duration": 0.7251,
     "end_time": "2022-11-02T12:13:05.051135",
     "exception": false,
     "start_time": "2022-11-02T12:13:04.326035",
     "status": "completed"
    },
    "tags": []
   },
   "outputs": [
    {
     "name": "stderr",
     "output_type": "stream",
     "text": [
      "/opt/conda/lib/python3.7/site-packages/pytorch_lightning/trainer/connectors/accelerator_connector.py:448: LightningDeprecationWarning: Setting `Trainer(gpus=[0])` is deprecated in v1.7 and will be removed in v2.0. Please use `Trainer(accelerator='gpu', devices=[0])` instead.\n",
      "  f\"Setting `Trainer(gpus={gpus!r})` is deprecated in v1.7 and will be removed\"\n"
     ]
    }
   ],
   "source": [
    "checkpoint_callback = ModelCheckpoint(monitor='valid_score',\n",
    "#                                       save_top_k=1,\n",
    "                                      save_weights_only=True,\n",
    "                                      verbose=False,\n",
    "                                      mode='max')\n",
    "\n",
    "if torch.cuda.is_available() : \n",
    "    trainer = Trainer(\n",
    "        max_epochs=CFG.num_epochs,\n",
    "        gpus=[0],\n",
    "        callbacks=[checkpoint_callback], \n",
    "        logger=model_logger,\n",
    "        log_every_n_steps = 1 \n",
    "    )\n",
    "else :\n",
    "    trainer = Trainer(\n",
    "        max_epochs=CFG.num_epochs,\n",
    "        callbacks=[checkpoint_callback], \n",
    "        logger=model_logger,\n",
    "        log_every_n_steps = 1 \n",
    "    )"
   ]
  },
  {
   "cell_type": "code",
   "execution_count": 11,
   "id": "11ebdf61",
   "metadata": {
    "execution": {
     "iopub.execute_input": "2022-11-02T12:13:05.077282Z",
     "iopub.status.busy": "2022-11-02T12:13:05.076900Z",
     "iopub.status.idle": "2022-11-02T12:13:05.082476Z",
     "shell.execute_reply": "2022-11-02T12:13:05.081624Z"
    },
    "papermill": {
     "duration": 0.023108,
     "end_time": "2022-11-02T12:13:05.086877",
     "exception": false,
     "start_time": "2022-11-02T12:13:05.063769",
     "status": "completed"
    },
    "tags": []
   },
   "outputs": [],
   "source": [
    "# trainer.fit(lit_model, train_dataloaders=train_loader, val_dataloaders=valid_loader)\n",
    " "
   ]
  },
  {
   "cell_type": "markdown",
   "id": "8426d275",
   "metadata": {
    "papermill": {
     "duration": 0.017267,
     "end_time": "2022-11-02T12:13:05.115542",
     "exception": false,
     "start_time": "2022-11-02T12:13:05.098275",
     "status": "completed"
    },
    "tags": []
   },
   "source": [
    "## Предсказание "
   ]
  },
  {
   "cell_type": "code",
   "execution_count": 12,
   "id": "b5da7469",
   "metadata": {
    "execution": {
     "iopub.execute_input": "2022-11-02T12:13:05.139891Z",
     "iopub.status.busy": "2022-11-02T12:13:05.139550Z",
     "iopub.status.idle": "2022-11-02T12:13:05.145677Z",
     "shell.execute_reply": "2022-11-02T12:13:05.144778Z"
    },
    "papermill": {
     "duration": 0.023101,
     "end_time": "2022-11-02T12:13:05.150084",
     "exception": false,
     "start_time": "2022-11-02T12:13:05.126983",
     "status": "completed"
    },
    "tags": []
   },
   "outputs": [],
   "source": [
    "# artifacts = [\"vladsmirn_/construction_equipment/model-3b6ghnoz:v9\", #mild-bee-60\n",
    "#              \"vladsmirn_/construction_equipment/model-18u6rsng:v8\", #eerie-vampire-94\n",
    "#              \"vladsmirn_/construction_equipment/model-2ut170pm:v10\",#paranormal-phantom-96\n",
    "#              \"vladsmirn_/construction_equipment/model-1k02nzr1:v7\", #haunted-seance-93\n",
    "#              \"vladsmirn_/construction_equipment/model-1if96ysv:v13\",#valiant-durian-66\n",
    "#             ]\n",
    "\n",
    "# _, run = run_wandb(user_secrets.get_secret(\"WANDB_API_KEY\"), CFG)\n",
    "# # model_clf = classification_construction(model_clip)\n",
    "# artifact = run.use_artifact('vladsmirn_/construction_equipment/model-d7519212:v7', type='model')\n",
    "# artifact_dir = artifact.download()\n",
    "# checkpoint =   os.path.join(artifact_dir, \"model.ckpt\" )\n",
    "\n",
    "# from collections import OrderedDict\n",
    "# state_dict = torch.load(checkpoint,map_location ='cpu')['state_dict']\n",
    "# new_state_dict = OrderedDict()\n",
    "# for k, v in state_dict.items():\n",
    "#     name = k[6:]  \n",
    "#     new_state_dict[name] = v\n",
    "\n",
    "# model_clf.load_state_dict(new_state_dict)\n",
    "\n",
    " "
   ]
  },
  {
   "cell_type": "code",
   "execution_count": 13,
   "id": "810a535a",
   "metadata": {
    "execution": {
     "iopub.execute_input": "2022-11-02T12:13:05.173633Z",
     "iopub.status.busy": "2022-11-02T12:13:05.173313Z",
     "iopub.status.idle": "2022-11-02T12:13:46.085867Z",
     "shell.execute_reply": "2022-11-02T12:13:46.084908Z"
    },
    "papermill": {
     "duration": 40.9276,
     "end_time": "2022-11-02T12:13:46.088862",
     "exception": false,
     "start_time": "2022-11-02T12:13:05.161262",
     "status": "completed"
    },
    "tags": []
   },
   "outputs": [
    {
     "name": "stderr",
     "output_type": "stream",
     "text": [
      "\u001b[34m\u001b[1mwandb\u001b[0m: \u001b[33mWARNING\u001b[0m Calling wandb.login() after wandb.init() has no effect.\n"
     ]
    },
    {
     "data": {
      "text/html": [
       "Finishing last run (ID:dryiu4tv) before initializing another..."
      ],
      "text/plain": [
       "<IPython.core.display.HTML object>"
      ]
     },
     "metadata": {},
     "output_type": "display_data"
    },
    {
     "data": {
      "text/html": [
       "Waiting for W&B process to finish... <strong style=\"color:green\">(success).</strong>"
      ],
      "text/plain": [
       "<IPython.core.display.HTML object>"
      ]
     },
     "metadata": {},
     "output_type": "display_data"
    },
    {
     "data": {
      "application/vnd.jupyter.widget-view+json": {
       "model_id": "695b8e60e9d94c4197fdf98638fddbe2",
       "version_major": 2,
       "version_minor": 0
      },
      "text/plain": [
       "VBox(children=(Label(value='0.000 MB of 0.000 MB uploaded (0.000 MB deduped)\\r'), FloatProgress(value=0.0, max…"
      ]
     },
     "metadata": {},
     "output_type": "display_data"
    },
    {
     "data": {
      "text/html": [
       "Synced <strong style=\"color:#cdcd00\">ethereal-water-113</strong>: <a href=\"https://wandb.ai/vladsmirn_/construction_equipment/runs/dryiu4tv\" target=\"_blank\">https://wandb.ai/vladsmirn_/construction_equipment/runs/dryiu4tv</a><br/>Synced 6 W&B file(s), 0 media file(s), 0 artifact file(s) and 0 other file(s)"
      ],
      "text/plain": [
       "<IPython.core.display.HTML object>"
      ]
     },
     "metadata": {},
     "output_type": "display_data"
    },
    {
     "data": {
      "text/html": [
       "Find logs at: <code>./wandb/run-20221102_121258-dryiu4tv/logs</code>"
      ],
      "text/plain": [
       "<IPython.core.display.HTML object>"
      ]
     },
     "metadata": {},
     "output_type": "display_data"
    },
    {
     "data": {
      "text/html": [
       "Successfully finished last run (ID:dryiu4tv). Initializing new run:<br/>"
      ],
      "text/plain": [
       "<IPython.core.display.HTML object>"
      ]
     },
     "metadata": {},
     "output_type": "display_data"
    },
    {
     "data": {
      "text/html": [
       "wandb version 0.13.4 is available!  To upgrade, please run:\n",
       " $ pip install wandb --upgrade"
      ],
      "text/plain": [
       "<IPython.core.display.HTML object>"
      ]
     },
     "metadata": {},
     "output_type": "display_data"
    },
    {
     "data": {
      "text/html": [
       "Tracking run with wandb version 0.12.21"
      ],
      "text/plain": [
       "<IPython.core.display.HTML object>"
      ]
     },
     "metadata": {},
     "output_type": "display_data"
    },
    {
     "data": {
      "text/html": [
       "Run data is saved locally in <code>/kaggle/working/wandb/run-20221102_121305-2tgdlgkd</code>"
      ],
      "text/plain": [
       "<IPython.core.display.HTML object>"
      ]
     },
     "metadata": {},
     "output_type": "display_data"
    },
    {
     "data": {
      "text/html": [
       "Syncing run <strong><a href=\"https://wandb.ai/vladsmirn_/construction_equipment/runs/2tgdlgkd\" target=\"_blank\">astral-dragon-114</a></strong> to <a href=\"https://wandb.ai/vladsmirn_/construction_equipment\" target=\"_blank\">Weights & Biases</a> (<a href=\"https://wandb.me/run\" target=\"_blank\">docs</a>)<br/>"
      ],
      "text/plain": [
       "<IPython.core.display.HTML object>"
      ]
     },
     "metadata": {},
     "output_type": "display_data"
    }
   ],
   "source": [
    "_, run = run_wandb(user_secrets.get_secret(\"WANDB_API_KEY\"), CFG)"
   ]
  },
  {
   "cell_type": "code",
   "execution_count": 14,
   "id": "77e30a66",
   "metadata": {
    "execution": {
     "iopub.execute_input": "2022-11-02T12:13:46.116541Z",
     "iopub.status.busy": "2022-11-02T12:13:46.116097Z",
     "iopub.status.idle": "2022-11-02T12:13:46.148420Z",
     "shell.execute_reply": "2022-11-02T12:13:46.147605Z"
    },
    "papermill": {
     "duration": 0.048694,
     "end_time": "2022-11-02T12:13:46.150865",
     "exception": false,
     "start_time": "2022-11-02T12:13:46.102171",
     "status": "completed"
    },
    "tags": []
   },
   "outputs": [],
   "source": [
    "test_df = pd.read_csv(PATH_TEST)\n",
    "test_df[\"path\"] = test_df[\"ID_img\"].apply(lambda image_name : f'{DIR_TEST}{image_name}')\n",
    "test_df = test_df.drop([\"class\"], axis = 1)\n",
    "\n",
    "class TestImageDataset(Dataset):\n",
    "    def __init__(self, data_df, transform=None):\n",
    "        self.data_df = data_df\n",
    "        self.transform = transform\n",
    "\n",
    "    def __getitem__(self, idx):\n",
    "        image_path = self.data_df.iloc[idx]['path']\n",
    "        image = cv2.imread(image_path)\n",
    "        image = cv2.cvtColor(image, cv2.COLOR_BGR2RGB)\n",
    "        image = self.transform(image=image)['image'] \n",
    " \n",
    "        \n",
    "        return image\n",
    "    \n",
    "    def __len__(self):\n",
    "        return len(self.data_df)\n",
    "    \n",
    "test_dataset = TestImageDataset(test_df,get_transform(\"train\",CFG.img_size))"
   ]
  },
  {
   "cell_type": "code",
   "execution_count": 15,
   "id": "cab51753",
   "metadata": {
    "execution": {
     "iopub.execute_input": "2022-11-02T12:13:46.178004Z",
     "iopub.status.busy": "2022-11-02T12:13:46.177575Z",
     "iopub.status.idle": "2022-11-02T12:13:46.182603Z",
     "shell.execute_reply": "2022-11-02T12:13:46.181725Z"
    },
    "papermill": {
     "duration": 0.022727,
     "end_time": "2022-11-02T12:13:46.186608",
     "exception": false,
     "start_time": "2022-11-02T12:13:46.163881",
     "status": "completed"
    },
    "tags": []
   },
   "outputs": [],
   "source": [
    "test_loader = torch.utils.data.DataLoader(dataset=test_dataset,\n",
    "                                           batch_size=1)"
   ]
  },
  {
   "cell_type": "code",
   "execution_count": 16,
   "id": "ec58c971",
   "metadata": {
    "execution": {
     "iopub.execute_input": "2022-11-02T12:13:46.214040Z",
     "iopub.status.busy": "2022-11-02T12:13:46.213059Z",
     "iopub.status.idle": "2022-11-02T12:13:46.226516Z",
     "shell.execute_reply": "2022-11-02T12:13:46.225645Z"
    },
    "papermill": {
     "duration": 0.029388,
     "end_time": "2022-11-02T12:13:46.229049",
     "exception": false,
     "start_time": "2022-11-02T12:13:46.199661",
     "status": "completed"
    },
    "tags": []
   },
   "outputs": [],
   "source": [
    "def run_model(loader,model):\n",
    "    model.eval()\n",
    "    predicts = []\n",
    "    model.to(CFG.device)\n",
    "    for imgs in tqdm(loader):   \n",
    "        imgs = imgs.to(CFG.device)\n",
    "        pred = model(imgs)\n",
    "        prob = Categorical(logits=pred).probs.cpu().detach().tolist();\n",
    "        predicts.extend(prob)\n",
    "    return predicts\n",
    "\n",
    "def get_model():\n",
    "    model = models.convnext.convnext_small(pretrained=True)\n",
    "    model.classifier[2] = nn.Linear(768, 8) \n",
    "    model.to(CFG.device)\n",
    "    return model\n",
    "\n",
    "def download_model_wandb(path_artifact,model,run):\n",
    "    artifact = run.use_artifact(path_artifact, type='model')\n",
    "    artifact_dir = artifact.download()\n",
    "    checkpoint = os.path.join(artifact_dir, \"model.ckpt\")\n",
    "    from collections import OrderedDict\n",
    "    state_dict = torch.load(checkpoint,map_location ='cpu')['state_dict']\n",
    "    new_state_dict = OrderedDict()\n",
    "    for k, v in state_dict.items():\n",
    "        name = k[6:]  \n",
    "        new_state_dict[name] = v\n",
    "    model.load_state_dict(new_state_dict)\n",
    "    return model "
   ]
  },
  {
   "cell_type": "code",
   "execution_count": 17,
   "id": "238ab626",
   "metadata": {
    "execution": {
     "iopub.execute_input": "2022-11-02T12:13:46.256154Z",
     "iopub.status.busy": "2022-11-02T12:13:46.255731Z",
     "iopub.status.idle": "2022-11-02T12:13:46.260579Z",
     "shell.execute_reply": "2022-11-02T12:13:46.259688Z"
    },
    "papermill": {
     "duration": 0.022705,
     "end_time": "2022-11-02T12:13:46.264655",
     "exception": false,
     "start_time": "2022-11-02T12:13:46.241950",
     "status": "completed"
    },
    "tags": []
   },
   "outputs": [],
   "source": [
    "from torch.distributions import Categorical"
   ]
  },
  {
   "cell_type": "code",
   "execution_count": 18,
   "id": "2685d0ba",
   "metadata": {
    "execution": {
     "iopub.execute_input": "2022-11-02T12:13:46.291138Z",
     "iopub.status.busy": "2022-11-02T12:13:46.290718Z",
     "iopub.status.idle": "2022-11-02T12:29:55.709182Z",
     "shell.execute_reply": "2022-11-02T12:29:55.707904Z"
    },
    "papermill": {
     "duration": 969.433993,
     "end_time": "2022-11-02T12:29:55.711243",
     "exception": false,
     "start_time": "2022-11-02T12:13:46.277250",
     "status": "completed"
    },
    "tags": []
   },
   "outputs": [
    {
     "name": "stderr",
     "output_type": "stream",
     "text": [
      "\u001b[34m\u001b[1mwandb\u001b[0m: Downloading large artifact model-3b6ghnoz:v9, 188.80MB. 1 files... Done. 0:0:3.2\n",
      "100%|██████████| 2138/2138 [01:23<00:00, 25.46it/s]\n",
      "\u001b[34m\u001b[1mwandb\u001b[0m: Downloading large artifact model-18u6rsng:v8, 188.80MB. 1 files... Done. 0:0:2.9\n",
      "100%|██████████| 2138/2138 [01:00<00:00, 35.33it/s]\n",
      "\u001b[34m\u001b[1mwandb\u001b[0m: Downloading large artifact model-2ut170pm:v10, 188.80MB. 1 files... Done. 0:0:2.4\n",
      "100%|██████████| 2138/2138 [01:01<00:00, 34.78it/s]\n",
      "\u001b[34m\u001b[1mwandb\u001b[0m: Downloading large artifact model-1k02nzr1:v7, 188.80MB. 1 files... Done. 0:0:2.5\n",
      "100%|██████████| 2138/2138 [01:00<00:00, 35.07it/s]\n",
      "\u001b[34m\u001b[1mwandb\u001b[0m: Downloading large artifact model-1if96ysv:v13, 188.80MB. 1 files... Done. 0:0:2.5\n",
      "100%|██████████| 2138/2138 [01:01<00:00, 34.71it/s]\n",
      "\u001b[34m\u001b[1mwandb\u001b[0m: Downloading large artifact model-3b6ghnoz:v9, 188.80MB. 1 files... Done. 0:0:0.1\n",
      "100%|██████████| 2138/2138 [01:00<00:00, 35.19it/s]\n",
      "\u001b[34m\u001b[1mwandb\u001b[0m: Downloading large artifact model-18u6rsng:v8, 188.80MB. 1 files... Done. 0:0:0.1\n",
      "100%|██████████| 2138/2138 [01:00<00:00, 35.14it/s]\n",
      "\u001b[34m\u001b[1mwandb\u001b[0m: Downloading large artifact model-2ut170pm:v10, 188.80MB. 1 files... Done. 0:0:0.1\n",
      "100%|██████████| 2138/2138 [01:01<00:00, 35.02it/s]\n",
      "\u001b[34m\u001b[1mwandb\u001b[0m: Downloading large artifact model-1k02nzr1:v7, 188.80MB. 1 files... Done. 0:0:0.1\n",
      "100%|██████████| 2138/2138 [01:00<00:00, 35.19it/s]\n",
      "\u001b[34m\u001b[1mwandb\u001b[0m: Downloading large artifact model-1if96ysv:v13, 188.80MB. 1 files... Done. 0:0:0.1\n",
      "100%|██████████| 2138/2138 [01:00<00:00, 35.36it/s]\n",
      "\u001b[34m\u001b[1mwandb\u001b[0m: Downloading large artifact model-3b6ghnoz:v9, 188.80MB. 1 files... Done. 0:0:0.1\n",
      "100%|██████████| 2138/2138 [01:01<00:00, 34.83it/s]\n",
      "\u001b[34m\u001b[1mwandb\u001b[0m: Downloading large artifact model-18u6rsng:v8, 188.80MB. 1 files... Done. 0:0:0.1\n",
      "100%|██████████| 2138/2138 [01:00<00:00, 35.30it/s]\n",
      "\u001b[34m\u001b[1mwandb\u001b[0m: Downloading large artifact model-2ut170pm:v10, 188.80MB. 1 files... Done. 0:0:0.1\n",
      "100%|██████████| 2138/2138 [01:00<00:00, 35.24it/s]\n",
      "\u001b[34m\u001b[1mwandb\u001b[0m: Downloading large artifact model-1k02nzr1:v7, 188.80MB. 1 files... Done. 0:0:0.1\n",
      "100%|██████████| 2138/2138 [01:01<00:00, 34.95it/s]\n",
      "\u001b[34m\u001b[1mwandb\u001b[0m: Downloading large artifact model-1if96ysv:v13, 188.80MB. 1 files... Done. 0:0:0.1\n",
      "100%|██████████| 2138/2138 [01:00<00:00, 35.20it/s]\n"
     ]
    }
   ],
   "source": [
    "artifacts = [\"vladsmirn_/construction_equipment/model-3b6ghnoz:v9\", #mild-bee-60\n",
    "             \"vladsmirn_/construction_equipment/model-18u6rsng:v8\", #eerie-vampire-94\n",
    "             \"vladsmirn_/construction_equipment/model-2ut170pm:v10\",#paranormal-phantom-96\n",
    "             \"vladsmirn_/construction_equipment/model-1k02nzr1:v7\", #haunted-seance-93\n",
    "             \"vladsmirn_/construction_equipment/model-1if96ysv:v13\",#valiant-durian-66\n",
    "             \n",
    "             \"vladsmirn_/construction_equipment/model-3b6ghnoz:v9\", #mild-bee-60\n",
    "             \"vladsmirn_/construction_equipment/model-18u6rsng:v8\", #eerie-vampire-94\n",
    "             \"vladsmirn_/construction_equipment/model-2ut170pm:v10\",#paranormal-phantom-96\n",
    "             \"vladsmirn_/construction_equipment/model-1k02nzr1:v7\", #haunted-seance-93\n",
    "             \"vladsmirn_/construction_equipment/model-1if96ysv:v13\",#valiant-durian-66\n",
    "             \n",
    "             \"vladsmirn_/construction_equipment/model-3b6ghnoz:v9\", #mild-bee-60\n",
    "             \"vladsmirn_/construction_equipment/model-18u6rsng:v8\", #eerie-vampire-94\n",
    "             \"vladsmirn_/construction_equipment/model-2ut170pm:v10\",#paranormal-phantom-96\n",
    "             \"vladsmirn_/construction_equipment/model-1k02nzr1:v7\", #haunted-seance-93\n",
    "             \"vladsmirn_/construction_equipment/model-1if96ysv:v13\",#valiant-durian-66\n",
    "            ]\n",
    "\n",
    "model = get_model()\n",
    "first_run = True\n",
    "for artifact in artifacts:\n",
    "    model = download_model_wandb(artifact,model,run)\n",
    "    if first_run == True:\n",
    "        predict = np.array(run_model(test_loader,model))\n",
    "        first_run = False\n",
    "    else:\n",
    "        predict += np.array(run_model(test_loader,model))\n",
    "predict /= len(artifacts)\n",
    "predict = np.argmax(predict,axis=1)\n",
    "predict = predict.tolist()\n"
   ]
  },
  {
   "cell_type": "code",
   "execution_count": 19,
   "id": "62ce4cc6",
   "metadata": {
    "execution": {
     "iopub.execute_input": "2022-11-02T12:29:56.589877Z",
     "iopub.status.busy": "2022-11-02T12:29:56.589513Z",
     "iopub.status.idle": "2022-11-02T12:29:56.601974Z",
     "shell.execute_reply": "2022-11-02T12:29:56.601114Z"
    },
    "papermill": {
     "duration": 0.47011,
     "end_time": "2022-11-02T12:29:56.604097",
     "exception": false,
     "start_time": "2022-11-02T12:29:56.133987",
     "status": "completed"
    },
    "tags": []
   },
   "outputs": [],
   "source": [
    "test_df[\"class\"] = predict\n",
    "test_df = test_df.drop([\"path\"], axis = 1)\n",
    "test_df.head()\n",
    "\n",
    "test_df.to_csv(\"submit.csv\", index=False)"
   ]
  }
 ],
 "metadata": {
  "kernelspec": {
   "display_name": "Python 3",
   "language": "python",
   "name": "python3"
  },
  "language_info": {
   "codemirror_mode": {
    "name": "ipython",
    "version": 3
   },
   "file_extension": ".py",
   "mimetype": "text/x-python",
   "name": "python",
   "nbconvert_exporter": "python",
   "pygments_lexer": "ipython3",
   "version": "3.7.12"
  },
  "papermill": {
   "default_parameters": {},
   "duration": 1078.457667,
   "end_time": "2022-11-02T12:29:59.741043",
   "environment_variables": {},
   "exception": null,
   "input_path": "__notebook__.ipynb",
   "output_path": "__notebook__.ipynb",
   "parameters": {},
   "start_time": "2022-11-02T12:12:01.283376",
   "version": "2.3.4"
  },
  "widgets": {
   "application/vnd.jupyter.widget-state+json": {
    "state": {
     "0241a7f8df57480bb0c186fcfcad79b6": {
      "model_module": "@jupyter-widgets/controls",
      "model_module_version": "1.5.0",
      "model_name": "HTMLModel",
      "state": {
       "_dom_classes": [],
       "_model_module": "@jupyter-widgets/controls",
       "_model_module_version": "1.5.0",
       "_model_name": "HTMLModel",
       "_view_count": null,
       "_view_module": "@jupyter-widgets/controls",
       "_view_module_version": "1.5.0",
       "_view_name": "HTMLView",
       "description": "",
       "description_tooltip": null,
       "layout": "IPY_MODEL_d62e96e2fcb849f78900aab150a508a9",
       "placeholder": "​",
       "style": "IPY_MODEL_ae9e9094494a4dcebf3250a62b1935ae",
       "value": "100%"
      }
     },
     "0975449c96974b49aab48f7f0497b6d3": {
      "model_module": "@jupyter-widgets/base",
      "model_module_version": "1.2.0",
      "model_name": "LayoutModel",
      "state": {
       "_model_module": "@jupyter-widgets/base",
       "_model_module_version": "1.2.0",
       "_model_name": "LayoutModel",
       "_view_count": null,
       "_view_module": "@jupyter-widgets/base",
       "_view_module_version": "1.2.0",
       "_view_name": "LayoutView",
       "align_content": null,
       "align_items": null,
       "align_self": null,
       "border": null,
       "bottom": null,
       "display": null,
       "flex": null,
       "flex_flow": null,
       "grid_area": null,
       "grid_auto_columns": null,
       "grid_auto_flow": null,
       "grid_auto_rows": null,
       "grid_column": null,
       "grid_gap": null,
       "grid_row": null,
       "grid_template_areas": null,
       "grid_template_columns": null,
       "grid_template_rows": null,
       "height": null,
       "justify_content": null,
       "justify_items": null,
       "left": null,
       "margin": null,
       "max_height": null,
       "max_width": null,
       "min_height": null,
       "min_width": null,
       "object_fit": null,
       "object_position": null,
       "order": null,
       "overflow": null,
       "overflow_x": null,
       "overflow_y": null,
       "padding": null,
       "right": null,
       "top": null,
       "visibility": null,
       "width": null
      }
     },
     "1832a1510eea499baf71eeee6f39e197": {
      "model_module": "@jupyter-widgets/base",
      "model_module_version": "1.2.0",
      "model_name": "LayoutModel",
      "state": {
       "_model_module": "@jupyter-widgets/base",
       "_model_module_version": "1.2.0",
       "_model_name": "LayoutModel",
       "_view_count": null,
       "_view_module": "@jupyter-widgets/base",
       "_view_module_version": "1.2.0",
       "_view_name": "LayoutView",
       "align_content": null,
       "align_items": null,
       "align_self": null,
       "border": null,
       "bottom": null,
       "display": null,
       "flex": null,
       "flex_flow": null,
       "grid_area": null,
       "grid_auto_columns": null,
       "grid_auto_flow": null,
       "grid_auto_rows": null,
       "grid_column": null,
       "grid_gap": null,
       "grid_row": null,
       "grid_template_areas": null,
       "grid_template_columns": null,
       "grid_template_rows": null,
       "height": null,
       "justify_content": null,
       "justify_items": null,
       "left": null,
       "margin": null,
       "max_height": null,
       "max_width": null,
       "min_height": null,
       "min_width": null,
       "object_fit": null,
       "object_position": null,
       "order": null,
       "overflow": null,
       "overflow_x": null,
       "overflow_y": null,
       "padding": null,
       "right": null,
       "top": null,
       "visibility": null,
       "width": null
      }
     },
     "1858bd4e88cb4afeb7b8196eac733393": {
      "model_module": "@jupyter-widgets/base",
      "model_module_version": "1.2.0",
      "model_name": "LayoutModel",
      "state": {
       "_model_module": "@jupyter-widgets/base",
       "_model_module_version": "1.2.0",
       "_model_name": "LayoutModel",
       "_view_count": null,
       "_view_module": "@jupyter-widgets/base",
       "_view_module_version": "1.2.0",
       "_view_name": "LayoutView",
       "align_content": null,
       "align_items": null,
       "align_self": null,
       "border": null,
       "bottom": null,
       "display": null,
       "flex": null,
       "flex_flow": null,
       "grid_area": null,
       "grid_auto_columns": null,
       "grid_auto_flow": null,
       "grid_auto_rows": null,
       "grid_column": null,
       "grid_gap": null,
       "grid_row": null,
       "grid_template_areas": null,
       "grid_template_columns": null,
       "grid_template_rows": null,
       "height": null,
       "justify_content": null,
       "justify_items": null,
       "left": null,
       "margin": null,
       "max_height": null,
       "max_width": null,
       "min_height": null,
       "min_width": null,
       "object_fit": null,
       "object_position": null,
       "order": null,
       "overflow": null,
       "overflow_x": null,
       "overflow_y": null,
       "padding": null,
       "right": null,
       "top": null,
       "visibility": null,
       "width": null
      }
     },
     "1ef8b5bae502408682aa4d0eb5ce9492": {
      "model_module": "@jupyter-widgets/controls",
      "model_module_version": "1.5.0",
      "model_name": "VBoxModel",
      "state": {
       "_dom_classes": [],
       "_model_module": "@jupyter-widgets/controls",
       "_model_module_version": "1.5.0",
       "_model_name": "VBoxModel",
       "_view_count": null,
       "_view_module": "@jupyter-widgets/controls",
       "_view_module_version": "1.5.0",
       "_view_name": "VBoxView",
       "box_style": "",
       "children": [
        "IPY_MODEL_eb5f8cd976404b7b8eb664bae7605a3b",
        "IPY_MODEL_f8960bd820ba485597c48c04f9105a71"
       ],
       "layout": "IPY_MODEL_d0193743a8b04b0bbd9249af945e6035"
      }
     },
     "1f051e1d24904428a2f1b27bb744003c": {
      "model_module": "@jupyter-widgets/base",
      "model_module_version": "1.2.0",
      "model_name": "LayoutModel",
      "state": {
       "_model_module": "@jupyter-widgets/base",
       "_model_module_version": "1.2.0",
       "_model_name": "LayoutModel",
       "_view_count": null,
       "_view_module": "@jupyter-widgets/base",
       "_view_module_version": "1.2.0",
       "_view_name": "LayoutView",
       "align_content": null,
       "align_items": null,
       "align_self": null,
       "border": null,
       "bottom": null,
       "display": null,
       "flex": null,
       "flex_flow": null,
       "grid_area": null,
       "grid_auto_columns": null,
       "grid_auto_flow": null,
       "grid_auto_rows": null,
       "grid_column": null,
       "grid_gap": null,
       "grid_row": null,
       "grid_template_areas": null,
       "grid_template_columns": null,
       "grid_template_rows": null,
       "height": null,
       "justify_content": null,
       "justify_items": null,
       "left": null,
       "margin": null,
       "max_height": null,
       "max_width": null,
       "min_height": null,
       "min_width": null,
       "object_fit": null,
       "object_position": null,
       "order": null,
       "overflow": null,
       "overflow_x": null,
       "overflow_y": null,
       "padding": null,
       "right": null,
       "top": null,
       "visibility": null,
       "width": null
      }
     },
     "2227fe97f0db4b7a9f98b93497c2d558": {
      "model_module": "@jupyter-widgets/base",
      "model_module_version": "1.2.0",
      "model_name": "LayoutModel",
      "state": {
       "_model_module": "@jupyter-widgets/base",
       "_model_module_version": "1.2.0",
       "_model_name": "LayoutModel",
       "_view_count": null,
       "_view_module": "@jupyter-widgets/base",
       "_view_module_version": "1.2.0",
       "_view_name": "LayoutView",
       "align_content": null,
       "align_items": null,
       "align_self": null,
       "border": null,
       "bottom": null,
       "display": null,
       "flex": null,
       "flex_flow": null,
       "grid_area": null,
       "grid_auto_columns": null,
       "grid_auto_flow": null,
       "grid_auto_rows": null,
       "grid_column": null,
       "grid_gap": null,
       "grid_row": null,
       "grid_template_areas": null,
       "grid_template_columns": null,
       "grid_template_rows": null,
       "height": null,
       "justify_content": null,
       "justify_items": null,
       "left": null,
       "margin": null,
       "max_height": null,
       "max_width": null,
       "min_height": null,
       "min_width": null,
       "object_fit": null,
       "object_position": null,
       "order": null,
       "overflow": null,
       "overflow_x": null,
       "overflow_y": null,
       "padding": null,
       "right": null,
       "top": null,
       "visibility": null,
       "width": null
      }
     },
     "2b60940c9361475580e6898a8472cef0": {
      "model_module": "@jupyter-widgets/controls",
      "model_module_version": "1.5.0",
      "model_name": "ProgressStyleModel",
      "state": {
       "_model_module": "@jupyter-widgets/controls",
       "_model_module_version": "1.5.0",
       "_model_name": "ProgressStyleModel",
       "_view_count": null,
       "_view_module": "@jupyter-widgets/base",
       "_view_module_version": "1.2.0",
       "_view_name": "StyleView",
       "bar_color": null,
       "description_width": ""
      }
     },
     "339e55c8771d451489f21e1f765791c4": {
      "model_module": "@jupyter-widgets/controls",
      "model_module_version": "1.5.0",
      "model_name": "DescriptionStyleModel",
      "state": {
       "_model_module": "@jupyter-widgets/controls",
       "_model_module_version": "1.5.0",
       "_model_name": "DescriptionStyleModel",
       "_view_count": null,
       "_view_module": "@jupyter-widgets/base",
       "_view_module_version": "1.2.0",
       "_view_name": "StyleView",
       "description_width": ""
      }
     },
     "40511a15be9242eb9f9a799f7660880f": {
      "model_module": "@jupyter-widgets/base",
      "model_module_version": "1.2.0",
      "model_name": "LayoutModel",
      "state": {
       "_model_module": "@jupyter-widgets/base",
       "_model_module_version": "1.2.0",
       "_model_name": "LayoutModel",
       "_view_count": null,
       "_view_module": "@jupyter-widgets/base",
       "_view_module_version": "1.2.0",
       "_view_name": "LayoutView",
       "align_content": null,
       "align_items": null,
       "align_self": null,
       "border": null,
       "bottom": null,
       "display": null,
       "flex": null,
       "flex_flow": null,
       "grid_area": null,
       "grid_auto_columns": null,
       "grid_auto_flow": null,
       "grid_auto_rows": null,
       "grid_column": null,
       "grid_gap": null,
       "grid_row": null,
       "grid_template_areas": null,
       "grid_template_columns": null,
       "grid_template_rows": null,
       "height": null,
       "justify_content": null,
       "justify_items": null,
       "left": null,
       "margin": null,
       "max_height": null,
       "max_width": null,
       "min_height": null,
       "min_width": null,
       "object_fit": null,
       "object_position": null,
       "order": null,
       "overflow": null,
       "overflow_x": null,
       "overflow_y": null,
       "padding": null,
       "right": null,
       "top": null,
       "visibility": null,
       "width": null
      }
     },
     "4148f3a0806d4cbbb8699e34c92f15a4": {
      "model_module": "@jupyter-widgets/controls",
      "model_module_version": "1.5.0",
      "model_name": "FloatProgressModel",
      "state": {
       "_dom_classes": [],
       "_model_module": "@jupyter-widgets/controls",
       "_model_module_version": "1.5.0",
       "_model_name": "FloatProgressModel",
       "_view_count": null,
       "_view_module": "@jupyter-widgets/controls",
       "_view_module_version": "1.5.0",
       "_view_name": "ProgressView",
       "bar_style": "",
       "description": "",
       "description_tooltip": null,
       "layout": "IPY_MODEL_6e1afbbad7da41cb968e62f6f2baba94",
       "max": 1.0,
       "min": 0.0,
       "orientation": "horizontal",
       "style": "IPY_MODEL_748da709d0a442a1bbf6b41e5d39c123",
       "value": 1.0
      }
     },
     "418ece725a524d4b94f26102aa01c1a8": {
      "model_module": "@jupyter-widgets/controls",
      "model_module_version": "1.5.0",
      "model_name": "HTMLModel",
      "state": {
       "_dom_classes": [],
       "_model_module": "@jupyter-widgets/controls",
       "_model_module_version": "1.5.0",
       "_model_name": "HTMLModel",
       "_view_count": null,
       "_view_module": "@jupyter-widgets/controls",
       "_view_module_version": "1.5.0",
       "_view_name": "HTMLView",
       "description": "",
       "description_tooltip": null,
       "layout": "IPY_MODEL_40511a15be9242eb9f9a799f7660880f",
       "placeholder": "​",
       "style": "IPY_MODEL_339e55c8771d451489f21e1f765791c4",
       "value": " 192M/192M [00:09&lt;00:00, 23.6MB/s]"
      }
     },
     "429ecd1607c54cfb95a8bbdd1f295bb1": {
      "model_module": "@jupyter-widgets/controls",
      "model_module_version": "1.5.0",
      "model_name": "DescriptionStyleModel",
      "state": {
       "_model_module": "@jupyter-widgets/controls",
       "_model_module_version": "1.5.0",
       "_model_name": "DescriptionStyleModel",
       "_view_count": null,
       "_view_module": "@jupyter-widgets/base",
       "_view_module_version": "1.2.0",
       "_view_name": "StyleView",
       "description_width": ""
      }
     },
     "43f1027de4274e7f8acc4983377c5452": {
      "model_module": "@jupyter-widgets/controls",
      "model_module_version": "1.5.0",
      "model_name": "FloatProgressModel",
      "state": {
       "_dom_classes": [],
       "_model_module": "@jupyter-widgets/controls",
       "_model_module_version": "1.5.0",
       "_model_name": "FloatProgressModel",
       "_view_count": null,
       "_view_module": "@jupyter-widgets/controls",
       "_view_module_version": "1.5.0",
       "_view_name": "ProgressView",
       "bar_style": "success",
       "description": "",
       "description_tooltip": null,
       "layout": "IPY_MODEL_6ed9f64d99aa402da4690bf1a2c1ad4e",
       "max": 201014929.0,
       "min": 0.0,
       "orientation": "horizontal",
       "style": "IPY_MODEL_c1fcb30327544d76955c5f8e62636278",
       "value": 201014929.0
      }
     },
     "55db3333b3eb47829b860128a4ea5cb0": {
      "model_module": "@jupyter-widgets/base",
      "model_module_version": "1.2.0",
      "model_name": "LayoutModel",
      "state": {
       "_model_module": "@jupyter-widgets/base",
       "_model_module_version": "1.2.0",
       "_model_name": "LayoutModel",
       "_view_count": null,
       "_view_module": "@jupyter-widgets/base",
       "_view_module_version": "1.2.0",
       "_view_name": "LayoutView",
       "align_content": null,
       "align_items": null,
       "align_self": null,
       "border": null,
       "bottom": null,
       "display": null,
       "flex": null,
       "flex_flow": null,
       "grid_area": null,
       "grid_auto_columns": null,
       "grid_auto_flow": null,
       "grid_auto_rows": null,
       "grid_column": null,
       "grid_gap": null,
       "grid_row": null,
       "grid_template_areas": null,
       "grid_template_columns": null,
       "grid_template_rows": null,
       "height": null,
       "justify_content": null,
       "justify_items": null,
       "left": null,
       "margin": null,
       "max_height": null,
       "max_width": null,
       "min_height": null,
       "min_width": null,
       "object_fit": null,
       "object_position": null,
       "order": null,
       "overflow": null,
       "overflow_x": null,
       "overflow_y": null,
       "padding": null,
       "right": null,
       "top": null,
       "visibility": null,
       "width": null
      }
     },
     "5e7cf5804a8b4f89b2e1e39898ece2e0": {
      "model_module": "@jupyter-widgets/base",
      "model_module_version": "1.2.0",
      "model_name": "LayoutModel",
      "state": {
       "_model_module": "@jupyter-widgets/base",
       "_model_module_version": "1.2.0",
       "_model_name": "LayoutModel",
       "_view_count": null,
       "_view_module": "@jupyter-widgets/base",
       "_view_module_version": "1.2.0",
       "_view_name": "LayoutView",
       "align_content": null,
       "align_items": null,
       "align_self": null,
       "border": null,
       "bottom": null,
       "display": null,
       "flex": null,
       "flex_flow": null,
       "grid_area": null,
       "grid_auto_columns": null,
       "grid_auto_flow": null,
       "grid_auto_rows": null,
       "grid_column": null,
       "grid_gap": null,
       "grid_row": null,
       "grid_template_areas": null,
       "grid_template_columns": null,
       "grid_template_rows": null,
       "height": null,
       "justify_content": null,
       "justify_items": null,
       "left": null,
       "margin": null,
       "max_height": null,
       "max_width": null,
       "min_height": null,
       "min_width": null,
       "object_fit": null,
       "object_position": null,
       "order": null,
       "overflow": null,
       "overflow_x": null,
       "overflow_y": null,
       "padding": null,
       "right": null,
       "top": null,
       "visibility": null,
       "width": null
      }
     },
     "5f72792adb2b4c96a1bb5f9eabdc8b6c": {
      "model_module": "@jupyter-widgets/controls",
      "model_module_version": "1.5.0",
      "model_name": "DescriptionStyleModel",
      "state": {
       "_model_module": "@jupyter-widgets/controls",
       "_model_module_version": "1.5.0",
       "_model_name": "DescriptionStyleModel",
       "_view_count": null,
       "_view_module": "@jupyter-widgets/base",
       "_view_module_version": "1.2.0",
       "_view_name": "StyleView",
       "description_width": ""
      }
     },
     "65cbaab2805b40c1b2144b691df8d2d0": {
      "model_module": "@jupyter-widgets/controls",
      "model_module_version": "1.5.0",
      "model_name": "LabelModel",
      "state": {
       "_dom_classes": [],
       "_model_module": "@jupyter-widgets/controls",
       "_model_module_version": "1.5.0",
       "_model_name": "LabelModel",
       "_view_count": null,
       "_view_module": "@jupyter-widgets/controls",
       "_view_module_version": "1.5.0",
       "_view_name": "LabelView",
       "description": "",
       "description_tooltip": null,
       "layout": "IPY_MODEL_1858bd4e88cb4afeb7b8196eac733393",
       "placeholder": "​",
       "style": "IPY_MODEL_7aafb80ffaf44d04bf291dff3e2b5b18",
       "value": "0.042 MB of 0.042 MB uploaded (0.000 MB deduped)\r"
      }
     },
     "695b8e60e9d94c4197fdf98638fddbe2": {
      "model_module": "@jupyter-widgets/controls",
      "model_module_version": "1.5.0",
      "model_name": "VBoxModel",
      "state": {
       "_dom_classes": [],
       "_model_module": "@jupyter-widgets/controls",
       "_model_module_version": "1.5.0",
       "_model_name": "VBoxModel",
       "_view_count": null,
       "_view_module": "@jupyter-widgets/controls",
       "_view_module_version": "1.5.0",
       "_view_name": "VBoxView",
       "box_style": "",
       "children": [
        "IPY_MODEL_65cbaab2805b40c1b2144b691df8d2d0",
        "IPY_MODEL_4148f3a0806d4cbbb8699e34c92f15a4"
       ],
       "layout": "IPY_MODEL_ab0302ad4b43413ab58807b7f5e9bec9"
      }
     },
     "6e1afbbad7da41cb968e62f6f2baba94": {
      "model_module": "@jupyter-widgets/base",
      "model_module_version": "1.2.0",
      "model_name": "LayoutModel",
      "state": {
       "_model_module": "@jupyter-widgets/base",
       "_model_module_version": "1.2.0",
       "_model_name": "LayoutModel",
       "_view_count": null,
       "_view_module": "@jupyter-widgets/base",
       "_view_module_version": "1.2.0",
       "_view_name": "LayoutView",
       "align_content": null,
       "align_items": null,
       "align_self": null,
       "border": null,
       "bottom": null,
       "display": null,
       "flex": null,
       "flex_flow": null,
       "grid_area": null,
       "grid_auto_columns": null,
       "grid_auto_flow": null,
       "grid_auto_rows": null,
       "grid_column": null,
       "grid_gap": null,
       "grid_row": null,
       "grid_template_areas": null,
       "grid_template_columns": null,
       "grid_template_rows": null,
       "height": null,
       "justify_content": null,
       "justify_items": null,
       "left": null,
       "margin": null,
       "max_height": null,
       "max_width": null,
       "min_height": null,
       "min_width": null,
       "object_fit": null,
       "object_position": null,
       "order": null,
       "overflow": null,
       "overflow_x": null,
       "overflow_y": null,
       "padding": null,
       "right": null,
       "top": null,
       "visibility": null,
       "width": null
      }
     },
     "6ed9f64d99aa402da4690bf1a2c1ad4e": {
      "model_module": "@jupyter-widgets/base",
      "model_module_version": "1.2.0",
      "model_name": "LayoutModel",
      "state": {
       "_model_module": "@jupyter-widgets/base",
       "_model_module_version": "1.2.0",
       "_model_name": "LayoutModel",
       "_view_count": null,
       "_view_module": "@jupyter-widgets/base",
       "_view_module_version": "1.2.0",
       "_view_name": "LayoutView",
       "align_content": null,
       "align_items": null,
       "align_self": null,
       "border": null,
       "bottom": null,
       "display": null,
       "flex": null,
       "flex_flow": null,
       "grid_area": null,
       "grid_auto_columns": null,
       "grid_auto_flow": null,
       "grid_auto_rows": null,
       "grid_column": null,
       "grid_gap": null,
       "grid_row": null,
       "grid_template_areas": null,
       "grid_template_columns": null,
       "grid_template_rows": null,
       "height": null,
       "justify_content": null,
       "justify_items": null,
       "left": null,
       "margin": null,
       "max_height": null,
       "max_width": null,
       "min_height": null,
       "min_width": null,
       "object_fit": null,
       "object_position": null,
       "order": null,
       "overflow": null,
       "overflow_x": null,
       "overflow_y": null,
       "padding": null,
       "right": null,
       "top": null,
       "visibility": null,
       "width": null
      }
     },
     "733a26900a1142e6becc823eeaa52dbb": {
      "model_module": "@jupyter-widgets/controls",
      "model_module_version": "1.5.0",
      "model_name": "HBoxModel",
      "state": {
       "_dom_classes": [],
       "_model_module": "@jupyter-widgets/controls",
       "_model_module_version": "1.5.0",
       "_model_name": "HBoxModel",
       "_view_count": null,
       "_view_module": "@jupyter-widgets/controls",
       "_view_module_version": "1.5.0",
       "_view_name": "HBoxView",
       "box_style": "",
       "children": [
        "IPY_MODEL_0241a7f8df57480bb0c186fcfcad79b6",
        "IPY_MODEL_43f1027de4274e7f8acc4983377c5452",
        "IPY_MODEL_418ece725a524d4b94f26102aa01c1a8"
       ],
       "layout": "IPY_MODEL_1f051e1d24904428a2f1b27bb744003c"
      }
     },
     "748da709d0a442a1bbf6b41e5d39c123": {
      "model_module": "@jupyter-widgets/controls",
      "model_module_version": "1.5.0",
      "model_name": "ProgressStyleModel",
      "state": {
       "_model_module": "@jupyter-widgets/controls",
       "_model_module_version": "1.5.0",
       "_model_name": "ProgressStyleModel",
       "_view_count": null,
       "_view_module": "@jupyter-widgets/base",
       "_view_module_version": "1.2.0",
       "_view_name": "StyleView",
       "bar_color": null,
       "description_width": ""
      }
     },
     "7aafb80ffaf44d04bf291dff3e2b5b18": {
      "model_module": "@jupyter-widgets/controls",
      "model_module_version": "1.5.0",
      "model_name": "DescriptionStyleModel",
      "state": {
       "_model_module": "@jupyter-widgets/controls",
       "_model_module_version": "1.5.0",
       "_model_name": "DescriptionStyleModel",
       "_view_count": null,
       "_view_module": "@jupyter-widgets/base",
       "_view_module_version": "1.2.0",
       "_view_name": "StyleView",
       "description_width": ""
      }
     },
     "93304b56c3cf485a87e5e0675616418c": {
      "model_module": "@jupyter-widgets/controls",
      "model_module_version": "1.5.0",
      "model_name": "VBoxModel",
      "state": {
       "_dom_classes": [],
       "_model_module": "@jupyter-widgets/controls",
       "_model_module_version": "1.5.0",
       "_model_name": "VBoxModel",
       "_view_count": null,
       "_view_module": "@jupyter-widgets/controls",
       "_view_module_version": "1.5.0",
       "_view_name": "VBoxView",
       "box_style": "",
       "children": [
        "IPY_MODEL_f97dc03e2d084610bea1af776c75f389",
        "IPY_MODEL_d66f93ca679547289facb9e825859581"
       ],
       "layout": "IPY_MODEL_fa9c12a405df4cad9a3b7fd7ab022eef"
      }
     },
     "a3bdd6614add44b78f816867bfc1aa92": {
      "model_module": "@jupyter-widgets/controls",
      "model_module_version": "1.5.0",
      "model_name": "ProgressStyleModel",
      "state": {
       "_model_module": "@jupyter-widgets/controls",
       "_model_module_version": "1.5.0",
       "_model_name": "ProgressStyleModel",
       "_view_count": null,
       "_view_module": "@jupyter-widgets/base",
       "_view_module_version": "1.2.0",
       "_view_name": "StyleView",
       "bar_color": null,
       "description_width": ""
      }
     },
     "ab0302ad4b43413ab58807b7f5e9bec9": {
      "model_module": "@jupyter-widgets/base",
      "model_module_version": "1.2.0",
      "model_name": "LayoutModel",
      "state": {
       "_model_module": "@jupyter-widgets/base",
       "_model_module_version": "1.2.0",
       "_model_name": "LayoutModel",
       "_view_count": null,
       "_view_module": "@jupyter-widgets/base",
       "_view_module_version": "1.2.0",
       "_view_name": "LayoutView",
       "align_content": null,
       "align_items": null,
       "align_self": null,
       "border": null,
       "bottom": null,
       "display": null,
       "flex": null,
       "flex_flow": null,
       "grid_area": null,
       "grid_auto_columns": null,
       "grid_auto_flow": null,
       "grid_auto_rows": null,
       "grid_column": null,
       "grid_gap": null,
       "grid_row": null,
       "grid_template_areas": null,
       "grid_template_columns": null,
       "grid_template_rows": null,
       "height": null,
       "justify_content": null,
       "justify_items": null,
       "left": null,
       "margin": null,
       "max_height": null,
       "max_width": null,
       "min_height": null,
       "min_width": null,
       "object_fit": null,
       "object_position": null,
       "order": null,
       "overflow": null,
       "overflow_x": null,
       "overflow_y": null,
       "padding": null,
       "right": null,
       "top": null,
       "visibility": null,
       "width": null
      }
     },
     "ae9e9094494a4dcebf3250a62b1935ae": {
      "model_module": "@jupyter-widgets/controls",
      "model_module_version": "1.5.0",
      "model_name": "DescriptionStyleModel",
      "state": {
       "_model_module": "@jupyter-widgets/controls",
       "_model_module_version": "1.5.0",
       "_model_name": "DescriptionStyleModel",
       "_view_count": null,
       "_view_module": "@jupyter-widgets/base",
       "_view_module_version": "1.2.0",
       "_view_name": "StyleView",
       "description_width": ""
      }
     },
     "b8fd46c72a564747889b753f0fd4be1a": {
      "model_module": "@jupyter-widgets/controls",
      "model_module_version": "1.5.0",
      "model_name": "LabelModel",
      "state": {
       "_dom_classes": [],
       "_model_module": "@jupyter-widgets/controls",
       "_model_module_version": "1.5.0",
       "_model_name": "LabelModel",
       "_view_count": null,
       "_view_module": "@jupyter-widgets/controls",
       "_view_module_version": "1.5.0",
       "_view_name": "LabelView",
       "description": "",
       "description_tooltip": null,
       "layout": "IPY_MODEL_1832a1510eea499baf71eeee6f39e197",
       "placeholder": "​",
       "style": "IPY_MODEL_5f72792adb2b4c96a1bb5f9eabdc8b6c",
       "value": ""
      }
     },
     "c1fcb30327544d76955c5f8e62636278": {
      "model_module": "@jupyter-widgets/controls",
      "model_module_version": "1.5.0",
      "model_name": "ProgressStyleModel",
      "state": {
       "_model_module": "@jupyter-widgets/controls",
       "_model_module_version": "1.5.0",
       "_model_name": "ProgressStyleModel",
       "_view_count": null,
       "_view_module": "@jupyter-widgets/base",
       "_view_module_version": "1.2.0",
       "_view_name": "StyleView",
       "bar_color": null,
       "description_width": ""
      }
     },
     "d011d98be7f74edbaaa4a7ccf35e84ff": {
      "model_module": "@jupyter-widgets/controls",
      "model_module_version": "1.5.0",
      "model_name": "DescriptionStyleModel",
      "state": {
       "_model_module": "@jupyter-widgets/controls",
       "_model_module_version": "1.5.0",
       "_model_name": "DescriptionStyleModel",
       "_view_count": null,
       "_view_module": "@jupyter-widgets/base",
       "_view_module_version": "1.2.0",
       "_view_name": "StyleView",
       "description_width": ""
      }
     },
     "d0193743a8b04b0bbd9249af945e6035": {
      "model_module": "@jupyter-widgets/base",
      "model_module_version": "1.2.0",
      "model_name": "LayoutModel",
      "state": {
       "_model_module": "@jupyter-widgets/base",
       "_model_module_version": "1.2.0",
       "_model_name": "LayoutModel",
       "_view_count": null,
       "_view_module": "@jupyter-widgets/base",
       "_view_module_version": "1.2.0",
       "_view_name": "LayoutView",
       "align_content": null,
       "align_items": null,
       "align_self": null,
       "border": null,
       "bottom": null,
       "display": null,
       "flex": null,
       "flex_flow": null,
       "grid_area": null,
       "grid_auto_columns": null,
       "grid_auto_flow": null,
       "grid_auto_rows": null,
       "grid_column": null,
       "grid_gap": null,
       "grid_row": null,
       "grid_template_areas": null,
       "grid_template_columns": null,
       "grid_template_rows": null,
       "height": null,
       "justify_content": null,
       "justify_items": null,
       "left": null,
       "margin": null,
       "max_height": null,
       "max_width": null,
       "min_height": null,
       "min_width": null,
       "object_fit": null,
       "object_position": null,
       "order": null,
       "overflow": null,
       "overflow_x": null,
       "overflow_y": null,
       "padding": null,
       "right": null,
       "top": null,
       "visibility": null,
       "width": null
      }
     },
     "d57c57a503134d628294913a1504536f": {
      "model_module": "@jupyter-widgets/controls",
      "model_module_version": "1.5.0",
      "model_name": "FloatProgressModel",
      "state": {
       "_dom_classes": [],
       "_model_module": "@jupyter-widgets/controls",
       "_model_module_version": "1.5.0",
       "_model_name": "FloatProgressModel",
       "_view_count": null,
       "_view_module": "@jupyter-widgets/controls",
       "_view_module_version": "1.5.0",
       "_view_name": "ProgressView",
       "bar_style": "",
       "description": "",
       "description_tooltip": null,
       "layout": "IPY_MODEL_2227fe97f0db4b7a9f98b93497c2d558",
       "max": 1.0,
       "min": 0.0,
       "orientation": "horizontal",
       "style": "IPY_MODEL_f761d46bb62e49e5ac6ae4a33de707af",
       "value": 0.0
      }
     },
     "d62e96e2fcb849f78900aab150a508a9": {
      "model_module": "@jupyter-widgets/base",
      "model_module_version": "1.2.0",
      "model_name": "LayoutModel",
      "state": {
       "_model_module": "@jupyter-widgets/base",
       "_model_module_version": "1.2.0",
       "_model_name": "LayoutModel",
       "_view_count": null,
       "_view_module": "@jupyter-widgets/base",
       "_view_module_version": "1.2.0",
       "_view_name": "LayoutView",
       "align_content": null,
       "align_items": null,
       "align_self": null,
       "border": null,
       "bottom": null,
       "display": null,
       "flex": null,
       "flex_flow": null,
       "grid_area": null,
       "grid_auto_columns": null,
       "grid_auto_flow": null,
       "grid_auto_rows": null,
       "grid_column": null,
       "grid_gap": null,
       "grid_row": null,
       "grid_template_areas": null,
       "grid_template_columns": null,
       "grid_template_rows": null,
       "height": null,
       "justify_content": null,
       "justify_items": null,
       "left": null,
       "margin": null,
       "max_height": null,
       "max_width": null,
       "min_height": null,
       "min_width": null,
       "object_fit": null,
       "object_position": null,
       "order": null,
       "overflow": null,
       "overflow_x": null,
       "overflow_y": null,
       "padding": null,
       "right": null,
       "top": null,
       "visibility": null,
       "width": null
      }
     },
     "d66f93ca679547289facb9e825859581": {
      "model_module": "@jupyter-widgets/controls",
      "model_module_version": "1.5.0",
      "model_name": "FloatProgressModel",
      "state": {
       "_dom_classes": [],
       "_model_module": "@jupyter-widgets/controls",
       "_model_module_version": "1.5.0",
       "_model_name": "FloatProgressModel",
       "_view_count": null,
       "_view_module": "@jupyter-widgets/controls",
       "_view_module_version": "1.5.0",
       "_view_name": "ProgressView",
       "bar_style": "",
       "description": "",
       "description_tooltip": null,
       "layout": "IPY_MODEL_0975449c96974b49aab48f7f0497b6d3",
       "max": 1.0,
       "min": 0.0,
       "orientation": "horizontal",
       "style": "IPY_MODEL_a3bdd6614add44b78f816867bfc1aa92",
       "value": 0.0
      }
     },
     "de1c55be1474426cad9c32f67cbc6698": {
      "model_module": "@jupyter-widgets/base",
      "model_module_version": "1.2.0",
      "model_name": "LayoutModel",
      "state": {
       "_model_module": "@jupyter-widgets/base",
       "_model_module_version": "1.2.0",
       "_model_name": "LayoutModel",
       "_view_count": null,
       "_view_module": "@jupyter-widgets/base",
       "_view_module_version": "1.2.0",
       "_view_name": "LayoutView",
       "align_content": null,
       "align_items": null,
       "align_self": null,
       "border": null,
       "bottom": null,
       "display": null,
       "flex": null,
       "flex_flow": null,
       "grid_area": null,
       "grid_auto_columns": null,
       "grid_auto_flow": null,
       "grid_auto_rows": null,
       "grid_column": null,
       "grid_gap": null,
       "grid_row": null,
       "grid_template_areas": null,
       "grid_template_columns": null,
       "grid_template_rows": null,
       "height": null,
       "justify_content": null,
       "justify_items": null,
       "left": null,
       "margin": null,
       "max_height": null,
       "max_width": null,
       "min_height": null,
       "min_width": null,
       "object_fit": null,
       "object_position": null,
       "order": null,
       "overflow": null,
       "overflow_x": null,
       "overflow_y": null,
       "padding": null,
       "right": null,
       "top": null,
       "visibility": null,
       "width": null
      }
     },
     "e281fef6fa9846bcb1d8c426482c2dee": {
      "model_module": "@jupyter-widgets/controls",
      "model_module_version": "1.5.0",
      "model_name": "VBoxModel",
      "state": {
       "_dom_classes": [],
       "_model_module": "@jupyter-widgets/controls",
       "_model_module_version": "1.5.0",
       "_model_name": "VBoxModel",
       "_view_count": null,
       "_view_module": "@jupyter-widgets/controls",
       "_view_module_version": "1.5.0",
       "_view_name": "VBoxView",
       "box_style": "",
       "children": [
        "IPY_MODEL_b8fd46c72a564747889b753f0fd4be1a",
        "IPY_MODEL_d57c57a503134d628294913a1504536f"
       ],
       "layout": "IPY_MODEL_de1c55be1474426cad9c32f67cbc6698"
      }
     },
     "eb5f8cd976404b7b8eb664bae7605a3b": {
      "model_module": "@jupyter-widgets/controls",
      "model_module_version": "1.5.0",
      "model_name": "LabelModel",
      "state": {
       "_dom_classes": [],
       "_model_module": "@jupyter-widgets/controls",
       "_model_module_version": "1.5.0",
       "_model_name": "LabelModel",
       "_view_count": null,
       "_view_module": "@jupyter-widgets/controls",
       "_view_module_version": "1.5.0",
       "_view_name": "LabelView",
       "description": "",
       "description_tooltip": null,
       "layout": "IPY_MODEL_f1e32b6238884f3d8365552c098cf8ba",
       "placeholder": "​",
       "style": "IPY_MODEL_d011d98be7f74edbaaa4a7ccf35e84ff",
       "value": ""
      }
     },
     "f1e32b6238884f3d8365552c098cf8ba": {
      "model_module": "@jupyter-widgets/base",
      "model_module_version": "1.2.0",
      "model_name": "LayoutModel",
      "state": {
       "_model_module": "@jupyter-widgets/base",
       "_model_module_version": "1.2.0",
       "_model_name": "LayoutModel",
       "_view_count": null,
       "_view_module": "@jupyter-widgets/base",
       "_view_module_version": "1.2.0",
       "_view_name": "LayoutView",
       "align_content": null,
       "align_items": null,
       "align_self": null,
       "border": null,
       "bottom": null,
       "display": null,
       "flex": null,
       "flex_flow": null,
       "grid_area": null,
       "grid_auto_columns": null,
       "grid_auto_flow": null,
       "grid_auto_rows": null,
       "grid_column": null,
       "grid_gap": null,
       "grid_row": null,
       "grid_template_areas": null,
       "grid_template_columns": null,
       "grid_template_rows": null,
       "height": null,
       "justify_content": null,
       "justify_items": null,
       "left": null,
       "margin": null,
       "max_height": null,
       "max_width": null,
       "min_height": null,
       "min_width": null,
       "object_fit": null,
       "object_position": null,
       "order": null,
       "overflow": null,
       "overflow_x": null,
       "overflow_y": null,
       "padding": null,
       "right": null,
       "top": null,
       "visibility": null,
       "width": null
      }
     },
     "f761d46bb62e49e5ac6ae4a33de707af": {
      "model_module": "@jupyter-widgets/controls",
      "model_module_version": "1.5.0",
      "model_name": "ProgressStyleModel",
      "state": {
       "_model_module": "@jupyter-widgets/controls",
       "_model_module_version": "1.5.0",
       "_model_name": "ProgressStyleModel",
       "_view_count": null,
       "_view_module": "@jupyter-widgets/base",
       "_view_module_version": "1.2.0",
       "_view_name": "StyleView",
       "bar_color": null,
       "description_width": ""
      }
     },
     "f8960bd820ba485597c48c04f9105a71": {
      "model_module": "@jupyter-widgets/controls",
      "model_module_version": "1.5.0",
      "model_name": "FloatProgressModel",
      "state": {
       "_dom_classes": [],
       "_model_module": "@jupyter-widgets/controls",
       "_model_module_version": "1.5.0",
       "_model_name": "FloatProgressModel",
       "_view_count": null,
       "_view_module": "@jupyter-widgets/controls",
       "_view_module_version": "1.5.0",
       "_view_name": "ProgressView",
       "bar_style": "",
       "description": "",
       "description_tooltip": null,
       "layout": "IPY_MODEL_5e7cf5804a8b4f89b2e1e39898ece2e0",
       "max": 1.0,
       "min": 0.0,
       "orientation": "horizontal",
       "style": "IPY_MODEL_2b60940c9361475580e6898a8472cef0",
       "value": 0.0
      }
     },
     "f97dc03e2d084610bea1af776c75f389": {
      "model_module": "@jupyter-widgets/controls",
      "model_module_version": "1.5.0",
      "model_name": "LabelModel",
      "state": {
       "_dom_classes": [],
       "_model_module": "@jupyter-widgets/controls",
       "_model_module_version": "1.5.0",
       "_model_name": "LabelModel",
       "_view_count": null,
       "_view_module": "@jupyter-widgets/controls",
       "_view_module_version": "1.5.0",
       "_view_name": "LabelView",
       "description": "",
       "description_tooltip": null,
       "layout": "IPY_MODEL_55db3333b3eb47829b860128a4ea5cb0",
       "placeholder": "​",
       "style": "IPY_MODEL_429ecd1607c54cfb95a8bbdd1f295bb1",
       "value": ""
      }
     },
     "fa9c12a405df4cad9a3b7fd7ab022eef": {
      "model_module": "@jupyter-widgets/base",
      "model_module_version": "1.2.0",
      "model_name": "LayoutModel",
      "state": {
       "_model_module": "@jupyter-widgets/base",
       "_model_module_version": "1.2.0",
       "_model_name": "LayoutModel",
       "_view_count": null,
       "_view_module": "@jupyter-widgets/base",
       "_view_module_version": "1.2.0",
       "_view_name": "LayoutView",
       "align_content": null,
       "align_items": null,
       "align_self": null,
       "border": null,
       "bottom": null,
       "display": null,
       "flex": null,
       "flex_flow": null,
       "grid_area": null,
       "grid_auto_columns": null,
       "grid_auto_flow": null,
       "grid_auto_rows": null,
       "grid_column": null,
       "grid_gap": null,
       "grid_row": null,
       "grid_template_areas": null,
       "grid_template_columns": null,
       "grid_template_rows": null,
       "height": null,
       "justify_content": null,
       "justify_items": null,
       "left": null,
       "margin": null,
       "max_height": null,
       "max_width": null,
       "min_height": null,
       "min_width": null,
       "object_fit": null,
       "object_position": null,
       "order": null,
       "overflow": null,
       "overflow_x": null,
       "overflow_y": null,
       "padding": null,
       "right": null,
       "top": null,
       "visibility": null,
       "width": null
      }
     }
    },
    "version_major": 2,
    "version_minor": 0
   }
  }
 },
 "nbformat": 4,
 "nbformat_minor": 5
}
