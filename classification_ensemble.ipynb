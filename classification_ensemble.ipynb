{
 "cells": [
  {
   "cell_type": "code",
   "execution_count": 1,
   "id": "c64ee3bd",
   "metadata": {
    "execution": {
     "iopub.execute_input": "2022-11-02T10:23:42.124493Z",
     "iopub.status.busy": "2022-11-02T10:23:42.123519Z",
     "iopub.status.idle": "2022-11-02T10:24:13.430242Z",
     "shell.execute_reply": "2022-11-02T10:24:13.429173Z"
    },
    "papermill": {
     "duration": 31.316716,
     "end_time": "2022-11-02T10:24:13.432954",
     "exception": false,
     "start_time": "2022-11-02T10:23:42.116238",
     "status": "completed"
    },
    "tags": []
   },
   "outputs": [
    {
     "name": "stdout",
     "output_type": "stream",
     "text": [
      "Collecting torchinfo\r\n",
      "  Downloading torchinfo-1.7.1-py3-none-any.whl (22 kB)\r\n",
      "Installing collected packages: torchinfo\r\n",
      "Successfully installed torchinfo-1.7.1\r\n",
      "\u001b[33mWARNING: Running pip as the 'root' user can result in broken permissions and conflicting behaviour with the system package manager. It is recommended to use a virtual environment instead: https://pip.pypa.io/warnings/venv\u001b[0m\u001b[33m\r\n",
      "\u001b[0mCollecting git+https://github.com/openai/CLIP.git\r\n",
      "  Cloning https://github.com/openai/CLIP.git to /tmp/pip-req-build-zvtfg5av\r\n",
      "  Running command git clone --filter=blob:none --quiet https://github.com/openai/CLIP.git /tmp/pip-req-build-zvtfg5av\r\n",
      "  Resolved https://github.com/openai/CLIP.git to commit d50d76daa670286dd6cacf3bcd80b5e4823fc8e1\r\n",
      "  Preparing metadata (setup.py) ... \u001b[?25l-\b \bdone\r\n",
      "\u001b[?25hCollecting ftfy\r\n",
      "  Downloading ftfy-6.1.1-py3-none-any.whl (53 kB)\r\n",
      "\u001b[2K     \u001b[90m━━━━━━━━━━━━━━━━━━━━━━━━━━━━━━━━━━━━━━━\u001b[0m \u001b[32m53.1/53.1 kB\u001b[0m \u001b[31m629.3 kB/s\u001b[0m eta \u001b[36m0:00:00\u001b[0m\r\n",
      "\u001b[?25hRequirement already satisfied: regex in /opt/conda/lib/python3.7/site-packages (from clip==1.0) (2021.11.10)\r\n",
      "Requirement already satisfied: tqdm in /opt/conda/lib/python3.7/site-packages (from clip==1.0) (4.64.0)\r\n",
      "Requirement already satisfied: torch in /opt/conda/lib/python3.7/site-packages (from clip==1.0) (1.11.0)\r\n",
      "Requirement already satisfied: torchvision in /opt/conda/lib/python3.7/site-packages (from clip==1.0) (0.12.0)\r\n",
      "Requirement already satisfied: wcwidth>=0.2.5 in /opt/conda/lib/python3.7/site-packages (from ftfy->clip==1.0) (0.2.5)\r\n",
      "Requirement already satisfied: typing-extensions in /opt/conda/lib/python3.7/site-packages (from torch->clip==1.0) (4.3.0)\r\n",
      "Requirement already satisfied: pillow!=8.3.*,>=5.3.0 in /opt/conda/lib/python3.7/site-packages (from torchvision->clip==1.0) (9.1.1)\r\n",
      "Requirement already satisfied: numpy in /opt/conda/lib/python3.7/site-packages (from torchvision->clip==1.0) (1.21.6)\r\n",
      "Requirement already satisfied: requests in /opt/conda/lib/python3.7/site-packages (from torchvision->clip==1.0) (2.28.1)\r\n",
      "Requirement already satisfied: certifi>=2017.4.17 in /opt/conda/lib/python3.7/site-packages (from requests->torchvision->clip==1.0) (2022.6.15.2)\r\n",
      "Requirement already satisfied: urllib3<1.27,>=1.21.1 in /opt/conda/lib/python3.7/site-packages (from requests->torchvision->clip==1.0) (1.26.12)\r\n",
      "Requirement already satisfied: charset-normalizer<3,>=2 in /opt/conda/lib/python3.7/site-packages (from requests->torchvision->clip==1.0) (2.1.0)\r\n",
      "Requirement already satisfied: idna<4,>=2.5 in /opt/conda/lib/python3.7/site-packages (from requests->torchvision->clip==1.0) (3.3)\r\n",
      "Building wheels for collected packages: clip\r\n",
      "  Building wheel for clip (setup.py) ... \u001b[?25l-\b \b\\\b \bdone\r\n",
      "\u001b[?25h  Created wheel for clip: filename=clip-1.0-py3-none-any.whl size=1369409 sha256=d70bc4b8ab3ebe63ed931c9b4ae5c230b8a6755d7f673c7307a77f7eafa20389\r\n",
      "  Stored in directory: /tmp/pip-ephem-wheel-cache-oxgz9wvg/wheels/fd/b9/c3/5b4470e35ed76e174bff77c92f91da82098d5e35fd5bc8cdac\r\n",
      "Successfully built clip\r\n",
      "Installing collected packages: ftfy, clip\r\n",
      "Successfully installed clip-1.0 ftfy-6.1.1\r\n",
      "\u001b[33mWARNING: Running pip as the 'root' user can result in broken permissions and conflicting behaviour with the system package manager. It is recommended to use a virtual environment instead: https://pip.pypa.io/warnings/venv\u001b[0m\u001b[33m\r\n",
      "\u001b[0m"
     ]
    }
   ],
   "source": [
    "from sklearn.model_selection import StratifiedKFold\n",
    "import pandas as pd \n",
    "import numpy as np\n",
    "import glob\n",
    "from tqdm import tqdm\n",
    "import cv2\n",
    "from sklearn.model_selection import train_test_split\n",
    "import os\n",
    "!pip install torchinfo\n",
    "from torchinfo import summary\n",
    "os.environ['CUDA_LAUNCH_BLOCKING'] = \"1\"\n",
    "from sklearn.metrics import recall_score\n",
    "import torch\n",
    "import torch.nn as nn\n",
    "import torch.optim as optim\n",
    "from torch.utils.data import Dataset\n",
    "from torchvision import datasets, models, transforms\n",
    "from torchvision.models import resnet18\n",
    "import uuid\n",
    "from PIL import Image\n",
    "import matplotlib.pyplot as plt\n",
    "from IPython.display import clear_output\n",
    "!pip install git+https://github.com/openai/CLIP.git\n",
    "from albumentations.core.composition import Compose, OneOf\n",
    "from albumentations.pytorch import ToTensorV2\n",
    "import albumentations as A    \n",
    "    \n",
    "import clip\n",
    "from torch.utils.data import DataLoader\n",
    "\n",
    "device = \"cuda\" if torch.cuda.is_available() else \"cpu\"\n",
    "\n",
    "\n",
    "import pytorch_lightning as pl\n",
    "from pytorch_lightning import Trainer, seed_everything\n",
    "from pytorch_lightning import Callback\n",
    "from pytorch_lightning.loggers import CSVLogger\n",
    "from pytorch_lightning.callbacks import ModelCheckpoint, EarlyStopping\n",
    "from pytorch_lightning.loggers import WandbLogger\n",
    "import wandb\n",
    " "
   ]
  },
  {
   "cell_type": "markdown",
   "id": "59c31f8e",
   "metadata": {
    "papermill": {
     "duration": 0.006098,
     "end_time": "2022-11-02T10:24:13.445516",
     "exception": false,
     "start_time": "2022-11-02T10:24:13.439418",
     "status": "completed"
    },
    "tags": []
   },
   "source": [
    "## Настрока блокнота"
   ]
  },
  {
   "cell_type": "code",
   "execution_count": 2,
   "id": "36683ced",
   "metadata": {
    "execution": {
     "iopub.execute_input": "2022-11-02T10:24:13.459841Z",
     "iopub.status.busy": "2022-11-02T10:24:13.458538Z",
     "iopub.status.idle": "2022-11-02T10:24:13.467149Z",
     "shell.execute_reply": "2022-11-02T10:24:13.466268Z"
    },
    "papermill": {
     "duration": 0.017528,
     "end_time": "2022-11-02T10:24:13.469058",
     "exception": false,
     "start_time": "2022-11-02T10:24:13.451530",
     "status": "completed"
    },
    "tags": []
   },
   "outputs": [
    {
     "name": "stdout",
     "output_type": "stream",
     "text": [
      "id_notebook: f5e044c4-30aa-477a-8e5a-03c53e106e40\n"
     ]
    }
   ],
   "source": [
    "class CFG:\n",
    "    batch_size=80\n",
    "    device = torch.device(\"cuda\" if torch.cuda.is_available() else \"cpu\")\n",
    "    num_epochs = 10\n",
    "    wandb_project = \"construction_equipment\"\n",
    "    wandb_entity = \"vladsmirn_\"\n",
    "    img_size = 224\n",
    "    n_fold = 5\n",
    "    k_fold = 1\n",
    "    seed=44\n",
    "    \n",
    "    id_notebook=str(uuid.uuid4())\n",
    "    \n",
    "print(\"id_notebook: \" + CFG.id_notebook)\n",
    " "
   ]
  },
  {
   "cell_type": "code",
   "execution_count": 3,
   "id": "91ac1cbb",
   "metadata": {
    "execution": {
     "iopub.execute_input": "2022-11-02T10:24:13.482615Z",
     "iopub.status.busy": "2022-11-02T10:24:13.481675Z",
     "iopub.status.idle": "2022-11-02T10:24:13.490178Z",
     "shell.execute_reply": "2022-11-02T10:24:13.489283Z"
    },
    "papermill": {
     "duration": 0.017105,
     "end_time": "2022-11-02T10:24:13.492056",
     "exception": false,
     "start_time": "2022-11-02T10:24:13.474951",
     "status": "completed"
    },
    "tags": []
   },
   "outputs": [],
   "source": [
    "def get_transform(phase: str, img_size: int):\n",
    "    if phase == 'train':\n",
    "        return Compose([\n",
    "#             A.Resize(height=img_size, width=img_size),\n",
    "            A.RandomResizedCrop(height=img_size, width=img_size, scale=(0.97, 1.0)),\n",
    "            A.Flip(p=0.5),\n",
    "            A.RandomRotate90(p=0.1),\n",
    "#             A.ShiftScaleRotate(p=0.5),\n",
    "            A.HueSaturationValue(p=0.1),\n",
    "            A.OneOf([\n",
    "                A.RandomBrightnessContrast(p=0.1),\n",
    "                A.RandomGamma(p=0.1),\n",
    "            ], p=0.1),\n",
    "            A.OneOf([\n",
    "                A.Blur(p=0.1),\n",
    "                A.GaussianBlur(p=0.1),\n",
    "                A.MotionBlur(p=0.1),\n",
    "            ], p=0.1),\n",
    "            A.OneOf([\n",
    "                A.GaussNoise(p=0.1),\n",
    "                A.ISONoise(p=0.1),\n",
    "            ], p=0.2),\n",
    "            A.Normalize(),\n",
    "            ToTensorV2(),\n",
    "        ])\n",
    "    else:\n",
    "        return Compose([\n",
    "            A.Resize(height=img_size, width=img_size),\n",
    "            A.Normalize(),\n",
    "            ToTensorV2(),\n",
    "        ])"
   ]
  },
  {
   "cell_type": "code",
   "execution_count": 4,
   "id": "ac635a10",
   "metadata": {
    "execution": {
     "iopub.execute_input": "2022-11-02T10:24:13.505442Z",
     "iopub.status.busy": "2022-11-02T10:24:13.504645Z",
     "iopub.status.idle": "2022-11-02T10:24:14.630402Z",
     "shell.execute_reply": "2022-11-02T10:24:14.629428Z"
    },
    "papermill": {
     "duration": 1.136167,
     "end_time": "2022-11-02T10:24:14.634010",
     "exception": false,
     "start_time": "2022-11-02T10:24:13.497843",
     "status": "completed"
    },
    "tags": []
   },
   "outputs": [
    {
     "name": "stdout",
     "output_type": "stream",
     "text": [
      "train size: 3992\n",
      "valid size: 998\n"
     ]
    },
    {
     "data": {
      "text/plain": [
       "torch.Size([80, 3, 224, 224])"
      ]
     },
     "execution_count": 4,
     "metadata": {},
     "output_type": "execute_result"
    }
   ],
   "source": [
    "DIR_TRAIN = \"../input/construction-equipment/train/\"\n",
    "DIR_TEST = \"../input/construction-equipment-test/test/\"\n",
    "\n",
    "PATH_TRAIN = \"../input/construction-equipment/train.csv\"\n",
    "PATH_TEST = \"../input/construction-equipment-test/test.csv\"\n",
    "\n",
    "def KFOLD(df, n_fold=5 , k_fold=1, seed=43, column_x='path', column_y='class'):\n",
    "    skf = StratifiedKFold(n_splits=n_fold, shuffle=True, random_state=seed)\n",
    "    \n",
    "    for i_fold , (train_idx, valid_idx) in enumerate(skf.split(df[column_x], df[column_y])):\n",
    "        if(i_fold+1 == k_fold):\n",
    "            df_train = df.iloc[train_idx]\n",
    "            df_valid = df.iloc[valid_idx]\n",
    "            break\n",
    "\n",
    "    print(f\"train size: {len(df_train)}\")\n",
    "    print(f\"valid size: {len(df_valid)}\")\n",
    "    \n",
    "    return df_train, df_valid\n",
    "\n",
    "class ImageDataset(Dataset):\n",
    "    def __init__(self, data_df, transform=None):\n",
    "\n",
    "        self.data_df = data_df\n",
    "        self.transform = transform\n",
    "\n",
    "    def __getitem__(self, idx):\n",
    "        image_path, label = self.data_df.iloc[idx]['path'], self.data_df.iloc[idx]['class']\n",
    "        image = cv2.imread(image_path)\n",
    "        image = cv2.cvtColor(image, cv2.COLOR_BGR2RGB)\n",
    "        image = self.transform(image=image)['image'] \n",
    "#         image = image.permute(0,1,2) \n",
    "#         image = Image.fromarray(image)\n",
    "#         image = preprocess(image).to(device)  \n",
    "        return image, torch.tensor(label).long()\n",
    "    \n",
    "    def __len__(self):\n",
    "        return len(self.data_df)\n",
    "    \n",
    " \n",
    " \n",
    "\n",
    "data_df = pd.read_csv(PATH_TRAIN)\n",
    "data_df[\"path\"] = data_df[\"ID_img\"].apply(lambda image_name : f'{DIR_TRAIN}{image_name}')\n",
    "train_df, valid_df = KFOLD(data_df, n_fold=CFG.n_fold, k_fold=CFG.k_fold,seed=CFG.seed)\n",
    "train_dataset = ImageDataset(train_df, get_transform(\"train\",CFG.img_size))\n",
    "valid_dataset = ImageDataset(valid_df, get_transform(\"valid\",CFG.img_size))\n",
    " \n",
    "\n",
    "train_loader = torch.utils.data.DataLoader(dataset=train_dataset,\n",
    "                                           batch_size=CFG.batch_size,\n",
    "                                           shuffle=True)\n",
    "\n",
    "valid_loader = torch.utils.data.DataLoader(dataset=valid_dataset,\n",
    "                                           batch_size=CFG.batch_size)\n",
    "                                            \n",
    "# CFG.steps_per_epoch = len(train_loader)\n",
    "CFG.steps_per_epoch = len(train_loader) \n",
    "images, labels =  next(iter(train_loader))\n",
    "# model_clip.encode_image(images[:1])\n",
    "images.shape"
   ]
  },
  {
   "cell_type": "code",
   "execution_count": 5,
   "id": "6299b72f",
   "metadata": {
    "execution": {
     "iopub.execute_input": "2022-11-02T10:24:14.649383Z",
     "iopub.status.busy": "2022-11-02T10:24:14.649093Z",
     "iopub.status.idle": "2022-11-02T10:24:14.660932Z",
     "shell.execute_reply": "2022-11-02T10:24:14.659917Z"
    },
    "papermill": {
     "duration": 0.022391,
     "end_time": "2022-11-02T10:24:14.663525",
     "exception": false,
     "start_time": "2022-11-02T10:24:14.641134",
     "status": "completed"
    },
    "tags": []
   },
   "outputs": [],
   "source": [
    "\n",
    "'''\n",
    "https://www.kaggle.com/code/isbhargav/guide-to-pytorch-learning-rate-scheduling/notebook\n",
    " \n",
    "CFG.lr_schedule = \"OneCycleLR\"\n",
    "CFG.num_epochs = 10\n",
    "CFG.steps_per_epoch = 62\n",
    "CFG.max_lr = 0.0002\n",
    "CFG.div_factor = 2\n",
    "\n",
    "CFG.lr_schedule = \"CyclicLR_exp_range\" \n",
    "CFG.base_lr = 0.0001 \n",
    "CFG.max_lr = 0.0002 \n",
    "CFG.step_size_up = 100\n",
    "CFG.gamma = 0.992\n",
    "\n",
    "'''\n",
    "# class optimizers_confing: \n",
    " \n",
    "def choose_configure_optimizers(CFG,model = torch.nn.Linear(2, 1),show=False):\n",
    "    \n",
    "  \n",
    "    CFG.optimizer = \"Adam\"\n",
    "    if not hasattr(CFG, 'lr'):\n",
    "        CFG.lr = 0.001\n",
    "    optimizer = torch.optim.Adam(model.parameters(), lr=CFG.lr)    \n",
    "\n",
    "         \n",
    "    if not hasattr(CFG, 'lr_schedule'):\n",
    "        return optimizer\n",
    "    \n",
    " \n",
    "    if CFG.lr_schedule == \"OneCycleLR\" :\n",
    "        scheduler = torch.optim.lr_scheduler.OneCycleLR(optimizer, \n",
    "                                                        epochs=CFG.num_epochs, \n",
    "                                                        steps_per_epoch= CFG.steps_per_epoch,\n",
    "                                                        max_lr=CFG.max_lr)\n",
    "                                                        \n",
    "        scheduler = {'scheduler': scheduler, 'interval': 'step'}\n",
    "        number_steps_scheduler = CFG.steps_per_epoch * CFG.num_epochs # for show\n",
    "        \n",
    "        \n",
    "        \n",
    "        \n",
    "    if CFG.lr_schedule == \"CyclicLR_exp_range\" :\n",
    "        scheduler = torch.optim.lr_scheduler.CyclicLR(optimizer, \n",
    "                                                      base_lr=CFG.base_lr, \n",
    "                                                      max_lr=CFG.max_lr, \n",
    "                                                      step_size_up=CFG.step_size_up,\n",
    "                                                      mode=\"exp_range\",\n",
    "                                                      gamma=CFG.gamma,\n",
    "                                                      cycle_momentum=False)\n",
    "        scheduler = {'scheduler': scheduler, 'interval': 'step'}\n",
    "        number_steps_scheduler = CFG.steps_per_epoch * CFG.num_epochs\n",
    "        \n",
    "        \n",
    "        \n",
    "    if CFG.lr_schedule == \"LambdaLR\" :\n",
    "        scheduler = torch.optim.lr_scheduler.LambdaLR(optimizer, \n",
    "                                                      lr_lambda = lambda epoch: CFG.parametr_lambda ** epoch)\n",
    "        \n",
    "        scheduler = {'scheduler': scheduler, 'interval': 'epoch'}\n",
    "        number_steps_scheduler = CFG.num_epochs\n",
    "        \n",
    "        \n",
    "        \n",
    "      \n",
    "        \n",
    "    if show : \n",
    "        lrs = []\n",
    "        for i in range(number_steps_scheduler):\n",
    "            optimizer.step()\n",
    "            lrs.append(optimizer.param_groups[0][\"lr\"])\n",
    "            scheduler['scheduler'].step()\n",
    "            \n",
    "        plt.title(CFG.lr_schedule)  \n",
    "        plt.plot(lrs)  \n",
    "        plt.xlabel(\"step\") \n",
    "        plt.ylabel(\"lr\")\n",
    "        plt.show()\n",
    "        print(\"last lr:\"+str(lrs[-1]))\n",
    "        print(\"first lr:\"+str(lrs[0]))\n",
    "        print(optimizer)\n",
    "\n",
    "    return optimizer, scheduler\n",
    "\n",
    " "
   ]
  },
  {
   "cell_type": "code",
   "execution_count": 6,
   "id": "b6399579",
   "metadata": {
    "execution": {
     "iopub.execute_input": "2022-11-02T10:24:14.676403Z",
     "iopub.status.busy": "2022-11-02T10:24:14.676141Z",
     "iopub.status.idle": "2022-11-02T10:24:15.055190Z",
     "shell.execute_reply": "2022-11-02T10:24:15.054147Z"
    },
    "papermill": {
     "duration": 0.388467,
     "end_time": "2022-11-02T10:24:15.057881",
     "exception": false,
     "start_time": "2022-11-02T10:24:14.669414",
     "status": "completed"
    },
    "tags": []
   },
   "outputs": [
    {
     "data": {
      "image/png": "[encoded data removed]",
      "text/plain": [
       "<Figure size 432x288 with 1 Axes>"
      ]
     },
     "metadata": {
      "needs_background": "light"
     },
     "output_type": "display_data"
    },
    {
     "name": "stdout",
     "output_type": "stream",
     "text": [
      "last lr:3.9999999999999996e-10\n",
      "first lr:4.000000000000002e-06\n",
      "Adam (\n",
      "Parameter Group 0\n",
      "    amsgrad: False\n",
      "    base_momentum: 0.85\n",
      "    betas: (0.9499999798579515, 0.999)\n",
      "    eps: 1e-08\n",
      "    initial_lr: 4e-06\n",
      "    lr: 4.201419678776099e-10\n",
      "    max_lr: 0.0001\n",
      "    max_momentum: 0.95\n",
      "    maximize: False\n",
      "    min_lr: 3.9999999999999996e-10\n",
      "    weight_decay: 0\n",
      ")\n"
     ]
    }
   ],
   "source": [
    "CFG.lr_schedule = \"OneCycleLR\"\n",
    "CFG.num_epochs = 100\n",
    "CFG.max_lr = 0.0001\n",
    "\n",
    " \n",
    "_ = choose_configure_optimizers(CFG,show=True)\n",
    " "
   ]
  },
  {
   "cell_type": "markdown",
   "id": "d1ba2d86",
   "metadata": {
    "papermill": {
     "duration": 0.006151,
     "end_time": "2022-11-02T10:24:15.071485",
     "exception": false,
     "start_time": "2022-11-02T10:24:15.065334",
     "status": "completed"
    },
    "tags": []
   },
   "source": [
    "##   Объявление модели\n"
   ]
  },
  {
   "cell_type": "code",
   "execution_count": 7,
   "id": "dc689b44",
   "metadata": {
    "execution": {
     "iopub.execute_input": "2022-11-02T10:24:15.085520Z",
     "iopub.status.busy": "2022-11-02T10:24:15.085243Z",
     "iopub.status.idle": "2022-11-02T10:24:29.599464Z",
     "shell.execute_reply": "2022-11-02T10:24:29.598480Z"
    },
    "papermill": {
     "duration": 14.52431,
     "end_time": "2022-11-02T10:24:29.602031",
     "exception": false,
     "start_time": "2022-11-02T10:24:15.077721",
     "status": "completed"
    },
    "tags": []
   },
   "outputs": [
    {
     "name": "stderr",
     "output_type": "stream",
     "text": [
      "Downloading: \"https://download.pytorch.org/models/convnext_small-0c510722.pth\" to /root/.cache/torch/hub/checkpoints/convnext_small-0c510722.pth\n"
     ]
    },
    {
     "data": {
      "application/vnd.jupyter.widget-view+json": {
       "model_id": "22c7767efc75423aa6c799a101fe2ac8",
       "version_major": 2,
       "version_minor": 0
      },
      "text/plain": [
       "  0%|          | 0.00/192M [00:00<?, ?B/s]"
      ]
     },
     "metadata": {},
     "output_type": "display_data"
    },
    {
     "data": {
      "text/plain": [
       "======================================================================\n",
       "Layer (type:depth-idx)                        Param #\n",
       "======================================================================\n",
       "ConvNeXt                                      --\n",
       "├─Sequential: 1-1                             --\n",
       "│    └─ConvNormActivation: 2-1                --\n",
       "│    │    └─Conv2d: 3-1                       4,704\n",
       "│    │    └─LayerNorm2d: 3-2                  192\n",
       "│    └─Sequential: 2-2                        --\n",
       "│    │    └─CNBlock: 3-3                      79,296\n",
       "│    │    └─CNBlock: 3-4                      79,296\n",
       "│    │    └─CNBlock: 3-5                      79,296\n",
       "│    └─Sequential: 2-3                        --\n",
       "│    │    └─LayerNorm2d: 3-6                  192\n",
       "│    │    └─Conv2d: 3-7                       73,920\n",
       "│    └─Sequential: 2-4                        --\n",
       "│    │    └─CNBlock: 3-8                      306,048\n",
       "│    │    └─CNBlock: 3-9                      306,048\n",
       "│    │    └─CNBlock: 3-10                     306,048\n",
       "│    └─Sequential: 2-5                        --\n",
       "│    │    └─LayerNorm2d: 3-11                 384\n",
       "│    │    └─Conv2d: 3-12                      295,296\n",
       "│    └─Sequential: 2-6                        --\n",
       "│    │    └─CNBlock: 3-13                     1,201,920\n",
       "│    │    └─CNBlock: 3-14                     1,201,920\n",
       "│    │    └─CNBlock: 3-15                     1,201,920\n",
       "│    │    └─CNBlock: 3-16                     1,201,920\n",
       "│    │    └─CNBlock: 3-17                     1,201,920\n",
       "│    │    └─CNBlock: 3-18                     1,201,920\n",
       "│    │    └─CNBlock: 3-19                     1,201,920\n",
       "│    │    └─CNBlock: 3-20                     1,201,920\n",
       "│    │    └─CNBlock: 3-21                     1,201,920\n",
       "│    │    └─CNBlock: 3-22                     1,201,920\n",
       "│    │    └─CNBlock: 3-23                     1,201,920\n",
       "│    │    └─CNBlock: 3-24                     1,201,920\n",
       "│    │    └─CNBlock: 3-25                     1,201,920\n",
       "│    │    └─CNBlock: 3-26                     1,201,920\n",
       "│    │    └─CNBlock: 3-27                     1,201,920\n",
       "│    │    └─CNBlock: 3-28                     1,201,920\n",
       "│    │    └─CNBlock: 3-29                     1,201,920\n",
       "│    │    └─CNBlock: 3-30                     1,201,920\n",
       "│    │    └─CNBlock: 3-31                     1,201,920\n",
       "│    │    └─CNBlock: 3-32                     1,201,920\n",
       "│    │    └─CNBlock: 3-33                     1,201,920\n",
       "│    │    └─CNBlock: 3-34                     1,201,920\n",
       "│    │    └─CNBlock: 3-35                     1,201,920\n",
       "│    │    └─CNBlock: 3-36                     1,201,920\n",
       "│    │    └─CNBlock: 3-37                     1,201,920\n",
       "│    │    └─CNBlock: 3-38                     1,201,920\n",
       "│    │    └─CNBlock: 3-39                     1,201,920\n",
       "│    └─Sequential: 2-7                        --\n",
       "│    │    └─LayerNorm2d: 3-40                 768\n",
       "│    │    └─Conv2d: 3-41                      1,180,416\n",
       "│    └─Sequential: 2-8                        --\n",
       "│    │    └─CNBlock: 3-42                     4,763,136\n",
       "│    │    └─CNBlock: 3-43                     4,763,136\n",
       "│    │    └─CNBlock: 3-44                     4,763,136\n",
       "├─AdaptiveAvgPool2d: 1-2                      --\n",
       "├─Sequential: 1-3                             --\n",
       "│    └─LayerNorm2d: 2-9                       1,536\n",
       "│    └─Flatten: 2-10                          --\n",
       "│    └─Linear: 2-11                           6,152\n",
       "======================================================================\n",
       "Total params: 49,460,840\n",
       "Trainable params: 49,460,840\n",
       "Non-trainable params: 0\n",
       "======================================================================"
      ]
     },
     "execution_count": 7,
     "metadata": {},
     "output_type": "execute_result"
    }
   ],
   "source": [
    "model_clf = models.convnext.convnext_small(pretrained=True)\n",
    "model_clf.classifier[2] = nn.Linear(768, 8) \n",
    "model_clf.to(CFG.device)\n",
    "\n",
    " \n",
    "summary(model_clf)"
   ]
  },
  {
   "cell_type": "code",
   "execution_count": 8,
   "id": "b8c4e909",
   "metadata": {
    "execution": {
     "iopub.execute_input": "2022-11-02T10:24:29.618999Z",
     "iopub.status.busy": "2022-11-02T10:24:29.618427Z",
     "iopub.status.idle": "2022-11-02T10:24:29.676861Z",
     "shell.execute_reply": "2022-11-02T10:24:29.675829Z"
    },
    "papermill": {
     "duration": 0.070067,
     "end_time": "2022-11-02T10:24:29.679545",
     "exception": false,
     "start_time": "2022-11-02T10:24:29.609478",
     "status": "completed"
    },
    "tags": []
   },
   "outputs": [],
   "source": [
    "def compute_recall_score(imgs,labels,model):\n",
    "    model.eval()\n",
    "    imgs = imgs.to(CFG.device)\n",
    "    pred = model(imgs)\n",
    "\n",
    "    pred_numpy = pred.cpu().detach().numpy()\n",
    "    valid_predicts=[]\n",
    "    for class_obj in pred_numpy:\n",
    "          index, max_value = max(enumerate(class_obj), key=lambda i_v: i_v[1])\n",
    "          valid_predicts.append(index)\n",
    "\n",
    "    return recall_score(labels.cpu().detach().numpy(), valid_predicts, average = \"macro\")\n",
    "\n",
    "\n",
    "class LightNPairModel(pl.LightningModule):\n",
    "    def __init__(self, model,  lr=0.0001):\n",
    "        super(LightNPairModel, self).__init__()\n",
    "        self.model = model\n",
    "        self.criterion = torch.nn.CrossEntropyLoss()\n",
    "        self.lr = lr\n",
    "\n",
    "    def forward(self, x, label=False, *args, **kwargs):\n",
    "        return self.model(x[0])\n",
    "\n",
    "    def configure_optimizers(self):\n",
    "        optimizer, scheduler = choose_configure_optimizers(CFG,self.model)\n",
    "        self.optimizer = optimizer\n",
    "        return [self.optimizer],[scheduler]\n",
    "\n",
    "    \n",
    "    def training_step(self, batch, batch_idx):\n",
    "        images = batch[0]\n",
    "        labels = batch[1]\n",
    "        embedding = self.model(images)\n",
    "        loss = self.criterion(embedding, labels)\n",
    "        self.log('train_loss', loss)\n",
    "        self.log('lr', self.optimizer.param_groups[0]['lr'])\n",
    "        return loss\n",
    "    \n",
    "    def validation_step(self, batch, batch_idx):\n",
    "        images = batch[0]\n",
    "        labels = batch[1]\n",
    "        embedding = self.model(images)\n",
    "        loss = self.criterion(embedding, labels)\n",
    "        score = compute_recall_score(images,labels,self.model)\n",
    "        self.log('valid_loss', loss)    \n",
    "        self.log('valid_score', score)   \n",
    "        return loss\n",
    "    \n",
    "#     def validation_epoch_end(self, validation_step_outputs):\n",
    "        \n",
    "# #         image_array = image_map(self.path_images,self.model,show=False, save=False) \n",
    "# #         self.logger.experiment.log({\"image\": [wandb.Image(image_array)]})\n",
    "#         self.log('valid_score',  compute_recall_score(valid_loader,model_clf))    \n",
    "        \n",
    "lit_model = LightNPairModel(model_clf, lr = CFG.lr)"
   ]
  },
  {
   "cell_type": "code",
   "execution_count": 9,
   "id": "3568fd0a",
   "metadata": {
    "execution": {
     "iopub.execute_input": "2022-11-02T10:24:29.698323Z",
     "iopub.status.busy": "2022-11-02T10:24:29.696636Z",
     "iopub.status.idle": "2022-11-02T10:24:39.137496Z",
     "shell.execute_reply": "2022-11-02T10:24:39.136516Z"
    },
    "papermill": {
     "duration": 9.452652,
     "end_time": "2022-11-02T10:24:39.140353",
     "exception": false,
     "start_time": "2022-11-02T10:24:29.687701",
     "status": "completed"
    },
    "tags": []
   },
   "outputs": [
    {
     "name": "stderr",
     "output_type": "stream",
     "text": [
      "\u001b[34m\u001b[1mwandb\u001b[0m: W&B API key is configured. Use \u001b[1m`wandb login --relogin`\u001b[0m to force relogin\n",
      "\u001b[34m\u001b[1mwandb\u001b[0m: \u001b[33mWARNING\u001b[0m If you're specifying your api key in code, ensure this code is not shared publicly.\n",
      "\u001b[34m\u001b[1mwandb\u001b[0m: \u001b[33mWARNING\u001b[0m Consider setting the WANDB_API_KEY environment variable, or running `wandb login` from the command line.\n",
      "\u001b[34m\u001b[1mwandb\u001b[0m: Appending key for api.wandb.ai to your netrc file: /root/.netrc\n",
      "\u001b[34m\u001b[1mwandb\u001b[0m: Currently logged in as: \u001b[33mvladsmirn\u001b[0m (\u001b[33mvladsmirn_\u001b[0m). Use \u001b[1m`wandb login --relogin`\u001b[0m to force relogin\n"
     ]
    },
    {
     "data": {
      "text/html": [
       "wandb version 0.13.4 is available!  To upgrade, please run:\n",
       " $ pip install wandb --upgrade"
      ],
      "text/plain": [
       "<IPython.core.display.HTML object>"
      ]
     },
     "metadata": {},
     "output_type": "display_data"
    },
    {
     "data": {
      "text/html": [
       "Tracking run with wandb version 0.12.21"
      ],
      "text/plain": [
       "<IPython.core.display.HTML object>"
      ]
     },
     "metadata": {},
     "output_type": "display_data"
    },
    {
     "data": {
      "text/html": [
       "Run data is saved locally in <code>/kaggle/working/wandb/run-20221102_102432-1n3do8am</code>"
      ],
      "text/plain": [
       "<IPython.core.display.HTML object>"
      ]
     },
     "metadata": {},
     "output_type": "display_data"
    },
    {
     "data": {
      "text/html": [
       "Syncing run <strong><a href=\"https://wandb.ai/vladsmirn_/construction_equipment/runs/1n3do8am\" target=\"_blank\">prime-terrain-109</a></strong> to <a href=\"https://wandb.ai/vladsmirn_/construction_equipment\" target=\"_blank\">Weights & Biases</a> (<a href=\"https://wandb.me/run\" target=\"_blank\">docs</a>)<br/>"
      ],
      "text/plain": [
       "<IPython.core.display.HTML object>"
      ]
     },
     "metadata": {},
     "output_type": "display_data"
    },
    {
     "name": "stderr",
     "output_type": "stream",
     "text": [
      "/opt/conda/lib/python3.7/site-packages/pytorch_lightning/loggers/wandb.py:353: UserWarning: There is a wandb run already in progress and newly created instances of `WandbLogger` will reuse this run. If this is not desired, call `wandb.finish()` before instantiating `WandbLogger`.\n",
      "  \"There is a wandb run already in progress and newly created instances of `WandbLogger` will reuse\"\n"
     ]
    }
   ],
   "source": [
    "def run_wandb(wandb_api_key, cfg):\n",
    "    wandb.require(experiment=\"service\")\n",
    "    wandb.login(key=wandb_api_key)\n",
    "    _cfg = cfg() \n",
    "    cfg_wandb = dict((name, getattr(_cfg, name)) for name in dir(_cfg) if not name.startswith('__'))\n",
    "    \n",
    "    if hasattr(cfg, 'wandb_resume_id') and cfg.wandb_resume_id :\n",
    "        run = wandb.init(project=cfg.wandb_project, \n",
    "                   entity=cfg.wandb_entity, \n",
    "                   id=cfg.wandb_resume_id, \n",
    "                   resume=\"allow\", \n",
    "                   config=cfg_wandb)\n",
    "    else: \n",
    "        run = wandb.init(project=cfg.wandb_project, \n",
    "                   entity=cfg.wandb_entity, \n",
    "                   settings=wandb.Settings(start_method=\"fork\"), \n",
    "                   config=cfg_wandb,\n",
    "                   resume=\"allow\",\n",
    "                   id=wandb.util.generate_id())\n",
    "        \n",
    "    model_logger = WandbLogger(project=cfg.wandb_project, log_model='all')\n",
    "    \n",
    "    return model_logger,run\n",
    "\n",
    "from kaggle_secrets import UserSecretsClient\n",
    "user_secrets = UserSecretsClient()\n",
    "model_logger, _ = run_wandb(user_secrets.get_secret(\"WANDB_API_KEY\"), CFG)"
   ]
  },
  {
   "cell_type": "code",
   "execution_count": 10,
   "id": "e4ca42c1",
   "metadata": {
    "execution": {
     "iopub.execute_input": "2022-11-02T10:24:39.165297Z",
     "iopub.status.busy": "2022-11-02T10:24:39.164948Z",
     "iopub.status.idle": "2022-11-02T10:24:39.864377Z",
     "shell.execute_reply": "2022-11-02T10:24:39.863136Z"
    },
    "papermill": {
     "duration": 0.714759,
     "end_time": "2022-11-02T10:24:39.867365",
     "exception": false,
     "start_time": "2022-11-02T10:24:39.152606",
     "status": "completed"
    },
    "tags": []
   },
   "outputs": [
    {
     "name": "stderr",
     "output_type": "stream",
     "text": [
      "/opt/conda/lib/python3.7/site-packages/pytorch_lightning/trainer/connectors/accelerator_connector.py:448: LightningDeprecationWarning: Setting `Trainer(gpus=[0])` is deprecated in v1.7 and will be removed in v2.0. Please use `Trainer(accelerator='gpu', devices=[0])` instead.\n",
      "  f\"Setting `Trainer(gpus={gpus!r})` is deprecated in v1.7 and will be removed\"\n"
     ]
    }
   ],
   "source": [
    "checkpoint_callback = ModelCheckpoint(monitor='valid_score',\n",
    "#                                       save_top_k=1,\n",
    "                                      save_weights_only=True,\n",
    "                                      verbose=False,\n",
    "                                      mode='max')\n",
    "\n",
    "if torch.cuda.is_available() : \n",
    "    trainer = Trainer(\n",
    "        max_epochs=CFG.num_epochs,\n",
    "        gpus=[0],\n",
    "        callbacks=[checkpoint_callback], \n",
    "        logger=model_logger,\n",
    "        log_every_n_steps = 1 \n",
    "    )\n",
    "else :\n",
    "    trainer = Trainer(\n",
    "        max_epochs=CFG.num_epochs,\n",
    "        callbacks=[checkpoint_callback], \n",
    "        logger=model_logger,\n",
    "        log_every_n_steps = 1 \n",
    "    )"
   ]
  },
  {
   "cell_type": "code",
   "execution_count": 11,
   "id": "d4f0e9a2",
   "metadata": {
    "execution": {
     "iopub.execute_input": "2022-11-02T10:24:39.892403Z",
     "iopub.status.busy": "2022-11-02T10:24:39.891904Z",
     "iopub.status.idle": "2022-11-02T10:24:39.898180Z",
     "shell.execute_reply": "2022-11-02T10:24:39.896971Z"
    },
    "papermill": {
     "duration": 0.02181,
     "end_time": "2022-11-02T10:24:39.900822",
     "exception": false,
     "start_time": "2022-11-02T10:24:39.879012",
     "status": "completed"
    },
    "tags": []
   },
   "outputs": [],
   "source": [
    "# trainer.fit(lit_model, train_dataloaders=train_loader, val_dataloaders=valid_loader)\n",
    " "
   ]
  },
  {
   "cell_type": "markdown",
   "id": "ed426573",
   "metadata": {
    "papermill": {
     "duration": 0.011041,
     "end_time": "2022-11-02T10:24:39.923065",
     "exception": false,
     "start_time": "2022-11-02T10:24:39.912024",
     "status": "completed"
    },
    "tags": []
   },
   "source": [
    "## Предсказание "
   ]
  },
  {
   "cell_type": "code",
   "execution_count": 12,
   "id": "bcc4a87c",
   "metadata": {
    "execution": {
     "iopub.execute_input": "2022-11-02T10:24:39.947598Z",
     "iopub.status.busy": "2022-11-02T10:24:39.947143Z",
     "iopub.status.idle": "2022-11-02T10:24:39.954452Z",
     "shell.execute_reply": "2022-11-02T10:24:39.953519Z"
    },
    "papermill": {
     "duration": 0.022924,
     "end_time": "2022-11-02T10:24:39.957384",
     "exception": false,
     "start_time": "2022-11-02T10:24:39.934460",
     "status": "completed"
    },
    "tags": []
   },
   "outputs": [],
   "source": [
    "# artifacts = [\"vladsmirn_/construction_equipment/model-3b6ghnoz:v9\", #mild-bee-60\n",
    "#              \"vladsmirn_/construction_equipment/model-18u6rsng:v8\", #eerie-vampire-94\n",
    "#              \"vladsmirn_/construction_equipment/model-2ut170pm:v10\",#paranormal-phantom-96\n",
    "#              \"vladsmirn_/construction_equipment/model-1k02nzr1:v7\", #haunted-seance-93\n",
    "#              \"vladsmirn_/construction_equipment/model-1if96ysv:v13\",#valiant-durian-66\n",
    "#             ]\n",
    "\n",
    "# _, run = run_wandb(user_secrets.get_secret(\"WANDB_API_KEY\"), CFG)\n",
    "# # model_clf = classification_construction(model_clip)\n",
    "# artifact = run.use_artifact('vladsmirn_/construction_equipment/model-d7519212:v7', type='model')\n",
    "# artifact_dir = artifact.download()\n",
    "# checkpoint =   os.path.join(artifact_dir, \"model.ckpt\" )\n",
    "\n",
    "# from collections import OrderedDict\n",
    "# state_dict = torch.load(checkpoint,map_location ='cpu')['state_dict']\n",
    "# new_state_dict = OrderedDict()\n",
    "# for k, v in state_dict.items():\n",
    "#     name = k[6:]  \n",
    "#     new_state_dict[name] = v\n",
    "\n",
    "# model_clf.load_state_dict(new_state_dict)\n",
    "\n",
    " "
   ]
  },
  {
   "cell_type": "code",
   "execution_count": 13,
   "id": "efeb8a51",
   "metadata": {
    "execution": {
     "iopub.execute_input": "2022-11-02T10:24:39.982706Z",
     "iopub.status.busy": "2022-11-02T10:24:39.982349Z",
     "iopub.status.idle": "2022-11-02T10:25:20.590891Z",
     "shell.execute_reply": "2022-11-02T10:25:20.590005Z"
    },
    "papermill": {
     "duration": 40.624295,
     "end_time": "2022-11-02T10:25:20.593825",
     "exception": false,
     "start_time": "2022-11-02T10:24:39.969530",
     "status": "completed"
    },
    "tags": []
   },
   "outputs": [
    {
     "name": "stderr",
     "output_type": "stream",
     "text": [
      "\u001b[34m\u001b[1mwandb\u001b[0m: \u001b[33mWARNING\u001b[0m Calling wandb.login() after wandb.init() has no effect.\n"
     ]
    },
    {
     "data": {
      "text/html": [
       "Finishing last run (ID:1n3do8am) before initializing another..."
      ],
      "text/plain": [
       "<IPython.core.display.HTML object>"
      ]
     },
     "metadata": {},
     "output_type": "display_data"
    },
    {
     "data": {
      "text/html": [
       "Waiting for W&B process to finish... <strong style=\"color:green\">(success).</strong>"
      ],
      "text/plain": [
       "<IPython.core.display.HTML object>"
      ]
     },
     "metadata": {},
     "output_type": "display_data"
    },
    {
     "data": {
      "application/vnd.jupyter.widget-view+json": {
       "model_id": "6cf99b72d8da4b038be39c5f8ba0812a",
       "version_major": 2,
       "version_minor": 0
      },
      "text/plain": [
       "VBox(children=(Label(value='0.000 MB of 0.000 MB uploaded (0.000 MB deduped)\\r'), FloatProgress(value=1.0, max…"
      ]
     },
     "metadata": {},
     "output_type": "display_data"
    },
    {
     "data": {
      "text/html": [
       "Synced <strong style=\"color:#cdcd00\">prime-terrain-109</strong>: <a href=\"https://wandb.ai/vladsmirn_/construction_equipment/runs/1n3do8am\" target=\"_blank\">https://wandb.ai/vladsmirn_/construction_equipment/runs/1n3do8am</a><br/>Synced 6 W&B file(s), 0 media file(s), 0 artifact file(s) and 0 other file(s)"
      ],
      "text/plain": [
       "<IPython.core.display.HTML object>"
      ]
     },
     "metadata": {},
     "output_type": "display_data"
    },
    {
     "data": {
      "text/html": [
       "Find logs at: <code>./wandb/run-20221102_102432-1n3do8am/logs</code>"
      ],
      "text/plain": [
       "<IPython.core.display.HTML object>"
      ]
     },
     "metadata": {},
     "output_type": "display_data"
    },
    {
     "data": {
      "text/html": [
       "Successfully finished last run (ID:1n3do8am). Initializing new run:<br/>"
      ],
      "text/plain": [
       "<IPython.core.display.HTML object>"
      ]
     },
     "metadata": {},
     "output_type": "display_data"
    },
    {
     "data": {
      "text/html": [
       "wandb version 0.13.4 is available!  To upgrade, please run:\n",
       " $ pip install wandb --upgrade"
      ],
      "text/plain": [
       "<IPython.core.display.HTML object>"
      ]
     },
     "metadata": {},
     "output_type": "display_data"
    },
    {
     "data": {
      "text/html": [
       "Tracking run with wandb version 0.12.21"
      ],
      "text/plain": [
       "<IPython.core.display.HTML object>"
      ]
     },
     "metadata": {},
     "output_type": "display_data"
    },
    {
     "data": {
      "text/html": [
       "Run data is saved locally in <code>/kaggle/working/wandb/run-20221102_102440-2igysena</code>"
      ],
      "text/plain": [
       "<IPython.core.display.HTML object>"
      ]
     },
     "metadata": {},
     "output_type": "display_data"
    },
    {
     "data": {
      "text/html": [
       "Syncing run <strong><a href=\"https://wandb.ai/vladsmirn_/construction_equipment/runs/2igysena\" target=\"_blank\">worldly-rain-110</a></strong> to <a href=\"https://wandb.ai/vladsmirn_/construction_equipment\" target=\"_blank\">Weights & Biases</a> (<a href=\"https://wandb.me/run\" target=\"_blank\">docs</a>)<br/>"
      ],
      "text/plain": [
       "<IPython.core.display.HTML object>"
      ]
     },
     "metadata": {},
     "output_type": "display_data"
    }
   ],
   "source": [
    "_, run = run_wandb(user_secrets.get_secret(\"WANDB_API_KEY\"), CFG)"
   ]
  },
  {
   "cell_type": "code",
   "execution_count": 14,
   "id": "b9ff26bb",
   "metadata": {
    "execution": {
     "iopub.execute_input": "2022-11-02T10:25:20.622406Z",
     "iopub.status.busy": "2022-11-02T10:25:20.622068Z",
     "iopub.status.idle": "2022-11-02T10:25:20.651495Z",
     "shell.execute_reply": "2022-11-02T10:25:20.650688Z"
    },
    "papermill": {
     "duration": 0.046396,
     "end_time": "2022-11-02T10:25:20.653936",
     "exception": false,
     "start_time": "2022-11-02T10:25:20.607540",
     "status": "completed"
    },
    "tags": []
   },
   "outputs": [],
   "source": [
    "test_df = pd.read_csv(PATH_TEST)\n",
    "test_df[\"path\"] = test_df[\"ID_img\"].apply(lambda image_name : f'{DIR_TEST}{image_name}')\n",
    "test_df = test_df.drop([\"class\"], axis = 1)\n",
    "\n",
    "class TestImageDataset(Dataset):\n",
    "    def __init__(self, data_df, transform=None):\n",
    "        self.data_df = data_df\n",
    "        self.transform = transform\n",
    "\n",
    "    def __getitem__(self, idx):\n",
    "        image_path = self.data_df.iloc[idx]['path']\n",
    "        image = cv2.imread(image_path)\n",
    "        image = cv2.cvtColor(image, cv2.COLOR_BGR2RGB)\n",
    "        image = self.transform(image=image)['image'] \n",
    " \n",
    "        \n",
    "        return image\n",
    "    \n",
    "    def __len__(self):\n",
    "        return len(self.data_df)\n",
    "    \n",
    "test_dataset = TestImageDataset(test_df,get_transform(\"train\",CFG.img_size))"
   ]
  },
  {
   "cell_type": "code",
   "execution_count": 15,
   "id": "60d147d4",
   "metadata": {
    "execution": {
     "iopub.execute_input": "2022-11-02T10:25:20.681208Z",
     "iopub.status.busy": "2022-11-02T10:25:20.680784Z",
     "iopub.status.idle": "2022-11-02T10:25:20.685714Z",
     "shell.execute_reply": "2022-11-02T10:25:20.684794Z"
    },
    "papermill": {
     "duration": 0.021323,
     "end_time": "2022-11-02T10:25:20.687990",
     "exception": false,
     "start_time": "2022-11-02T10:25:20.666667",
     "status": "completed"
    },
    "tags": []
   },
   "outputs": [],
   "source": [
    "test_loader = torch.utils.data.DataLoader(dataset=test_dataset,\n",
    "                                           batch_size=1)"
   ]
  },
  {
   "cell_type": "code",
   "execution_count": 16,
   "id": "871536f7",
   "metadata": {
    "execution": {
     "iopub.execute_input": "2022-11-02T10:25:20.714453Z",
     "iopub.status.busy": "2022-11-02T10:25:20.714127Z",
     "iopub.status.idle": "2022-11-02T10:25:20.724423Z",
     "shell.execute_reply": "2022-11-02T10:25:20.723587Z"
    },
    "papermill": {
     "duration": 0.026078,
     "end_time": "2022-11-02T10:25:20.726636",
     "exception": false,
     "start_time": "2022-11-02T10:25:20.700558",
     "status": "completed"
    },
    "tags": []
   },
   "outputs": [],
   "source": [
    "def run_model(loader,model):\n",
    "    model.eval()\n",
    "    predicts = []\n",
    "    model.to(CFG.device)\n",
    "    for imgs in tqdm(loader):   \n",
    "        imgs = imgs.to(CFG.device)\n",
    "        pred = model(imgs)\n",
    "        prob = Categorical(logits=pred).probs.cpu().detach().tolist();\n",
    "        predicts.extend(prob)\n",
    "    return predicts\n",
    "\n",
    "def get_model():\n",
    "    model = models.convnext.convnext_small(pretrained=True)\n",
    "    model.classifier[2] = nn.Linear(768, 8) \n",
    "    model.to(CFG.device)\n",
    "    return model\n",
    "\n",
    "def download_model_wandb(path_artifact,model,run):\n",
    "    artifact = run.use_artifact(path_artifact, type='model')\n",
    "    artifact_dir = artifact.download()\n",
    "    checkpoint = os.path.join(artifact_dir, \"model.ckpt\")\n",
    "    from collections import OrderedDict\n",
    "    state_dict = torch.load(checkpoint,map_location ='cpu')['state_dict']\n",
    "    new_state_dict = OrderedDict()\n",
    "    for k, v in state_dict.items():\n",
    "        name = k[6:]  \n",
    "        new_state_dict[name] = v\n",
    "    model.load_state_dict(new_state_dict)\n",
    "    return model "
   ]
  },
  {
   "cell_type": "code",
   "execution_count": 17,
   "id": "57e59837",
   "metadata": {
    "execution": {
     "iopub.execute_input": "2022-11-02T10:25:20.751833Z",
     "iopub.status.busy": "2022-11-02T10:25:20.751504Z",
     "iopub.status.idle": "2022-11-02T10:25:20.755956Z",
     "shell.execute_reply": "2022-11-02T10:25:20.755028Z"
    },
    "papermill": {
     "duration": 0.019554,
     "end_time": "2022-11-02T10:25:20.758162",
     "exception": false,
     "start_time": "2022-11-02T10:25:20.738608",
     "status": "completed"
    },
    "tags": []
   },
   "outputs": [],
   "source": [
    "from torch.distributions import Categorical"
   ]
  },
  {
   "cell_type": "code",
   "execution_count": 18,
   "id": "2044028a",
   "metadata": {
    "execution": {
     "iopub.execute_input": "2022-11-02T10:25:20.783620Z",
     "iopub.status.busy": "2022-11-02T10:25:20.783289Z",
     "iopub.status.idle": "2022-11-02T11:06:58.248270Z",
     "shell.execute_reply": "2022-11-02T11:06:58.247020Z"
    },
    "papermill": {
     "duration": 2497.481276,
     "end_time": "2022-11-02T11:06:58.251641",
     "exception": false,
     "start_time": "2022-11-02T10:25:20.770365",
     "status": "completed"
    },
    "tags": []
   },
   "outputs": [
    {
     "name": "stderr",
     "output_type": "stream",
     "text": [
      "\u001b[34m\u001b[1mwandb\u001b[0m: Downloading large artifact model-3b6ghnoz:v9, 188.80MB. 1 files... Done. 0:0:3.0\n",
      "100%|██████████| 2138/2138 [01:25<00:00, 25.05it/s]\n",
      "\u001b[34m\u001b[1mwandb\u001b[0m: Downloading large artifact model-18u6rsng:v8, 188.80MB. 1 files... Done. 0:0:3.3\n",
      "100%|██████████| 2138/2138 [00:59<00:00, 35.66it/s]\n",
      "\u001b[34m\u001b[1mwandb\u001b[0m: Downloading large artifact model-2ut170pm:v10, 188.80MB. 1 files... Done. 0:0:2.6\n",
      "100%|██████████| 2138/2138 [01:00<00:00, 35.58it/s]\n",
      "\u001b[34m\u001b[1mwandb\u001b[0m: Downloading large artifact model-1k02nzr1:v7, 188.80MB. 1 files... Done. 0:0:3.1\n",
      "100%|██████████| 2138/2138 [01:00<00:00, 35.20it/s]\n",
      "\u001b[34m\u001b[1mwandb\u001b[0m: Downloading large artifact model-1if96ysv:v13, 188.80MB. 1 files... Done. 0:0:3.6\n",
      "100%|██████████| 2138/2138 [01:00<00:00, 35.35it/s]\n",
      "\u001b[34m\u001b[1mwandb\u001b[0m: Downloading large artifact model-3b6ghnoz:v9, 188.80MB. 1 files... Done. 0:0:0.1\n",
      "100%|██████████| 2138/2138 [00:59<00:00, 35.66it/s]\n",
      "\u001b[34m\u001b[1mwandb\u001b[0m: Downloading large artifact model-18u6rsng:v8, 188.80MB. 1 files... Done. 0:0:0.1\n",
      "100%|██████████| 2138/2138 [01:00<00:00, 35.57it/s]\n",
      "\u001b[34m\u001b[1mwandb\u001b[0m: Downloading large artifact model-2ut170pm:v10, 188.80MB. 1 files... Done. 0:0:0.1\n",
      "100%|██████████| 2138/2138 [00:59<00:00, 35.67it/s]\n",
      "\u001b[34m\u001b[1mwandb\u001b[0m: Downloading large artifact model-1k02nzr1:v7, 188.80MB. 1 files... Done. 0:0:0.1\n",
      "100%|██████████| 2138/2138 [01:00<00:00, 35.34it/s]\n",
      "\u001b[34m\u001b[1mwandb\u001b[0m: Downloading large artifact model-1if96ysv:v13, 188.80MB. 1 files... Done. 0:0:0.1\n",
      "100%|██████████| 2138/2138 [01:00<00:00, 35.48it/s]\n",
      "\u001b[34m\u001b[1mwandb\u001b[0m: Downloading large artifact model-3b6ghnoz:v9, 188.80MB. 1 files... Done. 0:0:0.1\n",
      "100%|██████████| 2138/2138 [01:00<00:00, 35.57it/s]\n",
      "\u001b[34m\u001b[1mwandb\u001b[0m: Downloading large artifact model-18u6rsng:v8, 188.80MB. 1 files... Done. 0:0:0.1\n",
      "100%|██████████| 2138/2138 [00:59<00:00, 35.64it/s]\n",
      "\u001b[34m\u001b[1mwandb\u001b[0m: Downloading large artifact model-2ut170pm:v10, 188.80MB. 1 files... Done. 0:0:0.1\n",
      "100%|██████████| 2138/2138 [01:00<00:00, 35.43it/s]\n",
      "\u001b[34m\u001b[1mwandb\u001b[0m: Downloading large artifact model-1k02nzr1:v7, 188.80MB. 1 files... Done. 0:0:0.1\n",
      "100%|██████████| 2138/2138 [01:00<00:00, 35.41it/s]\n",
      "\u001b[34m\u001b[1mwandb\u001b[0m: Downloading large artifact model-1if96ysv:v13, 188.80MB. 1 files... Done. 0:0:0.1\n",
      "100%|██████████| 2138/2138 [00:59<00:00, 35.79it/s]\n",
      "\u001b[34m\u001b[1mwandb\u001b[0m: Downloading large artifact model-3b6ghnoz:v9, 188.80MB. 1 files... Done. 0:0:0.1\n",
      "100%|██████████| 2138/2138 [00:59<00:00, 35.90it/s]\n",
      "\u001b[34m\u001b[1mwandb\u001b[0m: Downloading large artifact model-18u6rsng:v8, 188.80MB. 1 files... Done. 0:0:0.1\n",
      "100%|██████████| 2138/2138 [01:00<00:00, 35.14it/s]\n",
      "\u001b[34m\u001b[1mwandb\u001b[0m: Downloading large artifact model-2ut170pm:v10, 188.80MB. 1 files... Done. 0:0:0.1\n",
      "100%|██████████| 2138/2138 [01:01<00:00, 34.98it/s]\n",
      "\u001b[34m\u001b[1mwandb\u001b[0m: Downloading large artifact model-1k02nzr1:v7, 188.80MB. 1 files... Done. 0:0:0.1\n",
      "100%|██████████| 2138/2138 [00:59<00:00, 35.71it/s]\n",
      "\u001b[34m\u001b[1mwandb\u001b[0m: Downloading large artifact model-1if96ysv:v13, 188.80MB. 1 files... Done. 0:0:0.1\n",
      "100%|██████████| 2138/2138 [01:00<00:00, 35.57it/s]\n",
      "\u001b[34m\u001b[1mwandb\u001b[0m: Downloading large artifact model-3b6ghnoz:v9, 188.80MB. 1 files... Done. 0:0:0.1\n",
      "100%|██████████| 2138/2138 [00:59<00:00, 35.75it/s]\n",
      "\u001b[34m\u001b[1mwandb\u001b[0m: Downloading large artifact model-18u6rsng:v8, 188.80MB. 1 files... Done. 0:0:0.1\n",
      "100%|██████████| 2138/2138 [01:00<00:00, 35.59it/s]\n",
      "\u001b[34m\u001b[1mwandb\u001b[0m: Downloading large artifact model-2ut170pm:v10, 188.80MB. 1 files... Done. 0:0:0.1\n",
      "100%|██████████| 2138/2138 [00:59<00:00, 35.98it/s]\n",
      "\u001b[34m\u001b[1mwandb\u001b[0m: Downloading large artifact model-1k02nzr1:v7, 188.80MB. 1 files... Done. 0:0:0.1\n",
      "100%|██████████| 2138/2138 [00:59<00:00, 35.92it/s]\n",
      "\u001b[34m\u001b[1mwandb\u001b[0m: Downloading large artifact model-1if96ysv:v13, 188.80MB. 1 files... Done. 0:0:0.1\n",
      "100%|██████████| 2138/2138 [01:00<00:00, 35.61it/s]\n",
      "\u001b[34m\u001b[1mwandb\u001b[0m: Downloading large artifact model-3b6ghnoz:v9, 188.80MB. 1 files... Done. 0:0:0.1\n",
      "100%|██████████| 2138/2138 [00:58<00:00, 36.34it/s]\n",
      "\u001b[34m\u001b[1mwandb\u001b[0m: Downloading large artifact model-18u6rsng:v8, 188.80MB. 1 files... Done. 0:0:0.1\n",
      "100%|██████████| 2138/2138 [00:59<00:00, 35.83it/s]\n",
      "\u001b[34m\u001b[1mwandb\u001b[0m: Downloading large artifact model-2ut170pm:v10, 188.80MB. 1 files... Done. 0:0:0.1\n",
      "100%|██████████| 2138/2138 [01:00<00:00, 35.63it/s]\n",
      "\u001b[34m\u001b[1mwandb\u001b[0m: Downloading large artifact model-1k02nzr1:v7, 188.80MB. 1 files... Done. 0:0:0.1\n",
      "100%|██████████| 2138/2138 [01:00<00:00, 35.44it/s]\n",
      "\u001b[34m\u001b[1mwandb\u001b[0m: Downloading large artifact model-1if96ysv:v13, 188.80MB. 1 files... Done. 0:0:0.1\n",
      "100%|██████████| 2138/2138 [01:00<00:00, 35.21it/s]\n",
      "\u001b[34m\u001b[1mwandb\u001b[0m: Downloading large artifact model-3b6ghnoz:v9, 188.80MB. 1 files... Done. 0:0:0.1\n",
      "100%|██████████| 2138/2138 [00:59<00:00, 35.64it/s]\n",
      "\u001b[34m\u001b[1mwandb\u001b[0m: Downloading large artifact model-18u6rsng:v8, 188.80MB. 1 files... Done. 0:0:0.1\n",
      "100%|██████████| 2138/2138 [01:00<00:00, 35.55it/s]\n",
      "\u001b[34m\u001b[1mwandb\u001b[0m: Downloading large artifact model-2ut170pm:v10, 188.80MB. 1 files... Done. 0:0:0.1\n",
      "100%|██████████| 2138/2138 [00:59<00:00, 35.88it/s]\n",
      "\u001b[34m\u001b[1mwandb\u001b[0m: Downloading large artifact model-1k02nzr1:v7, 188.80MB. 1 files... Done. 0:0:0.1\n",
      "100%|██████████| 2138/2138 [01:00<00:00, 35.36it/s]\n",
      "\u001b[34m\u001b[1mwandb\u001b[0m: Downloading large artifact model-1if96ysv:v13, 188.80MB. 1 files... Done. 0:0:0.1\n",
      "100%|██████████| 2138/2138 [01:00<00:00, 35.26it/s]\n",
      "\u001b[34m\u001b[1mwandb\u001b[0m: Downloading large artifact model-3b6ghnoz:v9, 188.80MB. 1 files... Done. 0:0:0.1\n",
      "100%|██████████| 2138/2138 [01:00<00:00, 35.54it/s]\n",
      "\u001b[34m\u001b[1mwandb\u001b[0m: Downloading large artifact model-18u6rsng:v8, 188.80MB. 1 files... Done. 0:0:0.1\n",
      "100%|██████████| 2138/2138 [00:59<00:00, 35.67it/s]\n",
      "\u001b[34m\u001b[1mwandb\u001b[0m: Downloading large artifact model-2ut170pm:v10, 188.80MB. 1 files... Done. 0:0:0.1\n",
      "100%|██████████| 2138/2138 [01:00<00:00, 35.44it/s]\n",
      "\u001b[34m\u001b[1mwandb\u001b[0m: Downloading large artifact model-1k02nzr1:v7, 188.80MB. 1 files... Done. 0:0:0.1\n",
      "100%|██████████| 2138/2138 [01:00<00:00, 35.29it/s]\n",
      "\u001b[34m\u001b[1mwandb\u001b[0m: Downloading large artifact model-1if96ysv:v13, 188.80MB. 1 files... Done. 0:0:0.1\n",
      "100%|██████████| 2138/2138 [01:00<00:00, 35.28it/s]\n"
     ]
    }
   ],
   "source": [
    "artifacts = [\"vladsmirn_/construction_equipment/model-3b6ghnoz:v9\", #mild-bee-60\n",
    "             \"vladsmirn_/construction_equipment/model-18u6rsng:v8\", #eerie-vampire-94\n",
    "             \"vladsmirn_/construction_equipment/model-2ut170pm:v10\",#paranormal-phantom-96\n",
    "             \"vladsmirn_/construction_equipment/model-1k02nzr1:v7\", #haunted-seance-93\n",
    "             \"vladsmirn_/construction_equipment/model-1if96ysv:v13\",#valiant-durian-66\n",
    "             \n",
    "             \"vladsmirn_/construction_equipment/model-3b6ghnoz:v9\", #mild-bee-60\n",
    "             \"vladsmirn_/construction_equipment/model-18u6rsng:v8\", #eerie-vampire-94\n",
    "             \"vladsmirn_/construction_equipment/model-2ut170pm:v10\",#paranormal-phantom-96\n",
    "             \"vladsmirn_/construction_equipment/model-1k02nzr1:v7\", #haunted-seance-93\n",
    "             \"vladsmirn_/construction_equipment/model-1if96ysv:v13\",#valiant-durian-66\n",
    "             \n",
    "             \"vladsmirn_/construction_equipment/model-3b6ghnoz:v9\", #mild-bee-60\n",
    "             \"vladsmirn_/construction_equipment/model-18u6rsng:v8\", #eerie-vampire-94\n",
    "             \"vladsmirn_/construction_equipment/model-2ut170pm:v10\",#paranormal-phantom-96\n",
    "             \"vladsmirn_/construction_equipment/model-1k02nzr1:v7\", #haunted-seance-93\n",
    "             \"vladsmirn_/construction_equipment/model-1if96ysv:v13\",#valiant-durian-66\n",
    "             \n",
    "             \"vladsmirn_/construction_equipment/model-3b6ghnoz:v9\", #mild-bee-60\n",
    "             \"vladsmirn_/construction_equipment/model-18u6rsng:v8\", #eerie-vampire-94\n",
    "             \"vladsmirn_/construction_equipment/model-2ut170pm:v10\",#paranormal-phantom-96\n",
    "             \"vladsmirn_/construction_equipment/model-1k02nzr1:v7\", #haunted-seance-93\n",
    "             \"vladsmirn_/construction_equipment/model-1if96ysv:v13\",#valiant-durian-66\n",
    "             \n",
    "             \"vladsmirn_/construction_equipment/model-3b6ghnoz:v9\", #mild-bee-60\n",
    "             \"vladsmirn_/construction_equipment/model-18u6rsng:v8\", #eerie-vampire-94\n",
    "             \"vladsmirn_/construction_equipment/model-2ut170pm:v10\",#paranormal-phantom-96\n",
    "             \"vladsmirn_/construction_equipment/model-1k02nzr1:v7\", #haunted-seance-93\n",
    "             \"vladsmirn_/construction_equipment/model-1if96ysv:v13\",#valiant-durian-66\n",
    "             \n",
    "             \"vladsmirn_/construction_equipment/model-3b6ghnoz:v9\", #mild-bee-60\n",
    "             \"vladsmirn_/construction_equipment/model-18u6rsng:v8\", #eerie-vampire-94\n",
    "             \"vladsmirn_/construction_equipment/model-2ut170pm:v10\",#paranormal-phantom-96\n",
    "             \"vladsmirn_/construction_equipment/model-1k02nzr1:v7\", #haunted-seance-93\n",
    "             \"vladsmirn_/construction_equipment/model-1if96ysv:v13\",#valiant-durian-66\n",
    "             \n",
    "             \"vladsmirn_/construction_equipment/model-3b6ghnoz:v9\", #mild-bee-60\n",
    "             \"vladsmirn_/construction_equipment/model-18u6rsng:v8\", #eerie-vampire-94\n",
    "             \"vladsmirn_/construction_equipment/model-2ut170pm:v10\",#paranormal-phantom-96\n",
    "             \"vladsmirn_/construction_equipment/model-1k02nzr1:v7\", #haunted-seance-93\n",
    "             \"vladsmirn_/construction_equipment/model-1if96ysv:v13\",#valiant-durian-66\n",
    "             \n",
    "             \"vladsmirn_/construction_equipment/model-3b6ghnoz:v9\", #mild-bee-60\n",
    "             \"vladsmirn_/construction_equipment/model-18u6rsng:v8\", #eerie-vampire-94\n",
    "             \"vladsmirn_/construction_equipment/model-2ut170pm:v10\",#paranormal-phantom-96\n",
    "             \"vladsmirn_/construction_equipment/model-1k02nzr1:v7\", #haunted-seance-93\n",
    "             \"vladsmirn_/construction_equipment/model-1if96ysv:v13\",#valiant-durian-66\n",
    "            ]\n",
    "\n",
    "model = get_model()\n",
    "first_run = True\n",
    "for artifact in artifacts:\n",
    "    model = download_model_wandb(artifact,model,run)\n",
    "    if first_run == True:\n",
    "        predict = np.array(run_model(test_loader,model))\n",
    "        first_run = False\n",
    "    else:\n",
    "        predict += np.array(run_model(test_loader,model))\n",
    "predict /= len(artifacts)\n",
    "predict = np.argmax(predict,axis=1)\n",
    "predict = predict.tolist()\n"
   ]
  },
  {
   "cell_type": "code",
   "execution_count": 19,
   "id": "86a72f76",
   "metadata": {
    "execution": {
     "iopub.execute_input": "2022-11-02T11:07:00.709974Z",
     "iopub.status.busy": "2022-11-02T11:07:00.709615Z",
     "iopub.status.idle": "2022-11-02T11:07:00.722912Z",
     "shell.execute_reply": "2022-11-02T11:07:00.721850Z"
    },
    "papermill": {
     "duration": 1.16913,
     "end_time": "2022-11-02T11:07:00.725104",
     "exception": false,
     "start_time": "2022-11-02T11:06:59.555974",
     "status": "completed"
    },
    "tags": []
   },
   "outputs": [],
   "source": [
    "test_df[\"class\"] = predict\n",
    "test_df = test_df.drop([\"path\"], axis = 1)\n",
    "test_df.head()\n",
    "\n",
    "test_df.to_csv(\"submit.csv\", index=False)"
   ]
  }
 ],
 "metadata": {
  "kernelspec": {
   "display_name": "Python 3",
   "language": "python",
   "name": "python3"
  },
  "language_info": {
   "codemirror_mode": {
    "name": "ipython",
    "version": 3
   },
   "file_extension": ".py",
   "mimetype": "text/x-python",
   "name": "python",
   "nbconvert_exporter": "python",
   "pygments_lexer": "ipython3",
   "version": "3.7.12"
  },
  "papermill": {
   "default_parameters": {},
   "duration": 2610.292196,
   "end_time": "2022-11-02T11:07:04.550309",
   "environment_variables": {},
   "exception": null,
   "input_path": "__notebook__.ipynb",
   "output_path": "__notebook__.ipynb",
   "parameters": {},
   "start_time": "2022-11-02T10:23:34.258113",
   "version": "2.3.4"
  },
  "widgets": {
   "application/vnd.jupyter.widget-state+json": {
    "state": {
     "067b9a3b46424a73bd3b98332bd94b90": {
      "model_module": "@jupyter-widgets/controls",
      "model_module_version": "1.5.0",
      "model_name": "HTMLModel",
      "state": {
       "_dom_classes": [],
       "_model_module": "@jupyter-widgets/controls",
       "_model_module_version": "1.5.0",
       "_model_name": "HTMLModel",
       "_view_count": null,
       "_view_module": "@jupyter-widgets/controls",
       "_view_module_version": "1.5.0",
       "_view_name": "HTMLView",
       "description": "",
       "description_tooltip": null,
       "layout": "IPY_MODEL_194ada44597e4a16b8c134ae7f5d39eb",
       "placeholder": "​",
       "style": "IPY_MODEL_509500dbe89b40df8daed9dd30cad977",
       "value": "100%"
      }
     },
     "1296cad3ef194fffb76c2624ed0d4eb0": {
      "model_module": "@jupyter-widgets/base",
      "model_module_version": "1.2.0",
      "model_name": "LayoutModel",
      "state": {
       "_model_module": "@jupyter-widgets/base",
       "_model_module_version": "1.2.0",
       "_model_name": "LayoutModel",
       "_view_count": null,
       "_view_module": "@jupyter-widgets/base",
       "_view_module_version": "1.2.0",
       "_view_name": "LayoutView",
       "align_content": null,
       "align_items": null,
       "align_self": null,
       "border": null,
       "bottom": null,
       "display": null,
       "flex": null,
       "flex_flow": null,
       "grid_area": null,
       "grid_auto_columns": null,
       "grid_auto_flow": null,
       "grid_auto_rows": null,
       "grid_column": null,
       "grid_gap": null,
       "grid_row": null,
       "grid_template_areas": null,
       "grid_template_columns": null,
       "grid_template_rows": null,
       "height": null,
       "justify_content": null,
       "justify_items": null,
       "left": null,
       "margin": null,
       "max_height": null,
       "max_width": null,
       "min_height": null,
       "min_width": null,
       "object_fit": null,
       "object_position": null,
       "order": null,
       "overflow": null,
       "overflow_x": null,
       "overflow_y": null,
       "padding": null,
       "right": null,
       "top": null,
       "visibility": null,
       "width": null
      }
     },
     "194ada44597e4a16b8c134ae7f5d39eb": {
      "model_module": "@jupyter-widgets/base",
      "model_module_version": "1.2.0",
      "model_name": "LayoutModel",
      "state": {
       "_model_module": "@jupyter-widgets/base",
       "_model_module_version": "1.2.0",
       "_model_name": "LayoutModel",
       "_view_count": null,
       "_view_module": "@jupyter-widgets/base",
       "_view_module_version": "1.2.0",
       "_view_name": "LayoutView",
       "align_content": null,
       "align_items": null,
       "align_self": null,
       "border": null,
       "bottom": null,
       "display": null,
       "flex": null,
       "flex_flow": null,
       "grid_area": null,
       "grid_auto_columns": null,
       "grid_auto_flow": null,
       "grid_auto_rows": null,
       "grid_column": null,
       "grid_gap": null,
       "grid_row": null,
       "grid_template_areas": null,
       "grid_template_columns": null,
       "grid_template_rows": null,
       "height": null,
       "justify_content": null,
       "justify_items": null,
       "left": null,
       "margin": null,
       "max_height": null,
       "max_width": null,
       "min_height": null,
       "min_width": null,
       "object_fit": null,
       "object_position": null,
       "order": null,
       "overflow": null,
       "overflow_x": null,
       "overflow_y": null,
       "padding": null,
       "right": null,
       "top": null,
       "visibility": null,
       "width": null
      }
     },
     "22c7767efc75423aa6c799a101fe2ac8": {
      "model_module": "@jupyter-widgets/controls",
      "model_module_version": "1.5.0",
      "model_name": "HBoxModel",
      "state": {
       "_dom_classes": [],
       "_model_module": "@jupyter-widgets/controls",
       "_model_module_version": "1.5.0",
       "_model_name": "HBoxModel",
       "_view_count": null,
       "_view_module": "@jupyter-widgets/controls",
       "_view_module_version": "1.5.0",
       "_view_name": "HBoxView",
       "box_style": "",
       "children": [
        "IPY_MODEL_067b9a3b46424a73bd3b98332bd94b90",
        "IPY_MODEL_6f4ea43eaa2546b08bd180c7acc1e373",
        "IPY_MODEL_d863fc5c74134d54b1b186dc26580a0f"
       ],
       "layout": "IPY_MODEL_aaf04514636b4e8c9545bfabfdc72443"
      }
     },
     "2d20309c9cc444299d2bffba2f74f26f": {
      "model_module": "@jupyter-widgets/base",
      "model_module_version": "1.2.0",
      "model_name": "LayoutModel",
      "state": {
       "_model_module": "@jupyter-widgets/base",
       "_model_module_version": "1.2.0",
       "_model_name": "LayoutModel",
       "_view_count": null,
       "_view_module": "@jupyter-widgets/base",
       "_view_module_version": "1.2.0",
       "_view_name": "LayoutView",
       "align_content": null,
       "align_items": null,
       "align_self": null,
       "border": null,
       "bottom": null,
       "display": null,
       "flex": null,
       "flex_flow": null,
       "grid_area": null,
       "grid_auto_columns": null,
       "grid_auto_flow": null,
       "grid_auto_rows": null,
       "grid_column": null,
       "grid_gap": null,
       "grid_row": null,
       "grid_template_areas": null,
       "grid_template_columns": null,
       "grid_template_rows": null,
       "height": null,
       "justify_content": null,
       "justify_items": null,
       "left": null,
       "margin": null,
       "max_height": null,
       "max_width": null,
       "min_height": null,
       "min_width": null,
       "object_fit": null,
       "object_position": null,
       "order": null,
       "overflow": null,
       "overflow_x": null,
       "overflow_y": null,
       "padding": null,
       "right": null,
       "top": null,
       "visibility": null,
       "width": null
      }
     },
     "2f527580ec344b05a9405f366c928ca1": {
      "model_module": "@jupyter-widgets/controls",
      "model_module_version": "1.5.0",
      "model_name": "ProgressStyleModel",
      "state": {
       "_model_module": "@jupyter-widgets/controls",
       "_model_module_version": "1.5.0",
       "_model_name": "ProgressStyleModel",
       "_view_count": null,
       "_view_module": "@jupyter-widgets/base",
       "_view_module_version": "1.2.0",
       "_view_name": "StyleView",
       "bar_color": null,
       "description_width": ""
      }
     },
     "336e9523d5eb4f439a03f92d6dbfed73": {
      "model_module": "@jupyter-widgets/controls",
      "model_module_version": "1.5.0",
      "model_name": "FloatProgressModel",
      "state": {
       "_dom_classes": [],
       "_model_module": "@jupyter-widgets/controls",
       "_model_module_version": "1.5.0",
       "_model_name": "FloatProgressModel",
       "_view_count": null,
       "_view_module": "@jupyter-widgets/controls",
       "_view_module_version": "1.5.0",
       "_view_name": "ProgressView",
       "bar_style": "",
       "description": "",
       "description_tooltip": null,
       "layout": "IPY_MODEL_801de306ab94403aaf691db4cfa27579",
       "max": 1.0,
       "min": 0.0,
       "orientation": "horizontal",
       "style": "IPY_MODEL_2f527580ec344b05a9405f366c928ca1",
       "value": 0.0
      }
     },
     "352b48367d824b2cbed4d8517e5451c1": {
      "model_module": "@jupyter-widgets/controls",
      "model_module_version": "1.5.0",
      "model_name": "ProgressStyleModel",
      "state": {
       "_model_module": "@jupyter-widgets/controls",
       "_model_module_version": "1.5.0",
       "_model_name": "ProgressStyleModel",
       "_view_count": null,
       "_view_module": "@jupyter-widgets/base",
       "_view_module_version": "1.2.0",
       "_view_name": "StyleView",
       "bar_color": null,
       "description_width": ""
      }
     },
     "387b4d35757b4f8dac069328662d6163": {
      "model_module": "@jupyter-widgets/base",
      "model_module_version": "1.2.0",
      "model_name": "LayoutModel",
      "state": {
       "_model_module": "@jupyter-widgets/base",
       "_model_module_version": "1.2.0",
       "_model_name": "LayoutModel",
       "_view_count": null,
       "_view_module": "@jupyter-widgets/base",
       "_view_module_version": "1.2.0",
       "_view_name": "LayoutView",
       "align_content": null,
       "align_items": null,
       "align_self": null,
       "border": null,
       "bottom": null,
       "display": null,
       "flex": null,
       "flex_flow": null,
       "grid_area": null,
       "grid_auto_columns": null,
       "grid_auto_flow": null,
       "grid_auto_rows": null,
       "grid_column": null,
       "grid_gap": null,
       "grid_row": null,
       "grid_template_areas": null,
       "grid_template_columns": null,
       "grid_template_rows": null,
       "height": null,
       "justify_content": null,
       "justify_items": null,
       "left": null,
       "margin": null,
       "max_height": null,
       "max_width": null,
       "min_height": null,
       "min_width": null,
       "object_fit": null,
       "object_position": null,
       "order": null,
       "overflow": null,
       "overflow_x": null,
       "overflow_y": null,
       "padding": null,
       "right": null,
       "top": null,
       "visibility": null,
       "width": null
      }
     },
     "509500dbe89b40df8daed9dd30cad977": {
      "model_module": "@jupyter-widgets/controls",
      "model_module_version": "1.5.0",
      "model_name": "DescriptionStyleModel",
      "state": {
       "_model_module": "@jupyter-widgets/controls",
       "_model_module_version": "1.5.0",
       "_model_name": "DescriptionStyleModel",
       "_view_count": null,
       "_view_module": "@jupyter-widgets/base",
       "_view_module_version": "1.2.0",
       "_view_name": "StyleView",
       "description_width": ""
      }
     },
     "559206aa461449d48501999b06e6fd05": {
      "model_module": "@jupyter-widgets/controls",
      "model_module_version": "1.5.0",
      "model_name": "VBoxModel",
      "state": {
       "_dom_classes": [],
       "_model_module": "@jupyter-widgets/controls",
       "_model_module_version": "1.5.0",
       "_model_name": "VBoxModel",
       "_view_count": null,
       "_view_module": "@jupyter-widgets/controls",
       "_view_module_version": "1.5.0",
       "_view_name": "VBoxView",
       "box_style": "",
       "children": [
        "IPY_MODEL_7a464b9e75f5406ebbdb373a7df883cc",
        "IPY_MODEL_b66420a7494845199b56227f0e995ca5"
       ],
       "layout": "IPY_MODEL_ca2b500826c444d984d84c8de28ff024"
      }
     },
     "58efb0fc41ff4f608c5253751e2241fd": {
      "model_module": "@jupyter-widgets/controls",
      "model_module_version": "1.5.0",
      "model_name": "DescriptionStyleModel",
      "state": {
       "_model_module": "@jupyter-widgets/controls",
       "_model_module_version": "1.5.0",
       "_model_name": "DescriptionStyleModel",
       "_view_count": null,
       "_view_module": "@jupyter-widgets/base",
       "_view_module_version": "1.2.0",
       "_view_name": "StyleView",
       "description_width": ""
      }
     },
     "5a14fd1e7dbb4fe0add6f4345ddc82a0": {
      "model_module": "@jupyter-widgets/controls",
      "model_module_version": "1.5.0",
      "model_name": "LabelModel",
      "state": {
       "_dom_classes": [],
       "_model_module": "@jupyter-widgets/controls",
       "_model_module_version": "1.5.0",
       "_model_name": "LabelModel",
       "_view_count": null,
       "_view_module": "@jupyter-widgets/controls",
       "_view_module_version": "1.5.0",
       "_view_name": "LabelView",
       "description": "",
       "description_tooltip": null,
       "layout": "IPY_MODEL_2d20309c9cc444299d2bffba2f74f26f",
       "placeholder": "​",
       "style": "IPY_MODEL_930e7b6730364465b987c4a6087645cd",
       "value": ""
      }
     },
     "5b87c89b91964b9c8932835bc2664298": {
      "model_module": "@jupyter-widgets/base",
      "model_module_version": "1.2.0",
      "model_name": "LayoutModel",
      "state": {
       "_model_module": "@jupyter-widgets/base",
       "_model_module_version": "1.2.0",
       "_model_name": "LayoutModel",
       "_view_count": null,
       "_view_module": "@jupyter-widgets/base",
       "_view_module_version": "1.2.0",
       "_view_name": "LayoutView",
       "align_content": null,
       "align_items": null,
       "align_self": null,
       "border": null,
       "bottom": null,
       "display": null,
       "flex": null,
       "flex_flow": null,
       "grid_area": null,
       "grid_auto_columns": null,
       "grid_auto_flow": null,
       "grid_auto_rows": null,
       "grid_column": null,
       "grid_gap": null,
       "grid_row": null,
       "grid_template_areas": null,
       "grid_template_columns": null,
       "grid_template_rows": null,
       "height": null,
       "justify_content": null,
       "justify_items": null,
       "left": null,
       "margin": null,
       "max_height": null,
       "max_width": null,
       "min_height": null,
       "min_width": null,
       "object_fit": null,
       "object_position": null,
       "order": null,
       "overflow": null,
       "overflow_x": null,
       "overflow_y": null,
       "padding": null,
       "right": null,
       "top": null,
       "visibility": null,
       "width": null
      }
     },
     "5cacba9156bd43b18eb2605b01471fc8": {
      "model_module": "@jupyter-widgets/controls",
      "model_module_version": "1.5.0",
      "model_name": "LabelModel",
      "state": {
       "_dom_classes": [],
       "_model_module": "@jupyter-widgets/controls",
       "_model_module_version": "1.5.0",
       "_model_name": "LabelModel",
       "_view_count": null,
       "_view_module": "@jupyter-widgets/controls",
       "_view_module_version": "1.5.0",
       "_view_name": "LabelView",
       "description": "",
       "description_tooltip": null,
       "layout": "IPY_MODEL_e624150a6beb4d3ea26339b6d0492b5d",
       "placeholder": "​",
       "style": "IPY_MODEL_c35f1614164d40e0889d45d534e439d7",
       "value": ""
      }
     },
     "64fffdf57806468fa5817a43be7a8a71": {
      "model_module": "@jupyter-widgets/base",
      "model_module_version": "1.2.0",
      "model_name": "LayoutModel",
      "state": {
       "_model_module": "@jupyter-widgets/base",
       "_model_module_version": "1.2.0",
       "_model_name": "LayoutModel",
       "_view_count": null,
       "_view_module": "@jupyter-widgets/base",
       "_view_module_version": "1.2.0",
       "_view_name": "LayoutView",
       "align_content": null,
       "align_items": null,
       "align_self": null,
       "border": null,
       "bottom": null,
       "display": null,
       "flex": null,
       "flex_flow": null,
       "grid_area": null,
       "grid_auto_columns": null,
       "grid_auto_flow": null,
       "grid_auto_rows": null,
       "grid_column": null,
       "grid_gap": null,
       "grid_row": null,
       "grid_template_areas": null,
       "grid_template_columns": null,
       "grid_template_rows": null,
       "height": null,
       "justify_content": null,
       "justify_items": null,
       "left": null,
       "margin": null,
       "max_height": null,
       "max_width": null,
       "min_height": null,
       "min_width": null,
       "object_fit": null,
       "object_position": null,
       "order": null,
       "overflow": null,
       "overflow_x": null,
       "overflow_y": null,
       "padding": null,
       "right": null,
       "top": null,
       "visibility": null,
       "width": null
      }
     },
     "6880e19704804b6dae422f25e4b51fa3": {
      "model_module": "@jupyter-widgets/base",
      "model_module_version": "1.2.0",
      "model_name": "LayoutModel",
      "state": {
       "_model_module": "@jupyter-widgets/base",
       "_model_module_version": "1.2.0",
       "_model_name": "LayoutModel",
       "_view_count": null,
       "_view_module": "@jupyter-widgets/base",
       "_view_module_version": "1.2.0",
       "_view_name": "LayoutView",
       "align_content": null,
       "align_items": null,
       "align_self": null,
       "border": null,
       "bottom": null,
       "display": null,
       "flex": null,
       "flex_flow": null,
       "grid_area": null,
       "grid_auto_columns": null,
       "grid_auto_flow": null,
       "grid_auto_rows": null,
       "grid_column": null,
       "grid_gap": null,
       "grid_row": null,
       "grid_template_areas": null,
       "grid_template_columns": null,
       "grid_template_rows": null,
       "height": null,
       "justify_content": null,
       "justify_items": null,
       "left": null,
       "margin": null,
       "max_height": null,
       "max_width": null,
       "min_height": null,
       "min_width": null,
       "object_fit": null,
       "object_position": null,
       "order": null,
       "overflow": null,
       "overflow_x": null,
       "overflow_y": null,
       "padding": null,
       "right": null,
       "top": null,
       "visibility": null,
       "width": null
      }
     },
     "6a445089e7dc4e9591fca5c2441b3503": {
      "model_module": "@jupyter-widgets/controls",
      "model_module_version": "1.5.0",
      "model_name": "FloatProgressModel",
      "state": {
       "_dom_classes": [],
       "_model_module": "@jupyter-widgets/controls",
       "_model_module_version": "1.5.0",
       "_model_name": "FloatProgressModel",
       "_view_count": null,
       "_view_module": "@jupyter-widgets/controls",
       "_view_module_version": "1.5.0",
       "_view_name": "ProgressView",
       "bar_style": "",
       "description": "",
       "description_tooltip": null,
       "layout": "IPY_MODEL_6880e19704804b6dae422f25e4b51fa3",
       "max": 1.0,
       "min": 0.0,
       "orientation": "horizontal",
       "style": "IPY_MODEL_352b48367d824b2cbed4d8517e5451c1",
       "value": 0.0
      }
     },
     "6cf99b72d8da4b038be39c5f8ba0812a": {
      "model_module": "@jupyter-widgets/controls",
      "model_module_version": "1.5.0",
      "model_name": "VBoxModel",
      "state": {
       "_dom_classes": [],
       "_model_module": "@jupyter-widgets/controls",
       "_model_module_version": "1.5.0",
       "_model_name": "VBoxModel",
       "_view_count": null,
       "_view_module": "@jupyter-widgets/controls",
       "_view_module_version": "1.5.0",
       "_view_name": "VBoxView",
       "box_style": "",
       "children": [
        "IPY_MODEL_89d9cf03c074401da5d6179c37d3fe9a",
        "IPY_MODEL_c158403811ed4c71b801ff971c94318c"
       ],
       "layout": "IPY_MODEL_a8dd860a19d84f0cabddcacdc445ac6d"
      }
     },
     "6e883d56354c4c249077ead5aad8784f": {
      "model_module": "@jupyter-widgets/base",
      "model_module_version": "1.2.0",
      "model_name": "LayoutModel",
      "state": {
       "_model_module": "@jupyter-widgets/base",
       "_model_module_version": "1.2.0",
       "_model_name": "LayoutModel",
       "_view_count": null,
       "_view_module": "@jupyter-widgets/base",
       "_view_module_version": "1.2.0",
       "_view_name": "LayoutView",
       "align_content": null,
       "align_items": null,
       "align_self": null,
       "border": null,
       "bottom": null,
       "display": null,
       "flex": null,
       "flex_flow": null,
       "grid_area": null,
       "grid_auto_columns": null,
       "grid_auto_flow": null,
       "grid_auto_rows": null,
       "grid_column": null,
       "grid_gap": null,
       "grid_row": null,
       "grid_template_areas": null,
       "grid_template_columns": null,
       "grid_template_rows": null,
       "height": null,
       "justify_content": null,
       "justify_items": null,
       "left": null,
       "margin": null,
       "max_height": null,
       "max_width": null,
       "min_height": null,
       "min_width": null,
       "object_fit": null,
       "object_position": null,
       "order": null,
       "overflow": null,
       "overflow_x": null,
       "overflow_y": null,
       "padding": null,
       "right": null,
       "top": null,
       "visibility": null,
       "width": null
      }
     },
     "6f4ea43eaa2546b08bd180c7acc1e373": {
      "model_module": "@jupyter-widgets/controls",
      "model_module_version": "1.5.0",
      "model_name": "FloatProgressModel",
      "state": {
       "_dom_classes": [],
       "_model_module": "@jupyter-widgets/controls",
       "_model_module_version": "1.5.0",
       "_model_name": "FloatProgressModel",
       "_view_count": null,
       "_view_module": "@jupyter-widgets/controls",
       "_view_module_version": "1.5.0",
       "_view_name": "ProgressView",
       "bar_style": "success",
       "description": "",
       "description_tooltip": null,
       "layout": "IPY_MODEL_1296cad3ef194fffb76c2624ed0d4eb0",
       "max": 201014929.0,
       "min": 0.0,
       "orientation": "horizontal",
       "style": "IPY_MODEL_e5b89fab8dc64e3397f6911423c2e2c8",
       "value": 201014929.0
      }
     },
     "712a371e46234c2b8b0eaffa4e0c17ec": {
      "model_module": "@jupyter-widgets/base",
      "model_module_version": "1.2.0",
      "model_name": "LayoutModel",
      "state": {
       "_model_module": "@jupyter-widgets/base",
       "_model_module_version": "1.2.0",
       "_model_name": "LayoutModel",
       "_view_count": null,
       "_view_module": "@jupyter-widgets/base",
       "_view_module_version": "1.2.0",
       "_view_name": "LayoutView",
       "align_content": null,
       "align_items": null,
       "align_self": null,
       "border": null,
       "bottom": null,
       "display": null,
       "flex": null,
       "flex_flow": null,
       "grid_area": null,
       "grid_auto_columns": null,
       "grid_auto_flow": null,
       "grid_auto_rows": null,
       "grid_column": null,
       "grid_gap": null,
       "grid_row": null,
       "grid_template_areas": null,
       "grid_template_columns": null,
       "grid_template_rows": null,
       "height": null,
       "justify_content": null,
       "justify_items": null,
       "left": null,
       "margin": null,
       "max_height": null,
       "max_width": null,
       "min_height": null,
       "min_width": null,
       "object_fit": null,
       "object_position": null,
       "order": null,
       "overflow": null,
       "overflow_x": null,
       "overflow_y": null,
       "padding": null,
       "right": null,
       "top": null,
       "visibility": null,
       "width": null
      }
     },
     "7a464b9e75f5406ebbdb373a7df883cc": {
      "model_module": "@jupyter-widgets/controls",
      "model_module_version": "1.5.0",
      "model_name": "LabelModel",
      "state": {
       "_dom_classes": [],
       "_model_module": "@jupyter-widgets/controls",
       "_model_module_version": "1.5.0",
       "_model_name": "LabelModel",
       "_view_count": null,
       "_view_module": "@jupyter-widgets/controls",
       "_view_module_version": "1.5.0",
       "_view_name": "LabelView",
       "description": "",
       "description_tooltip": null,
       "layout": "IPY_MODEL_712a371e46234c2b8b0eaffa4e0c17ec",
       "placeholder": "​",
       "style": "IPY_MODEL_99938f73fc994402a796f9395f2ec23d",
       "value": ""
      }
     },
     "801de306ab94403aaf691db4cfa27579": {
      "model_module": "@jupyter-widgets/base",
      "model_module_version": "1.2.0",
      "model_name": "LayoutModel",
      "state": {
       "_model_module": "@jupyter-widgets/base",
       "_model_module_version": "1.2.0",
       "_model_name": "LayoutModel",
       "_view_count": null,
       "_view_module": "@jupyter-widgets/base",
       "_view_module_version": "1.2.0",
       "_view_name": "LayoutView",
       "align_content": null,
       "align_items": null,
       "align_self": null,
       "border": null,
       "bottom": null,
       "display": null,
       "flex": null,
       "flex_flow": null,
       "grid_area": null,
       "grid_auto_columns": null,
       "grid_auto_flow": null,
       "grid_auto_rows": null,
       "grid_column": null,
       "grid_gap": null,
       "grid_row": null,
       "grid_template_areas": null,
       "grid_template_columns": null,
       "grid_template_rows": null,
       "height": null,
       "justify_content": null,
       "justify_items": null,
       "left": null,
       "margin": null,
       "max_height": null,
       "max_width": null,
       "min_height": null,
       "min_width": null,
       "object_fit": null,
       "object_position": null,
       "order": null,
       "overflow": null,
       "overflow_x": null,
       "overflow_y": null,
       "padding": null,
       "right": null,
       "top": null,
       "visibility": null,
       "width": null
      }
     },
     "89d9cf03c074401da5d6179c37d3fe9a": {
      "model_module": "@jupyter-widgets/controls",
      "model_module_version": "1.5.0",
      "model_name": "LabelModel",
      "state": {
       "_dom_classes": [],
       "_model_module": "@jupyter-widgets/controls",
       "_model_module_version": "1.5.0",
       "_model_name": "LabelModel",
       "_view_count": null,
       "_view_module": "@jupyter-widgets/controls",
       "_view_module_version": "1.5.0",
       "_view_name": "LabelView",
       "description": "",
       "description_tooltip": null,
       "layout": "IPY_MODEL_64fffdf57806468fa5817a43be7a8a71",
       "placeholder": "​",
       "style": "IPY_MODEL_de3201f545fa4712a5da9ff5981f87f6",
       "value": "0.042 MB of 0.042 MB uploaded (0.000 MB deduped)\r"
      }
     },
     "930e7b6730364465b987c4a6087645cd": {
      "model_module": "@jupyter-widgets/controls",
      "model_module_version": "1.5.0",
      "model_name": "DescriptionStyleModel",
      "state": {
       "_model_module": "@jupyter-widgets/controls",
       "_model_module_version": "1.5.0",
       "_model_name": "DescriptionStyleModel",
       "_view_count": null,
       "_view_module": "@jupyter-widgets/base",
       "_view_module_version": "1.2.0",
       "_view_name": "StyleView",
       "description_width": ""
      }
     },
     "9529c46805044e8bb724ca3fdf0f4ef1": {
      "model_module": "@jupyter-widgets/base",
      "model_module_version": "1.2.0",
      "model_name": "LayoutModel",
      "state": {
       "_model_module": "@jupyter-widgets/base",
       "_model_module_version": "1.2.0",
       "_model_name": "LayoutModel",
       "_view_count": null,
       "_view_module": "@jupyter-widgets/base",
       "_view_module_version": "1.2.0",
       "_view_name": "LayoutView",
       "align_content": null,
       "align_items": null,
       "align_self": null,
       "border": null,
       "bottom": null,
       "display": null,
       "flex": null,
       "flex_flow": null,
       "grid_area": null,
       "grid_auto_columns": null,
       "grid_auto_flow": null,
       "grid_auto_rows": null,
       "grid_column": null,
       "grid_gap": null,
       "grid_row": null,
       "grid_template_areas": null,
       "grid_template_columns": null,
       "grid_template_rows": null,
       "height": null,
       "justify_content": null,
       "justify_items": null,
       "left": null,
       "margin": null,
       "max_height": null,
       "max_width": null,
       "min_height": null,
       "min_width": null,
       "object_fit": null,
       "object_position": null,
       "order": null,
       "overflow": null,
       "overflow_x": null,
       "overflow_y": null,
       "padding": null,
       "right": null,
       "top": null,
       "visibility": null,
       "width": null
      }
     },
     "99938f73fc994402a796f9395f2ec23d": {
      "model_module": "@jupyter-widgets/controls",
      "model_module_version": "1.5.0",
      "model_name": "DescriptionStyleModel",
      "state": {
       "_model_module": "@jupyter-widgets/controls",
       "_model_module_version": "1.5.0",
       "_model_name": "DescriptionStyleModel",
       "_view_count": null,
       "_view_module": "@jupyter-widgets/base",
       "_view_module_version": "1.2.0",
       "_view_name": "StyleView",
       "description_width": ""
      }
     },
     "a08ddd97af8c4d9a9c581705174b8310": {
      "model_module": "@jupyter-widgets/controls",
      "model_module_version": "1.5.0",
      "model_name": "ProgressStyleModel",
      "state": {
       "_model_module": "@jupyter-widgets/controls",
       "_model_module_version": "1.5.0",
       "_model_name": "ProgressStyleModel",
       "_view_count": null,
       "_view_module": "@jupyter-widgets/base",
       "_view_module_version": "1.2.0",
       "_view_name": "StyleView",
       "bar_color": null,
       "description_width": ""
      }
     },
     "a8dd860a19d84f0cabddcacdc445ac6d": {
      "model_module": "@jupyter-widgets/base",
      "model_module_version": "1.2.0",
      "model_name": "LayoutModel",
      "state": {
       "_model_module": "@jupyter-widgets/base",
       "_model_module_version": "1.2.0",
       "_model_name": "LayoutModel",
       "_view_count": null,
       "_view_module": "@jupyter-widgets/base",
       "_view_module_version": "1.2.0",
       "_view_name": "LayoutView",
       "align_content": null,
       "align_items": null,
       "align_self": null,
       "border": null,
       "bottom": null,
       "display": null,
       "flex": null,
       "flex_flow": null,
       "grid_area": null,
       "grid_auto_columns": null,
       "grid_auto_flow": null,
       "grid_auto_rows": null,
       "grid_column": null,
       "grid_gap": null,
       "grid_row": null,
       "grid_template_areas": null,
       "grid_template_columns": null,
       "grid_template_rows": null,
       "height": null,
       "justify_content": null,
       "justify_items": null,
       "left": null,
       "margin": null,
       "max_height": null,
       "max_width": null,
       "min_height": null,
       "min_width": null,
       "object_fit": null,
       "object_position": null,
       "order": null,
       "overflow": null,
       "overflow_x": null,
       "overflow_y": null,
       "padding": null,
       "right": null,
       "top": null,
       "visibility": null,
       "width": null
      }
     },
     "aaf04514636b4e8c9545bfabfdc72443": {
      "model_module": "@jupyter-widgets/base",
      "model_module_version": "1.2.0",
      "model_name": "LayoutModel",
      "state": {
       "_model_module": "@jupyter-widgets/base",
       "_model_module_version": "1.2.0",
       "_model_name": "LayoutModel",
       "_view_count": null,
       "_view_module": "@jupyter-widgets/base",
       "_view_module_version": "1.2.0",
       "_view_name": "LayoutView",
       "align_content": null,
       "align_items": null,
       "align_self": null,
       "border": null,
       "bottom": null,
       "display": null,
       "flex": null,
       "flex_flow": null,
       "grid_area": null,
       "grid_auto_columns": null,
       "grid_auto_flow": null,
       "grid_auto_rows": null,
       "grid_column": null,
       "grid_gap": null,
       "grid_row": null,
       "grid_template_areas": null,
       "grid_template_columns": null,
       "grid_template_rows": null,
       "height": null,
       "justify_content": null,
       "justify_items": null,
       "left": null,
       "margin": null,
       "max_height": null,
       "max_width": null,
       "min_height": null,
       "min_width": null,
       "object_fit": null,
       "object_position": null,
       "order": null,
       "overflow": null,
       "overflow_x": null,
       "overflow_y": null,
       "padding": null,
       "right": null,
       "top": null,
       "visibility": null,
       "width": null
      }
     },
     "b66420a7494845199b56227f0e995ca5": {
      "model_module": "@jupyter-widgets/controls",
      "model_module_version": "1.5.0",
      "model_name": "FloatProgressModel",
      "state": {
       "_dom_classes": [],
       "_model_module": "@jupyter-widgets/controls",
       "_model_module_version": "1.5.0",
       "_model_name": "FloatProgressModel",
       "_view_count": null,
       "_view_module": "@jupyter-widgets/controls",
       "_view_module_version": "1.5.0",
       "_view_name": "ProgressView",
       "bar_style": "",
       "description": "",
       "description_tooltip": null,
       "layout": "IPY_MODEL_5b87c89b91964b9c8932835bc2664298",
       "max": 1.0,
       "min": 0.0,
       "orientation": "horizontal",
       "style": "IPY_MODEL_a08ddd97af8c4d9a9c581705174b8310",
       "value": 0.0
      }
     },
     "c158403811ed4c71b801ff971c94318c": {
      "model_module": "@jupyter-widgets/controls",
      "model_module_version": "1.5.0",
      "model_name": "FloatProgressModel",
      "state": {
       "_dom_classes": [],
       "_model_module": "@jupyter-widgets/controls",
       "_model_module_version": "1.5.0",
       "_model_name": "FloatProgressModel",
       "_view_count": null,
       "_view_module": "@jupyter-widgets/controls",
       "_view_module_version": "1.5.0",
       "_view_name": "ProgressView",
       "bar_style": "",
       "description": "",
       "description_tooltip": null,
       "layout": "IPY_MODEL_f6a7bfd0d737449f9ba3ff2b282cd1d9",
       "max": 1.0,
       "min": 0.0,
       "orientation": "horizontal",
       "style": "IPY_MODEL_ce27a335af6c4a6eb59513b10e8ae9bc",
       "value": 1.0
      }
     },
     "c35f1614164d40e0889d45d534e439d7": {
      "model_module": "@jupyter-widgets/controls",
      "model_module_version": "1.5.0",
      "model_name": "DescriptionStyleModel",
      "state": {
       "_model_module": "@jupyter-widgets/controls",
       "_model_module_version": "1.5.0",
       "_model_name": "DescriptionStyleModel",
       "_view_count": null,
       "_view_module": "@jupyter-widgets/base",
       "_view_module_version": "1.2.0",
       "_view_name": "StyleView",
       "description_width": ""
      }
     },
     "ca2b500826c444d984d84c8de28ff024": {
      "model_module": "@jupyter-widgets/base",
      "model_module_version": "1.2.0",
      "model_name": "LayoutModel",
      "state": {
       "_model_module": "@jupyter-widgets/base",
       "_model_module_version": "1.2.0",
       "_model_name": "LayoutModel",
       "_view_count": null,
       "_view_module": "@jupyter-widgets/base",
       "_view_module_version": "1.2.0",
       "_view_name": "LayoutView",
       "align_content": null,
       "align_items": null,
       "align_self": null,
       "border": null,
       "bottom": null,
       "display": null,
       "flex": null,
       "flex_flow": null,
       "grid_area": null,
       "grid_auto_columns": null,
       "grid_auto_flow": null,
       "grid_auto_rows": null,
       "grid_column": null,
       "grid_gap": null,
       "grid_row": null,
       "grid_template_areas": null,
       "grid_template_columns": null,
       "grid_template_rows": null,
       "height": null,
       "justify_content": null,
       "justify_items": null,
       "left": null,
       "margin": null,
       "max_height": null,
       "max_width": null,
       "min_height": null,
       "min_width": null,
       "object_fit": null,
       "object_position": null,
       "order": null,
       "overflow": null,
       "overflow_x": null,
       "overflow_y": null,
       "padding": null,
       "right": null,
       "top": null,
       "visibility": null,
       "width": null
      }
     },
     "ce27a335af6c4a6eb59513b10e8ae9bc": {
      "model_module": "@jupyter-widgets/controls",
      "model_module_version": "1.5.0",
      "model_name": "ProgressStyleModel",
      "state": {
       "_model_module": "@jupyter-widgets/controls",
       "_model_module_version": "1.5.0",
       "_model_name": "ProgressStyleModel",
       "_view_count": null,
       "_view_module": "@jupyter-widgets/base",
       "_view_module_version": "1.2.0",
       "_view_name": "StyleView",
       "bar_color": null,
       "description_width": ""
      }
     },
     "d16d36767aaa47879dbf00fa0ee17f6f": {
      "model_module": "@jupyter-widgets/controls",
      "model_module_version": "1.5.0",
      "model_name": "VBoxModel",
      "state": {
       "_dom_classes": [],
       "_model_module": "@jupyter-widgets/controls",
       "_model_module_version": "1.5.0",
       "_model_name": "VBoxModel",
       "_view_count": null,
       "_view_module": "@jupyter-widgets/controls",
       "_view_module_version": "1.5.0",
       "_view_name": "VBoxView",
       "box_style": "",
       "children": [
        "IPY_MODEL_5cacba9156bd43b18eb2605b01471fc8",
        "IPY_MODEL_336e9523d5eb4f439a03f92d6dbfed73"
       ],
       "layout": "IPY_MODEL_387b4d35757b4f8dac069328662d6163"
      }
     },
     "d863fc5c74134d54b1b186dc26580a0f": {
      "model_module": "@jupyter-widgets/controls",
      "model_module_version": "1.5.0",
      "model_name": "HTMLModel",
      "state": {
       "_dom_classes": [],
       "_model_module": "@jupyter-widgets/controls",
       "_model_module_version": "1.5.0",
       "_model_name": "HTMLModel",
       "_view_count": null,
       "_view_module": "@jupyter-widgets/controls",
       "_view_module_version": "1.5.0",
       "_view_name": "HTMLView",
       "description": "",
       "description_tooltip": null,
       "layout": "IPY_MODEL_9529c46805044e8bb724ca3fdf0f4ef1",
       "placeholder": "​",
       "style": "IPY_MODEL_58efb0fc41ff4f608c5253751e2241fd",
       "value": " 192M/192M [00:09&lt;00:00, 23.8MB/s]"
      }
     },
     "de3201f545fa4712a5da9ff5981f87f6": {
      "model_module": "@jupyter-widgets/controls",
      "model_module_version": "1.5.0",
      "model_name": "DescriptionStyleModel",
      "state": {
       "_model_module": "@jupyter-widgets/controls",
       "_model_module_version": "1.5.0",
       "_model_name": "DescriptionStyleModel",
       "_view_count": null,
       "_view_module": "@jupyter-widgets/base",
       "_view_module_version": "1.2.0",
       "_view_name": "StyleView",
       "description_width": ""
      }
     },
     "e5b89fab8dc64e3397f6911423c2e2c8": {
      "model_module": "@jupyter-widgets/controls",
      "model_module_version": "1.5.0",
      "model_name": "ProgressStyleModel",
      "state": {
       "_model_module": "@jupyter-widgets/controls",
       "_model_module_version": "1.5.0",
       "_model_name": "ProgressStyleModel",
       "_view_count": null,
       "_view_module": "@jupyter-widgets/base",
       "_view_module_version": "1.2.0",
       "_view_name": "StyleView",
       "bar_color": null,
       "description_width": ""
      }
     },
     "e624150a6beb4d3ea26339b6d0492b5d": {
      "model_module": "@jupyter-widgets/base",
      "model_module_version": "1.2.0",
      "model_name": "LayoutModel",
      "state": {
       "_model_module": "@jupyter-widgets/base",
       "_model_module_version": "1.2.0",
       "_model_name": "LayoutModel",
       "_view_count": null,
       "_view_module": "@jupyter-widgets/base",
       "_view_module_version": "1.2.0",
       "_view_name": "LayoutView",
       "align_content": null,
       "align_items": null,
       "align_self": null,
       "border": null,
       "bottom": null,
       "display": null,
       "flex": null,
       "flex_flow": null,
       "grid_area": null,
       "grid_auto_columns": null,
       "grid_auto_flow": null,
       "grid_auto_rows": null,
       "grid_column": null,
       "grid_gap": null,
       "grid_row": null,
       "grid_template_areas": null,
       "grid_template_columns": null,
       "grid_template_rows": null,
       "height": null,
       "justify_content": null,
       "justify_items": null,
       "left": null,
       "margin": null,
       "max_height": null,
       "max_width": null,
       "min_height": null,
       "min_width": null,
       "object_fit": null,
       "object_position": null,
       "order": null,
       "overflow": null,
       "overflow_x": null,
       "overflow_y": null,
       "padding": null,
       "right": null,
       "top": null,
       "visibility": null,
       "width": null
      }
     },
     "f252f920c0814ef0ac784c0afd5ac7a6": {
      "model_module": "@jupyter-widgets/controls",
      "model_module_version": "1.5.0",
      "model_name": "VBoxModel",
      "state": {
       "_dom_classes": [],
       "_model_module": "@jupyter-widgets/controls",
       "_model_module_version": "1.5.0",
       "_model_name": "VBoxModel",
       "_view_count": null,
       "_view_module": "@jupyter-widgets/controls",
       "_view_module_version": "1.5.0",
       "_view_name": "VBoxView",
       "box_style": "",
       "children": [
        "IPY_MODEL_5a14fd1e7dbb4fe0add6f4345ddc82a0",
        "IPY_MODEL_6a445089e7dc4e9591fca5c2441b3503"
       ],
       "layout": "IPY_MODEL_6e883d56354c4c249077ead5aad8784f"
      }
     },
     "f6a7bfd0d737449f9ba3ff2b282cd1d9": {
      "model_module": "@jupyter-widgets/base",
      "model_module_version": "1.2.0",
      "model_name": "LayoutModel",
      "state": {
       "_model_module": "@jupyter-widgets/base",
       "_model_module_version": "1.2.0",
       "_model_name": "LayoutModel",
       "_view_count": null,
       "_view_module": "@jupyter-widgets/base",
       "_view_module_version": "1.2.0",
       "_view_name": "LayoutView",
       "align_content": null,
       "align_items": null,
       "align_self": null,
       "border": null,
       "bottom": null,
       "display": null,
       "flex": null,
       "flex_flow": null,
       "grid_area": null,
       "grid_auto_columns": null,
       "grid_auto_flow": null,
       "grid_auto_rows": null,
       "grid_column": null,
       "grid_gap": null,
       "grid_row": null,
       "grid_template_areas": null,
       "grid_template_columns": null,
       "grid_template_rows": null,
       "height": null,
       "justify_content": null,
       "justify_items": null,
       "left": null,
       "margin": null,
       "max_height": null,
       "max_width": null,
       "min_height": null,
       "min_width": null,
       "object_fit": null,
       "object_position": null,
       "order": null,
       "overflow": null,
       "overflow_x": null,
       "overflow_y": null,
       "padding": null,
       "right": null,
       "top": null,
       "visibility": null,
       "width": null
      }
     }
    },
    "version_major": 2,
    "version_minor": 0
   }
  }
 },
 "nbformat": 4,
 "nbformat_minor": 5
}
