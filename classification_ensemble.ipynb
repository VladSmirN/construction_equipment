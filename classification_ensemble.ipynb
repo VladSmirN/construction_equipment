{
 "cells": [
  {
   "cell_type": "code",
   "execution_count": 1,
   "id": "dc9e8576",
   "metadata": {
    "execution": {
     "iopub.execute_input": "2022-11-04T06:30:42.807527Z",
     "iopub.status.busy": "2022-11-04T06:30:42.806669Z",
     "iopub.status.idle": "2022-11-04T06:31:17.944362Z",
     "shell.execute_reply": "2022-11-04T06:31:17.943239Z"
    },
    "papermill": {
     "duration": 35.147353,
     "end_time": "2022-11-04T06:31:17.946999",
     "exception": false,
     "start_time": "2022-11-04T06:30:42.799646",
     "status": "completed"
    },
    "tags": []
   },
   "outputs": [
    {
     "name": "stdout",
     "output_type": "stream",
     "text": [
      "Collecting torchinfo\r\n",
      "  Downloading torchinfo-1.7.1-py3-none-any.whl (22 kB)\r\n",
      "Installing collected packages: torchinfo\r\n",
      "Successfully installed torchinfo-1.7.1\r\n",
      "\u001b[33mWARNING: Running pip as the 'root' user can result in broken permissions and conflicting behaviour with the system package manager. It is recommended to use a virtual environment instead: https://pip.pypa.io/warnings/venv\u001b[0m\u001b[33m\r\n",
      "\u001b[0mCollecting git+https://github.com/openai/CLIP.git\r\n",
      "  Cloning https://github.com/openai/CLIP.git to /tmp/pip-req-build-4cyuv7zl\r\n",
      "  Running command git clone --filter=blob:none --quiet https://github.com/openai/CLIP.git /tmp/pip-req-build-4cyuv7zl\r\n",
      "  Resolved https://github.com/openai/CLIP.git to commit d50d76daa670286dd6cacf3bcd80b5e4823fc8e1\r\n",
      "  Preparing metadata (setup.py) ... \u001b[?25l-\b \bdone\r\n",
      "\u001b[?25hCollecting ftfy\r\n",
      "  Downloading ftfy-6.1.1-py3-none-any.whl (53 kB)\r\n",
      "\u001b[2K     \u001b[90m━━━━━━━━━━━━━━━━━━━━━━━━━━━━━━━━━━━━━━━\u001b[0m \u001b[32m53.1/53.1 kB\u001b[0m \u001b[31m150.0 kB/s\u001b[0m eta \u001b[36m0:00:00\u001b[0m\r\n",
      "\u001b[?25hRequirement already satisfied: regex in /opt/conda/lib/python3.7/site-packages (from clip==1.0) (2021.11.10)\r\n",
      "Requirement already satisfied: tqdm in /opt/conda/lib/python3.7/site-packages (from clip==1.0) (4.64.0)\r\n",
      "Requirement already satisfied: torch in /opt/conda/lib/python3.7/site-packages (from clip==1.0) (1.11.0)\r\n",
      "Requirement already satisfied: torchvision in /opt/conda/lib/python3.7/site-packages (from clip==1.0) (0.12.0)\r\n",
      "Requirement already satisfied: wcwidth>=0.2.5 in /opt/conda/lib/python3.7/site-packages (from ftfy->clip==1.0) (0.2.5)\r\n",
      "Requirement already satisfied: typing-extensions in /opt/conda/lib/python3.7/site-packages (from torch->clip==1.0) (4.3.0)\r\n",
      "Requirement already satisfied: requests in /opt/conda/lib/python3.7/site-packages (from torchvision->clip==1.0) (2.28.1)\r\n",
      "Requirement already satisfied: numpy in /opt/conda/lib/python3.7/site-packages (from torchvision->clip==1.0) (1.21.6)\r\n",
      "Requirement already satisfied: pillow!=8.3.*,>=5.3.0 in /opt/conda/lib/python3.7/site-packages (from torchvision->clip==1.0) (9.1.1)\r\n",
      "Requirement already satisfied: urllib3<1.27,>=1.21.1 in /opt/conda/lib/python3.7/site-packages (from requests->torchvision->clip==1.0) (1.26.12)\r\n",
      "Requirement already satisfied: certifi>=2017.4.17 in /opt/conda/lib/python3.7/site-packages (from requests->torchvision->clip==1.0) (2022.6.15.2)\r\n",
      "Requirement already satisfied: idna<4,>=2.5 in /opt/conda/lib/python3.7/site-packages (from requests->torchvision->clip==1.0) (3.3)\r\n",
      "Requirement already satisfied: charset-normalizer<3,>=2 in /opt/conda/lib/python3.7/site-packages (from requests->torchvision->clip==1.0) (2.1.0)\r\n",
      "Building wheels for collected packages: clip\r\n",
      "  Building wheel for clip (setup.py) ... \u001b[?25l-\b \b\\\b \bdone\r\n",
      "\u001b[?25h  Created wheel for clip: filename=clip-1.0-py3-none-any.whl size=1369409 sha256=c4cbf0632b4fa5f50e841f1c8e2080b4530d362bba801dddeb81aed502a4ece4\r\n",
      "  Stored in directory: /tmp/pip-ephem-wheel-cache-9a4t57p4/wheels/fd/b9/c3/5b4470e35ed76e174bff77c92f91da82098d5e35fd5bc8cdac\r\n",
      "Successfully built clip\r\n",
      "Installing collected packages: ftfy, clip\r\n",
      "Successfully installed clip-1.0 ftfy-6.1.1\r\n",
      "\u001b[33mWARNING: Running pip as the 'root' user can result in broken permissions and conflicting behaviour with the system package manager. It is recommended to use a virtual environment instead: https://pip.pypa.io/warnings/venv\u001b[0m\u001b[33m\r\n",
      "\u001b[0m"
     ]
    }
   ],
   "source": [
    "import random\n",
    "from sklearn.model_selection import StratifiedKFold\n",
    "import pandas as pd \n",
    "import numpy as np\n",
    "import glob\n",
    "from tqdm import tqdm\n",
    "import cv2\n",
    "from sklearn.model_selection import train_test_split\n",
    "import os\n",
    "!pip install torchinfo\n",
    "from torchinfo import summary\n",
    "os.environ['CUDA_LAUNCH_BLOCKING'] = \"1\"\n",
    "from sklearn.metrics import recall_score\n",
    "import torch\n",
    "import torch.nn as nn\n",
    "import torch.optim as optim\n",
    "from torch.utils.data import Dataset\n",
    "from torchvision import datasets, models, transforms\n",
    "from torchvision.models import resnet18\n",
    "import uuid\n",
    "from PIL import Image\n",
    "import matplotlib.pyplot as plt\n",
    "from IPython.display import clear_output\n",
    "!pip install git+https://github.com/openai/CLIP.git\n",
    "from albumentations.core.composition import Compose, OneOf\n",
    "from albumentations.pytorch import ToTensorV2\n",
    "import albumentations as A    \n",
    "    \n",
    "import clip\n",
    "from torch.utils.data import DataLoader\n",
    "\n",
    "device = \"cuda\" if torch.cuda.is_available() else \"cpu\"\n",
    "\n",
    "\n",
    "import pytorch_lightning as pl\n",
    "from pytorch_lightning import Trainer, seed_everything\n",
    "from pytorch_lightning import Callback\n",
    "from pytorch_lightning.loggers import CSVLogger\n",
    "from pytorch_lightning.callbacks import ModelCheckpoint, EarlyStopping\n",
    "from pytorch_lightning.loggers import WandbLogger\n",
    "import wandb\n",
    " "
   ]
  },
  {
   "cell_type": "markdown",
   "id": "f4c0276f",
   "metadata": {
    "papermill": {
     "duration": 0.00451,
     "end_time": "2022-11-04T06:31:17.956760",
     "exception": false,
     "start_time": "2022-11-04T06:31:17.952250",
     "status": "completed"
    },
    "tags": []
   },
   "source": [
    "## Настрока блокнота"
   ]
  },
  {
   "cell_type": "code",
   "execution_count": 2,
   "id": "c7f5fd1a",
   "metadata": {
    "execution": {
     "iopub.execute_input": "2022-11-04T06:31:17.969408Z",
     "iopub.status.busy": "2022-11-04T06:31:17.967249Z",
     "iopub.status.idle": "2022-11-04T06:31:17.976371Z",
     "shell.execute_reply": "2022-11-04T06:31:17.975492Z"
    },
    "papermill": {
     "duration": 0.017074,
     "end_time": "2022-11-04T06:31:17.978449",
     "exception": false,
     "start_time": "2022-11-04T06:31:17.961375",
     "status": "completed"
    },
    "tags": []
   },
   "outputs": [
    {
     "name": "stdout",
     "output_type": "stream",
     "text": [
      "id_notebook: e84301f7-0ccb-4b77-aa71-1d708addd3d5\n"
     ]
    }
   ],
   "source": [
    "class CFG:\n",
    "    batch_size=80\n",
    "    device = torch.device(\"cuda\" if torch.cuda.is_available() else \"cpu\")\n",
    "    num_epochs = 10\n",
    "    wandb_project = \"construction_equipment\"\n",
    "    wandb_entity = \"vladsmirn_\"\n",
    "    img_size = 224\n",
    "    n_fold = 5\n",
    "    k_fold = 1\n",
    "    seed=44\n",
    "    \n",
    "    id_notebook=str(uuid.uuid4())\n",
    "    \n",
    "print(\"id_notebook: \" + CFG.id_notebook)\n",
    " "
   ]
  },
  {
   "cell_type": "code",
   "execution_count": 3,
   "id": "18fb37cf",
   "metadata": {
    "execution": {
     "iopub.execute_input": "2022-11-04T06:31:17.989036Z",
     "iopub.status.busy": "2022-11-04T06:31:17.988761Z",
     "iopub.status.idle": "2022-11-04T06:31:17.996590Z",
     "shell.execute_reply": "2022-11-04T06:31:17.995491Z"
    },
    "papermill": {
     "duration": 0.015756,
     "end_time": "2022-11-04T06:31:17.998908",
     "exception": false,
     "start_time": "2022-11-04T06:31:17.983152",
     "status": "completed"
    },
    "tags": []
   },
   "outputs": [],
   "source": [
    "def get_transform(phase: str, img_size: int):\n",
    "    if phase == 'train':\n",
    "        return Compose([\n",
    "#             A.Resize(height=img_size, width=img_size),\n",
    "            A.RandomResizedCrop(height=img_size, width=img_size, scale=(0.97, 1.0)),\n",
    "            A.Flip(p=0.5),\n",
    "            A.RandomRotate90(p=0.1),\n",
    "#             A.ShiftScaleRotate(p=0.5),\n",
    "            A.HueSaturationValue(p=0.1),\n",
    "            A.OneOf([\n",
    "                A.RandomBrightnessContrast(p=0.1),\n",
    "                A.RandomGamma(p=0.1),\n",
    "            ], p=0.1),\n",
    "            A.OneOf([\n",
    "                A.Blur(p=0.1),\n",
    "                A.GaussianBlur(p=0.1),\n",
    "                A.MotionBlur(p=0.1),\n",
    "            ], p=0.1),\n",
    "            A.OneOf([\n",
    "                A.GaussNoise(p=0.1),\n",
    "                A.ISONoise(p=0.1),\n",
    "            ], p=0.2),\n",
    "            A.Normalize(),\n",
    "            ToTensorV2(),\n",
    "        ])\n",
    "    else:\n",
    "        return Compose([\n",
    "            A.Resize(height=img_size, width=img_size),\n",
    "            A.Normalize(),\n",
    "            ToTensorV2(),\n",
    "        ])"
   ]
  },
  {
   "cell_type": "code",
   "execution_count": 4,
   "id": "785ecc3f",
   "metadata": {
    "execution": {
     "iopub.execute_input": "2022-11-04T06:31:18.009559Z",
     "iopub.status.busy": "2022-11-04T06:31:18.009294Z",
     "iopub.status.idle": "2022-11-04T06:31:18.014035Z",
     "shell.execute_reply": "2022-11-04T06:31:18.013184Z"
    },
    "papermill": {
     "duration": 0.012334,
     "end_time": "2022-11-04T06:31:18.015993",
     "exception": false,
     "start_time": "2022-11-04T06:31:18.003659",
     "status": "completed"
    },
    "tags": []
   },
   "outputs": [],
   "source": [
    "DIR_TRAIN = \"../input/construction-equipment/train/\"\n",
    "DIR_TEST = \"../input/construction-equipment-test/test/\"\n",
    "\n",
    "PATH_TRAIN = \"../input/construction-equipment/train.csv\"\n",
    "PATH_TEST = \"../input/construction-equipment-test/test.csv\"\n"
   ]
  },
  {
   "cell_type": "markdown",
   "id": "fba4b515",
   "metadata": {
    "papermill": {
     "duration": 0.00461,
     "end_time": "2022-11-04T06:31:18.025275",
     "exception": false,
     "start_time": "2022-11-04T06:31:18.020665",
     "status": "completed"
    },
    "tags": []
   },
   "source": [
    "##   Объявление модели\n"
   ]
  },
  {
   "cell_type": "code",
   "execution_count": 5,
   "id": "b424fcb3",
   "metadata": {
    "execution": {
     "iopub.execute_input": "2022-11-04T06:31:18.035765Z",
     "iopub.status.busy": "2022-11-04T06:31:18.035505Z",
     "iopub.status.idle": "2022-11-04T06:31:18.043092Z",
     "shell.execute_reply": "2022-11-04T06:31:18.042042Z"
    },
    "papermill": {
     "duration": 0.015565,
     "end_time": "2022-11-04T06:31:18.045492",
     "exception": false,
     "start_time": "2022-11-04T06:31:18.029927",
     "status": "completed"
    },
    "tags": []
   },
   "outputs": [],
   "source": [
    "def run_wandb(wandb_api_key, cfg):\n",
    "    wandb.require(experiment=\"service\")\n",
    "    wandb.login(key=wandb_api_key)\n",
    "    _cfg = cfg() \n",
    "    cfg_wandb = dict((name, getattr(_cfg, name)) for name in dir(_cfg) if not name.startswith('__'))\n",
    "    \n",
    "    if hasattr(cfg, 'wandb_resume_id') and cfg.wandb_resume_id :\n",
    "        run = wandb.init(project=cfg.wandb_project, \n",
    "                   entity=cfg.wandb_entity, \n",
    "                   id=cfg.wandb_resume_id, \n",
    "                   resume=\"allow\", \n",
    "                   config=cfg_wandb)\n",
    "    else: \n",
    "        run = wandb.init(project=cfg.wandb_project, \n",
    "                   entity=cfg.wandb_entity, \n",
    "                   settings=wandb.Settings(start_method=\"fork\"), \n",
    "                   config=cfg_wandb,\n",
    "                   resume=\"allow\",\n",
    "                   id=wandb.util.generate_id())\n",
    "        \n",
    "    model_logger = WandbLogger(project=cfg.wandb_project, log_model='all')\n",
    "    \n",
    "    return model_logger,run\n",
    "\n",
    "from kaggle_secrets import UserSecretsClient\n",
    "user_secrets = UserSecretsClient()\n",
    "# model_logger, _ = run_wandb(user_secrets.get_secret(\"WANDB_API_KEY\"), CFG)"
   ]
  },
  {
   "cell_type": "markdown",
   "id": "1742f599",
   "metadata": {
    "papermill": {
     "duration": 0.004675,
     "end_time": "2022-11-04T06:31:18.055059",
     "exception": false,
     "start_time": "2022-11-04T06:31:18.050384",
     "status": "completed"
    },
    "tags": []
   },
   "source": [
    "## Предсказание "
   ]
  },
  {
   "cell_type": "code",
   "execution_count": 6,
   "id": "5dc51a63",
   "metadata": {
    "execution": {
     "iopub.execute_input": "2022-11-04T06:31:18.066083Z",
     "iopub.status.busy": "2022-11-04T06:31:18.065807Z",
     "iopub.status.idle": "2022-11-04T06:31:29.731667Z",
     "shell.execute_reply": "2022-11-04T06:31:29.730565Z"
    },
    "papermill": {
     "duration": 11.674289,
     "end_time": "2022-11-04T06:31:29.734332",
     "exception": false,
     "start_time": "2022-11-04T06:31:18.060043",
     "status": "completed"
    },
    "tags": []
   },
   "outputs": [
    {
     "name": "stderr",
     "output_type": "stream",
     "text": [
      "\u001b[34m\u001b[1mwandb\u001b[0m: W&B API key is configured. Use \u001b[1m`wandb login --relogin`\u001b[0m to force relogin\n",
      "\u001b[34m\u001b[1mwandb\u001b[0m: \u001b[33mWARNING\u001b[0m If you're specifying your api key in code, ensure this code is not shared publicly.\n",
      "\u001b[34m\u001b[1mwandb\u001b[0m: \u001b[33mWARNING\u001b[0m Consider setting the WANDB_API_KEY environment variable, or running `wandb login` from the command line.\n",
      "\u001b[34m\u001b[1mwandb\u001b[0m: Appending key for api.wandb.ai to your netrc file: /root/.netrc\n",
      "\u001b[34m\u001b[1mwandb\u001b[0m: Currently logged in as: \u001b[33mvladsmirn\u001b[0m (\u001b[33mvladsmirn_\u001b[0m). Use \u001b[1m`wandb login --relogin`\u001b[0m to force relogin\n"
     ]
    },
    {
     "data": {
      "text/html": [
       "wandb version 0.13.5 is available!  To upgrade, please run:\n",
       " $ pip install wandb --upgrade"
      ],
      "text/plain": [
       "<IPython.core.display.HTML object>"
      ]
     },
     "metadata": {},
     "output_type": "display_data"
    },
    {
     "data": {
      "text/html": [
       "Tracking run with wandb version 0.12.21"
      ],
      "text/plain": [
       "<IPython.core.display.HTML object>"
      ]
     },
     "metadata": {},
     "output_type": "display_data"
    },
    {
     "data": {
      "text/html": [
       "Run data is saved locally in <code>/kaggle/working/wandb/run-20221104_063122-l3qc7303</code>"
      ],
      "text/plain": [
       "<IPython.core.display.HTML object>"
      ]
     },
     "metadata": {},
     "output_type": "display_data"
    },
    {
     "data": {
      "text/html": [
       "Syncing run <strong><a href=\"https://wandb.ai/vladsmirn_/construction_equipment/runs/l3qc7303\" target=\"_blank\">swift-monkey-128</a></strong> to <a href=\"https://wandb.ai/vladsmirn_/construction_equipment\" target=\"_blank\">Weights & Biases</a> (<a href=\"https://wandb.me/run\" target=\"_blank\">docs</a>)<br/>"
      ],
      "text/plain": [
       "<IPython.core.display.HTML object>"
      ]
     },
     "metadata": {},
     "output_type": "display_data"
    },
    {
     "name": "stderr",
     "output_type": "stream",
     "text": [
      "/opt/conda/lib/python3.7/site-packages/pytorch_lightning/loggers/wandb.py:353: UserWarning: There is a wandb run already in progress and newly created instances of `WandbLogger` will reuse this run. If this is not desired, call `wandb.finish()` before instantiating `WandbLogger`.\n",
      "  \"There is a wandb run already in progress and newly created instances of `WandbLogger` will reuse\"\n"
     ]
    }
   ],
   "source": [
    "_, run = run_wandb(user_secrets.get_secret(\"WANDB_API_KEY\"), CFG)"
   ]
  },
  {
   "cell_type": "code",
   "execution_count": 7,
   "id": "2e6300e8",
   "metadata": {
    "execution": {
     "iopub.execute_input": "2022-11-04T06:31:29.752807Z",
     "iopub.status.busy": "2022-11-04T06:31:29.752457Z",
     "iopub.status.idle": "2022-11-04T06:31:29.790509Z",
     "shell.execute_reply": "2022-11-04T06:31:29.789602Z"
    },
    "papermill": {
     "duration": 0.050033,
     "end_time": "2022-11-04T06:31:29.793097",
     "exception": false,
     "start_time": "2022-11-04T06:31:29.743064",
     "status": "completed"
    },
    "tags": []
   },
   "outputs": [],
   "source": [
    "test_df = pd.read_csv(PATH_TEST)\n",
    "test_df[\"path\"] = test_df[\"ID_img\"].apply(lambda image_name : f'{DIR_TEST}{image_name}')\n",
    "test_df = test_df.drop([\"class\"], axis = 1)\n",
    "\n",
    "class TestImageDataset(Dataset):\n",
    "    def __init__(self, data_df, transform=None):\n",
    "        self.data_df = data_df\n",
    "        self.transform = transform\n",
    "\n",
    "    def __getitem__(self, idx):\n",
    "        image_path = self.data_df.iloc[idx]['path']\n",
    "        image = cv2.imread(image_path)\n",
    "        image = cv2.cvtColor(image, cv2.COLOR_BGR2RGB)\n",
    "        image = self.transform(image=image)['image'] \n",
    " \n",
    "        \n",
    "        return image\n",
    "    \n",
    "    def __len__(self):\n",
    "        return len(self.data_df)\n",
    "    \n",
    "# test_dataset = TestImageDataset(test_df,get_transform(\"train\",CFG.img_size))"
   ]
  },
  {
   "cell_type": "code",
   "execution_count": 8,
   "id": "db974167",
   "metadata": {
    "execution": {
     "iopub.execute_input": "2022-11-04T06:31:29.811294Z",
     "iopub.status.busy": "2022-11-04T06:31:29.810847Z",
     "iopub.status.idle": "2022-11-04T06:31:29.815916Z",
     "shell.execute_reply": "2022-11-04T06:31:29.815052Z"
    },
    "papermill": {
     "duration": 0.01827,
     "end_time": "2022-11-04T06:31:29.820063",
     "exception": false,
     "start_time": "2022-11-04T06:31:29.801793",
     "status": "completed"
    },
    "tags": []
   },
   "outputs": [],
   "source": [
    "# test_dataset = TestImageDataset(test_df,get_transform(\"train\",CFG.img_size))\n",
    "# test_loader = torch.utils.data.DataLoader(dataset=test_dataset,\n",
    "#                                            batch_size=1)"
   ]
  },
  {
   "cell_type": "code",
   "execution_count": 9,
   "id": "731fd878",
   "metadata": {
    "execution": {
     "iopub.execute_input": "2022-11-04T06:31:29.837764Z",
     "iopub.status.busy": "2022-11-04T06:31:29.837332Z",
     "iopub.status.idle": "2022-11-04T06:31:29.849869Z",
     "shell.execute_reply": "2022-11-04T06:31:29.849016Z"
    },
    "papermill": {
     "duration": 0.023754,
     "end_time": "2022-11-04T06:31:29.852161",
     "exception": false,
     "start_time": "2022-11-04T06:31:29.828407",
     "status": "completed"
    },
    "tags": []
   },
   "outputs": [],
   "source": [
    "def run_model(loader,model):\n",
    "    model.eval()\n",
    "    predicts = []\n",
    "    model.to(CFG.device)\n",
    "    for imgs in tqdm(loader):   \n",
    "        imgs = imgs.to(CFG.device)\n",
    "        pred = model(imgs)\n",
    "        prob = Categorical(logits=pred).probs.cpu().detach().tolist();\n",
    "        predicts.extend(prob)\n",
    "    return predicts\n",
    "\n",
    "def get_model():\n",
    "    model = models.convnext.convnext_small(pretrained=True)\n",
    "    model.classifier[2] = nn.Linear(768, 8) \n",
    "    model.to(CFG.device)\n",
    "    return model\n",
    "\n",
    "def download_model_wandb(path_artifact,model,run):\n",
    "    artifact = run.use_artifact(path_artifact, type='model')\n",
    "    artifact_dir = artifact.download()\n",
    "    checkpoint = os.path.join(artifact_dir, \"model.ckpt\")\n",
    "    from collections import OrderedDict\n",
    "    state_dict = torch.load(checkpoint,map_location ='cpu')['state_dict']\n",
    "    new_state_dict = OrderedDict()\n",
    "    for k, v in state_dict.items():\n",
    "        name = k[6:]  \n",
    "        new_state_dict[name] = v\n",
    "    model.load_state_dict(new_state_dict)\n",
    "    return model "
   ]
  },
  {
   "cell_type": "code",
   "execution_count": 10,
   "id": "60c38d8b",
   "metadata": {
    "execution": {
     "iopub.execute_input": "2022-11-04T06:31:29.869826Z",
     "iopub.status.busy": "2022-11-04T06:31:29.869403Z",
     "iopub.status.idle": "2022-11-04T06:31:29.875377Z",
     "shell.execute_reply": "2022-11-04T06:31:29.874255Z"
    },
    "papermill": {
     "duration": 0.017799,
     "end_time": "2022-11-04T06:31:29.878207",
     "exception": false,
     "start_time": "2022-11-04T06:31:29.860408",
     "status": "completed"
    },
    "tags": []
   },
   "outputs": [],
   "source": [
    "from torch.distributions import Categorical"
   ]
  },
  {
   "cell_type": "code",
   "execution_count": 11,
   "id": "edbd0d82",
   "metadata": {
    "execution": {
     "iopub.execute_input": "2022-11-04T06:31:29.897751Z",
     "iopub.status.busy": "2022-11-04T06:31:29.897261Z",
     "iopub.status.idle": "2022-11-04T06:44:16.642035Z",
     "shell.execute_reply": "2022-11-04T06:44:16.640418Z"
    },
    "papermill": {
     "duration": 766.758047,
     "end_time": "2022-11-04T06:44:16.644522",
     "exception": false,
     "start_time": "2022-11-04T06:31:29.886475",
     "status": "completed"
    },
    "tags": []
   },
   "outputs": [
    {
     "name": "stderr",
     "output_type": "stream",
     "text": [
      "Downloading: \"https://download.pytorch.org/models/convnext_small-0c510722.pth\" to /root/.cache/torch/hub/checkpoints/convnext_small-0c510722.pth\n"
     ]
    },
    {
     "data": {
      "application/vnd.jupyter.widget-view+json": {
       "model_id": "835e9977a9784c33822de959effbb139",
       "version_major": 2,
       "version_minor": 0
      },
      "text/plain": [
       "  0%|          | 0.00/192M [00:00<?, ?B/s]"
      ]
     },
     "metadata": {},
     "output_type": "display_data"
    },
    {
     "name": "stderr",
     "output_type": "stream",
     "text": [
      "\u001b[34m\u001b[1mwandb\u001b[0m: Downloading large artifact model-3b6ghnoz:v9, 188.80MB. 1 files... Done. 0:0:12.0\n",
      "100%|██████████| 2138/2138 [01:11<00:00, 30.10it/s]\n",
      "\u001b[34m\u001b[1mwandb\u001b[0m: Downloading large artifact model-18u6rsng:v8, 188.80MB. 1 files... Done. 0:0:10.3\n",
      "100%|██████████| 2138/2138 [00:59<00:00, 36.08it/s]\n",
      "\u001b[34m\u001b[1mwandb\u001b[0m: Downloading large artifact model-2ut170pm:v10, 188.80MB. 1 files... Done. 0:0:11.4\n",
      "100%|██████████| 2138/2138 [01:00<00:00, 35.61it/s]\n",
      "\u001b[34m\u001b[1mwandb\u001b[0m: Downloading large artifact model-1if96ysv:v13, 188.80MB. 1 files... Done. 0:0:11.3\n",
      "100%|██████████| 2138/2138 [01:00<00:00, 35.59it/s]\n",
      "\u001b[34m\u001b[1mwandb\u001b[0m: Downloading large artifact model-3b6ghnoz:v9, 188.80MB. 1 files... Done. 0:0:0.1\n",
      "100%|██████████| 2138/2138 [00:58<00:00, 36.36it/s]\n",
      "\u001b[34m\u001b[1mwandb\u001b[0m: Downloading large artifact model-18u6rsng:v8, 188.80MB. 1 files... Done. 0:0:0.1\n",
      "100%|██████████| 2138/2138 [00:58<00:00, 36.35it/s]\n",
      "\u001b[34m\u001b[1mwandb\u001b[0m: Downloading large artifact model-2ut170pm:v10, 188.80MB. 1 files... Done. 0:0:0.1\n",
      "100%|██████████| 2138/2138 [00:59<00:00, 35.94it/s]\n",
      "\u001b[34m\u001b[1mwandb\u001b[0m: Downloading large artifact model-1if96ysv:v13, 188.80MB. 1 files... Done. 0:0:0.1\n",
      "100%|██████████| 2138/2138 [01:00<00:00, 35.14it/s]\n",
      "\u001b[34m\u001b[1mwandb\u001b[0m: Downloading large artifact model-3b6ghnoz:v9, 188.80MB. 1 files... Done. 0:0:0.1\n",
      "100%|██████████| 2138/2138 [01:01<00:00, 34.73it/s]\n",
      "\u001b[34m\u001b[1mwandb\u001b[0m: Downloading large artifact model-3b6ghnoz:v9, 188.80MB. 1 files... Done. 0:0:0.1\n",
      "100%|██████████| 2138/2138 [00:59<00:00, 35.92it/s]\n",
      "\u001b[34m\u001b[1mwandb\u001b[0m: Downloading large artifact model-3b6ghnoz:v9, 188.80MB. 1 files... Done. 0:0:0.1\n",
      "100%|██████████| 2138/2138 [00:58<00:00, 36.49it/s]\n"
     ]
    }
   ],
   "source": [
    "artifacts = [\"vladsmirn_/construction_equipment/model-3b6ghnoz:v9\", #mild-bee-60\n",
    "             \"vladsmirn_/construction_equipment/model-18u6rsng:v8\", #eerie-vampire-94\n",
    "             \"vladsmirn_/construction_equipment/model-2ut170pm:v10\",#paranormal-phantom-96\n",
    "#              \"vladsmirn_/construction_equipment/model-1k02nzr1:v7\", #haunted-seance-93\n",
    "             \"vladsmirn_/construction_equipment/model-1if96ysv:v13\",#valiant-durian-66\n",
    "             \n",
    "             \"vladsmirn_/construction_equipment/model-3b6ghnoz:v9\", #mild-bee-60\n",
    "             \"vladsmirn_/construction_equipment/model-18u6rsng:v8\", #eerie-vampire-94\n",
    "             \"vladsmirn_/construction_equipment/model-2ut170pm:v10\",#paranormal-phantom-96\n",
    " \n",
    "             \"vladsmirn_/construction_equipment/model-1if96ysv:v13\",#valiant-durian-66\n",
    " \n",
    "             \"vladsmirn_/construction_equipment/model-3b6ghnoz:v9\", #eerie-vampire-94\n",
    "             \"vladsmirn_/construction_equipment/model-3b6ghnoz:v9\", #eerie-vampire-94\n",
    "             \"vladsmirn_/construction_equipment/model-3b6ghnoz:v9\", #eerie-vampire-94\n",
    " \n",
    "            ]\n",
    "\n",
    "model = get_model()\n",
    "first_run = True\n",
    "seed = 1 \n",
    "for artifact in artifacts:\n",
    "    \n",
    "    random.seed(seed)\n",
    "    seed+=1\n",
    "    \n",
    "    test_dataset = TestImageDataset(test_df,get_transform(\"train\",CFG.img_size))\n",
    "    test_loader = torch.utils.data.DataLoader(dataset=test_dataset,\n",
    "                                              batch_size=1)\n",
    "    \n",
    "    model = download_model_wandb(artifact,model,run)\n",
    "    if first_run == True:\n",
    "        predict = np.array(run_model(test_loader,model))\n",
    "        first_run = False\n",
    "    else:\n",
    "        predict += np.array(run_model(test_loader,model))\n",
    "predict /= len(artifacts)\n",
    "predict = np.argmax(predict,axis=1)\n",
    "predict = predict.tolist()\n"
   ]
  },
  {
   "cell_type": "code",
   "execution_count": 12,
   "id": "62c4568a",
   "metadata": {
    "execution": {
     "iopub.execute_input": "2022-11-04T06:44:17.288036Z",
     "iopub.status.busy": "2022-11-04T06:44:17.287014Z",
     "iopub.status.idle": "2022-11-04T06:44:17.302434Z",
     "shell.execute_reply": "2022-11-04T06:44:17.301532Z"
    },
    "papermill": {
     "duration": 0.309625,
     "end_time": "2022-11-04T06:44:17.304913",
     "exception": false,
     "start_time": "2022-11-04T06:44:16.995288",
     "status": "completed"
    },
    "tags": []
   },
   "outputs": [],
   "source": [
    "test_df[\"class\"] = predict\n",
    "test_df = test_df.drop([\"path\"], axis = 1)\n",
    "test_df.head()\n",
    "\n",
    "test_df.to_csv(\"submit.csv\", index=False)"
   ]
  }
 ],
 "metadata": {
  "kernelspec": {
   "display_name": "Python 3",
   "language": "python",
   "name": "python3"
  },
  "language_info": {
   "codemirror_mode": {
    "name": "ipython",
    "version": 3
   },
   "file_extension": ".py",
   "mimetype": "text/x-python",
   "name": "python",
   "nbconvert_exporter": "python",
   "pygments_lexer": "ipython3",
   "version": "3.7.12"
  },
  "papermill": {
   "default_parameters": {},
   "duration": 825.302175,
   "end_time": "2022-11-04T06:44:20.321703",
   "environment_variables": {},
   "exception": null,
   "input_path": "__notebook__.ipynb",
   "output_path": "__notebook__.ipynb",
   "parameters": {},
   "start_time": "2022-11-04T06:30:35.019528",
   "version": "2.3.4"
  },
  "widgets": {
   "application/vnd.jupyter.widget-state+json": {
    "state": {
     "0918ff607e724d168dbf4578a463603f": {
      "model_module": "@jupyter-widgets/controls",
      "model_module_version": "1.5.0",
      "model_name": "ProgressStyleModel",
      "state": {
       "_model_module": "@jupyter-widgets/controls",
       "_model_module_version": "1.5.0",
       "_model_name": "ProgressStyleModel",
       "_view_count": null,
       "_view_module": "@jupyter-widgets/base",
       "_view_module_version": "1.2.0",
       "_view_name": "StyleView",
       "bar_color": null,
       "description_width": ""
      }
     },
     "0e6aa8b7b5b14bdfabee7e8050b0a2a3": {
      "model_module": "@jupyter-widgets/controls",
      "model_module_version": "1.5.0",
      "model_name": "DescriptionStyleModel",
      "state": {
       "_model_module": "@jupyter-widgets/controls",
       "_model_module_version": "1.5.0",
       "_model_name": "DescriptionStyleModel",
       "_view_count": null,
       "_view_module": "@jupyter-widgets/base",
       "_view_module_version": "1.2.0",
       "_view_name": "StyleView",
       "description_width": ""
      }
     },
     "1440cf083d954c10b7ee002bf0022aa4": {
      "model_module": "@jupyter-widgets/controls",
      "model_module_version": "1.5.0",
      "model_name": "ProgressStyleModel",
      "state": {
       "_model_module": "@jupyter-widgets/controls",
       "_model_module_version": "1.5.0",
       "_model_name": "ProgressStyleModel",
       "_view_count": null,
       "_view_module": "@jupyter-widgets/base",
       "_view_module_version": "1.2.0",
       "_view_name": "StyleView",
       "bar_color": null,
       "description_width": ""
      }
     },
     "21b00396c69143fda3a018e979c6e571": {
      "model_module": "@jupyter-widgets/base",
      "model_module_version": "1.2.0",
      "model_name": "LayoutModel",
      "state": {
       "_model_module": "@jupyter-widgets/base",
       "_model_module_version": "1.2.0",
       "_model_name": "LayoutModel",
       "_view_count": null,
       "_view_module": "@jupyter-widgets/base",
       "_view_module_version": "1.2.0",
       "_view_name": "LayoutView",
       "align_content": null,
       "align_items": null,
       "align_self": null,
       "border": null,
       "bottom": null,
       "display": null,
       "flex": null,
       "flex_flow": null,
       "grid_area": null,
       "grid_auto_columns": null,
       "grid_auto_flow": null,
       "grid_auto_rows": null,
       "grid_column": null,
       "grid_gap": null,
       "grid_row": null,
       "grid_template_areas": null,
       "grid_template_columns": null,
       "grid_template_rows": null,
       "height": null,
       "justify_content": null,
       "justify_items": null,
       "left": null,
       "margin": null,
       "max_height": null,
       "max_width": null,
       "min_height": null,
       "min_width": null,
       "object_fit": null,
       "object_position": null,
       "order": null,
       "overflow": null,
       "overflow_x": null,
       "overflow_y": null,
       "padding": null,
       "right": null,
       "top": null,
       "visibility": null,
       "width": null
      }
     },
     "2306aace7bc3440d938cba73a0156601": {
      "model_module": "@jupyter-widgets/controls",
      "model_module_version": "1.5.0",
      "model_name": "DescriptionStyleModel",
      "state": {
       "_model_module": "@jupyter-widgets/controls",
       "_model_module_version": "1.5.0",
       "_model_name": "DescriptionStyleModel",
       "_view_count": null,
       "_view_module": "@jupyter-widgets/base",
       "_view_module_version": "1.2.0",
       "_view_name": "StyleView",
       "description_width": ""
      }
     },
     "2a2fe0ef5db041b8b07fc41fc554256e": {
      "model_module": "@jupyter-widgets/controls",
      "model_module_version": "1.5.0",
      "model_name": "VBoxModel",
      "state": {
       "_dom_classes": [],
       "_model_module": "@jupyter-widgets/controls",
       "_model_module_version": "1.5.0",
       "_model_name": "VBoxModel",
       "_view_count": null,
       "_view_module": "@jupyter-widgets/controls",
       "_view_module_version": "1.5.0",
       "_view_name": "VBoxView",
       "box_style": "",
       "children": [
        "IPY_MODEL_88ef2c2b6b6641b9947c578ebd6ab1af",
        "IPY_MODEL_75520ddec8a04b188619e961cac8137d"
       ],
       "layout": "IPY_MODEL_d0f582fc734d4a7a9d9a4192227b5c4b"
      }
     },
     "2d552db7b1ff4999acf29329aa78bde4": {
      "model_module": "@jupyter-widgets/base",
      "model_module_version": "1.2.0",
      "model_name": "LayoutModel",
      "state": {
       "_model_module": "@jupyter-widgets/base",
       "_model_module_version": "1.2.0",
       "_model_name": "LayoutModel",
       "_view_count": null,
       "_view_module": "@jupyter-widgets/base",
       "_view_module_version": "1.2.0",
       "_view_name": "LayoutView",
       "align_content": null,
       "align_items": null,
       "align_self": null,
       "border": null,
       "bottom": null,
       "display": null,
       "flex": null,
       "flex_flow": null,
       "grid_area": null,
       "grid_auto_columns": null,
       "grid_auto_flow": null,
       "grid_auto_rows": null,
       "grid_column": null,
       "grid_gap": null,
       "grid_row": null,
       "grid_template_areas": null,
       "grid_template_columns": null,
       "grid_template_rows": null,
       "height": null,
       "justify_content": null,
       "justify_items": null,
       "left": null,
       "margin": null,
       "max_height": null,
       "max_width": null,
       "min_height": null,
       "min_width": null,
       "object_fit": null,
       "object_position": null,
       "order": null,
       "overflow": null,
       "overflow_x": null,
       "overflow_y": null,
       "padding": null,
       "right": null,
       "top": null,
       "visibility": null,
       "width": null
      }
     },
     "394703bdc9ff4d92a63d427718eb6134": {
      "model_module": "@jupyter-widgets/base",
      "model_module_version": "1.2.0",
      "model_name": "LayoutModel",
      "state": {
       "_model_module": "@jupyter-widgets/base",
       "_model_module_version": "1.2.0",
       "_model_name": "LayoutModel",
       "_view_count": null,
       "_view_module": "@jupyter-widgets/base",
       "_view_module_version": "1.2.0",
       "_view_name": "LayoutView",
       "align_content": null,
       "align_items": null,
       "align_self": null,
       "border": null,
       "bottom": null,
       "display": null,
       "flex": null,
       "flex_flow": null,
       "grid_area": null,
       "grid_auto_columns": null,
       "grid_auto_flow": null,
       "grid_auto_rows": null,
       "grid_column": null,
       "grid_gap": null,
       "grid_row": null,
       "grid_template_areas": null,
       "grid_template_columns": null,
       "grid_template_rows": null,
       "height": null,
       "justify_content": null,
       "justify_items": null,
       "left": null,
       "margin": null,
       "max_height": null,
       "max_width": null,
       "min_height": null,
       "min_width": null,
       "object_fit": null,
       "object_position": null,
       "order": null,
       "overflow": null,
       "overflow_x": null,
       "overflow_y": null,
       "padding": null,
       "right": null,
       "top": null,
       "visibility": null,
       "width": null
      }
     },
     "3b79b08ca0a24520803e0b08ca2d72ac": {
      "model_module": "@jupyter-widgets/controls",
      "model_module_version": "1.5.0",
      "model_name": "DescriptionStyleModel",
      "state": {
       "_model_module": "@jupyter-widgets/controls",
       "_model_module_version": "1.5.0",
       "_model_name": "DescriptionStyleModel",
       "_view_count": null,
       "_view_module": "@jupyter-widgets/base",
       "_view_module_version": "1.2.0",
       "_view_name": "StyleView",
       "description_width": ""
      }
     },
     "57aa4887694d49919dc6921668707236": {
      "model_module": "@jupyter-widgets/controls",
      "model_module_version": "1.5.0",
      "model_name": "VBoxModel",
      "state": {
       "_dom_classes": [],
       "_model_module": "@jupyter-widgets/controls",
       "_model_module_version": "1.5.0",
       "_model_name": "VBoxModel",
       "_view_count": null,
       "_view_module": "@jupyter-widgets/controls",
       "_view_module_version": "1.5.0",
       "_view_name": "VBoxView",
       "box_style": "",
       "children": [
        "IPY_MODEL_66ddd54f99694e158f2f6a6e1363e807",
        "IPY_MODEL_de9c12504352419fa936e7fc850003bb"
       ],
       "layout": "IPY_MODEL_c46fb39d8d944a1fbb2dbe88fdb72a47"
      }
     },
     "66ddd54f99694e158f2f6a6e1363e807": {
      "model_module": "@jupyter-widgets/controls",
      "model_module_version": "1.5.0",
      "model_name": "LabelModel",
      "state": {
       "_dom_classes": [],
       "_model_module": "@jupyter-widgets/controls",
       "_model_module_version": "1.5.0",
       "_model_name": "LabelModel",
       "_view_count": null,
       "_view_module": "@jupyter-widgets/controls",
       "_view_module_version": "1.5.0",
       "_view_name": "LabelView",
       "description": "",
       "description_tooltip": null,
       "layout": "IPY_MODEL_394703bdc9ff4d92a63d427718eb6134",
       "placeholder": "​",
       "style": "IPY_MODEL_3b79b08ca0a24520803e0b08ca2d72ac",
       "value": ""
      }
     },
     "6eb56645a83840f685ddddc1dceec948": {
      "model_module": "@jupyter-widgets/controls",
      "model_module_version": "1.5.0",
      "model_name": "FloatProgressModel",
      "state": {
       "_dom_classes": [],
       "_model_module": "@jupyter-widgets/controls",
       "_model_module_version": "1.5.0",
       "_model_name": "FloatProgressModel",
       "_view_count": null,
       "_view_module": "@jupyter-widgets/controls",
       "_view_module_version": "1.5.0",
       "_view_name": "ProgressView",
       "bar_style": "success",
       "description": "",
       "description_tooltip": null,
       "layout": "IPY_MODEL_e1164312ded845f99c3d100ab49428e2",
       "max": 201014929.0,
       "min": 0.0,
       "orientation": "horizontal",
       "style": "IPY_MODEL_0918ff607e724d168dbf4578a463603f",
       "value": 201014929.0
      }
     },
     "75520ddec8a04b188619e961cac8137d": {
      "model_module": "@jupyter-widgets/controls",
      "model_module_version": "1.5.0",
      "model_name": "FloatProgressModel",
      "state": {
       "_dom_classes": [],
       "_model_module": "@jupyter-widgets/controls",
       "_model_module_version": "1.5.0",
       "_model_name": "FloatProgressModel",
       "_view_count": null,
       "_view_module": "@jupyter-widgets/controls",
       "_view_module_version": "1.5.0",
       "_view_name": "ProgressView",
       "bar_style": "",
       "description": "",
       "description_tooltip": null,
       "layout": "IPY_MODEL_d11e386307234d6fac3a00c8a58211dd",
       "max": 1.0,
       "min": 0.0,
       "orientation": "horizontal",
       "style": "IPY_MODEL_ec442b58e6e445d1b6d17c4e0956152e",
       "value": 0.0
      }
     },
     "767efebb7b4540ffa8fd2831558976fb": {
      "model_module": "@jupyter-widgets/base",
      "model_module_version": "1.2.0",
      "model_name": "LayoutModel",
      "state": {
       "_model_module": "@jupyter-widgets/base",
       "_model_module_version": "1.2.0",
       "_model_name": "LayoutModel",
       "_view_count": null,
       "_view_module": "@jupyter-widgets/base",
       "_view_module_version": "1.2.0",
       "_view_name": "LayoutView",
       "align_content": null,
       "align_items": null,
       "align_self": null,
       "border": null,
       "bottom": null,
       "display": null,
       "flex": null,
       "flex_flow": null,
       "grid_area": null,
       "grid_auto_columns": null,
       "grid_auto_flow": null,
       "grid_auto_rows": null,
       "grid_column": null,
       "grid_gap": null,
       "grid_row": null,
       "grid_template_areas": null,
       "grid_template_columns": null,
       "grid_template_rows": null,
       "height": null,
       "justify_content": null,
       "justify_items": null,
       "left": null,
       "margin": null,
       "max_height": null,
       "max_width": null,
       "min_height": null,
       "min_width": null,
       "object_fit": null,
       "object_position": null,
       "order": null,
       "overflow": null,
       "overflow_x": null,
       "overflow_y": null,
       "padding": null,
       "right": null,
       "top": null,
       "visibility": null,
       "width": null
      }
     },
     "835e9977a9784c33822de959effbb139": {
      "model_module": "@jupyter-widgets/controls",
      "model_module_version": "1.5.0",
      "model_name": "HBoxModel",
      "state": {
       "_dom_classes": [],
       "_model_module": "@jupyter-widgets/controls",
       "_model_module_version": "1.5.0",
       "_model_name": "HBoxModel",
       "_view_count": null,
       "_view_module": "@jupyter-widgets/controls",
       "_view_module_version": "1.5.0",
       "_view_name": "HBoxView",
       "box_style": "",
       "children": [
        "IPY_MODEL_b780529ebfbc46f49ef3ff2af0a82ff8",
        "IPY_MODEL_6eb56645a83840f685ddddc1dceec948",
        "IPY_MODEL_f0e1722efcef43ac9bb7d81390d4fcbd"
       ],
       "layout": "IPY_MODEL_ef57a7ef739641c298fdb4c0dbc27318"
      }
     },
     "88ef2c2b6b6641b9947c578ebd6ab1af": {
      "model_module": "@jupyter-widgets/controls",
      "model_module_version": "1.5.0",
      "model_name": "LabelModel",
      "state": {
       "_dom_classes": [],
       "_model_module": "@jupyter-widgets/controls",
       "_model_module_version": "1.5.0",
       "_model_name": "LabelModel",
       "_view_count": null,
       "_view_module": "@jupyter-widgets/controls",
       "_view_module_version": "1.5.0",
       "_view_name": "LabelView",
       "description": "",
       "description_tooltip": null,
       "layout": "IPY_MODEL_21b00396c69143fda3a018e979c6e571",
       "placeholder": "​",
       "style": "IPY_MODEL_a95aec4c15c346e68a956b96342c0d99",
       "value": ""
      }
     },
     "a95aec4c15c346e68a956b96342c0d99": {
      "model_module": "@jupyter-widgets/controls",
      "model_module_version": "1.5.0",
      "model_name": "DescriptionStyleModel",
      "state": {
       "_model_module": "@jupyter-widgets/controls",
       "_model_module_version": "1.5.0",
       "_model_name": "DescriptionStyleModel",
       "_view_count": null,
       "_view_module": "@jupyter-widgets/base",
       "_view_module_version": "1.2.0",
       "_view_name": "StyleView",
       "description_width": ""
      }
     },
     "b780529ebfbc46f49ef3ff2af0a82ff8": {
      "model_module": "@jupyter-widgets/controls",
      "model_module_version": "1.5.0",
      "model_name": "HTMLModel",
      "state": {
       "_dom_classes": [],
       "_model_module": "@jupyter-widgets/controls",
       "_model_module_version": "1.5.0",
       "_model_name": "HTMLModel",
       "_view_count": null,
       "_view_module": "@jupyter-widgets/controls",
       "_view_module_version": "1.5.0",
       "_view_name": "HTMLView",
       "description": "",
       "description_tooltip": null,
       "layout": "IPY_MODEL_e065f22c587a4cc0abd40db51259aca5",
       "placeholder": "​",
       "style": "IPY_MODEL_0e6aa8b7b5b14bdfabee7e8050b0a2a3",
       "value": "100%"
      }
     },
     "c46fb39d8d944a1fbb2dbe88fdb72a47": {
      "model_module": "@jupyter-widgets/base",
      "model_module_version": "1.2.0",
      "model_name": "LayoutModel",
      "state": {
       "_model_module": "@jupyter-widgets/base",
       "_model_module_version": "1.2.0",
       "_model_name": "LayoutModel",
       "_view_count": null,
       "_view_module": "@jupyter-widgets/base",
       "_view_module_version": "1.2.0",
       "_view_name": "LayoutView",
       "align_content": null,
       "align_items": null,
       "align_self": null,
       "border": null,
       "bottom": null,
       "display": null,
       "flex": null,
       "flex_flow": null,
       "grid_area": null,
       "grid_auto_columns": null,
       "grid_auto_flow": null,
       "grid_auto_rows": null,
       "grid_column": null,
       "grid_gap": null,
       "grid_row": null,
       "grid_template_areas": null,
       "grid_template_columns": null,
       "grid_template_rows": null,
       "height": null,
       "justify_content": null,
       "justify_items": null,
       "left": null,
       "margin": null,
       "max_height": null,
       "max_width": null,
       "min_height": null,
       "min_width": null,
       "object_fit": null,
       "object_position": null,
       "order": null,
       "overflow": null,
       "overflow_x": null,
       "overflow_y": null,
       "padding": null,
       "right": null,
       "top": null,
       "visibility": null,
       "width": null
      }
     },
     "d0f582fc734d4a7a9d9a4192227b5c4b": {
      "model_module": "@jupyter-widgets/base",
      "model_module_version": "1.2.0",
      "model_name": "LayoutModel",
      "state": {
       "_model_module": "@jupyter-widgets/base",
       "_model_module_version": "1.2.0",
       "_model_name": "LayoutModel",
       "_view_count": null,
       "_view_module": "@jupyter-widgets/base",
       "_view_module_version": "1.2.0",
       "_view_name": "LayoutView",
       "align_content": null,
       "align_items": null,
       "align_self": null,
       "border": null,
       "bottom": null,
       "display": null,
       "flex": null,
       "flex_flow": null,
       "grid_area": null,
       "grid_auto_columns": null,
       "grid_auto_flow": null,
       "grid_auto_rows": null,
       "grid_column": null,
       "grid_gap": null,
       "grid_row": null,
       "grid_template_areas": null,
       "grid_template_columns": null,
       "grid_template_rows": null,
       "height": null,
       "justify_content": null,
       "justify_items": null,
       "left": null,
       "margin": null,
       "max_height": null,
       "max_width": null,
       "min_height": null,
       "min_width": null,
       "object_fit": null,
       "object_position": null,
       "order": null,
       "overflow": null,
       "overflow_x": null,
       "overflow_y": null,
       "padding": null,
       "right": null,
       "top": null,
       "visibility": null,
       "width": null
      }
     },
     "d11e386307234d6fac3a00c8a58211dd": {
      "model_module": "@jupyter-widgets/base",
      "model_module_version": "1.2.0",
      "model_name": "LayoutModel",
      "state": {
       "_model_module": "@jupyter-widgets/base",
       "_model_module_version": "1.2.0",
       "_model_name": "LayoutModel",
       "_view_count": null,
       "_view_module": "@jupyter-widgets/base",
       "_view_module_version": "1.2.0",
       "_view_name": "LayoutView",
       "align_content": null,
       "align_items": null,
       "align_self": null,
       "border": null,
       "bottom": null,
       "display": null,
       "flex": null,
       "flex_flow": null,
       "grid_area": null,
       "grid_auto_columns": null,
       "grid_auto_flow": null,
       "grid_auto_rows": null,
       "grid_column": null,
       "grid_gap": null,
       "grid_row": null,
       "grid_template_areas": null,
       "grid_template_columns": null,
       "grid_template_rows": null,
       "height": null,
       "justify_content": null,
       "justify_items": null,
       "left": null,
       "margin": null,
       "max_height": null,
       "max_width": null,
       "min_height": null,
       "min_width": null,
       "object_fit": null,
       "object_position": null,
       "order": null,
       "overflow": null,
       "overflow_x": null,
       "overflow_y": null,
       "padding": null,
       "right": null,
       "top": null,
       "visibility": null,
       "width": null
      }
     },
     "de9c12504352419fa936e7fc850003bb": {
      "model_module": "@jupyter-widgets/controls",
      "model_module_version": "1.5.0",
      "model_name": "FloatProgressModel",
      "state": {
       "_dom_classes": [],
       "_model_module": "@jupyter-widgets/controls",
       "_model_module_version": "1.5.0",
       "_model_name": "FloatProgressModel",
       "_view_count": null,
       "_view_module": "@jupyter-widgets/controls",
       "_view_module_version": "1.5.0",
       "_view_name": "ProgressView",
       "bar_style": "",
       "description": "",
       "description_tooltip": null,
       "layout": "IPY_MODEL_767efebb7b4540ffa8fd2831558976fb",
       "max": 1.0,
       "min": 0.0,
       "orientation": "horizontal",
       "style": "IPY_MODEL_1440cf083d954c10b7ee002bf0022aa4",
       "value": 0.0
      }
     },
     "e065f22c587a4cc0abd40db51259aca5": {
      "model_module": "@jupyter-widgets/base",
      "model_module_version": "1.2.0",
      "model_name": "LayoutModel",
      "state": {
       "_model_module": "@jupyter-widgets/base",
       "_model_module_version": "1.2.0",
       "_model_name": "LayoutModel",
       "_view_count": null,
       "_view_module": "@jupyter-widgets/base",
       "_view_module_version": "1.2.0",
       "_view_name": "LayoutView",
       "align_content": null,
       "align_items": null,
       "align_self": null,
       "border": null,
       "bottom": null,
       "display": null,
       "flex": null,
       "flex_flow": null,
       "grid_area": null,
       "grid_auto_columns": null,
       "grid_auto_flow": null,
       "grid_auto_rows": null,
       "grid_column": null,
       "grid_gap": null,
       "grid_row": null,
       "grid_template_areas": null,
       "grid_template_columns": null,
       "grid_template_rows": null,
       "height": null,
       "justify_content": null,
       "justify_items": null,
       "left": null,
       "margin": null,
       "max_height": null,
       "max_width": null,
       "min_height": null,
       "min_width": null,
       "object_fit": null,
       "object_position": null,
       "order": null,
       "overflow": null,
       "overflow_x": null,
       "overflow_y": null,
       "padding": null,
       "right": null,
       "top": null,
       "visibility": null,
       "width": null
      }
     },
     "e1164312ded845f99c3d100ab49428e2": {
      "model_module": "@jupyter-widgets/base",
      "model_module_version": "1.2.0",
      "model_name": "LayoutModel",
      "state": {
       "_model_module": "@jupyter-widgets/base",
       "_model_module_version": "1.2.0",
       "_model_name": "LayoutModel",
       "_view_count": null,
       "_view_module": "@jupyter-widgets/base",
       "_view_module_version": "1.2.0",
       "_view_name": "LayoutView",
       "align_content": null,
       "align_items": null,
       "align_self": null,
       "border": null,
       "bottom": null,
       "display": null,
       "flex": null,
       "flex_flow": null,
       "grid_area": null,
       "grid_auto_columns": null,
       "grid_auto_flow": null,
       "grid_auto_rows": null,
       "grid_column": null,
       "grid_gap": null,
       "grid_row": null,
       "grid_template_areas": null,
       "grid_template_columns": null,
       "grid_template_rows": null,
       "height": null,
       "justify_content": null,
       "justify_items": null,
       "left": null,
       "margin": null,
       "max_height": null,
       "max_width": null,
       "min_height": null,
       "min_width": null,
       "object_fit": null,
       "object_position": null,
       "order": null,
       "overflow": null,
       "overflow_x": null,
       "overflow_y": null,
       "padding": null,
       "right": null,
       "top": null,
       "visibility": null,
       "width": null
      }
     },
     "ec442b58e6e445d1b6d17c4e0956152e": {
      "model_module": "@jupyter-widgets/controls",
      "model_module_version": "1.5.0",
      "model_name": "ProgressStyleModel",
      "state": {
       "_model_module": "@jupyter-widgets/controls",
       "_model_module_version": "1.5.0",
       "_model_name": "ProgressStyleModel",
       "_view_count": null,
       "_view_module": "@jupyter-widgets/base",
       "_view_module_version": "1.2.0",
       "_view_name": "StyleView",
       "bar_color": null,
       "description_width": ""
      }
     },
     "ef57a7ef739641c298fdb4c0dbc27318": {
      "model_module": "@jupyter-widgets/base",
      "model_module_version": "1.2.0",
      "model_name": "LayoutModel",
      "state": {
       "_model_module": "@jupyter-widgets/base",
       "_model_module_version": "1.2.0",
       "_model_name": "LayoutModel",
       "_view_count": null,
       "_view_module": "@jupyter-widgets/base",
       "_view_module_version": "1.2.0",
       "_view_name": "LayoutView",
       "align_content": null,
       "align_items": null,
       "align_self": null,
       "border": null,
       "bottom": null,
       "display": null,
       "flex": null,
       "flex_flow": null,
       "grid_area": null,
       "grid_auto_columns": null,
       "grid_auto_flow": null,
       "grid_auto_rows": null,
       "grid_column": null,
       "grid_gap": null,
       "grid_row": null,
       "grid_template_areas": null,
       "grid_template_columns": null,
       "grid_template_rows": null,
       "height": null,
       "justify_content": null,
       "justify_items": null,
       "left": null,
       "margin": null,
       "max_height": null,
       "max_width": null,
       "min_height": null,
       "min_width": null,
       "object_fit": null,
       "object_position": null,
       "order": null,
       "overflow": null,
       "overflow_x": null,
       "overflow_y": null,
       "padding": null,
       "right": null,
       "top": null,
       "visibility": null,
       "width": null
      }
     },
     "f0e1722efcef43ac9bb7d81390d4fcbd": {
      "model_module": "@jupyter-widgets/controls",
      "model_module_version": "1.5.0",
      "model_name": "HTMLModel",
      "state": {
       "_dom_classes": [],
       "_model_module": "@jupyter-widgets/controls",
       "_model_module_version": "1.5.0",
       "_model_name": "HTMLModel",
       "_view_count": null,
       "_view_module": "@jupyter-widgets/controls",
       "_view_module_version": "1.5.0",
       "_view_name": "HTMLView",
       "description": "",
       "description_tooltip": null,
       "layout": "IPY_MODEL_2d552db7b1ff4999acf29329aa78bde4",
       "placeholder": "​",
       "style": "IPY_MODEL_2306aace7bc3440d938cba73a0156601",
       "value": " 192M/192M [00:19&lt;00:00, 11.8MB/s]"
      }
     }
    },
    "version_major": 2,
    "version_minor": 0
   }
  }
 },
 "nbformat": 4,
 "nbformat_minor": 5
}
