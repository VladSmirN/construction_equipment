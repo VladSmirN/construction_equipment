{
 "cells": [
  {
   "cell_type": "code",
   "execution_count": 1,
   "id": "9866941a",
   "metadata": {
    "execution": {
     "iopub.execute_input": "2022-11-02T13:56:09.453516Z",
     "iopub.status.busy": "2022-11-02T13:56:09.452305Z",
     "iopub.status.idle": "2022-11-02T13:56:44.487147Z",
     "shell.execute_reply": "2022-11-02T13:56:44.486016Z"
    },
    "papermill": {
     "duration": 35.045243,
     "end_time": "2022-11-02T13:56:44.489943",
     "exception": false,
     "start_time": "2022-11-02T13:56:09.444700",
     "status": "completed"
    },
    "tags": []
   },
   "outputs": [
    {
     "name": "stdout",
     "output_type": "stream",
     "text": [
      "Collecting torchinfo\r\n",
      "  Downloading torchinfo-1.7.1-py3-none-any.whl (22 kB)\r\n",
      "Installing collected packages: torchinfo\r\n",
      "Successfully installed torchinfo-1.7.1\r\n",
      "\u001b[33mWARNING: Running pip as the 'root' user can result in broken permissions and conflicting behaviour with the system package manager. It is recommended to use a virtual environment instead: https://pip.pypa.io/warnings/venv\u001b[0m\u001b[33m\r\n",
      "\u001b[0mCollecting git+https://github.com/openai/CLIP.git\r\n",
      "  Cloning https://github.com/openai/CLIP.git to /tmp/pip-req-build-5xu3oa3y\r\n",
      "  Running command git clone --filter=blob:none --quiet https://github.com/openai/CLIP.git /tmp/pip-req-build-5xu3oa3y\r\n",
      "  Resolved https://github.com/openai/CLIP.git to commit d50d76daa670286dd6cacf3bcd80b5e4823fc8e1\r\n",
      "  Preparing metadata (setup.py) ... \u001b[?25l-\b \bdone\r\n",
      "\u001b[?25hCollecting ftfy\r\n",
      "  Downloading ftfy-6.1.1-py3-none-any.whl (53 kB)\r\n",
      "\u001b[2K     \u001b[90m━━━━━━━━━━━━━━━━━━━━━━━━━━━━━━━━━━━━━━━\u001b[0m \u001b[32m53.1/53.1 kB\u001b[0m \u001b[31m200.1 kB/s\u001b[0m eta \u001b[36m0:00:00\u001b[0m\r\n",
      "\u001b[?25hRequirement already satisfied: regex in /opt/conda/lib/python3.7/site-packages (from clip==1.0) (2021.11.10)\r\n",
      "Requirement already satisfied: tqdm in /opt/conda/lib/python3.7/site-packages (from clip==1.0) (4.64.0)\r\n",
      "Requirement already satisfied: torch in /opt/conda/lib/python3.7/site-packages (from clip==1.0) (1.11.0)\r\n",
      "Requirement already satisfied: torchvision in /opt/conda/lib/python3.7/site-packages (from clip==1.0) (0.12.0)\r\n",
      "Requirement already satisfied: wcwidth>=0.2.5 in /opt/conda/lib/python3.7/site-packages (from ftfy->clip==1.0) (0.2.5)\r\n",
      "Requirement already satisfied: typing-extensions in /opt/conda/lib/python3.7/site-packages (from torch->clip==1.0) (4.3.0)\r\n",
      "Requirement already satisfied: numpy in /opt/conda/lib/python3.7/site-packages (from torchvision->clip==1.0) (1.21.6)\r\n",
      "Requirement already satisfied: pillow!=8.3.*,>=5.3.0 in /opt/conda/lib/python3.7/site-packages (from torchvision->clip==1.0) (9.1.1)\r\n",
      "Requirement already satisfied: requests in /opt/conda/lib/python3.7/site-packages (from torchvision->clip==1.0) (2.28.1)\r\n",
      "Requirement already satisfied: certifi>=2017.4.17 in /opt/conda/lib/python3.7/site-packages (from requests->torchvision->clip==1.0) (2022.6.15.2)\r\n",
      "Requirement already satisfied: idna<4,>=2.5 in /opt/conda/lib/python3.7/site-packages (from requests->torchvision->clip==1.0) (3.3)\r\n",
      "Requirement already satisfied: charset-normalizer<3,>=2 in /opt/conda/lib/python3.7/site-packages (from requests->torchvision->clip==1.0) (2.1.0)\r\n",
      "Requirement already satisfied: urllib3<1.27,>=1.21.1 in /opt/conda/lib/python3.7/site-packages (from requests->torchvision->clip==1.0) (1.26.12)\r\n",
      "Building wheels for collected packages: clip\r\n",
      "  Building wheel for clip (setup.py) ... \u001b[?25l-\b \b\\\b \bdone\r\n",
      "\u001b[?25h  Created wheel for clip: filename=clip-1.0-py3-none-any.whl size=1369409 sha256=bb055060dba2d1bfe2a6f68212cb777ad56274b90c412f590c4925322b404d2b\r\n",
      "  Stored in directory: /tmp/pip-ephem-wheel-cache-punn19ca/wheels/fd/b9/c3/5b4470e35ed76e174bff77c92f91da82098d5e35fd5bc8cdac\r\n",
      "Successfully built clip\r\n",
      "Installing collected packages: ftfy, clip\r\n",
      "Successfully installed clip-1.0 ftfy-6.1.1\r\n",
      "\u001b[33mWARNING: Running pip as the 'root' user can result in broken permissions and conflicting behaviour with the system package manager. It is recommended to use a virtual environment instead: https://pip.pypa.io/warnings/venv\u001b[0m\u001b[33m\r\n",
      "\u001b[0m"
     ]
    }
   ],
   "source": [
    "import random\n",
    "from sklearn.model_selection import StratifiedKFold\n",
    "import pandas as pd \n",
    "import numpy as np\n",
    "import glob\n",
    "from tqdm import tqdm\n",
    "import cv2\n",
    "from sklearn.model_selection import train_test_split\n",
    "import os\n",
    "!pip install torchinfo\n",
    "from torchinfo import summary\n",
    "os.environ['CUDA_LAUNCH_BLOCKING'] = \"1\"\n",
    "from sklearn.metrics import recall_score\n",
    "import torch\n",
    "import torch.nn as nn\n",
    "import torch.optim as optim\n",
    "from torch.utils.data import Dataset\n",
    "from torchvision import datasets, models, transforms\n",
    "from torchvision.models import resnet18\n",
    "import uuid\n",
    "from PIL import Image\n",
    "import matplotlib.pyplot as plt\n",
    "from IPython.display import clear_output\n",
    "!pip install git+https://github.com/openai/CLIP.git\n",
    "from albumentations.core.composition import Compose, OneOf\n",
    "from albumentations.pytorch import ToTensorV2\n",
    "import albumentations as A    \n",
    "    \n",
    "import clip\n",
    "from torch.utils.data import DataLoader\n",
    "\n",
    "device = \"cuda\" if torch.cuda.is_available() else \"cpu\"\n",
    "\n",
    "\n",
    "import pytorch_lightning as pl\n",
    "from pytorch_lightning import Trainer, seed_everything\n",
    "from pytorch_lightning import Callback\n",
    "from pytorch_lightning.loggers import CSVLogger\n",
    "from pytorch_lightning.callbacks import ModelCheckpoint, EarlyStopping\n",
    "from pytorch_lightning.loggers import WandbLogger\n",
    "import wandb\n",
    " "
   ]
  },
  {
   "cell_type": "markdown",
   "id": "a2174fcd",
   "metadata": {
    "papermill": {
     "duration": 0.005849,
     "end_time": "2022-11-02T13:56:44.502071",
     "exception": false,
     "start_time": "2022-11-02T13:56:44.496222",
     "status": "completed"
    },
    "tags": []
   },
   "source": [
    "## Настрока блокнота"
   ]
  },
  {
   "cell_type": "code",
   "execution_count": 2,
   "id": "e844ac22",
   "metadata": {
    "execution": {
     "iopub.execute_input": "2022-11-02T13:56:44.516760Z",
     "iopub.status.busy": "2022-11-02T13:56:44.515124Z",
     "iopub.status.idle": "2022-11-02T13:56:44.523755Z",
     "shell.execute_reply": "2022-11-02T13:56:44.522770Z"
    },
    "papermill": {
     "duration": 0.017867,
     "end_time": "2022-11-02T13:56:44.525805",
     "exception": false,
     "start_time": "2022-11-02T13:56:44.507938",
     "status": "completed"
    },
    "tags": []
   },
   "outputs": [
    {
     "name": "stdout",
     "output_type": "stream",
     "text": [
      "id_notebook: 141c0815-4564-49d7-84a8-713a89a98a8e\n"
     ]
    }
   ],
   "source": [
    "class CFG:\n",
    "    batch_size=80\n",
    "    device = torch.device(\"cuda\" if torch.cuda.is_available() else \"cpu\")\n",
    "    num_epochs = 10\n",
    "    wandb_project = \"construction_equipment\"\n",
    "    wandb_entity = \"vladsmirn_\"\n",
    "    img_size = 224\n",
    "    n_fold = 5\n",
    "    k_fold = 1\n",
    "    seed=44\n",
    "    \n",
    "    id_notebook=str(uuid.uuid4())\n",
    "    \n",
    "print(\"id_notebook: \" + CFG.id_notebook)\n",
    " "
   ]
  },
  {
   "cell_type": "code",
   "execution_count": 3,
   "id": "bf544662",
   "metadata": {
    "execution": {
     "iopub.execute_input": "2022-11-02T13:56:44.539096Z",
     "iopub.status.busy": "2022-11-02T13:56:44.538438Z",
     "iopub.status.idle": "2022-11-02T13:56:44.547055Z",
     "shell.execute_reply": "2022-11-02T13:56:44.546255Z"
    },
    "papermill": {
     "duration": 0.017396,
     "end_time": "2022-11-02T13:56:44.549028",
     "exception": false,
     "start_time": "2022-11-02T13:56:44.531632",
     "status": "completed"
    },
    "tags": []
   },
   "outputs": [],
   "source": [
    "def get_transform(phase: str, img_size: int):\n",
    "    if phase == 'train':\n",
    "        return Compose([\n",
    "#             A.Resize(height=img_size, width=img_size),\n",
    "            A.RandomResizedCrop(height=img_size, width=img_size, scale=(0.97, 1.0)),\n",
    "            A.Flip(p=0.5),\n",
    "            A.RandomRotate90(p=0.1),\n",
    "#             A.ShiftScaleRotate(p=0.5),\n",
    "            A.HueSaturationValue(p=0.1),\n",
    "            A.OneOf([\n",
    "                A.RandomBrightnessContrast(p=0.1),\n",
    "                A.RandomGamma(p=0.1),\n",
    "            ], p=0.1),\n",
    "            A.OneOf([\n",
    "                A.Blur(p=0.1),\n",
    "                A.GaussianBlur(p=0.1),\n",
    "                A.MotionBlur(p=0.1),\n",
    "            ], p=0.1),\n",
    "            A.OneOf([\n",
    "                A.GaussNoise(p=0.1),\n",
    "                A.ISONoise(p=0.1),\n",
    "            ], p=0.2),\n",
    "            A.Normalize(),\n",
    "            ToTensorV2(),\n",
    "        ])\n",
    "    else:\n",
    "        return Compose([\n",
    "            A.Resize(height=img_size, width=img_size),\n",
    "            A.Normalize(),\n",
    "            ToTensorV2(),\n",
    "        ])"
   ]
  },
  {
   "cell_type": "code",
   "execution_count": 4,
   "id": "1d43e5de",
   "metadata": {
    "execution": {
     "iopub.execute_input": "2022-11-02T13:56:44.562438Z",
     "iopub.status.busy": "2022-11-02T13:56:44.561592Z",
     "iopub.status.idle": "2022-11-02T13:56:45.316661Z",
     "shell.execute_reply": "2022-11-02T13:56:45.315649Z"
    },
    "papermill": {
     "duration": 0.763999,
     "end_time": "2022-11-02T13:56:45.318854",
     "exception": false,
     "start_time": "2022-11-02T13:56:44.554855",
     "status": "completed"
    },
    "tags": []
   },
   "outputs": [
    {
     "name": "stdout",
     "output_type": "stream",
     "text": [
      "train size: 3992\n",
      "valid size: 998\n"
     ]
    },
    {
     "data": {
      "text/plain": [
       "torch.Size([80, 3, 224, 224])"
      ]
     },
     "execution_count": 4,
     "metadata": {},
     "output_type": "execute_result"
    }
   ],
   "source": [
    "DIR_TRAIN = \"../input/construction-equipment/train/\"\n",
    "DIR_TEST = \"../input/construction-equipment-test/test/\"\n",
    "\n",
    "PATH_TRAIN = \"../input/construction-equipment/train.csv\"\n",
    "PATH_TEST = \"../input/construction-equipment-test/test.csv\"\n",
    "\n",
    "def KFOLD(df, n_fold=5 , k_fold=1, seed=43, column_x='path', column_y='class'):\n",
    "    skf = StratifiedKFold(n_splits=n_fold, shuffle=True, random_state=seed)\n",
    "    \n",
    "    for i_fold , (train_idx, valid_idx) in enumerate(skf.split(df[column_x], df[column_y])):\n",
    "        if(i_fold+1 == k_fold):\n",
    "            df_train = df.iloc[train_idx]\n",
    "            df_valid = df.iloc[valid_idx]\n",
    "            break\n",
    "\n",
    "    print(f\"train size: {len(df_train)}\")\n",
    "    print(f\"valid size: {len(df_valid)}\")\n",
    "    \n",
    "    return df_train, df_valid\n",
    "\n",
    "class ImageDataset(Dataset):\n",
    "    def __init__(self, data_df, transform=None):\n",
    "\n",
    "        self.data_df = data_df\n",
    "        self.transform = transform\n",
    "\n",
    "    def __getitem__(self, idx):\n",
    "        image_path, label = self.data_df.iloc[idx]['path'], self.data_df.iloc[idx]['class']\n",
    "        image = cv2.imread(image_path)\n",
    "        image = cv2.cvtColor(image, cv2.COLOR_BGR2RGB)\n",
    "        image = self.transform(image=image)['image'] \n",
    "#         image = image.permute(0,1,2) \n",
    "#         image = Image.fromarray(image)\n",
    "#         image = preprocess(image).to(device)  \n",
    "        return image, torch.tensor(label).long()\n",
    "    \n",
    "    def __len__(self):\n",
    "        return len(self.data_df)\n",
    "    \n",
    " \n",
    " \n",
    "\n",
    "data_df = pd.read_csv(PATH_TRAIN)\n",
    "data_df[\"path\"] = data_df[\"ID_img\"].apply(lambda image_name : f'{DIR_TRAIN}{image_name}')\n",
    "train_df, valid_df = KFOLD(data_df, n_fold=CFG.n_fold, k_fold=CFG.k_fold,seed=CFG.seed)\n",
    "train_dataset = ImageDataset(train_df, get_transform(\"train\",CFG.img_size))\n",
    "valid_dataset = ImageDataset(valid_df, get_transform(\"valid\",CFG.img_size))\n",
    " \n",
    "\n",
    "train_loader = torch.utils.data.DataLoader(dataset=train_dataset,\n",
    "                                           batch_size=CFG.batch_size,\n",
    "                                           shuffle=True)\n",
    "\n",
    "valid_loader = torch.utils.data.DataLoader(dataset=valid_dataset,\n",
    "                                           batch_size=CFG.batch_size)\n",
    "                                            \n",
    "# CFG.steps_per_epoch = len(train_loader)\n",
    "CFG.steps_per_epoch = len(train_loader) \n",
    "images, labels =  next(iter(train_loader))\n",
    "# model_clip.encode_image(images[:1])\n",
    "images.shape"
   ]
  },
  {
   "cell_type": "code",
   "execution_count": 5,
   "id": "ee5de651",
   "metadata": {
    "execution": {
     "iopub.execute_input": "2022-11-02T13:56:45.333229Z",
     "iopub.status.busy": "2022-11-02T13:56:45.332903Z",
     "iopub.status.idle": "2022-11-02T13:56:45.346768Z",
     "shell.execute_reply": "2022-11-02T13:56:45.345883Z"
    },
    "papermill": {
     "duration": 0.02369,
     "end_time": "2022-11-02T13:56:45.348861",
     "exception": false,
     "start_time": "2022-11-02T13:56:45.325171",
     "status": "completed"
    },
    "tags": []
   },
   "outputs": [],
   "source": [
    "\n",
    "'''\n",
    "https://www.kaggle.com/code/isbhargav/guide-to-pytorch-learning-rate-scheduling/notebook\n",
    " \n",
    "CFG.lr_schedule = \"OneCycleLR\"\n",
    "CFG.num_epochs = 10\n",
    "CFG.steps_per_epoch = 62\n",
    "CFG.max_lr = 0.0002\n",
    "CFG.div_factor = 2\n",
    "\n",
    "CFG.lr_schedule = \"CyclicLR_exp_range\" \n",
    "CFG.base_lr = 0.0001 \n",
    "CFG.max_lr = 0.0002 \n",
    "CFG.step_size_up = 100\n",
    "CFG.gamma = 0.992\n",
    "\n",
    "'''\n",
    "# class optimizers_confing: \n",
    " \n",
    "def choose_configure_optimizers(CFG,model = torch.nn.Linear(2, 1),show=False):\n",
    "    \n",
    "  \n",
    "    CFG.optimizer = \"Adam\"\n",
    "    if not hasattr(CFG, 'lr'):\n",
    "        CFG.lr = 0.001\n",
    "    optimizer = torch.optim.Adam(model.parameters(), lr=CFG.lr)    \n",
    "\n",
    "         \n",
    "    if not hasattr(CFG, 'lr_schedule'):\n",
    "        return optimizer\n",
    "    \n",
    " \n",
    "    if CFG.lr_schedule == \"OneCycleLR\" :\n",
    "        scheduler = torch.optim.lr_scheduler.OneCycleLR(optimizer, \n",
    "                                                        epochs=CFG.num_epochs, \n",
    "                                                        steps_per_epoch= CFG.steps_per_epoch,\n",
    "                                                        max_lr=CFG.max_lr)\n",
    "                                                        \n",
    "        scheduler = {'scheduler': scheduler, 'interval': 'step'}\n",
    "        number_steps_scheduler = CFG.steps_per_epoch * CFG.num_epochs # for show\n",
    "        \n",
    "        \n",
    "        \n",
    "        \n",
    "    if CFG.lr_schedule == \"CyclicLR_exp_range\" :\n",
    "        scheduler = torch.optim.lr_scheduler.CyclicLR(optimizer, \n",
    "                                                      base_lr=CFG.base_lr, \n",
    "                                                      max_lr=CFG.max_lr, \n",
    "                                                      step_size_up=CFG.step_size_up,\n",
    "                                                      mode=\"exp_range\",\n",
    "                                                      gamma=CFG.gamma,\n",
    "                                                      cycle_momentum=False)\n",
    "        scheduler = {'scheduler': scheduler, 'interval': 'step'}\n",
    "        number_steps_scheduler = CFG.steps_per_epoch * CFG.num_epochs\n",
    "        \n",
    "        \n",
    "        \n",
    "    if CFG.lr_schedule == \"LambdaLR\" :\n",
    "        scheduler = torch.optim.lr_scheduler.LambdaLR(optimizer, \n",
    "                                                      lr_lambda = lambda epoch: CFG.parametr_lambda ** epoch)\n",
    "        \n",
    "        scheduler = {'scheduler': scheduler, 'interval': 'epoch'}\n",
    "        number_steps_scheduler = CFG.num_epochs\n",
    "        \n",
    "        \n",
    "        \n",
    "      \n",
    "        \n",
    "    if show : \n",
    "        lrs = []\n",
    "        for i in range(number_steps_scheduler):\n",
    "            optimizer.step()\n",
    "            lrs.append(optimizer.param_groups[0][\"lr\"])\n",
    "            scheduler['scheduler'].step()\n",
    "            \n",
    "        plt.title(CFG.lr_schedule)  \n",
    "        plt.plot(lrs)  \n",
    "        plt.xlabel(\"step\") \n",
    "        plt.ylabel(\"lr\")\n",
    "        plt.show()\n",
    "        print(\"last lr:\"+str(lrs[-1]))\n",
    "        print(\"first lr:\"+str(lrs[0]))\n",
    "        print(optimizer)\n",
    "\n",
    "    return optimizer, scheduler\n",
    "\n",
    " "
   ]
  },
  {
   "cell_type": "code",
   "execution_count": 6,
   "id": "bc4ec51a",
   "metadata": {
    "execution": {
     "iopub.execute_input": "2022-11-02T13:56:45.363141Z",
     "iopub.status.busy": "2022-11-02T13:56:45.362235Z",
     "iopub.status.idle": "2022-11-02T13:56:45.729697Z",
     "shell.execute_reply": "2022-11-02T13:56:45.728781Z"
    },
    "papermill": {
     "duration": 0.37991,
     "end_time": "2022-11-02T13:56:45.735017",
     "exception": false,
     "start_time": "2022-11-02T13:56:45.355107",
     "status": "completed"
    },
    "tags": []
   },
   "outputs": [
    {
     "data": {
      "image/png": "[encoded data removed]",
      "text/plain": [
       "<Figure size 432x288 with 1 Axes>"
      ]
     },
     "metadata": {
      "needs_background": "light"
     },
     "output_type": "display_data"
    },
    {
     "name": "stdout",
     "output_type": "stream",
     "text": [
      "last lr:3.9999999999999996e-10\n",
      "first lr:4.000000000000002e-06\n",
      "Adam (\n",
      "Parameter Group 0\n",
      "    amsgrad: False\n",
      "    base_momentum: 0.85\n",
      "    betas: (0.9499999798579515, 0.999)\n",
      "    eps: 1e-08\n",
      "    initial_lr: 4e-06\n",
      "    lr: 4.201419678776099e-10\n",
      "    max_lr: 0.0001\n",
      "    max_momentum: 0.95\n",
      "    maximize: False\n",
      "    min_lr: 3.9999999999999996e-10\n",
      "    weight_decay: 0\n",
      ")\n"
     ]
    }
   ],
   "source": [
    "CFG.lr_schedule = \"OneCycleLR\"\n",
    "CFG.num_epochs = 100\n",
    "CFG.max_lr = 0.0001\n",
    "\n",
    " \n",
    "_ = choose_configure_optimizers(CFG,show=True)\n",
    " "
   ]
  },
  {
   "cell_type": "markdown",
   "id": "93651e5f",
   "metadata": {
    "papermill": {
     "duration": 0.00673,
     "end_time": "2022-11-02T13:56:45.749248",
     "exception": false,
     "start_time": "2022-11-02T13:56:45.742518",
     "status": "completed"
    },
    "tags": []
   },
   "source": [
    "##   Объявление модели\n"
   ]
  },
  {
   "cell_type": "code",
   "execution_count": 7,
   "id": "5ce27562",
   "metadata": {
    "execution": {
     "iopub.execute_input": "2022-11-02T13:56:45.763092Z",
     "iopub.status.busy": "2022-11-02T13:56:45.762808Z",
     "iopub.status.idle": "2022-11-02T13:56:45.766804Z",
     "shell.execute_reply": "2022-11-02T13:56:45.765852Z"
    },
    "papermill": {
     "duration": 0.012998,
     "end_time": "2022-11-02T13:56:45.768774",
     "exception": false,
     "start_time": "2022-11-02T13:56:45.755776",
     "status": "completed"
    },
    "tags": []
   },
   "outputs": [],
   "source": [
    "# model_clf = models.convnext.convnext_small(pretrained=True)\n",
    "# model_clf.classifier[2] = nn.Linear(768, 8) \n",
    "# model_clf.to(CFG.device)\n",
    "\n",
    " \n",
    "# summary(model_clf)"
   ]
  },
  {
   "cell_type": "code",
   "execution_count": null,
   "id": "2b49b9c4",
   "metadata": {
    "papermill": {
     "duration": 0.006058,
     "end_time": "2022-11-02T13:56:45.781969",
     "exception": false,
     "start_time": "2022-11-02T13:56:45.775911",
     "status": "completed"
    },
    "tags": []
   },
   "outputs": [],
   "source": []
  },
  {
   "cell_type": "code",
   "execution_count": 8,
   "id": "1ba0d3b9",
   "metadata": {
    "execution": {
     "iopub.execute_input": "2022-11-02T13:56:45.795454Z",
     "iopub.status.busy": "2022-11-02T13:56:45.795196Z",
     "iopub.status.idle": "2022-11-02T13:56:45.802745Z",
     "shell.execute_reply": "2022-11-02T13:56:45.801773Z"
    },
    "papermill": {
     "duration": 0.016472,
     "end_time": "2022-11-02T13:56:45.804630",
     "exception": false,
     "start_time": "2022-11-02T13:56:45.788158",
     "status": "completed"
    },
    "tags": []
   },
   "outputs": [],
   "source": [
    "def run_wandb(wandb_api_key, cfg):\n",
    "    wandb.require(experiment=\"service\")\n",
    "    wandb.login(key=wandb_api_key)\n",
    "    _cfg = cfg() \n",
    "    cfg_wandb = dict((name, getattr(_cfg, name)) for name in dir(_cfg) if not name.startswith('__'))\n",
    "    \n",
    "    if hasattr(cfg, 'wandb_resume_id') and cfg.wandb_resume_id :\n",
    "        run = wandb.init(project=cfg.wandb_project, \n",
    "                   entity=cfg.wandb_entity, \n",
    "                   id=cfg.wandb_resume_id, \n",
    "                   resume=\"allow\", \n",
    "                   config=cfg_wandb)\n",
    "    else: \n",
    "        run = wandb.init(project=cfg.wandb_project, \n",
    "                   entity=cfg.wandb_entity, \n",
    "                   settings=wandb.Settings(start_method=\"fork\"), \n",
    "                   config=cfg_wandb,\n",
    "                   resume=\"allow\",\n",
    "                   id=wandb.util.generate_id())\n",
    "        \n",
    "    model_logger = WandbLogger(project=cfg.wandb_project, log_model='all')\n",
    "    \n",
    "    return model_logger,run\n",
    "\n",
    "from kaggle_secrets import UserSecretsClient\n",
    "user_secrets = UserSecretsClient()\n",
    "# model_logger, _ = run_wandb(user_secrets.get_secret(\"WANDB_API_KEY\"), CFG)"
   ]
  },
  {
   "cell_type": "code",
   "execution_count": 9,
   "id": "bc491981",
   "metadata": {
    "execution": {
     "iopub.execute_input": "2022-11-02T13:56:45.818553Z",
     "iopub.status.busy": "2022-11-02T13:56:45.817824Z",
     "iopub.status.idle": "2022-11-02T13:56:45.822550Z",
     "shell.execute_reply": "2022-11-02T13:56:45.821693Z"
    },
    "papermill": {
     "duration": 0.013601,
     "end_time": "2022-11-02T13:56:45.824418",
     "exception": false,
     "start_time": "2022-11-02T13:56:45.810817",
     "status": "completed"
    },
    "tags": []
   },
   "outputs": [],
   "source": [
    "# checkpoint_callback = ModelCheckpoint(monitor='valid_score',\n",
    "# #                                       save_top_k=1,\n",
    "#                                       save_weights_only=True,\n",
    "#                                       verbose=False,\n",
    "#                                       mode='max')\n",
    "\n",
    "# if torch.cuda.is_available() : \n",
    "#     trainer = Trainer(\n",
    "#         max_epochs=CFG.num_epochs,\n",
    "#         gpus=[0],\n",
    "#         callbacks=[checkpoint_callback], \n",
    "#         logger=model_logger,\n",
    "#         log_every_n_steps = 1 \n",
    "#     )\n",
    "# else :\n",
    "#     trainer = Trainer(\n",
    "#         max_epochs=CFG.num_epochs,\n",
    "#         callbacks=[checkpoint_callback], \n",
    "#         logger=model_logger,\n",
    "#         log_every_n_steps = 1 \n",
    "#     )"
   ]
  },
  {
   "cell_type": "code",
   "execution_count": 10,
   "id": "874b6d7d",
   "metadata": {
    "execution": {
     "iopub.execute_input": "2022-11-02T13:56:45.837841Z",
     "iopub.status.busy": "2022-11-02T13:56:45.837575Z",
     "iopub.status.idle": "2022-11-02T13:56:45.841391Z",
     "shell.execute_reply": "2022-11-02T13:56:45.840410Z"
    },
    "papermill": {
     "duration": 0.012931,
     "end_time": "2022-11-02T13:56:45.843609",
     "exception": false,
     "start_time": "2022-11-02T13:56:45.830678",
     "status": "completed"
    },
    "tags": []
   },
   "outputs": [],
   "source": [
    "# trainer.fit(lit_model, train_dataloaders=train_loader, val_dataloaders=valid_loader)\n",
    " "
   ]
  },
  {
   "cell_type": "markdown",
   "id": "e89e6755",
   "metadata": {
    "papermill": {
     "duration": 0.005986,
     "end_time": "2022-11-02T13:56:45.855790",
     "exception": false,
     "start_time": "2022-11-02T13:56:45.849804",
     "status": "completed"
    },
    "tags": []
   },
   "source": [
    "## Предсказание "
   ]
  },
  {
   "cell_type": "code",
   "execution_count": 11,
   "id": "fc32157e",
   "metadata": {
    "execution": {
     "iopub.execute_input": "2022-11-02T13:56:45.869207Z",
     "iopub.status.busy": "2022-11-02T13:56:45.868957Z",
     "iopub.status.idle": "2022-11-02T13:56:45.873356Z",
     "shell.execute_reply": "2022-11-02T13:56:45.872405Z"
    },
    "papermill": {
     "duration": 0.013232,
     "end_time": "2022-11-02T13:56:45.875252",
     "exception": false,
     "start_time": "2022-11-02T13:56:45.862020",
     "status": "completed"
    },
    "tags": []
   },
   "outputs": [],
   "source": [
    "# artifacts = [\"vladsmirn_/construction_equipment/model-3b6ghnoz:v9\", #mild-bee-60\n",
    "#              \"vladsmirn_/construction_equipment/model-18u6rsng:v8\", #eerie-vampire-94\n",
    "#              \"vladsmirn_/construction_equipment/model-2ut170pm:v10\",#paranormal-phantom-96\n",
    "#              \"vladsmirn_/construction_equipment/model-1k02nzr1:v7\", #haunted-seance-93\n",
    "#              \"vladsmirn_/construction_equipment/model-1if96ysv:v13\",#valiant-durian-66\n",
    "#             ]\n",
    "\n",
    "# _, run = run_wandb(user_secrets.get_secret(\"WANDB_API_KEY\"), CFG)\n",
    "# # model_clf = classification_construction(model_clip)\n",
    "# artifact = run.use_artifact('vladsmirn_/construction_equipment/model-d7519212:v7', type='model')\n",
    "# artifact_dir = artifact.download()\n",
    "# checkpoint =   os.path.join(artifact_dir, \"model.ckpt\" )\n",
    "\n",
    "# from collections import OrderedDict\n",
    "# state_dict = torch.load(checkpoint,map_location ='cpu')['state_dict']\n",
    "# new_state_dict = OrderedDict()\n",
    "# for k, v in state_dict.items():\n",
    "#     name = k[6:]  \n",
    "#     new_state_dict[name] = v\n",
    "\n",
    "# model_clf.load_state_dict(new_state_dict)\n",
    "\n",
    " "
   ]
  },
  {
   "cell_type": "code",
   "execution_count": 12,
   "id": "52b3d0d4",
   "metadata": {
    "execution": {
     "iopub.execute_input": "2022-11-02T13:56:45.889247Z",
     "iopub.status.busy": "2022-11-02T13:56:45.888602Z",
     "iopub.status.idle": "2022-11-02T13:56:58.505213Z",
     "shell.execute_reply": "2022-11-02T13:56:58.503975Z"
    },
    "papermill": {
     "duration": 12.627228,
     "end_time": "2022-11-02T13:56:58.508802",
     "exception": false,
     "start_time": "2022-11-02T13:56:45.881574",
     "status": "completed"
    },
    "tags": []
   },
   "outputs": [
    {
     "name": "stderr",
     "output_type": "stream",
     "text": [
      "\u001b[34m\u001b[1mwandb\u001b[0m: W&B API key is configured. Use \u001b[1m`wandb login --relogin`\u001b[0m to force relogin\n",
      "\u001b[34m\u001b[1mwandb\u001b[0m: \u001b[33mWARNING\u001b[0m If you're specifying your api key in code, ensure this code is not shared publicly.\n",
      "\u001b[34m\u001b[1mwandb\u001b[0m: \u001b[33mWARNING\u001b[0m Consider setting the WANDB_API_KEY environment variable, or running `wandb login` from the command line.\n",
      "\u001b[34m\u001b[1mwandb\u001b[0m: Appending key for api.wandb.ai to your netrc file: /root/.netrc\n",
      "\u001b[34m\u001b[1mwandb\u001b[0m: Currently logged in as: \u001b[33mvladsmirn\u001b[0m (\u001b[33mvladsmirn_\u001b[0m). Use \u001b[1m`wandb login --relogin`\u001b[0m to force relogin\n"
     ]
    },
    {
     "data": {
      "text/html": [
       "wandb version 0.13.4 is available!  To upgrade, please run:\n",
       " $ pip install wandb --upgrade"
      ],
      "text/plain": [
       "<IPython.core.display.HTML object>"
      ]
     },
     "metadata": {},
     "output_type": "display_data"
    },
    {
     "data": {
      "text/html": [
       "Tracking run with wandb version 0.12.21"
      ],
      "text/plain": [
       "<IPython.core.display.HTML object>"
      ]
     },
     "metadata": {},
     "output_type": "display_data"
    },
    {
     "data": {
      "text/html": [
       "Run data is saved locally in <code>/kaggle/working/wandb/run-20221102_135650-1xu8lari</code>"
      ],
      "text/plain": [
       "<IPython.core.display.HTML object>"
      ]
     },
     "metadata": {},
     "output_type": "display_data"
    },
    {
     "data": {
      "text/html": [
       "Syncing run <strong><a href=\"https://wandb.ai/vladsmirn_/construction_equipment/runs/1xu8lari\" target=\"_blank\">olive-river-118</a></strong> to <a href=\"https://wandb.ai/vladsmirn_/construction_equipment\" target=\"_blank\">Weights & Biases</a> (<a href=\"https://wandb.me/run\" target=\"_blank\">docs</a>)<br/>"
      ],
      "text/plain": [
       "<IPython.core.display.HTML object>"
      ]
     },
     "metadata": {},
     "output_type": "display_data"
    },
    {
     "name": "stderr",
     "output_type": "stream",
     "text": [
      "/opt/conda/lib/python3.7/site-packages/pytorch_lightning/loggers/wandb.py:353: UserWarning: There is a wandb run already in progress and newly created instances of `WandbLogger` will reuse this run. If this is not desired, call `wandb.finish()` before instantiating `WandbLogger`.\n",
      "  \"There is a wandb run already in progress and newly created instances of `WandbLogger` will reuse\"\n"
     ]
    }
   ],
   "source": [
    "_, run = run_wandb(user_secrets.get_secret(\"WANDB_API_KEY\"), CFG)"
   ]
  },
  {
   "cell_type": "code",
   "execution_count": 13,
   "id": "bed9ea47",
   "metadata": {
    "execution": {
     "iopub.execute_input": "2022-11-02T13:56:58.555892Z",
     "iopub.status.busy": "2022-11-02T13:56:58.555410Z",
     "iopub.status.idle": "2022-11-02T13:56:58.588325Z",
     "shell.execute_reply": "2022-11-02T13:56:58.587379Z"
    },
    "papermill": {
     "duration": 0.059673,
     "end_time": "2022-11-02T13:56:58.590810",
     "exception": false,
     "start_time": "2022-11-02T13:56:58.531137",
     "status": "completed"
    },
    "tags": []
   },
   "outputs": [],
   "source": [
    "test_df = pd.read_csv(PATH_TEST)\n",
    "test_df[\"path\"] = test_df[\"ID_img\"].apply(lambda image_name : f'{DIR_TEST}{image_name}')\n",
    "test_df = test_df.drop([\"class\"], axis = 1)\n",
    "\n",
    "class TestImageDataset(Dataset):\n",
    "    def __init__(self, data_df, transform=None):\n",
    "        self.data_df = data_df\n",
    "        self.transform = transform\n",
    "\n",
    "    def __getitem__(self, idx):\n",
    "        image_path = self.data_df.iloc[idx]['path']\n",
    "        image = cv2.imread(image_path)\n",
    "        image = cv2.cvtColor(image, cv2.COLOR_BGR2RGB)\n",
    "        image = self.transform(image=image)['image'] \n",
    " \n",
    "        \n",
    "        return image\n",
    "    \n",
    "    def __len__(self):\n",
    "        return len(self.data_df)\n",
    "    \n",
    "# test_dataset = TestImageDataset(test_df,get_transform(\"train\",CFG.img_size))"
   ]
  },
  {
   "cell_type": "code",
   "execution_count": 14,
   "id": "76cc6839",
   "metadata": {
    "execution": {
     "iopub.execute_input": "2022-11-02T13:56:58.633796Z",
     "iopub.status.busy": "2022-11-02T13:56:58.633429Z",
     "iopub.status.idle": "2022-11-02T13:56:58.639803Z",
     "shell.execute_reply": "2022-11-02T13:56:58.638853Z"
    },
    "papermill": {
     "duration": 0.033953,
     "end_time": "2022-11-02T13:56:58.642191",
     "exception": false,
     "start_time": "2022-11-02T13:56:58.608238",
     "status": "completed"
    },
    "tags": []
   },
   "outputs": [],
   "source": [
    "# test_dataset = TestImageDataset(test_df,get_transform(\"train\",CFG.img_size))\n",
    "# test_loader = torch.utils.data.DataLoader(dataset=test_dataset,\n",
    "#                                            batch_size=1)"
   ]
  },
  {
   "cell_type": "code",
   "execution_count": 15,
   "id": "93b4f4db",
   "metadata": {
    "execution": {
     "iopub.execute_input": "2022-11-02T13:56:58.685508Z",
     "iopub.status.busy": "2022-11-02T13:56:58.685098Z",
     "iopub.status.idle": "2022-11-02T13:56:58.703032Z",
     "shell.execute_reply": "2022-11-02T13:56:58.702091Z"
    },
    "papermill": {
     "duration": 0.046008,
     "end_time": "2022-11-02T13:56:58.705427",
     "exception": false,
     "start_time": "2022-11-02T13:56:58.659419",
     "status": "completed"
    },
    "tags": []
   },
   "outputs": [],
   "source": [
    "def run_model(loader,model):\n",
    "    model.eval()\n",
    "    predicts = []\n",
    "    model.to(CFG.device)\n",
    "    for imgs in tqdm(loader):   \n",
    "        imgs = imgs.to(CFG.device)\n",
    "        pred = model(imgs)\n",
    "        prob = Categorical(logits=pred).probs.cpu().detach().tolist();\n",
    "        predicts.extend(prob)\n",
    "    return predicts\n",
    "\n",
    "def get_model():\n",
    "    model = models.convnext.convnext_small(pretrained=True)\n",
    "    model.classifier[2] = nn.Linear(768, 8) \n",
    "    model.to(CFG.device)\n",
    "    return model\n",
    "\n",
    "def download_model_wandb(path_artifact,model,run):\n",
    "    artifact = run.use_artifact(path_artifact, type='model')\n",
    "    artifact_dir = artifact.download()\n",
    "    checkpoint = os.path.join(artifact_dir, \"model.ckpt\")\n",
    "    from collections import OrderedDict\n",
    "    state_dict = torch.load(checkpoint,map_location ='cpu')['state_dict']\n",
    "    new_state_dict = OrderedDict()\n",
    "    for k, v in state_dict.items():\n",
    "        name = k[6:]  \n",
    "        new_state_dict[name] = v\n",
    "    model.load_state_dict(new_state_dict)\n",
    "    return model "
   ]
  },
  {
   "cell_type": "code",
   "execution_count": 16,
   "id": "77614485",
   "metadata": {
    "execution": {
     "iopub.execute_input": "2022-11-02T13:56:58.741362Z",
     "iopub.status.busy": "2022-11-02T13:56:58.741016Z",
     "iopub.status.idle": "2022-11-02T13:56:58.746751Z",
     "shell.execute_reply": "2022-11-02T13:56:58.745884Z"
    },
    "papermill": {
     "duration": 0.029486,
     "end_time": "2022-11-02T13:56:58.752257",
     "exception": false,
     "start_time": "2022-11-02T13:56:58.722771",
     "status": "completed"
    },
    "tags": []
   },
   "outputs": [],
   "source": [
    "from torch.distributions import Categorical"
   ]
  },
  {
   "cell_type": "code",
   "execution_count": 17,
   "id": "183af53c",
   "metadata": {
    "execution": {
     "iopub.execute_input": "2022-11-02T13:56:58.789870Z",
     "iopub.status.busy": "2022-11-02T13:56:58.789493Z",
     "iopub.status.idle": "2022-11-02T14:10:09.482332Z",
     "shell.execute_reply": "2022-11-02T14:10:09.481210Z"
    },
    "papermill": {
     "duration": 790.721863,
     "end_time": "2022-11-02T14:10:09.486299",
     "exception": false,
     "start_time": "2022-11-02T13:56:58.764436",
     "status": "completed"
    },
    "tags": []
   },
   "outputs": [
    {
     "name": "stderr",
     "output_type": "stream",
     "text": [
      "Downloading: \"https://download.pytorch.org/models/convnext_small-0c510722.pth\" to /root/.cache/torch/hub/checkpoints/convnext_small-0c510722.pth\n"
     ]
    },
    {
     "data": {
      "application/vnd.jupyter.widget-view+json": {
       "model_id": "8d93bb1c35b447349db592e635abea3e",
       "version_major": 2,
       "version_minor": 0
      },
      "text/plain": [
       "  0%|          | 0.00/192M [00:00<?, ?B/s]"
      ]
     },
     "metadata": {},
     "output_type": "display_data"
    },
    {
     "name": "stderr",
     "output_type": "stream",
     "text": [
      "\u001b[34m\u001b[1mwandb\u001b[0m: Downloading large artifact model-3b6ghnoz:v9, 188.80MB. 1 files... Done. 0:0:10.4\n",
      "100%|██████████| 2138/2138 [01:17<00:00, 27.64it/s]\n",
      "\u001b[34m\u001b[1mwandb\u001b[0m: Downloading large artifact model-18u6rsng:v8, 188.80MB. 1 files... Done. 0:0:12.5\n",
      "100%|██████████| 2138/2138 [01:03<00:00, 33.67it/s]\n",
      "\u001b[34m\u001b[1mwandb\u001b[0m: Downloading large artifact model-2ut170pm:v10, 188.80MB. 1 files... Done. 0:0:12.0\n",
      "100%|██████████| 2138/2138 [01:01<00:00, 34.76it/s]\n",
      "\u001b[34m\u001b[1mwandb\u001b[0m: Downloading large artifact model-1if96ysv:v13, 188.80MB. 1 files... Done. 0:0:10.6\n",
      "100%|██████████| 2138/2138 [01:01<00:00, 34.65it/s]\n",
      "\u001b[34m\u001b[1mwandb\u001b[0m: Downloading large artifact model-3b6ghnoz:v9, 188.80MB. 1 files... Done. 0:0:0.1\n",
      "100%|██████████| 2138/2138 [01:01<00:00, 34.99it/s]\n",
      "\u001b[34m\u001b[1mwandb\u001b[0m: Downloading large artifact model-18u6rsng:v8, 188.80MB. 1 files... Done. 0:0:0.1\n",
      "100%|██████████| 2138/2138 [01:01<00:00, 35.02it/s]\n",
      "\u001b[34m\u001b[1mwandb\u001b[0m: Downloading large artifact model-2ut170pm:v10, 188.80MB. 1 files... Done. 0:0:0.1\n",
      "100%|██████████| 2138/2138 [01:00<00:00, 35.12it/s]\n",
      "\u001b[34m\u001b[1mwandb\u001b[0m: Downloading large artifact model-1if96ysv:v13, 188.80MB. 1 files... Done. 0:0:0.1\n",
      "100%|██████████| 2138/2138 [01:01<00:00, 35.03it/s]\n",
      "\u001b[34m\u001b[1mwandb\u001b[0m: Downloading large artifact model-18u6rsng:v8, 188.80MB. 1 files... Done. 0:0:0.1\n",
      "100%|██████████| 2138/2138 [01:01<00:00, 34.91it/s]\n",
      "\u001b[34m\u001b[1mwandb\u001b[0m: Downloading large artifact model-18u6rsng:v8, 188.80MB. 1 files... Done. 0:0:0.1\n",
      "100%|██████████| 2138/2138 [01:00<00:00, 35.06it/s]\n",
      "\u001b[34m\u001b[1mwandb\u001b[0m: Downloading large artifact model-18u6rsng:v8, 188.80MB. 1 files... Done. 0:0:0.1\n",
      "100%|██████████| 2138/2138 [01:01<00:00, 34.98it/s]\n"
     ]
    }
   ],
   "source": [
    "artifacts = [\"vladsmirn_/construction_equipment/model-3b6ghnoz:v9\", #mild-bee-60\n",
    "             \"vladsmirn_/construction_equipment/model-18u6rsng:v8\", #eerie-vampire-94\n",
    "             \"vladsmirn_/construction_equipment/model-2ut170pm:v10\",#paranormal-phantom-96\n",
    "#              \"vladsmirn_/construction_equipment/model-1k02nzr1:v7\", #haunted-seance-93\n",
    "             \"vladsmirn_/construction_equipment/model-1if96ysv:v13\",#valiant-durian-66\n",
    "             \n",
    "             \"vladsmirn_/construction_equipment/model-3b6ghnoz:v9\", #mild-bee-60\n",
    "             \"vladsmirn_/construction_equipment/model-18u6rsng:v8\", #eerie-vampire-94\n",
    "             \"vladsmirn_/construction_equipment/model-2ut170pm:v10\",#paranormal-phantom-96\n",
    " \n",
    "             \"vladsmirn_/construction_equipment/model-1if96ysv:v13\",#valiant-durian-66\n",
    " \n",
    "             \"vladsmirn_/construction_equipment/model-18u6rsng:v8\", #eerie-vampire-94\n",
    "             \"vladsmirn_/construction_equipment/model-18u6rsng:v8\", #eerie-vampire-94\n",
    "             \"vladsmirn_/construction_equipment/model-18u6rsng:v8\", #eerie-vampire-94\n",
    " \n",
    "            ]\n",
    "\n",
    "model = get_model()\n",
    "first_run = True\n",
    "seed = 1 \n",
    "for artifact in artifacts:\n",
    "    \n",
    "    random.seed(seed)\n",
    "    seed+=1\n",
    "    \n",
    "    test_dataset = TestImageDataset(test_df,get_transform(\"train\",CFG.img_size))\n",
    "    test_loader = torch.utils.data.DataLoader(dataset=test_dataset,\n",
    "                                              batch_size=1)\n",
    "    \n",
    "    model = download_model_wandb(artifact,model,run)\n",
    "    if first_run == True:\n",
    "        predict = np.array(run_model(test_loader,model))\n",
    "        first_run = False\n",
    "    else:\n",
    "        predict += np.array(run_model(test_loader,model))\n",
    "predict /= len(artifacts)\n",
    "predict = np.argmax(predict,axis=1)\n",
    "predict = predict.tolist()\n"
   ]
  },
  {
   "cell_type": "code",
   "execution_count": 18,
   "id": "bfc11e85",
   "metadata": {
    "execution": {
     "iopub.execute_input": "2022-11-02T14:10:10.152668Z",
     "iopub.status.busy": "2022-11-02T14:10:10.152155Z",
     "iopub.status.idle": "2022-11-02T14:10:10.181441Z",
     "shell.execute_reply": "2022-11-02T14:10:10.177395Z"
    },
    "papermill": {
     "duration": 0.387764,
     "end_time": "2022-11-02T14:10:10.184386",
     "exception": false,
     "start_time": "2022-11-02T14:10:09.796622",
     "status": "completed"
    },
    "tags": []
   },
   "outputs": [],
   "source": [
    "test_df[\"class\"] = predict\n",
    "test_df = test_df.drop([\"path\"], axis = 1)\n",
    "test_df.head()\n",
    "\n",
    "test_df.to_csv(\"submit.csv\", index=False)"
   ]
  }
 ],
 "metadata": {
  "kernelspec": {
   "display_name": "Python 3",
   "language": "python",
   "name": "python3"
  },
  "language_info": {
   "codemirror_mode": {
    "name": "ipython",
    "version": 3
   },
   "file_extension": ".py",
   "mimetype": "text/x-python",
   "name": "python",
   "nbconvert_exporter": "python",
   "pygments_lexer": "ipython3",
   "version": "3.7.12"
  },
  "papermill": {
   "default_parameters": {},
   "duration": 851.380726,
   "end_time": "2022-11-02T14:10:13.382878",
   "environment_variables": {},
   "exception": null,
   "input_path": "__notebook__.ipynb",
   "output_path": "__notebook__.ipynb",
   "parameters": {},
   "start_time": "2022-11-02T13:56:02.002152",
   "version": "2.3.4"
  },
  "widgets": {
   "application/vnd.jupyter.widget-state+json": {
    "state": {
     "1f844a44e17b4529aebf80d5487673ef": {
      "model_module": "@jupyter-widgets/controls",
      "model_module_version": "1.5.0",
      "model_name": "FloatProgressModel",
      "state": {
       "_dom_classes": [],
       "_model_module": "@jupyter-widgets/controls",
       "_model_module_version": "1.5.0",
       "_model_name": "FloatProgressModel",
       "_view_count": null,
       "_view_module": "@jupyter-widgets/controls",
       "_view_module_version": "1.5.0",
       "_view_name": "ProgressView",
       "bar_style": "",
       "description": "",
       "description_tooltip": null,
       "layout": "IPY_MODEL_3085afc7fd994462b985a14c618a88cc",
       "max": 1.0,
       "min": 0.0,
       "orientation": "horizontal",
       "style": "IPY_MODEL_6b53da807e4b4c87ab11b2981c9411bd",
       "value": 0.0
      }
     },
     "2c19a6b7f07342d4a2cdffb85ab5148b": {
      "model_module": "@jupyter-widgets/controls",
      "model_module_version": "1.5.0",
      "model_name": "FloatProgressModel",
      "state": {
       "_dom_classes": [],
       "_model_module": "@jupyter-widgets/controls",
       "_model_module_version": "1.5.0",
       "_model_name": "FloatProgressModel",
       "_view_count": null,
       "_view_module": "@jupyter-widgets/controls",
       "_view_module_version": "1.5.0",
       "_view_name": "ProgressView",
       "bar_style": "",
       "description": "",
       "description_tooltip": null,
       "layout": "IPY_MODEL_48ffc15987d641c88867f34810e6a646",
       "max": 1.0,
       "min": 0.0,
       "orientation": "horizontal",
       "style": "IPY_MODEL_56d26979332b46dd982e43e5f5373a2f",
       "value": 0.0
      }
     },
     "3085afc7fd994462b985a14c618a88cc": {
      "model_module": "@jupyter-widgets/base",
      "model_module_version": "1.2.0",
      "model_name": "LayoutModel",
      "state": {
       "_model_module": "@jupyter-widgets/base",
       "_model_module_version": "1.2.0",
       "_model_name": "LayoutModel",
       "_view_count": null,
       "_view_module": "@jupyter-widgets/base",
       "_view_module_version": "1.2.0",
       "_view_name": "LayoutView",
       "align_content": null,
       "align_items": null,
       "align_self": null,
       "border": null,
       "bottom": null,
       "display": null,
       "flex": null,
       "flex_flow": null,
       "grid_area": null,
       "grid_auto_columns": null,
       "grid_auto_flow": null,
       "grid_auto_rows": null,
       "grid_column": null,
       "grid_gap": null,
       "grid_row": null,
       "grid_template_areas": null,
       "grid_template_columns": null,
       "grid_template_rows": null,
       "height": null,
       "justify_content": null,
       "justify_items": null,
       "left": null,
       "margin": null,
       "max_height": null,
       "max_width": null,
       "min_height": null,
       "min_width": null,
       "object_fit": null,
       "object_position": null,
       "order": null,
       "overflow": null,
       "overflow_x": null,
       "overflow_y": null,
       "padding": null,
       "right": null,
       "top": null,
       "visibility": null,
       "width": null
      }
     },
     "32db181f54c34cd382a702a770651c88": {
      "model_module": "@jupyter-widgets/controls",
      "model_module_version": "1.5.0",
      "model_name": "FloatProgressModel",
      "state": {
       "_dom_classes": [],
       "_model_module": "@jupyter-widgets/controls",
       "_model_module_version": "1.5.0",
       "_model_name": "FloatProgressModel",
       "_view_count": null,
       "_view_module": "@jupyter-widgets/controls",
       "_view_module_version": "1.5.0",
       "_view_name": "ProgressView",
       "bar_style": "success",
       "description": "",
       "description_tooltip": null,
       "layout": "IPY_MODEL_8ee51a2c65b748ec826fd16c8d2241bd",
       "max": 201014929.0,
       "min": 0.0,
       "orientation": "horizontal",
       "style": "IPY_MODEL_5ac712dfa458471c994c1a07c380d868",
       "value": 201014929.0
      }
     },
     "47d7a846af924368a6f17849bd71b876": {
      "model_module": "@jupyter-widgets/controls",
      "model_module_version": "1.5.0",
      "model_name": "DescriptionStyleModel",
      "state": {
       "_model_module": "@jupyter-widgets/controls",
       "_model_module_version": "1.5.0",
       "_model_name": "DescriptionStyleModel",
       "_view_count": null,
       "_view_module": "@jupyter-widgets/base",
       "_view_module_version": "1.2.0",
       "_view_name": "StyleView",
       "description_width": ""
      }
     },
     "484f89834e264831b6fd42a4361d88c7": {
      "model_module": "@jupyter-widgets/base",
      "model_module_version": "1.2.0",
      "model_name": "LayoutModel",
      "state": {
       "_model_module": "@jupyter-widgets/base",
       "_model_module_version": "1.2.0",
       "_model_name": "LayoutModel",
       "_view_count": null,
       "_view_module": "@jupyter-widgets/base",
       "_view_module_version": "1.2.0",
       "_view_name": "LayoutView",
       "align_content": null,
       "align_items": null,
       "align_self": null,
       "border": null,
       "bottom": null,
       "display": null,
       "flex": null,
       "flex_flow": null,
       "grid_area": null,
       "grid_auto_columns": null,
       "grid_auto_flow": null,
       "grid_auto_rows": null,
       "grid_column": null,
       "grid_gap": null,
       "grid_row": null,
       "grid_template_areas": null,
       "grid_template_columns": null,
       "grid_template_rows": null,
       "height": null,
       "justify_content": null,
       "justify_items": null,
       "left": null,
       "margin": null,
       "max_height": null,
       "max_width": null,
       "min_height": null,
       "min_width": null,
       "object_fit": null,
       "object_position": null,
       "order": null,
       "overflow": null,
       "overflow_x": null,
       "overflow_y": null,
       "padding": null,
       "right": null,
       "top": null,
       "visibility": null,
       "width": null
      }
     },
     "48ffc15987d641c88867f34810e6a646": {
      "model_module": "@jupyter-widgets/base",
      "model_module_version": "1.2.0",
      "model_name": "LayoutModel",
      "state": {
       "_model_module": "@jupyter-widgets/base",
       "_model_module_version": "1.2.0",
       "_model_name": "LayoutModel",
       "_view_count": null,
       "_view_module": "@jupyter-widgets/base",
       "_view_module_version": "1.2.0",
       "_view_name": "LayoutView",
       "align_content": null,
       "align_items": null,
       "align_self": null,
       "border": null,
       "bottom": null,
       "display": null,
       "flex": null,
       "flex_flow": null,
       "grid_area": null,
       "grid_auto_columns": null,
       "grid_auto_flow": null,
       "grid_auto_rows": null,
       "grid_column": null,
       "grid_gap": null,
       "grid_row": null,
       "grid_template_areas": null,
       "grid_template_columns": null,
       "grid_template_rows": null,
       "height": null,
       "justify_content": null,
       "justify_items": null,
       "left": null,
       "margin": null,
       "max_height": null,
       "max_width": null,
       "min_height": null,
       "min_width": null,
       "object_fit": null,
       "object_position": null,
       "order": null,
       "overflow": null,
       "overflow_x": null,
       "overflow_y": null,
       "padding": null,
       "right": null,
       "top": null,
       "visibility": null,
       "width": null
      }
     },
     "4c678b1c29074583895477bed8091b1b": {
      "model_module": "@jupyter-widgets/controls",
      "model_module_version": "1.5.0",
      "model_name": "HTMLModel",
      "state": {
       "_dom_classes": [],
       "_model_module": "@jupyter-widgets/controls",
       "_model_module_version": "1.5.0",
       "_model_name": "HTMLModel",
       "_view_count": null,
       "_view_module": "@jupyter-widgets/controls",
       "_view_module_version": "1.5.0",
       "_view_name": "HTMLView",
       "description": "",
       "description_tooltip": null,
       "layout": "IPY_MODEL_6d36c4ad80034c96ba103474624c16cc",
       "placeholder": "​",
       "style": "IPY_MODEL_9b4273631ed147aaa6ef22256e6dd2d1",
       "value": " 192M/192M [00:19&lt;00:00, 11.7MB/s]"
      }
     },
     "56d26979332b46dd982e43e5f5373a2f": {
      "model_module": "@jupyter-widgets/controls",
      "model_module_version": "1.5.0",
      "model_name": "ProgressStyleModel",
      "state": {
       "_model_module": "@jupyter-widgets/controls",
       "_model_module_version": "1.5.0",
       "_model_name": "ProgressStyleModel",
       "_view_count": null,
       "_view_module": "@jupyter-widgets/base",
       "_view_module_version": "1.2.0",
       "_view_name": "StyleView",
       "bar_color": null,
       "description_width": ""
      }
     },
     "5ac712dfa458471c994c1a07c380d868": {
      "model_module": "@jupyter-widgets/controls",
      "model_module_version": "1.5.0",
      "model_name": "ProgressStyleModel",
      "state": {
       "_model_module": "@jupyter-widgets/controls",
       "_model_module_version": "1.5.0",
       "_model_name": "ProgressStyleModel",
       "_view_count": null,
       "_view_module": "@jupyter-widgets/base",
       "_view_module_version": "1.2.0",
       "_view_name": "StyleView",
       "bar_color": null,
       "description_width": ""
      }
     },
     "5f28e931fec946cb9b2cbf78eda59b33": {
      "model_module": "@jupyter-widgets/controls",
      "model_module_version": "1.5.0",
      "model_name": "LabelModel",
      "state": {
       "_dom_classes": [],
       "_model_module": "@jupyter-widgets/controls",
       "_model_module_version": "1.5.0",
       "_model_name": "LabelModel",
       "_view_count": null,
       "_view_module": "@jupyter-widgets/controls",
       "_view_module_version": "1.5.0",
       "_view_name": "LabelView",
       "description": "",
       "description_tooltip": null,
       "layout": "IPY_MODEL_da16725b822140029cc134cd92d6a10f",
       "placeholder": "​",
       "style": "IPY_MODEL_f112b42e6d76405b88d876bd94eaad23",
       "value": ""
      }
     },
     "68cda993821d477f901e7e009af3584a": {
      "model_module": "@jupyter-widgets/controls",
      "model_module_version": "1.5.0",
      "model_name": "DescriptionStyleModel",
      "state": {
       "_model_module": "@jupyter-widgets/controls",
       "_model_module_version": "1.5.0",
       "_model_name": "DescriptionStyleModel",
       "_view_count": null,
       "_view_module": "@jupyter-widgets/base",
       "_view_module_version": "1.2.0",
       "_view_name": "StyleView",
       "description_width": ""
      }
     },
     "6b53da807e4b4c87ab11b2981c9411bd": {
      "model_module": "@jupyter-widgets/controls",
      "model_module_version": "1.5.0",
      "model_name": "ProgressStyleModel",
      "state": {
       "_model_module": "@jupyter-widgets/controls",
       "_model_module_version": "1.5.0",
       "_model_name": "ProgressStyleModel",
       "_view_count": null,
       "_view_module": "@jupyter-widgets/base",
       "_view_module_version": "1.2.0",
       "_view_name": "StyleView",
       "bar_color": null,
       "description_width": ""
      }
     },
     "6d36c4ad80034c96ba103474624c16cc": {
      "model_module": "@jupyter-widgets/base",
      "model_module_version": "1.2.0",
      "model_name": "LayoutModel",
      "state": {
       "_model_module": "@jupyter-widgets/base",
       "_model_module_version": "1.2.0",
       "_model_name": "LayoutModel",
       "_view_count": null,
       "_view_module": "@jupyter-widgets/base",
       "_view_module_version": "1.2.0",
       "_view_name": "LayoutView",
       "align_content": null,
       "align_items": null,
       "align_self": null,
       "border": null,
       "bottom": null,
       "display": null,
       "flex": null,
       "flex_flow": null,
       "grid_area": null,
       "grid_auto_columns": null,
       "grid_auto_flow": null,
       "grid_auto_rows": null,
       "grid_column": null,
       "grid_gap": null,
       "grid_row": null,
       "grid_template_areas": null,
       "grid_template_columns": null,
       "grid_template_rows": null,
       "height": null,
       "justify_content": null,
       "justify_items": null,
       "left": null,
       "margin": null,
       "max_height": null,
       "max_width": null,
       "min_height": null,
       "min_width": null,
       "object_fit": null,
       "object_position": null,
       "order": null,
       "overflow": null,
       "overflow_x": null,
       "overflow_y": null,
       "padding": null,
       "right": null,
       "top": null,
       "visibility": null,
       "width": null
      }
     },
     "70a1b95e34a646129c6be095247f44d1": {
      "model_module": "@jupyter-widgets/base",
      "model_module_version": "1.2.0",
      "model_name": "LayoutModel",
      "state": {
       "_model_module": "@jupyter-widgets/base",
       "_model_module_version": "1.2.0",
       "_model_name": "LayoutModel",
       "_view_count": null,
       "_view_module": "@jupyter-widgets/base",
       "_view_module_version": "1.2.0",
       "_view_name": "LayoutView",
       "align_content": null,
       "align_items": null,
       "align_self": null,
       "border": null,
       "bottom": null,
       "display": null,
       "flex": null,
       "flex_flow": null,
       "grid_area": null,
       "grid_auto_columns": null,
       "grid_auto_flow": null,
       "grid_auto_rows": null,
       "grid_column": null,
       "grid_gap": null,
       "grid_row": null,
       "grid_template_areas": null,
       "grid_template_columns": null,
       "grid_template_rows": null,
       "height": null,
       "justify_content": null,
       "justify_items": null,
       "left": null,
       "margin": null,
       "max_height": null,
       "max_width": null,
       "min_height": null,
       "min_width": null,
       "object_fit": null,
       "object_position": null,
       "order": null,
       "overflow": null,
       "overflow_x": null,
       "overflow_y": null,
       "padding": null,
       "right": null,
       "top": null,
       "visibility": null,
       "width": null
      }
     },
     "7a3c5563798d44b8ae7f37e6259090af": {
      "model_module": "@jupyter-widgets/controls",
      "model_module_version": "1.5.0",
      "model_name": "VBoxModel",
      "state": {
       "_dom_classes": [],
       "_model_module": "@jupyter-widgets/controls",
       "_model_module_version": "1.5.0",
       "_model_name": "VBoxModel",
       "_view_count": null,
       "_view_module": "@jupyter-widgets/controls",
       "_view_module_version": "1.5.0",
       "_view_name": "VBoxView",
       "box_style": "",
       "children": [
        "IPY_MODEL_d4e1d2a825e94578bef1166f901ee8b6",
        "IPY_MODEL_1f844a44e17b4529aebf80d5487673ef"
       ],
       "layout": "IPY_MODEL_484f89834e264831b6fd42a4361d88c7"
      }
     },
     "8d93bb1c35b447349db592e635abea3e": {
      "model_module": "@jupyter-widgets/controls",
      "model_module_version": "1.5.0",
      "model_name": "HBoxModel",
      "state": {
       "_dom_classes": [],
       "_model_module": "@jupyter-widgets/controls",
       "_model_module_version": "1.5.0",
       "_model_name": "HBoxModel",
       "_view_count": null,
       "_view_module": "@jupyter-widgets/controls",
       "_view_module_version": "1.5.0",
       "_view_name": "HBoxView",
       "box_style": "",
       "children": [
        "IPY_MODEL_946d54fc9c70469b8ee9a8b2ca090fef",
        "IPY_MODEL_32db181f54c34cd382a702a770651c88",
        "IPY_MODEL_4c678b1c29074583895477bed8091b1b"
       ],
       "layout": "IPY_MODEL_9c1b95a2a42c4711a72774a6b227e363"
      }
     },
     "8ee51a2c65b748ec826fd16c8d2241bd": {
      "model_module": "@jupyter-widgets/base",
      "model_module_version": "1.2.0",
      "model_name": "LayoutModel",
      "state": {
       "_model_module": "@jupyter-widgets/base",
       "_model_module_version": "1.2.0",
       "_model_name": "LayoutModel",
       "_view_count": null,
       "_view_module": "@jupyter-widgets/base",
       "_view_module_version": "1.2.0",
       "_view_name": "LayoutView",
       "align_content": null,
       "align_items": null,
       "align_self": null,
       "border": null,
       "bottom": null,
       "display": null,
       "flex": null,
       "flex_flow": null,
       "grid_area": null,
       "grid_auto_columns": null,
       "grid_auto_flow": null,
       "grid_auto_rows": null,
       "grid_column": null,
       "grid_gap": null,
       "grid_row": null,
       "grid_template_areas": null,
       "grid_template_columns": null,
       "grid_template_rows": null,
       "height": null,
       "justify_content": null,
       "justify_items": null,
       "left": null,
       "margin": null,
       "max_height": null,
       "max_width": null,
       "min_height": null,
       "min_width": null,
       "object_fit": null,
       "object_position": null,
       "order": null,
       "overflow": null,
       "overflow_x": null,
       "overflow_y": null,
       "padding": null,
       "right": null,
       "top": null,
       "visibility": null,
       "width": null
      }
     },
     "946d54fc9c70469b8ee9a8b2ca090fef": {
      "model_module": "@jupyter-widgets/controls",
      "model_module_version": "1.5.0",
      "model_name": "HTMLModel",
      "state": {
       "_dom_classes": [],
       "_model_module": "@jupyter-widgets/controls",
       "_model_module_version": "1.5.0",
       "_model_name": "HTMLModel",
       "_view_count": null,
       "_view_module": "@jupyter-widgets/controls",
       "_view_module_version": "1.5.0",
       "_view_name": "HTMLView",
       "description": "",
       "description_tooltip": null,
       "layout": "IPY_MODEL_70a1b95e34a646129c6be095247f44d1",
       "placeholder": "​",
       "style": "IPY_MODEL_68cda993821d477f901e7e009af3584a",
       "value": "100%"
      }
     },
     "9b4273631ed147aaa6ef22256e6dd2d1": {
      "model_module": "@jupyter-widgets/controls",
      "model_module_version": "1.5.0",
      "model_name": "DescriptionStyleModel",
      "state": {
       "_model_module": "@jupyter-widgets/controls",
       "_model_module_version": "1.5.0",
       "_model_name": "DescriptionStyleModel",
       "_view_count": null,
       "_view_module": "@jupyter-widgets/base",
       "_view_module_version": "1.2.0",
       "_view_name": "StyleView",
       "description_width": ""
      }
     },
     "9c1b95a2a42c4711a72774a6b227e363": {
      "model_module": "@jupyter-widgets/base",
      "model_module_version": "1.2.0",
      "model_name": "LayoutModel",
      "state": {
       "_model_module": "@jupyter-widgets/base",
       "_model_module_version": "1.2.0",
       "_model_name": "LayoutModel",
       "_view_count": null,
       "_view_module": "@jupyter-widgets/base",
       "_view_module_version": "1.2.0",
       "_view_name": "LayoutView",
       "align_content": null,
       "align_items": null,
       "align_self": null,
       "border": null,
       "bottom": null,
       "display": null,
       "flex": null,
       "flex_flow": null,
       "grid_area": null,
       "grid_auto_columns": null,
       "grid_auto_flow": null,
       "grid_auto_rows": null,
       "grid_column": null,
       "grid_gap": null,
       "grid_row": null,
       "grid_template_areas": null,
       "grid_template_columns": null,
       "grid_template_rows": null,
       "height": null,
       "justify_content": null,
       "justify_items": null,
       "left": null,
       "margin": null,
       "max_height": null,
       "max_width": null,
       "min_height": null,
       "min_width": null,
       "object_fit": null,
       "object_position": null,
       "order": null,
       "overflow": null,
       "overflow_x": null,
       "overflow_y": null,
       "padding": null,
       "right": null,
       "top": null,
       "visibility": null,
       "width": null
      }
     },
     "bf0ee61fac2c4bf6aff4f12263e07e6b": {
      "model_module": "@jupyter-widgets/base",
      "model_module_version": "1.2.0",
      "model_name": "LayoutModel",
      "state": {
       "_model_module": "@jupyter-widgets/base",
       "_model_module_version": "1.2.0",
       "_model_name": "LayoutModel",
       "_view_count": null,
       "_view_module": "@jupyter-widgets/base",
       "_view_module_version": "1.2.0",
       "_view_name": "LayoutView",
       "align_content": null,
       "align_items": null,
       "align_self": null,
       "border": null,
       "bottom": null,
       "display": null,
       "flex": null,
       "flex_flow": null,
       "grid_area": null,
       "grid_auto_columns": null,
       "grid_auto_flow": null,
       "grid_auto_rows": null,
       "grid_column": null,
       "grid_gap": null,
       "grid_row": null,
       "grid_template_areas": null,
       "grid_template_columns": null,
       "grid_template_rows": null,
       "height": null,
       "justify_content": null,
       "justify_items": null,
       "left": null,
       "margin": null,
       "max_height": null,
       "max_width": null,
       "min_height": null,
       "min_width": null,
       "object_fit": null,
       "object_position": null,
       "order": null,
       "overflow": null,
       "overflow_x": null,
       "overflow_y": null,
       "padding": null,
       "right": null,
       "top": null,
       "visibility": null,
       "width": null
      }
     },
     "d4e1d2a825e94578bef1166f901ee8b6": {
      "model_module": "@jupyter-widgets/controls",
      "model_module_version": "1.5.0",
      "model_name": "LabelModel",
      "state": {
       "_dom_classes": [],
       "_model_module": "@jupyter-widgets/controls",
       "_model_module_version": "1.5.0",
       "_model_name": "LabelModel",
       "_view_count": null,
       "_view_module": "@jupyter-widgets/controls",
       "_view_module_version": "1.5.0",
       "_view_name": "LabelView",
       "description": "",
       "description_tooltip": null,
       "layout": "IPY_MODEL_bf0ee61fac2c4bf6aff4f12263e07e6b",
       "placeholder": "​",
       "style": "IPY_MODEL_47d7a846af924368a6f17849bd71b876",
       "value": ""
      }
     },
     "da16725b822140029cc134cd92d6a10f": {
      "model_module": "@jupyter-widgets/base",
      "model_module_version": "1.2.0",
      "model_name": "LayoutModel",
      "state": {
       "_model_module": "@jupyter-widgets/base",
       "_model_module_version": "1.2.0",
       "_model_name": "LayoutModel",
       "_view_count": null,
       "_view_module": "@jupyter-widgets/base",
       "_view_module_version": "1.2.0",
       "_view_name": "LayoutView",
       "align_content": null,
       "align_items": null,
       "align_self": null,
       "border": null,
       "bottom": null,
       "display": null,
       "flex": null,
       "flex_flow": null,
       "grid_area": null,
       "grid_auto_columns": null,
       "grid_auto_flow": null,
       "grid_auto_rows": null,
       "grid_column": null,
       "grid_gap": null,
       "grid_row": null,
       "grid_template_areas": null,
       "grid_template_columns": null,
       "grid_template_rows": null,
       "height": null,
       "justify_content": null,
       "justify_items": null,
       "left": null,
       "margin": null,
       "max_height": null,
       "max_width": null,
       "min_height": null,
       "min_width": null,
       "object_fit": null,
       "object_position": null,
       "order": null,
       "overflow": null,
       "overflow_x": null,
       "overflow_y": null,
       "padding": null,
       "right": null,
       "top": null,
       "visibility": null,
       "width": null
      }
     },
     "e83bbb5762b747b2a5ecdb7ec1d00226": {
      "model_module": "@jupyter-widgets/base",
      "model_module_version": "1.2.0",
      "model_name": "LayoutModel",
      "state": {
       "_model_module": "@jupyter-widgets/base",
       "_model_module_version": "1.2.0",
       "_model_name": "LayoutModel",
       "_view_count": null,
       "_view_module": "@jupyter-widgets/base",
       "_view_module_version": "1.2.0",
       "_view_name": "LayoutView",
       "align_content": null,
       "align_items": null,
       "align_self": null,
       "border": null,
       "bottom": null,
       "display": null,
       "flex": null,
       "flex_flow": null,
       "grid_area": null,
       "grid_auto_columns": null,
       "grid_auto_flow": null,
       "grid_auto_rows": null,
       "grid_column": null,
       "grid_gap": null,
       "grid_row": null,
       "grid_template_areas": null,
       "grid_template_columns": null,
       "grid_template_rows": null,
       "height": null,
       "justify_content": null,
       "justify_items": null,
       "left": null,
       "margin": null,
       "max_height": null,
       "max_width": null,
       "min_height": null,
       "min_width": null,
       "object_fit": null,
       "object_position": null,
       "order": null,
       "overflow": null,
       "overflow_x": null,
       "overflow_y": null,
       "padding": null,
       "right": null,
       "top": null,
       "visibility": null,
       "width": null
      }
     },
     "f112b42e6d76405b88d876bd94eaad23": {
      "model_module": "@jupyter-widgets/controls",
      "model_module_version": "1.5.0",
      "model_name": "DescriptionStyleModel",
      "state": {
       "_model_module": "@jupyter-widgets/controls",
       "_model_module_version": "1.5.0",
       "_model_name": "DescriptionStyleModel",
       "_view_count": null,
       "_view_module": "@jupyter-widgets/base",
       "_view_module_version": "1.2.0",
       "_view_name": "StyleView",
       "description_width": ""
      }
     },
     "f8356fae754e4bf1996077c24ae554e7": {
      "model_module": "@jupyter-widgets/controls",
      "model_module_version": "1.5.0",
      "model_name": "VBoxModel",
      "state": {
       "_dom_classes": [],
       "_model_module": "@jupyter-widgets/controls",
       "_model_module_version": "1.5.0",
       "_model_name": "VBoxModel",
       "_view_count": null,
       "_view_module": "@jupyter-widgets/controls",
       "_view_module_version": "1.5.0",
       "_view_name": "VBoxView",
       "box_style": "",
       "children": [
        "IPY_MODEL_5f28e931fec946cb9b2cbf78eda59b33",
        "IPY_MODEL_2c19a6b7f07342d4a2cdffb85ab5148b"
       ],
       "layout": "IPY_MODEL_e83bbb5762b747b2a5ecdb7ec1d00226"
      }
     }
    },
    "version_major": 2,
    "version_minor": 0
   }
  }
 },
 "nbformat": 4,
 "nbformat_minor": 5
}
